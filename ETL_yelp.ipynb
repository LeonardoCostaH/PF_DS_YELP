{
 "cells": [
  {
   "cell_type": "markdown",
   "metadata": {},
   "source": [
    "### 01_ETL"
   ]
  },
  {
   "cell_type": "code",
   "execution_count": 7,
   "metadata": {},
   "outputs": [],
   "source": [
    "import os\n",
    "import fastparquet\n",
    "import pandas as pd\n",
    "#from lib import personalised_graphics\n",
    "\n",
    "#yelp_checkin = pd.read_parquet(\"data/yelp/checkin.parquet\")\n",
    "#yelp_tip = pd.read_parquet(\"data/yelp/tip.parquet\") "
   ]
  },
  {
   "cell_type": "markdown",
   "metadata": {},
   "source": [
    "#### YELP"
   ]
  },
  {
   "cell_type": "markdown",
   "metadata": {},
   "source": [
    "#### bussines table 1/5"
   ]
  },
  {
   "cell_type": "code",
   "execution_count": 24,
   "metadata": {},
   "outputs": [],
   "source": [
    "# Import\n",
    "yelp_business = pd.read_pickle(\"datos/Yelp/business.pkl\")"
   ]
  },
  {
   "cell_type": "code",
   "execution_count": 25,
   "metadata": {},
   "outputs": [],
   "source": [
    "# Transform\n",
    "yelp_business = yelp_business.iloc[:, :13] # drop empty columns\n",
    "yelp_business.drop(columns=[\"is_open\"]) # drop irrelevant data\n",
    "yelp_business.rename(columns={'stars': 'avg_rating', 'review_count\t': 'num_of_reviews'}, inplace=True) # rename columns\n",
    "columns_order = [\"business_id\", \"name\", \"address\", \"city\", \"state\", \"latitude\", \"longitude\", \"categories\", \"attributes\", \"avg_rating\"] \n",
    "yelp_business = yelp_business.reindex(columns=columns_order) # reorder dataset\n",
    "yelp_business['categories'] = yelp_business['categories'].astype(str)\n",
    "yelp_business['categories'] = yelp_business['categories'].str.split(\",\")"
   ]
  },
  {
   "cell_type": "code",
   "execution_count": null,
   "metadata": {},
   "outputs": [],
   "source": [
    "yelp_business.head()"
   ]
  },
  {
   "cell_type": "code",
   "execution_count": 26,
   "metadata": {},
   "outputs": [],
   "source": [
    "# Filtrate\n",
    "# OG ['Hotels & Travel', 'Event Planning & Services', 'Hotels', 'Venues & Event Spaces', 'Bed & Breakfast', 'Home Services', 'Real Estate', 'Apartments', 'Resorts', 'Hostels', 'Vacation Rentals', 'Guest Houses', 'Pet Sitting', 'Pets', 'Property Management', 'Residences', 'Arts & Entertainment', 'Day Spas', 'Landmarks & Historical Buildings', 'Local Services', 'Pet Groomers', 'Public Services & Government', 'Rest Stops', 'Active Life', 'Automotive', 'Commercial Real Estate', 'Parking', 'Pet Boarding', 'Professional Services', 'Retirement Homes', 'Social Clubs']\n",
    "hotel_bussines = pd.DataFrame()\n",
    "hotel_categorias = ['Hotels & Travel', 'Hotels', 'Bed & Breakfast', 'Resorts', 'Hostels', 'Vacation Rentals', 'Residences', 'Day Spas', 'Rest Stops']\n",
    "for categoria in hotel_categorias:\n",
    "    filtrados = yelp_business[yelp_business['categories'].apply(lambda x: categoria in x)]\n",
    "    hotel_bussines = pd.concat([hotel_bussines, filtrados], ignore_index=True)\n",
    "hotel_bussines = hotel_bussines.drop_duplicates(subset=['business_id'])\n",
    "hotel_bussines.to_csv(\"Datos/yelp_hotel_business.csv\", index=False)"
   ]
  },
  {
   "cell_type": "code",
   "execution_count": 27,
   "metadata": {},
   "outputs": [],
   "source": [
    "df_hotel_business = pd.DataFrame(hotel_bussines) "
   ]
  },
  {
   "cell_type": "code",
   "execution_count": 28,
   "metadata": {},
   "outputs": [
    {
     "data": {
      "text/plain": [
       "(3004, 10)"
      ]
     },
     "execution_count": 28,
     "metadata": {},
     "output_type": "execute_result"
    }
   ],
   "source": [
    "df_hotel_business.shape"
   ]
  },
  {
   "cell_type": "code",
   "execution_count": 29,
   "metadata": {},
   "outputs": [
    {
     "data": {
      "text/plain": [
       "business_id      0\n",
       "name             0\n",
       "address          0\n",
       "city             0\n",
       "state            0\n",
       "latitude         0\n",
       "longitude        0\n",
       "categories       0\n",
       "attributes     631\n",
       "avg_rating       0\n",
       "dtype: int64"
      ]
     },
     "execution_count": 29,
     "metadata": {},
     "output_type": "execute_result"
    }
   ],
   "source": [
    "#Nulls\n",
    "df_hotel_business.isnull().sum()"
   ]
  },
  {
   "cell_type": "code",
   "execution_count": 38,
   "metadata": {},
   "outputs": [
    {
     "data": {
      "text/html": [
       "<div>\n",
       "<style scoped>\n",
       "    .dataframe tbody tr th:only-of-type {\n",
       "        vertical-align: middle;\n",
       "    }\n",
       "\n",
       "    .dataframe tbody tr th {\n",
       "        vertical-align: top;\n",
       "    }\n",
       "\n",
       "    .dataframe thead th {\n",
       "        text-align: right;\n",
       "    }\n",
       "</style>\n",
       "<table border=\"1\" class=\"dataframe\">\n",
       "  <thead>\n",
       "    <tr style=\"text-align: right;\">\n",
       "      <th></th>\n",
       "      <th>business_id</th>\n",
       "      <th>name</th>\n",
       "      <th>address</th>\n",
       "      <th>city</th>\n",
       "      <th>state</th>\n",
       "      <th>latitude</th>\n",
       "      <th>longitude</th>\n",
       "      <th>attributes</th>\n",
       "      <th>avg_rating</th>\n",
       "    </tr>\n",
       "  </thead>\n",
       "  <tbody>\n",
       "    <tr>\n",
       "      <th>0</th>\n",
       "      <td>uczmbBk5O3tYhGue13dCDg</td>\n",
       "      <td>new orleans spirit tours</td>\n",
       "      <td>723 st peter st</td>\n",
       "      <td>new orleans</td>\n",
       "      <td>in</td>\n",
       "      <td>29.958431</td>\n",
       "      <td>-90.065173</td>\n",
       "      <td>{'wifi': \"u'no'\"}</td>\n",
       "      <td>4.0</td>\n",
       "    </tr>\n",
       "    <tr>\n",
       "      <th>1</th>\n",
       "      <td>Nh1rc9aSeO-Y5lYmXVS6CA</td>\n",
       "      <td>quality inn nashville downtown - stadium</td>\n",
       "      <td>303 interstate dr</td>\n",
       "      <td>nashville</td>\n",
       "      <td>az</td>\n",
       "      <td>36.168834</td>\n",
       "      <td>-86.766911</td>\n",
       "      <td>{'wifi': \"'free'\", 'businessacceptscreditcards...</td>\n",
       "      <td>2.0</td>\n",
       "    </tr>\n",
       "  </tbody>\n",
       "</table>\n",
       "</div>"
      ],
      "text/plain": [
       "              business_id                                      name  \\\n",
       "0  uczmbBk5O3tYhGue13dCDg                  new orleans spirit tours   \n",
       "1  Nh1rc9aSeO-Y5lYmXVS6CA  quality inn nashville downtown - stadium   \n",
       "\n",
       "             address         city state   latitude  longitude  \\\n",
       "0    723 st peter st  new orleans    in  29.958431 -90.065173   \n",
       "1  303 interstate dr    nashville    az  36.168834 -86.766911   \n",
       "\n",
       "                                          attributes  avg_rating  \n",
       "0                                  {'wifi': \"u'no'\"}         4.0  \n",
       "1  {'wifi': \"'free'\", 'businessacceptscreditcards...         2.0  "
      ]
     },
     "execution_count": 38,
     "metadata": {},
     "output_type": "execute_result"
    }
   ],
   "source": [
    "df_hotel_business.head(2)"
   ]
  },
  {
   "cell_type": "code",
   "execution_count": null,
   "metadata": {},
   "outputs": [],
   "source": [
    "#df_hotel_business = df_hotel_business.drop('atributos', axis=1)"
   ]
  },
  {
   "cell_type": "code",
   "execution_count": 30,
   "metadata": {},
   "outputs": [],
   "source": [
    "# haciendo 'attributes' string\n",
    "df_hotel_business['attributes'] = df_hotel_business['attributes'].astype(str)\n",
    "df_hotel_business['avg_rating'] = df_hotel_business['avg_rating'].astype(float)\n",
    "df_hotel_business['name'] = df_hotel_business['name'].astype(str)\n",
    "df_hotel_business['address'] = df_hotel_business['address'].astype(str)\n",
    "df_hotel_business['city'] = df_hotel_business['city'].astype(str)"
   ]
  },
  {
   "cell_type": "code",
   "execution_count": 31,
   "metadata": {},
   "outputs": [],
   "source": [
    "# Drop de 'categories'\n",
    "categories = df_hotel_business['categories']\n",
    "df_hotel_business = df_hotel_business.drop('categories', axis=1)"
   ]
  },
  {
   "cell_type": "code",
   "execution_count": 37,
   "metadata": {},
   "outputs": [],
   "source": [
    "# Specify the column to exclude\n",
    "column_to_exclude = 'business_id'  # Replace 'column_name' with the actual name of the column to exclude\n",
    "\n",
    "# Apply lowercase transformation to every column except the specified one\n",
    "df_hotel_business = df_hotel_business.apply(lambda x: x.str.lower() if x.name != column_to_exclude and pd.api.types.is_string_dtype(x) else x)"
   ]
  },
  {
   "cell_type": "code",
   "execution_count": 41,
   "metadata": {},
   "outputs": [
    {
     "data": {
      "text/plain": [
       "(3004, 9)"
      ]
     },
     "execution_count": 41,
     "metadata": {},
     "output_type": "execute_result"
    }
   ],
   "source": [
    "df_hotel_business.shape"
   ]
  },
  {
   "cell_type": "code",
   "execution_count": 83,
   "metadata": {},
   "outputs": [],
   "source": [
    "# Por si hay que cambiar el formato de 'attributes'\n",
    "# df_hotel_business = df_hotel_business.apply(lambda x: x.str.replace('{', ' ') if x.dtype == \"object\" else x)\n",
    "# df_hotel_business = df_hotel_business.apply(lambda x: x.str.replace('}', ' ') if x.dtype == \"object\" else x)\n",
    "# df_hotel_business = df_hotel_business.apply(lambda x: x.str.replace('\"', ' ') if x.dtype == \"object\" else x)\n",
    "# df_hotel_business = df_hotel_business.apply(lambda x: x.str.replace(\"'\", \" \") if x.dtype == \"object\" else x)"
   ]
  },
  {
   "cell_type": "code",
   "execution_count": 58,
   "metadata": {},
   "outputs": [],
   "source": [
    "df_hotel_business.to_csv(\"Datos/Yelp/Nuevos/yelp_hotel_business.csv\", index=False)"
   ]
  },
  {
   "cell_type": "markdown",
   "metadata": {},
   "source": [
    "#### Yelp reviews table 2/5\n"
   ]
  },
  {
   "cell_type": "markdown",
   "metadata": {},
   "source": [
    "###### 3m 15s"
   ]
  },
  {
   "cell_type": "code",
   "execution_count": 43,
   "metadata": {},
   "outputs": [],
   "source": [
    "import pandas as pd"
   ]
  },
  {
   "cell_type": "code",
   "execution_count": 44,
   "metadata": {},
   "outputs": [],
   "source": [
    "# import data\n",
    "yelp_reviews = pd.read_csv(\"Datos/Yelp/yelp_hotel_reviews.csv\")"
   ]
  },
  {
   "cell_type": "code",
   "execution_count": 45,
   "metadata": {},
   "outputs": [],
   "source": [
    "df_yelp_reviews = pd.DataFrame(yelp_reviews)"
   ]
  },
  {
   "cell_type": "code",
   "execution_count": 59,
   "metadata": {},
   "outputs": [
    {
     "data": {
      "text/html": [
       "<div>\n",
       "<style scoped>\n",
       "    .dataframe tbody tr th:only-of-type {\n",
       "        vertical-align: middle;\n",
       "    }\n",
       "\n",
       "    .dataframe tbody tr th {\n",
       "        vertical-align: top;\n",
       "    }\n",
       "\n",
       "    .dataframe thead th {\n",
       "        text-align: right;\n",
       "    }\n",
       "</style>\n",
       "<table border=\"1\" class=\"dataframe\">\n",
       "  <thead>\n",
       "    <tr style=\"text-align: right;\">\n",
       "      <th></th>\n",
       "      <th>review_id</th>\n",
       "      <th>user_id</th>\n",
       "      <th>business_id</th>\n",
       "      <th>date</th>\n",
       "      <th>text</th>\n",
       "      <th>stars</th>\n",
       "      <th>useful</th>\n",
       "    </tr>\n",
       "  </thead>\n",
       "  <tbody>\n",
       "    <tr>\n",
       "      <th>0</th>\n",
       "      <td>ra9fNjYUumKp_iaqv-jjDg</td>\n",
       "      <td>l_izt6hn7oTxalU06mSyqg</td>\n",
       "      <td>jTI5Xjk27An8ceJ6VwpXiQ</td>\n",
       "      <td>2013-08-15</td>\n",
       "      <td>comfortable bed, good breakfast, fast internet...</td>\n",
       "      <td>4.0</td>\n",
       "      <td>0</td>\n",
       "    </tr>\n",
       "    <tr>\n",
       "      <th>1</th>\n",
       "      <td>QsuwAldo7cc94nJxu6xKWQ</td>\n",
       "      <td>U0aN9ar9YI24Oc9JshTrDQ</td>\n",
       "      <td>dyCfFIt1XIA8lIpuWaW2eQ</td>\n",
       "      <td>2015-10-08</td>\n",
       "      <td>my parents and i took the oak alley and laura ...</td>\n",
       "      <td>5.0</td>\n",
       "      <td>1</td>\n",
       "    </tr>\n",
       "    <tr>\n",
       "      <th>2</th>\n",
       "      <td>O2QGOa66t5BCYDvxLiOtbA</td>\n",
       "      <td>ysU9kNZiFXY7MrFWVIUaTg</td>\n",
       "      <td>cB_9eHHfo9me96cZup-lZQ</td>\n",
       "      <td>2017-04-19</td>\n",
       "      <td>we stayed at the saint last year for a girl's ...</td>\n",
       "      <td>1.0</td>\n",
       "      <td>1</td>\n",
       "    </tr>\n",
       "    <tr>\n",
       "      <th>3</th>\n",
       "      <td>Lj1TAURE_hYtPW3IlhKWMg</td>\n",
       "      <td>tWJoKvHynA8h8dFXUExekw</td>\n",
       "      <td>9xm4aIAT_xwRoTxc0_8AWQ</td>\n",
       "      <td>2015-02-16</td>\n",
       "      <td>stayed here three nights on business.  the pro...</td>\n",
       "      <td>5.0</td>\n",
       "      <td>0</td>\n",
       "    </tr>\n",
       "    <tr>\n",
       "      <th>4</th>\n",
       "      <td>NzvlG7XNjk5cKaCPtZa-eA</td>\n",
       "      <td>3F9mJBT6zQz9CaNo4bAr7g</td>\n",
       "      <td>P61ecBVVPgBm-zH_SYq8FA</td>\n",
       "      <td>2015-08-30</td>\n",
       "      <td>this is one of the best hotels i have ever sta...</td>\n",
       "      <td>5.0</td>\n",
       "      <td>0</td>\n",
       "    </tr>\n",
       "  </tbody>\n",
       "</table>\n",
       "</div>"
      ],
      "text/plain": [
       "                review_id                 user_id             business_id  \\\n",
       "0  ra9fNjYUumKp_iaqv-jjDg  l_izt6hn7oTxalU06mSyqg  jTI5Xjk27An8ceJ6VwpXiQ   \n",
       "1  QsuwAldo7cc94nJxu6xKWQ  U0aN9ar9YI24Oc9JshTrDQ  dyCfFIt1XIA8lIpuWaW2eQ   \n",
       "2  O2QGOa66t5BCYDvxLiOtbA  ysU9kNZiFXY7MrFWVIUaTg  cB_9eHHfo9me96cZup-lZQ   \n",
       "3  Lj1TAURE_hYtPW3IlhKWMg  tWJoKvHynA8h8dFXUExekw  9xm4aIAT_xwRoTxc0_8AWQ   \n",
       "4  NzvlG7XNjk5cKaCPtZa-eA  3F9mJBT6zQz9CaNo4bAr7g  P61ecBVVPgBm-zH_SYq8FA   \n",
       "\n",
       "         date                                               text  stars  \\\n",
       "0  2013-08-15  comfortable bed, good breakfast, fast internet...    4.0   \n",
       "1  2015-10-08  my parents and i took the oak alley and laura ...    5.0   \n",
       "2  2017-04-19  we stayed at the saint last year for a girl's ...    1.0   \n",
       "3  2015-02-16  stayed here three nights on business.  the pro...    5.0   \n",
       "4  2015-08-30  this is one of the best hotels i have ever sta...    5.0   \n",
       "\n",
       "   useful  \n",
       "0       0  \n",
       "1       1  \n",
       "2       1  \n",
       "3       0  \n",
       "4       0  "
      ]
     },
     "execution_count": 59,
     "metadata": {},
     "output_type": "execute_result"
    }
   ],
   "source": [
    "df_yelp_reviews.head()"
   ]
  },
  {
   "cell_type": "code",
   "execution_count": 46,
   "metadata": {},
   "outputs": [
    {
     "data": {
      "text/plain": [
       "(144162, 7)"
      ]
     },
     "execution_count": 46,
     "metadata": {},
     "output_type": "execute_result"
    }
   ],
   "source": [
    "df_yelp_reviews.shape"
   ]
  },
  {
   "cell_type": "code",
   "execution_count": 47,
   "metadata": {},
   "outputs": [],
   "source": [
    "# Cambiando tipos de datos\n",
    "df_yelp_reviews['text'] = df_yelp_reviews['text'].apply(lambda x: str(x).encode('utf-8', 'ignore').decode('utf-8'))"
   ]
  },
  {
   "cell_type": "code",
   "execution_count": 48,
   "metadata": {},
   "outputs": [],
   "source": [
    "# Minusculas a 'text'\n",
    "df_yelp_reviews['text'] = df_yelp_reviews['text'].apply(lambda x: x.lower() if isinstance(x, str) else x)"
   ]
  },
  {
   "cell_type": "code",
   "execution_count": 49,
   "metadata": {},
   "outputs": [],
   "source": [
    "# Convert the date column to datetime and keep only date part\n",
    "df_yelp_reviews['date'] = pd.to_datetime(df_yelp_reviews['date'], format='%Y-%m-%d %H:%M:%S').dt.date"
   ]
  },
  {
   "cell_type": "code",
   "execution_count": 56,
   "metadata": {},
   "outputs": [
    {
     "data": {
      "text/plain": [
       "(144162, 7)"
      ]
     },
     "execution_count": 56,
     "metadata": {},
     "output_type": "execute_result"
    }
   ],
   "source": [
    "df_yelp_reviews.shape"
   ]
  },
  {
   "cell_type": "code",
   "execution_count": 51,
   "metadata": {},
   "outputs": [],
   "source": [
    "# handle duplicated values\n",
    "df_yelp_reviews['review_id'] = df_yelp_reviews['review_id'].drop_duplicates()"
   ]
  },
  {
   "cell_type": "code",
   "execution_count": 57,
   "metadata": {},
   "outputs": [],
   "source": [
    "# Filtrate and export hotel businesses reviews\n",
    "df_yelp_reviews = df_yelp_reviews[df_yelp_reviews['business_id'].isin(df_hotel_business[\"business_id\"])]\n",
    "df_yelp_reviews.to_csv(\"Datos/Yelp/Nuevos/yelp_hotel_reviews.csv\", index=False)"
   ]
  },
  {
   "cell_type": "markdown",
   "metadata": {},
   "source": [
    "#### users table 3/5"
   ]
  },
  {
   "cell_type": "code",
   "execution_count": 1,
   "metadata": {},
   "outputs": [],
   "source": [
    "import pandas as pd"
   ]
  },
  {
   "cell_type": "code",
   "execution_count": 2,
   "metadata": {},
   "outputs": [],
   "source": [
    "# import data\n",
    "yelp_users = pd.read_parquet(\"Datos/Yelp/user.parquet\")"
   ]
  },
  {
   "cell_type": "code",
   "execution_count": 4,
   "metadata": {},
   "outputs": [],
   "source": [
    "df_yelp_users = pd.DataFrame(yelp_users)"
   ]
  },
  {
   "cell_type": "code",
   "execution_count": 20,
   "metadata": {},
   "outputs": [
    {
     "data": {
      "text/html": [
       "<div>\n",
       "<style scoped>\n",
       "    .dataframe tbody tr th:only-of-type {\n",
       "        vertical-align: middle;\n",
       "    }\n",
       "\n",
       "    .dataframe tbody tr th {\n",
       "        vertical-align: top;\n",
       "    }\n",
       "\n",
       "    .dataframe thead th {\n",
       "        text-align: right;\n",
       "    }\n",
       "</style>\n",
       "<table border=\"1\" class=\"dataframe\">\n",
       "  <thead>\n",
       "    <tr style=\"text-align: right;\">\n",
       "      <th></th>\n",
       "      <th>user_id</th>\n",
       "      <th>name</th>\n",
       "      <th>review_count</th>\n",
       "      <th>useful</th>\n",
       "      <th>cool</th>\n",
       "      <th>source_id</th>\n",
       "    </tr>\n",
       "  </thead>\n",
       "  <tbody>\n",
       "    <tr>\n",
       "      <th>0</th>\n",
       "      <td>qVc8ODYU5SZjKXVBgXdI7w</td>\n",
       "      <td>walker</td>\n",
       "      <td>585</td>\n",
       "      <td>7217</td>\n",
       "      <td>5994</td>\n",
       "      <td>0</td>\n",
       "    </tr>\n",
       "    <tr>\n",
       "      <th>1</th>\n",
       "      <td>j14WgRoU_-2ZE1aw1dXrJg</td>\n",
       "      <td>daniel</td>\n",
       "      <td>4333</td>\n",
       "      <td>43091</td>\n",
       "      <td>27281</td>\n",
       "      <td>0</td>\n",
       "    </tr>\n",
       "    <tr>\n",
       "      <th>2</th>\n",
       "      <td>2WnXYQFK0hXEoTxPtV2zvg</td>\n",
       "      <td>steph</td>\n",
       "      <td>665</td>\n",
       "      <td>2086</td>\n",
       "      <td>1003</td>\n",
       "      <td>0</td>\n",
       "    </tr>\n",
       "    <tr>\n",
       "      <th>3</th>\n",
       "      <td>SZDeASXq7o05mMNLshsdIA</td>\n",
       "      <td>gwen</td>\n",
       "      <td>224</td>\n",
       "      <td>512</td>\n",
       "      <td>299</td>\n",
       "      <td>0</td>\n",
       "    </tr>\n",
       "    <tr>\n",
       "      <th>4</th>\n",
       "      <td>hA5lMy-EnncsH4JoR-hFGQ</td>\n",
       "      <td>karen</td>\n",
       "      <td>79</td>\n",
       "      <td>29</td>\n",
       "      <td>7</td>\n",
       "      <td>0</td>\n",
       "    </tr>\n",
       "  </tbody>\n",
       "</table>\n",
       "</div>"
      ],
      "text/plain": [
       "                  user_id    name  review_count  useful   cool  source_id\n",
       "0  qVc8ODYU5SZjKXVBgXdI7w  walker           585    7217   5994          0\n",
       "1  j14WgRoU_-2ZE1aw1dXrJg  daniel          4333   43091  27281          0\n",
       "2  2WnXYQFK0hXEoTxPtV2zvg   steph           665    2086   1003          0\n",
       "3  SZDeASXq7o05mMNLshsdIA    gwen           224     512    299          0\n",
       "4  hA5lMy-EnncsH4JoR-hFGQ   karen            79      29      7          0"
      ]
     },
     "execution_count": 20,
     "metadata": {},
     "output_type": "execute_result"
    }
   ],
   "source": [
    "df_yelp_users.head()"
   ]
  },
  {
   "cell_type": "code",
   "execution_count": 6,
   "metadata": {},
   "outputs": [],
   "source": [
    "# filtrate relevant data\n",
    "columns_to_keep = ['user_id', 'name', 'review_count', 'useful', 'cool']\n",
    "df_yelp_users = df_yelp_users[columns_to_keep]"
   ]
  },
  {
   "cell_type": "code",
   "execution_count": 11,
   "metadata": {},
   "outputs": [
    {
     "data": {
      "text/plain": [
       "(1987897, 5)"
      ]
     },
     "execution_count": 11,
     "metadata": {},
     "output_type": "execute_result"
    }
   ],
   "source": [
    "df_yelp_users.shape"
   ]
  },
  {
   "cell_type": "code",
   "execution_count": 10,
   "metadata": {},
   "outputs": [],
   "source": [
    "# handle duplicated values\n",
    "duplicados = df_yelp_users[df_yelp_users.duplicated()]\n",
    "df_yelp_users.drop_duplicates(inplace=True)"
   ]
  },
  {
   "cell_type": "code",
   "execution_count": 14,
   "metadata": {},
   "outputs": [],
   "source": [
    "# create column to keep track of data source\n",
    "df_yelp_users['source_id'] = 0"
   ]
  },
  {
   "cell_type": "code",
   "execution_count": 19,
   "metadata": {},
   "outputs": [],
   "source": [
    "# 'name' a texto para poder pasarlo a minusculas\n",
    "df_yelp_users['name'] = df_yelp_users['name'].astype(str)\n",
    "# Minusculas a 'name'\n",
    "df_yelp_users['name'] = df_yelp_users['name'].apply(lambda x: x.lower() if isinstance(x, str) else x)"
   ]
  },
  {
   "cell_type": "code",
   "execution_count": 21,
   "metadata": {},
   "outputs": [
    {
     "name": "stdout",
     "output_type": "stream",
     "text": [
      "<class 'pandas.core.frame.DataFrame'>\n",
      "Index: 1987897 entries, 0 to 1987896\n",
      "Data columns (total 6 columns):\n",
      " #   Column        Dtype \n",
      "---  ------        ----- \n",
      " 0   user_id       object\n",
      " 1   name          object\n",
      " 2   review_count  int64 \n",
      " 3   useful        int64 \n",
      " 4   cool          int64 \n",
      " 5   source_id     int64 \n",
      "dtypes: int64(4), object(2)\n",
      "memory usage: 106.2+ MB\n"
     ]
    }
   ],
   "source": [
    "df_yelp_users.info()"
   ]
  },
  {
   "cell_type": "code",
   "execution_count": 59,
   "metadata": {},
   "outputs": [],
   "source": [
    "# export data\n",
    "df_yelp_users.to_csv(\"Datos/Yelp/Nuevos/yelp_users.csv\")\n",
    "df_yelp_users.to_parquet(\"Datos/Yelp/Nuevos/yelp_users.parquet\", index=False)"
   ]
  },
  {
   "cell_type": "markdown",
   "metadata": {},
   "source": [
    "#### Yelp_checkin 4/5"
   ]
  },
  {
   "cell_type": "code",
   "execution_count": 60,
   "metadata": {},
   "outputs": [],
   "source": [
    "import pandas as pd"
   ]
  },
  {
   "cell_type": "code",
   "execution_count": 62,
   "metadata": {},
   "outputs": [],
   "source": [
    "# import data\n",
    "yelp_checkin = pd.read_json(\"Datos/Yelp/checkin.json\", lines=True)"
   ]
  },
  {
   "cell_type": "code",
   "execution_count": 63,
   "metadata": {},
   "outputs": [],
   "source": [
    "df_yelp_checkin = pd.DataFrame(yelp_checkin)"
   ]
  },
  {
   "cell_type": "code",
   "execution_count": 64,
   "metadata": {},
   "outputs": [
    {
     "data": {
      "text/html": [
       "<div>\n",
       "<style scoped>\n",
       "    .dataframe tbody tr th:only-of-type {\n",
       "        vertical-align: middle;\n",
       "    }\n",
       "\n",
       "    .dataframe tbody tr th {\n",
       "        vertical-align: top;\n",
       "    }\n",
       "\n",
       "    .dataframe thead th {\n",
       "        text-align: right;\n",
       "    }\n",
       "</style>\n",
       "<table border=\"1\" class=\"dataframe\">\n",
       "  <thead>\n",
       "    <tr style=\"text-align: right;\">\n",
       "      <th></th>\n",
       "      <th>business_id</th>\n",
       "      <th>date</th>\n",
       "    </tr>\n",
       "  </thead>\n",
       "  <tbody>\n",
       "    <tr>\n",
       "      <th>0</th>\n",
       "      <td>---kPU91CF4Lq2-WlRu9Lw</td>\n",
       "      <td>2020-03-13 21:10:56, 2020-06-02 22:18:06, 2020...</td>\n",
       "    </tr>\n",
       "    <tr>\n",
       "      <th>1</th>\n",
       "      <td>--0iUa4sNDFiZFrAdIWhZQ</td>\n",
       "      <td>2010-09-13 21:43:09, 2011-05-04 23:08:15, 2011...</td>\n",
       "    </tr>\n",
       "    <tr>\n",
       "      <th>2</th>\n",
       "      <td>--30_8IhuyMHbSOcNWd6DQ</td>\n",
       "      <td>2013-06-14 23:29:17, 2014-08-13 23:20:22</td>\n",
       "    </tr>\n",
       "    <tr>\n",
       "      <th>3</th>\n",
       "      <td>--7PUidqRWpRSpXebiyxTg</td>\n",
       "      <td>2011-02-15 17:12:00, 2011-07-28 02:46:10, 2012...</td>\n",
       "    </tr>\n",
       "    <tr>\n",
       "      <th>4</th>\n",
       "      <td>--7jw19RH9JKXgFohspgQw</td>\n",
       "      <td>2014-04-21 20:42:11, 2014-04-28 21:04:46, 2014...</td>\n",
       "    </tr>\n",
       "  </tbody>\n",
       "</table>\n",
       "</div>"
      ],
      "text/plain": [
       "              business_id                                               date\n",
       "0  ---kPU91CF4Lq2-WlRu9Lw  2020-03-13 21:10:56, 2020-06-02 22:18:06, 2020...\n",
       "1  --0iUa4sNDFiZFrAdIWhZQ  2010-09-13 21:43:09, 2011-05-04 23:08:15, 2011...\n",
       "2  --30_8IhuyMHbSOcNWd6DQ           2013-06-14 23:29:17, 2014-08-13 23:20:22\n",
       "3  --7PUidqRWpRSpXebiyxTg  2011-02-15 17:12:00, 2011-07-28 02:46:10, 2012...\n",
       "4  --7jw19RH9JKXgFohspgQw  2014-04-21 20:42:11, 2014-04-28 21:04:46, 2014..."
      ]
     },
     "execution_count": 64,
     "metadata": {},
     "output_type": "execute_result"
    }
   ],
   "source": [
    "df_yelp_checkin.head()"
   ]
  },
  {
   "cell_type": "markdown",
   "metadata": {},
   "source": [
    "#### Yelp_tip 5/5"
   ]
  },
  {
   "cell_type": "code",
   "execution_count": null,
   "metadata": {},
   "outputs": [],
   "source": [
    "import pandas as pd\n",
    "\n",
    "# import data\n",
    "yelp_users = pd.read_parquet(\"Datos/Yelp/user.parquet\")\n",
    "\n",
    "df_yelp_users = pd.DataFrame(yelp_users)"
   ]
  },
  {
   "cell_type": "code",
   "execution_count": 65,
   "metadata": {},
   "outputs": [],
   "source": [
    "import pandas as pd"
   ]
  },
  {
   "cell_type": "code",
   "execution_count": 78,
   "metadata": {},
   "outputs": [],
   "source": [
    "# import data\n",
    "yelp_tip = pd.read_json(\"Datos/Yelp/tip.json\", lines=True)"
   ]
  },
  {
   "cell_type": "code",
   "execution_count": 79,
   "metadata": {},
   "outputs": [],
   "source": [
    "# Creando df\n",
    "df_yelp_tip = pd.DataFrame(yelp_tip)"
   ]
  },
  {
   "cell_type": "code",
   "execution_count": null,
   "metadata": {},
   "outputs": [],
   "source": [
    "# Filtrando a los hoteles\n",
    "df_yelp_tip = df_yelp_tip[df_yelp_tip['business_id'].isin(df_hotel_business[\"business_id\"])]"
   ]
  },
  {
   "cell_type": "code",
   "execution_count": 80,
   "metadata": {},
   "outputs": [
    {
     "data": {
      "text/html": [
       "<div>\n",
       "<style scoped>\n",
       "    .dataframe tbody tr th:only-of-type {\n",
       "        vertical-align: middle;\n",
       "    }\n",
       "\n",
       "    .dataframe tbody tr th {\n",
       "        vertical-align: top;\n",
       "    }\n",
       "\n",
       "    .dataframe thead th {\n",
       "        text-align: right;\n",
       "    }\n",
       "</style>\n",
       "<table border=\"1\" class=\"dataframe\">\n",
       "  <thead>\n",
       "    <tr style=\"text-align: right;\">\n",
       "      <th></th>\n",
       "      <th>user_id</th>\n",
       "      <th>business_id</th>\n",
       "      <th>text</th>\n",
       "      <th>date</th>\n",
       "      <th>compliment_count</th>\n",
       "    </tr>\n",
       "  </thead>\n",
       "  <tbody>\n",
       "    <tr>\n",
       "      <th>0</th>\n",
       "      <td>AGNUgVwnZUey3gcPCJ76iw</td>\n",
       "      <td>3uLgwr0qeCNMjKenHJwPGQ</td>\n",
       "      <td>Avengers time with the ladies.</td>\n",
       "      <td>2012-05-18 02:17:21</td>\n",
       "      <td>0</td>\n",
       "    </tr>\n",
       "    <tr>\n",
       "      <th>1</th>\n",
       "      <td>NBN4MgHP9D3cw--SnauTkA</td>\n",
       "      <td>QoezRbYQncpRqyrLH6Iqjg</td>\n",
       "      <td>They have lots of good deserts and tasty cuban...</td>\n",
       "      <td>2013-02-05 18:35:10</td>\n",
       "      <td>0</td>\n",
       "    </tr>\n",
       "    <tr>\n",
       "      <th>2</th>\n",
       "      <td>-copOvldyKh1qr-vzkDEvw</td>\n",
       "      <td>MYoRNLb5chwjQe3c_k37Gg</td>\n",
       "      <td>It's open even when you think it isn't</td>\n",
       "      <td>2013-08-18 00:56:08</td>\n",
       "      <td>0</td>\n",
       "    </tr>\n",
       "    <tr>\n",
       "      <th>3</th>\n",
       "      <td>FjMQVZjSqY8syIO-53KFKw</td>\n",
       "      <td>hV-bABTK-glh5wj31ps_Jw</td>\n",
       "      <td>Very decent fried chicken</td>\n",
       "      <td>2017-06-27 23:05:38</td>\n",
       "      <td>0</td>\n",
       "    </tr>\n",
       "    <tr>\n",
       "      <th>4</th>\n",
       "      <td>ld0AperBXk1h6UbqmM80zw</td>\n",
       "      <td>_uN0OudeJ3Zl_tf6nxg5ww</td>\n",
       "      <td>Appetizers.. platter special for lunch</td>\n",
       "      <td>2012-10-06 19:43:09</td>\n",
       "      <td>0</td>\n",
       "    </tr>\n",
       "  </tbody>\n",
       "</table>\n",
       "</div>"
      ],
      "text/plain": [
       "                  user_id             business_id  \\\n",
       "0  AGNUgVwnZUey3gcPCJ76iw  3uLgwr0qeCNMjKenHJwPGQ   \n",
       "1  NBN4MgHP9D3cw--SnauTkA  QoezRbYQncpRqyrLH6Iqjg   \n",
       "2  -copOvldyKh1qr-vzkDEvw  MYoRNLb5chwjQe3c_k37Gg   \n",
       "3  FjMQVZjSqY8syIO-53KFKw  hV-bABTK-glh5wj31ps_Jw   \n",
       "4  ld0AperBXk1h6UbqmM80zw  _uN0OudeJ3Zl_tf6nxg5ww   \n",
       "\n",
       "                                                text                date  \\\n",
       "0                     Avengers time with the ladies. 2012-05-18 02:17:21   \n",
       "1  They have lots of good deserts and tasty cuban... 2013-02-05 18:35:10   \n",
       "2             It's open even when you think it isn't 2013-08-18 00:56:08   \n",
       "3                          Very decent fried chicken 2017-06-27 23:05:38   \n",
       "4             Appetizers.. platter special for lunch 2012-10-06 19:43:09   \n",
       "\n",
       "   compliment_count  \n",
       "0                 0  \n",
       "1                 0  \n",
       "2                 0  \n",
       "3                 0  \n",
       "4                 0  "
      ]
     },
     "execution_count": 80,
     "metadata": {},
     "output_type": "execute_result"
    }
   ],
   "source": [
    "df_yelp_tip.head()"
   ]
  },
  {
   "cell_type": "code",
   "execution_count": 86,
   "metadata": {},
   "outputs": [
    {
     "data": {
      "text/plain": [
       "compliment_count\n",
       "0    13447\n",
       "1      137\n",
       "2        9\n",
       "4        2\n",
       "3        2\n",
       "Name: count, dtype: int64"
      ]
     },
     "execution_count": 86,
     "metadata": {},
     "output_type": "execute_result"
    }
   ],
   "source": [
    "df_yelp_tip['compliment_count'].value_counts()"
   ]
  },
  {
   "cell_type": "code",
   "execution_count": 85,
   "metadata": {},
   "outputs": [
    {
     "data": {
      "text/plain": [
       "(13597, 5)"
      ]
     },
     "execution_count": 85,
     "metadata": {},
     "output_type": "execute_result"
    }
   ],
   "source": [
    "df_yelp_tip.shape"
   ]
  },
  {
   "cell_type": "code",
   "execution_count": 83,
   "metadata": {},
   "outputs": [],
   "source": [
    "# Minusculas a 'text'\n",
    "df_yelp_tip['text'] = df_yelp_tip['text'].apply(lambda x: x.lower() if isinstance(x, str) else x)"
   ]
  },
  {
   "cell_type": "code",
   "execution_count": 87,
   "metadata": {},
   "outputs": [],
   "source": [
    "df_yelp_tip.to_csv(\"Datos/Yelp/Nuevos/yelp_tips.csv\")"
   ]
  },
  {
   "cell_type": "markdown",
   "metadata": {},
   "source": [
    "###### 1m 54s"
   ]
  }
 ],
 "metadata": {
  "kernelspec": {
   "display_name": "test",
   "language": "python",
   "name": "python3"
  },
  "language_info": {
   "codemirror_mode": {
    "name": "ipython",
    "version": 3
   },
   "file_extension": ".py",
   "mimetype": "text/x-python",
   "name": "python",
   "nbconvert_exporter": "python",
   "pygments_lexer": "ipython3",
   "version": "3.10.6"
  }
 },
 "nbformat": 4,
 "nbformat_minor": 2
}
