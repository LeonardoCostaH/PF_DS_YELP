{
 "cells": [
  {
   "cell_type": "markdown",
   "metadata": {},
   "source": [
    "### Limpieza del dataset de user"
   ]
  },
  {
   "cell_type": "code",
   "execution_count": 21,
   "metadata": {},
   "outputs": [],
   "source": [
    "import pandas as pd"
   ]
  },
  {
   "cell_type": "markdown",
   "metadata": {},
   "source": [
    "#### Cargando datos"
   ]
  },
  {
   "cell_type": "code",
   "execution_count": 22,
   "metadata": {},
   "outputs": [],
   "source": [
    "yelp_user = pd.read_parquet('data\\\\Yelp\\\\user-002.parquet')\n"
   ]
  },
  {
   "cell_type": "code",
   "execution_count": 23,
   "metadata": {},
   "outputs": [
    {
     "data": {
      "text/plain": [
       "Index(['user_id', 'name', 'review_count', 'yelping_since', 'useful', 'funny',\n",
       "       'cool', 'elite', 'friends', 'fans', 'average_stars', 'compliment_hot',\n",
       "       'compliment_more', 'compliment_profile', 'compliment_cute',\n",
       "       'compliment_list', 'compliment_note', 'compliment_plain',\n",
       "       'compliment_cool', 'compliment_funny', 'compliment_writer',\n",
       "       'compliment_photos'],\n",
       "      dtype='object')"
      ]
     },
     "execution_count": 23,
     "metadata": {},
     "output_type": "execute_result"
    }
   ],
   "source": [
    "yelp_user.columns"
   ]
  },
  {
   "cell_type": "code",
   "execution_count": 24,
   "metadata": {},
   "outputs": [],
   "source": [
    "columns_to_keep = ['user_id', 'name', 'review_count', 'useful', 'cool']\n",
    "yelp_user_filtered = yelp_user[columns_to_keep]"
   ]
  },
  {
   "cell_type": "code",
   "execution_count": 25,
   "metadata": {},
   "outputs": [
    {
     "data": {
      "text/html": [
       "<div>\n",
       "<style scoped>\n",
       "    .dataframe tbody tr th:only-of-type {\n",
       "        vertical-align: middle;\n",
       "    }\n",
       "\n",
       "    .dataframe tbody tr th {\n",
       "        vertical-align: top;\n",
       "    }\n",
       "\n",
       "    .dataframe thead th {\n",
       "        text-align: right;\n",
       "    }\n",
       "</style>\n",
       "<table border=\"1\" class=\"dataframe\">\n",
       "  <thead>\n",
       "    <tr style=\"text-align: right;\">\n",
       "      <th></th>\n",
       "      <th>user_id</th>\n",
       "      <th>name</th>\n",
       "      <th>review_count</th>\n",
       "      <th>useful</th>\n",
       "      <th>cool</th>\n",
       "    </tr>\n",
       "  </thead>\n",
       "  <tbody>\n",
       "    <tr>\n",
       "      <th>0</th>\n",
       "      <td>qVc8ODYU5SZjKXVBgXdI7w</td>\n",
       "      <td>Walker</td>\n",
       "      <td>585</td>\n",
       "      <td>7217</td>\n",
       "      <td>5994</td>\n",
       "    </tr>\n",
       "    <tr>\n",
       "      <th>1</th>\n",
       "      <td>j14WgRoU_-2ZE1aw1dXrJg</td>\n",
       "      <td>Daniel</td>\n",
       "      <td>4333</td>\n",
       "      <td>43091</td>\n",
       "      <td>27281</td>\n",
       "    </tr>\n",
       "    <tr>\n",
       "      <th>2</th>\n",
       "      <td>2WnXYQFK0hXEoTxPtV2zvg</td>\n",
       "      <td>Steph</td>\n",
       "      <td>665</td>\n",
       "      <td>2086</td>\n",
       "      <td>1003</td>\n",
       "    </tr>\n",
       "    <tr>\n",
       "      <th>3</th>\n",
       "      <td>SZDeASXq7o05mMNLshsdIA</td>\n",
       "      <td>Gwen</td>\n",
       "      <td>224</td>\n",
       "      <td>512</td>\n",
       "      <td>299</td>\n",
       "    </tr>\n",
       "    <tr>\n",
       "      <th>4</th>\n",
       "      <td>hA5lMy-EnncsH4JoR-hFGQ</td>\n",
       "      <td>Karen</td>\n",
       "      <td>79</td>\n",
       "      <td>29</td>\n",
       "      <td>7</td>\n",
       "    </tr>\n",
       "    <tr>\n",
       "      <th>...</th>\n",
       "      <td>...</td>\n",
       "      <td>...</td>\n",
       "      <td>...</td>\n",
       "      <td>...</td>\n",
       "      <td>...</td>\n",
       "    </tr>\n",
       "    <tr>\n",
       "      <th>2105592</th>\n",
       "      <td>4QGxxakRZeOlg_qDuxmTeQ</td>\n",
       "      <td>Jennilee</td>\n",
       "      <td>38</td>\n",
       "      <td>74</td>\n",
       "      <td>6</td>\n",
       "    </tr>\n",
       "    <tr>\n",
       "      <th>2105593</th>\n",
       "      <td>tmelBbVBGAzXBVfH2u_R6g</td>\n",
       "      <td>Gerry</td>\n",
       "      <td>19</td>\n",
       "      <td>14</td>\n",
       "      <td>2</td>\n",
       "    </tr>\n",
       "    <tr>\n",
       "      <th>2105594</th>\n",
       "      <td>tpBznnD6uJN3m_pJubj09w</td>\n",
       "      <td>Emily</td>\n",
       "      <td>26</td>\n",
       "      <td>4</td>\n",
       "      <td>2</td>\n",
       "    </tr>\n",
       "    <tr>\n",
       "      <th>2105595</th>\n",
       "      <td>Kst_srPw7GdYydMFYdCtzw</td>\n",
       "      <td>Heatheranne</td>\n",
       "      <td>25</td>\n",
       "      <td>21</td>\n",
       "      <td>5</td>\n",
       "    </tr>\n",
       "    <tr>\n",
       "      <th>2105596</th>\n",
       "      <td>mZl-mH3ZIWLRSd_FfvrXFg</td>\n",
       "      <td>Jessica</td>\n",
       "      <td>30</td>\n",
       "      <td>27</td>\n",
       "      <td>17</td>\n",
       "    </tr>\n",
       "  </tbody>\n",
       "</table>\n",
       "<p>2105597 rows × 5 columns</p>\n",
       "</div>"
      ],
      "text/plain": [
       "                        user_id         name  review_count  useful   cool\n",
       "0        qVc8ODYU5SZjKXVBgXdI7w       Walker           585    7217   5994\n",
       "1        j14WgRoU_-2ZE1aw1dXrJg       Daniel          4333   43091  27281\n",
       "2        2WnXYQFK0hXEoTxPtV2zvg        Steph           665    2086   1003\n",
       "3        SZDeASXq7o05mMNLshsdIA         Gwen           224     512    299\n",
       "4        hA5lMy-EnncsH4JoR-hFGQ        Karen            79      29      7\n",
       "...                         ...          ...           ...     ...    ...\n",
       "2105592  4QGxxakRZeOlg_qDuxmTeQ     Jennilee            38      74      6\n",
       "2105593  tmelBbVBGAzXBVfH2u_R6g        Gerry            19      14      2\n",
       "2105594  tpBznnD6uJN3m_pJubj09w        Emily            26       4      2\n",
       "2105595  Kst_srPw7GdYydMFYdCtzw  Heatheranne            25      21      5\n",
       "2105596  mZl-mH3ZIWLRSd_FfvrXFg      Jessica            30      27     17\n",
       "\n",
       "[2105597 rows x 5 columns]"
      ]
     },
     "execution_count": 25,
     "metadata": {},
     "output_type": "execute_result"
    }
   ],
   "source": [
    "yelp_user_filtered"
   ]
  },
  {
   "cell_type": "code",
   "execution_count": 26,
   "metadata": {},
   "outputs": [
    {
     "name": "stdout",
     "output_type": "stream",
     "text": [
      "<class 'pandas.core.frame.DataFrame'>\n",
      "RangeIndex: 2105597 entries, 0 to 2105596\n",
      "Data columns (total 5 columns):\n",
      " #   Column        Dtype \n",
      "---  ------        ----- \n",
      " 0   user_id       object\n",
      " 1   name          object\n",
      " 2   review_count  int64 \n",
      " 3   useful        int64 \n",
      " 4   cool          int64 \n",
      "dtypes: int64(3), object(2)\n",
      "memory usage: 80.3+ MB\n"
     ]
    }
   ],
   "source": [
    "yelp_user_filtered.info()"
   ]
  },
  {
   "cell_type": "code",
   "execution_count": 27,
   "metadata": {},
   "outputs": [
    {
     "data": {
      "text/plain": [
       "user_id         0\n",
       "name            0\n",
       "review_count    0\n",
       "useful          0\n",
       "cool            0\n",
       "dtype: int64"
      ]
     },
     "execution_count": 27,
     "metadata": {},
     "output_type": "execute_result"
    }
   ],
   "source": [
    "yelp_user_filtered.isnull().sum()"
   ]
  },
  {
   "cell_type": "code",
   "execution_count": 28,
   "metadata": {},
   "outputs": [
    {
     "data": {
      "text/plain": [
       "117700"
      ]
     },
     "execution_count": 28,
     "metadata": {},
     "output_type": "execute_result"
    }
   ],
   "source": [
    "yelp_user_filtered.duplicated().sum()"
   ]
  },
  {
   "cell_type": "code",
   "execution_count": 29,
   "metadata": {},
   "outputs": [
    {
     "data": {
      "text/plain": [
       "False    1987897\n",
       "True      117700\n",
       "Name: count, dtype: int64"
      ]
     },
     "execution_count": 29,
     "metadata": {},
     "output_type": "execute_result"
    }
   ],
   "source": [
    "yelp_user_filtered.duplicated().value_counts()"
   ]
  },
  {
   "cell_type": "code",
   "execution_count": 30,
   "metadata": {},
   "outputs": [
    {
     "name": "stdout",
     "output_type": "stream",
     "text": [
      "Filas duplicadas:\n",
      "                        user_id         name  review_count  useful   cool\n",
      "1987897  qVc8ODYU5SZjKXVBgXdI7w       Walker           585    7217   5994\n",
      "1987898  j14WgRoU_-2ZE1aw1dXrJg       Daniel          4333   43091  27281\n",
      "1987899  2WnXYQFK0hXEoTxPtV2zvg        Steph           665    2086   1003\n",
      "1987900  SZDeASXq7o05mMNLshsdIA         Gwen           224     512    299\n",
      "1987901  hA5lMy-EnncsH4JoR-hFGQ        Karen            79      29      7\n",
      "...                         ...          ...           ...     ...    ...\n",
      "2105592  4QGxxakRZeOlg_qDuxmTeQ     Jennilee            38      74      6\n",
      "2105593  tmelBbVBGAzXBVfH2u_R6g        Gerry            19      14      2\n",
      "2105594  tpBznnD6uJN3m_pJubj09w        Emily            26       4      2\n",
      "2105595  Kst_srPw7GdYydMFYdCtzw  Heatheranne            25      21      5\n",
      "2105596  mZl-mH3ZIWLRSd_FfvrXFg      Jessica            30      27     17\n",
      "\n",
      "[117700 rows x 5 columns]\n",
      "\n",
      "Conteo de duplicados:\n",
      "False    1987897\n",
      "True      117700\n",
      "Name: count, dtype: int64\n"
     ]
    }
   ],
   "source": [
    "# Encuentra las filas duplicadas\n",
    "duplicados = yelp_user_filtered[yelp_user_filtered.duplicated()]\n",
    "\n",
    "# Cuenta cuántas veces cada fila duplicada aparece\n",
    "conteo_duplicados = yelp_user_filtered.duplicated().value_counts()\n",
    "\n",
    "# Imprime las filas duplicadas\n",
    "print(\"Filas duplicadas:\")\n",
    "print(duplicados)\n",
    "\n",
    "# Imprime el conteo de duplicados\n",
    "print(\"\\nConteo de duplicados:\")\n",
    "print(conteo_duplicados)"
   ]
  },
  {
   "cell_type": "markdown",
   "metadata": {},
   "source": [
    "#### Elimino los duplicados ya que no son tantos y no aportan información favorable"
   ]
  },
  {
   "cell_type": "code",
   "execution_count": 31,
   "metadata": {},
   "outputs": [
    {
     "name": "stderr",
     "output_type": "stream",
     "text": [
      "C:\\Users\\usuario\\AppData\\Local\\Temp\\ipykernel_6012\\3220970706.py:1: SettingWithCopyWarning: \n",
      "A value is trying to be set on a copy of a slice from a DataFrame\n",
      "\n",
      "See the caveats in the documentation: https://pandas.pydata.org/pandas-docs/stable/user_guide/indexing.html#returning-a-view-versus-a-copy\n",
      "  yelp_user_filtered.drop_duplicates(inplace=True)\n"
     ]
    }
   ],
   "source": [
    "yelp_user_filtered.drop_duplicates(inplace=True)"
   ]
  },
  {
   "cell_type": "code",
   "execution_count": 32,
   "metadata": {},
   "outputs": [
    {
     "data": {
      "text/plain": [
       "0"
      ]
     },
     "execution_count": 32,
     "metadata": {},
     "output_type": "execute_result"
    }
   ],
   "source": [
    "yelp_user_filtered.duplicated().sum()"
   ]
  },
  {
   "cell_type": "code",
   "execution_count": 33,
   "metadata": {},
   "outputs": [
    {
     "data": {
      "text/html": [
       "<div>\n",
       "<style scoped>\n",
       "    .dataframe tbody tr th:only-of-type {\n",
       "        vertical-align: middle;\n",
       "    }\n",
       "\n",
       "    .dataframe tbody tr th {\n",
       "        vertical-align: top;\n",
       "    }\n",
       "\n",
       "    .dataframe thead th {\n",
       "        text-align: right;\n",
       "    }\n",
       "</style>\n",
       "<table border=\"1\" class=\"dataframe\">\n",
       "  <thead>\n",
       "    <tr style=\"text-align: right;\">\n",
       "      <th></th>\n",
       "      <th>user_id</th>\n",
       "      <th>name</th>\n",
       "      <th>review_count</th>\n",
       "      <th>useful</th>\n",
       "      <th>cool</th>\n",
       "    </tr>\n",
       "  </thead>\n",
       "  <tbody>\n",
       "    <tr>\n",
       "      <th>0</th>\n",
       "      <td>qVc8ODYU5SZjKXVBgXdI7w</td>\n",
       "      <td>Walker</td>\n",
       "      <td>585</td>\n",
       "      <td>7217</td>\n",
       "      <td>5994</td>\n",
       "    </tr>\n",
       "    <tr>\n",
       "      <th>1</th>\n",
       "      <td>j14WgRoU_-2ZE1aw1dXrJg</td>\n",
       "      <td>Daniel</td>\n",
       "      <td>4333</td>\n",
       "      <td>43091</td>\n",
       "      <td>27281</td>\n",
       "    </tr>\n",
       "    <tr>\n",
       "      <th>2</th>\n",
       "      <td>2WnXYQFK0hXEoTxPtV2zvg</td>\n",
       "      <td>Steph</td>\n",
       "      <td>665</td>\n",
       "      <td>2086</td>\n",
       "      <td>1003</td>\n",
       "    </tr>\n",
       "    <tr>\n",
       "      <th>3</th>\n",
       "      <td>SZDeASXq7o05mMNLshsdIA</td>\n",
       "      <td>Gwen</td>\n",
       "      <td>224</td>\n",
       "      <td>512</td>\n",
       "      <td>299</td>\n",
       "    </tr>\n",
       "    <tr>\n",
       "      <th>4</th>\n",
       "      <td>hA5lMy-EnncsH4JoR-hFGQ</td>\n",
       "      <td>Karen</td>\n",
       "      <td>79</td>\n",
       "      <td>29</td>\n",
       "      <td>7</td>\n",
       "    </tr>\n",
       "    <tr>\n",
       "      <th>...</th>\n",
       "      <td>...</td>\n",
       "      <td>...</td>\n",
       "      <td>...</td>\n",
       "      <td>...</td>\n",
       "      <td>...</td>\n",
       "    </tr>\n",
       "    <tr>\n",
       "      <th>1987892</th>\n",
       "      <td>fB3jbHi3m0L2KgGOxBv6uw</td>\n",
       "      <td>Jerrold</td>\n",
       "      <td>23</td>\n",
       "      <td>7</td>\n",
       "      <td>0</td>\n",
       "    </tr>\n",
       "    <tr>\n",
       "      <th>1987893</th>\n",
       "      <td>68czcr4BxJyMQ9cJBm6C7Q</td>\n",
       "      <td>Jane</td>\n",
       "      <td>1</td>\n",
       "      <td>0</td>\n",
       "      <td>0</td>\n",
       "    </tr>\n",
       "    <tr>\n",
       "      <th>1987894</th>\n",
       "      <td>1x3KMskYxOuJCjRz70xOqQ</td>\n",
       "      <td>Shomari</td>\n",
       "      <td>4</td>\n",
       "      <td>1</td>\n",
       "      <td>0</td>\n",
       "    </tr>\n",
       "    <tr>\n",
       "      <th>1987895</th>\n",
       "      <td>ulfGl4tdbrH05xKzh5lnog</td>\n",
       "      <td>Susanne</td>\n",
       "      <td>2</td>\n",
       "      <td>0</td>\n",
       "      <td>0</td>\n",
       "    </tr>\n",
       "    <tr>\n",
       "      <th>1987896</th>\n",
       "      <td>wL5jPrLRVCK_Pmo4lM1zpA</td>\n",
       "      <td>Isa</td>\n",
       "      <td>2</td>\n",
       "      <td>0</td>\n",
       "      <td>0</td>\n",
       "    </tr>\n",
       "  </tbody>\n",
       "</table>\n",
       "<p>1987897 rows × 5 columns</p>\n",
       "</div>"
      ],
      "text/plain": [
       "                        user_id     name  review_count  useful   cool\n",
       "0        qVc8ODYU5SZjKXVBgXdI7w   Walker           585    7217   5994\n",
       "1        j14WgRoU_-2ZE1aw1dXrJg   Daniel          4333   43091  27281\n",
       "2        2WnXYQFK0hXEoTxPtV2zvg    Steph           665    2086   1003\n",
       "3        SZDeASXq7o05mMNLshsdIA     Gwen           224     512    299\n",
       "4        hA5lMy-EnncsH4JoR-hFGQ    Karen            79      29      7\n",
       "...                         ...      ...           ...     ...    ...\n",
       "1987892  fB3jbHi3m0L2KgGOxBv6uw  Jerrold            23       7      0\n",
       "1987893  68czcr4BxJyMQ9cJBm6C7Q     Jane             1       0      0\n",
       "1987894  1x3KMskYxOuJCjRz70xOqQ  Shomari             4       1      0\n",
       "1987895  ulfGl4tdbrH05xKzh5lnog  Susanne             2       0      0\n",
       "1987896  wL5jPrLRVCK_Pmo4lM1zpA      Isa             2       0      0\n",
       "\n",
       "[1987897 rows x 5 columns]"
      ]
     },
     "execution_count": 33,
     "metadata": {},
     "output_type": "execute_result"
    }
   ],
   "source": [
    "yelp_user_filtered"
   ]
  },
  {
   "cell_type": "code",
   "execution_count": 34,
   "metadata": {},
   "outputs": [
    {
     "name": "stdout",
     "output_type": "stream",
     "text": [
      "<class 'pandas.core.frame.DataFrame'>\n",
      "Index: 1987897 entries, 0 to 1987896\n",
      "Data columns (total 5 columns):\n",
      " #   Column        Dtype \n",
      "---  ------        ----- \n",
      " 0   user_id       object\n",
      " 1   name          object\n",
      " 2   review_count  int64 \n",
      " 3   useful        int64 \n",
      " 4   cool          int64 \n",
      "dtypes: int64(3), object(2)\n",
      "memory usage: 91.0+ MB\n"
     ]
    }
   ],
   "source": [
    "yelp_user_filtered.info()"
   ]
  },
  {
   "cell_type": "code",
   "execution_count": 36,
   "metadata": {},
   "outputs": [],
   "source": [
    "# Guarda el DataFrame filtrado en un archivo Parquet\n",
    "yelp_user_filtered.to_csv(r'data/Yelp/user_filtrado.csv')"
   ]
  }
 ],
 "metadata": {
  "kernelspec": {
   "display_name": "Python 3",
   "language": "python",
   "name": "python3"
  },
  "language_info": {
   "codemirror_mode": {
    "name": "ipython",
    "version": 3
   },
   "file_extension": ".py",
   "mimetype": "text/x-python",
   "name": "python",
   "nbconvert_exporter": "python",
   "pygments_lexer": "ipython3",
   "version": "3.11.3"
  }
 },
 "nbformat": 4,
 "nbformat_minor": 2
}
