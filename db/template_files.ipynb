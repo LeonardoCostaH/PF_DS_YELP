{
 "cells": [
  {
   "cell_type": "markdown",
   "metadata": {},
   "source": [
    "# TEMPLATE PARA SUBIR ARCHIVOS A LA NUBE"
   ]
  },
  {
   "cell_type": "markdown",
   "metadata": {},
   "source": [
    "# IMPORT GLOBALES"
   ]
  },
  {
   "cell_type": "code",
   "execution_count": 1,
   "metadata": {},
   "outputs": [],
   "source": [
    "import pandas as pd\n",
    "import psycopg2\n",
    "import numpy as np\n",
    "import sys"
   ]
  },
  {
   "cell_type": "markdown",
   "metadata": {},
   "source": [
    "## LECTURA DE ARCHIVOS"
   ]
  },
  {
   "cell_type": "code",
   "execution_count": 2,
   "metadata": {},
   "outputs": [
    {
     "name": "stdout",
     "output_type": "stream",
     "text": [
      "Total number of rows = 3004\n"
     ]
    },
    {
     "data": {
      "text/html": [
       "<div>\n",
       "<style scoped>\n",
       "    .dataframe tbody tr th:only-of-type {\n",
       "        vertical-align: middle;\n",
       "    }\n",
       "\n",
       "    .dataframe tbody tr th {\n",
       "        vertical-align: top;\n",
       "    }\n",
       "\n",
       "    .dataframe thead th {\n",
       "        text-align: right;\n",
       "    }\n",
       "</style>\n",
       "<table border=\"1\" class=\"dataframe\">\n",
       "  <thead>\n",
       "    <tr style=\"text-align: right;\">\n",
       "      <th></th>\n",
       "      <th>business_id</th>\n",
       "      <th>name</th>\n",
       "      <th>address</th>\n",
       "      <th>post_code</th>\n",
       "      <th>city</th>\n",
       "      <th>state</th>\n",
       "      <th>latitude</th>\n",
       "      <th>longitude</th>\n",
       "      <th>categories</th>\n",
       "      <th>attributes</th>\n",
       "      <th>avg_rating</th>\n",
       "      <th>num_of_reviews</th>\n",
       "      <th>url</th>\n",
       "      <th>source</th>\n",
       "    </tr>\n",
       "  </thead>\n",
       "  <tbody>\n",
       "    <tr>\n",
       "      <th>0</th>\n",
       "      <td>uczmbBk5O3tYhGue13dCDg</td>\n",
       "      <td>New Orleans Spirit Tours</td>\n",
       "      <td>723 St Peter St</td>\n",
       "      <td>NaN</td>\n",
       "      <td>New Orleans</td>\n",
       "      <td>IN</td>\n",
       "      <td>29.958431</td>\n",
       "      <td>-90.065173</td>\n",
       "      <td>['Hotels &amp; Travel', ' Tours', ' Local Flavor']</td>\n",
       "      <td>{'WiFi': \"u'no'\"}</td>\n",
       "      <td>4.0</td>\n",
       "      <td>NaN</td>\n",
       "      <td>NaN</td>\n",
       "      <td>NaN</td>\n",
       "    </tr>\n",
       "    <tr>\n",
       "      <th>1</th>\n",
       "      <td>Nh1rc9aSeO-Y5lYmXVS6CA</td>\n",
       "      <td>Quality Inn Nashville Downtown - Stadium</td>\n",
       "      <td>303 Interstate Dr</td>\n",
       "      <td>NaN</td>\n",
       "      <td>Nashville</td>\n",
       "      <td>AZ</td>\n",
       "      <td>36.168834</td>\n",
       "      <td>-86.766911</td>\n",
       "      <td>['Hotels &amp; Travel', ' Event Planning &amp; Service...</td>\n",
       "      <td>{'WiFi': \"'free'\", 'BusinessAcceptsCreditCards...</td>\n",
       "      <td>2.0</td>\n",
       "      <td>NaN</td>\n",
       "      <td>NaN</td>\n",
       "      <td>NaN</td>\n",
       "    </tr>\n",
       "    <tr>\n",
       "      <th>2</th>\n",
       "      <td>rh3C_JK4NAoUJ-HNStvHtw</td>\n",
       "      <td>Historic Philadelphia, Inc</td>\n",
       "      <td>600 Walnut St, Ste 130</td>\n",
       "      <td>NaN</td>\n",
       "      <td>Philadelphia</td>\n",
       "      <td>AZ</td>\n",
       "      <td>39.948321</td>\n",
       "      <td>-75.151952</td>\n",
       "      <td>['Hotels &amp; Travel', ' Tours']</td>\n",
       "      <td>NaN</td>\n",
       "      <td>4.5</td>\n",
       "      <td>NaN</td>\n",
       "      <td>NaN</td>\n",
       "      <td>NaN</td>\n",
       "    </tr>\n",
       "  </tbody>\n",
       "</table>\n",
       "</div>"
      ],
      "text/plain": [
       "              business_id                                      name  \\\n",
       "0  uczmbBk5O3tYhGue13dCDg                  New Orleans Spirit Tours   \n",
       "1  Nh1rc9aSeO-Y5lYmXVS6CA  Quality Inn Nashville Downtown - Stadium   \n",
       "2  rh3C_JK4NAoUJ-HNStvHtw                Historic Philadelphia, Inc   \n",
       "\n",
       "                  address  post_code          city state   latitude  \\\n",
       "0         723 St Peter St        NaN   New Orleans    IN  29.958431   \n",
       "1       303 Interstate Dr        NaN     Nashville    AZ  36.168834   \n",
       "2  600 Walnut St, Ste 130        NaN  Philadelphia    AZ  39.948321   \n",
       "\n",
       "   longitude                                         categories  \\\n",
       "0 -90.065173     ['Hotels & Travel', ' Tours', ' Local Flavor']   \n",
       "1 -86.766911  ['Hotels & Travel', ' Event Planning & Service...   \n",
       "2 -75.151952                      ['Hotels & Travel', ' Tours']   \n",
       "\n",
       "                                          attributes  avg_rating  \\\n",
       "0                                  {'WiFi': \"u'no'\"}         4.0   \n",
       "1  {'WiFi': \"'free'\", 'BusinessAcceptsCreditCards...         2.0   \n",
       "2                                                NaN         4.5   \n",
       "\n",
       "   num_of_reviews  url  source  \n",
       "0             NaN  NaN     NaN  \n",
       "1             NaN  NaN     NaN  \n",
       "2             NaN  NaN     NaN  "
      ]
     },
     "execution_count": 2,
     "metadata": {},
     "output_type": "execute_result"
    }
   ],
   "source": [
    "csv_file = \"tu.csv\"\n",
    "df = pd.read_csv(csv_file)\n",
    "print(\"Total number of rows = %s\" % len(df.index))\n",
    "df.head(3)"
   ]
  },
  {
   "cell_type": "code",
   "execution_count": 3,
   "metadata": {},
   "outputs": [
    {
     "data": {
      "text/plain": [
       "Index(['business_id', 'name', 'address', 'post_code', 'city', 'state',\n",
       "       'latitude', 'longitude', 'categories', 'attributes', 'avg_rating',\n",
       "       'num_of_reviews', 'url', 'source'],\n",
       "      dtype='object')"
      ]
     },
     "execution_count": 3,
     "metadata": {},
     "output_type": "execute_result"
    }
   ],
   "source": [
    "df.columns"
   ]
  },
  {
   "cell_type": "code",
   "execution_count": 4,
   "metadata": {},
   "outputs": [
    {
     "name": "stdout",
     "output_type": "stream",
     "text": [
      "<class 'pandas.core.frame.DataFrame'>\n",
      "RangeIndex: 3004 entries, 0 to 3003\n",
      "Data columns (total 14 columns):\n",
      " #   Column          Non-Null Count  Dtype  \n",
      "---  ------          --------------  -----  \n",
      " 0   business_id     3004 non-null   object \n",
      " 1   name            3004 non-null   object \n",
      " 2   address         2921 non-null   object \n",
      " 3   post_code       0 non-null      float64\n",
      " 4   city            3004 non-null   object \n",
      " 5   state           3004 non-null   object \n",
      " 6   latitude        3004 non-null   float64\n",
      " 7   longitude       3004 non-null   float64\n",
      " 8   categories      3004 non-null   object \n",
      " 9   attributes      2373 non-null   object \n",
      " 10  avg_rating      3004 non-null   float64\n",
      " 11  num_of_reviews  0 non-null      float64\n",
      " 12  url             0 non-null      float64\n",
      " 13  source          0 non-null      float64\n",
      "dtypes: float64(7), object(7)\n",
      "memory usage: 328.7+ KB\n"
     ]
    }
   ],
   "source": [
    "df.info()"
   ]
  },
  {
   "cell_type": "markdown",
   "metadata": {},
   "source": [
    "## FUNCIONES"
   ]
  },
  {
   "cell_type": "code",
   "execution_count": 6,
   "metadata": {},
   "outputs": [],
   "source": [
    "param_dic = {\n",
    "    \"host\"      : \"yelp-proyect-instancia.csp6hdqhq32b.us-east-2.rds.amazonaws.com\",\n",
    "    \"database\"  : \"postgres\",\n",
    "    \"user\"      : \"postgres\",\n",
    "    \"password\"  : \"9J1aLQKrVNX58ejADdXu\"\n",
    "}"
   ]
  },
  {
   "cell_type": "code",
   "execution_count": 7,
   "metadata": {},
   "outputs": [],
   "source": [
    "\n",
    "def connect(params_dic):\n",
    "    \"\"\" Connect to the PostgreSQL database server \"\"\"\n",
    "    conn = None\n",
    "    try:\n",
    "        # connect to the PostgreSQL server\n",
    "        print('Connecting to the PostgreSQL database...')\n",
    "        conn = psycopg2.connect(**params_dic)\n",
    "    except (Exception, psycopg2.DatabaseError) as error:\n",
    "        print(error)\n",
    "        sys.exit(1) \n",
    "    print(\"Connection successful\")\n",
    "    return conn"
   ]
  },
  {
   "cell_type": "code",
   "execution_count": 8,
   "metadata": {},
   "outputs": [],
   "source": [
    "\n",
    "def execute_query(conn, query):\n",
    "    \"\"\"  Esta función ejecuta consultas \"\"\"\n",
    "    \n",
    "    ret = 0 # Valor de retorno\n",
    "    cursor = conn.cursor()\n",
    "    try:\n",
    "        cursor.execute(query)\n",
    "        conn.commit()\n",
    "    except (Exception, psycopg2.DatabaseError) as error:\n",
    "        print(\"Error: %s\" % error)\n",
    "        conn.rollback()\n",
    "        cursor.close()\n",
    "        return 1\n",
    "\n",
    "    # Si fue una consulta SELECT, devolver el resultado\n",
    "    if 'select' in query.lower():\n",
    "        ret = cursor.fetchall()\n",
    "    cursor.close()\n",
    "    return ret"
   ]
  },
  {
   "cell_type": "code",
   "execution_count": 23,
   "metadata": {},
   "outputs": [],
   "source": [
    "def create_insert_query(row):\n",
    "    return f\"\"\"\n",
    "        INSERT INTO yelp_hotel_business \n",
    "        VALUES (\n",
    "            '{row['NAME_1']}',\n",
    "            '{row['NAME_2']}',\n",
    "            '{row['NAME_3']}'\n",
    "            );\n",
    "        \"\"\""
   ]
  },
  {
   "cell_type": "code",
   "execution_count": 25,
   "metadata": {},
   "outputs": [
    {
     "name": "stdout",
     "output_type": "stream",
     "text": [
      "Connecting to the PostgreSQL database...\n",
      "Connection successful\n"
     ]
    }
   ],
   "source": [
    "try:\n",
    "    #Realizo la conexion \n",
    "    conn = connect(param_dic)\n",
    "\n",
    "    # Crear la tabla en la base de datos\n",
    "    create_table_query = \"\"\"\n",
    "    DROP TABLE IF EXISTS yelp_hotel_business;\n",
    "    \n",
    "    CREATE TABLE yelp_hotel_business (\n",
    "    NAME_1 varchar(500),\n",
    "    NAME_2 varchar(500), \n",
    "    NAME_3 float\n",
    "    );\n",
    "\n",
    "    \"\"\"\n",
    "\n",
    "    # Ejecutar la consulta para crear la tabla\n",
    "    execute_query(conn, create_table_query)\n",
    "\n",
    "    # Insertar datos desde el DataFrame a la tabla\n",
    "    for index, row in df.iterrows():\n",
    "        insert_query = create_insert_query(row)\n",
    "        execute_query(conn, insert_query)\n",
    "\n",
    "except (Exception, psycopg2.DatabaseError) as error:\n",
    "    print(\"Error durante la ejecución: %s\" % error)\n",
    "\n",
    "finally:\n",
    "    # Cerrar la conexión a la base de datos, independientemente de si hay una excepción o no\n",
    "    if conn is not None:\n",
    "        conn.close()"
   ]
  }
 ],
 "metadata": {
  "kernelspec": {
   "display_name": "Python 3",
   "language": "python",
   "name": "python3"
  },
  "language_info": {
   "codemirror_mode": {
    "name": "ipython",
    "version": 3
   },
   "file_extension": ".py",
   "mimetype": "text/x-python",
   "name": "python",
   "nbconvert_exporter": "python",
   "pygments_lexer": "ipython3",
   "version": "3.10.12"
  }
 },
 "nbformat": 4,
 "nbformat_minor": 2
}
