{
  "nbformat": 4,
  "nbformat_minor": 0,
  "metadata": {
    "colab": {
      "provenance": [],
      "collapsed_sections": [
        "0SP9Fvtg2tC-"
      ]
    },
    "kernelspec": {
      "name": "python3",
      "display_name": "Python 3"
    },
    "language_info": {
      "name": "python"
    }
  },
  "cells": [
    {
      "cell_type": "code",
      "execution_count": 2,
      "metadata": {
        "id": "oIF1VZOLagif"
      },
      "outputs": [],
      "source": [
        "import pandas as pd"
      ]
    },
    {
      "cell_type": "code",
      "source": [
        "from google.colab import drive\n",
        "drive.mount('/content/gdrive')"
      ],
      "metadata": {
        "colab": {
          "base_uri": "https://localhost:8080/"
        },
        "id": "rLOOdAQhqPYU",
        "outputId": "5d0cfa48-7277-4dab-a580-ee72b88dd3b2"
      },
      "execution_count": 2,
      "outputs": [
        {
          "output_type": "stream",
          "name": "stdout",
          "text": [
            "Mounted at /content/gdrive\n"
          ]
        }
      ]
    },
    {
      "cell_type": "code",
      "source": [
        "# Assuming your file is in a folder named \"MyData\" in Google Drive\n",
        "#yelp_reviews = '/content/gdrive/My Drive/Proyecto Final/review.json'"
      ],
      "metadata": {
        "id": "YAxFxMYHqmA0"
      },
      "execution_count": null,
      "outputs": []
    },
    {
      "cell_type": "code",
      "source": [
        "google_reviews = '/content/gdrive/MyDrive/Proyecto Final/g_review.parquet'"
      ],
      "metadata": {
        "id": "YfVZVJqlqr8T"
      },
      "execution_count": 3,
      "outputs": []
    },
    {
      "cell_type": "code",
      "source": [
        "#df_yelp_reviews = pd.read_json(yelp_reviews, lines=True)"
      ],
      "metadata": {
        "id": "AlGpmoLfbTVY"
      },
      "execution_count": null,
      "outputs": []
    },
    {
      "cell_type": "code",
      "source": [
        "df_google_reviews = pd.read_parquet(google_reviews, engine='pyarrow')"
      ],
      "metadata": {
        "id": "tsrdpAo_wxd8"
      },
      "execution_count": 4,
      "outputs": []
    },
    {
      "cell_type": "code",
      "source": [
        "columnas = ['user_id', 'time', 'text', 'resp.text', 'resp.time', 'gmap_id']"
      ],
      "metadata": {
        "id": "B3I98A16ysUs"
      },
      "execution_count": 9,
      "outputs": []
    },
    {
      "cell_type": "code",
      "source": [
        "df_g_reviews = df_google_reviews[columnas]"
      ],
      "metadata": {
        "id": "Ng1XTYFs1G2N"
      },
      "execution_count": 10,
      "outputs": []
    },
    {
      "cell_type": "code",
      "source": [
        "df_g_reviews = df_g_reviews.rename(columns={'gmap_id': 'business_id'})"
      ],
      "metadata": {
        "id": "RXeol2ChOuGW"
      },
      "execution_count": 17,
      "outputs": []
    },
    {
      "cell_type": "code",
      "source": [
        "df_g_reviews['id_fuente'] = 'google_maps'"
      ],
      "metadata": {
        "id": "feM6P7A34lph"
      },
      "execution_count": null,
      "outputs": []
    },
    {
      "cell_type": "code",
      "source": [
        "df_g_reviews.size"
      ],
      "metadata": {
        "colab": {
          "base_uri": "https://localhost:8080/"
        },
        "id": "bB3aflHG48c0",
        "outputId": "1a03dcc0-e74f-4ebf-eaec-bba0e26ca2b6"
      },
      "execution_count": 23,
      "outputs": [
        {
          "output_type": "execute_result",
          "data": {
            "text/plain": [
              "56167167"
            ]
          },
          "metadata": {},
          "execution_count": 23
        }
      ]
    },
    {
      "cell_type": "markdown",
      "source": [
        "# Google_hoteles\n"
      ],
      "metadata": {
        "id": "Mkx6z0zkKXFl"
      }
    },
    {
      "cell_type": "code",
      "source": [
        "import pandas as pd"
      ],
      "metadata": {
        "id": "qQyPvGTtKflg"
      },
      "execution_count": 13,
      "outputs": []
    },
    {
      "cell_type": "code",
      "source": [
        "from google.colab import drive\n",
        "drive.mount('/content/gdrive')"
      ],
      "metadata": {
        "id": "EmsMnJmJKcPk"
      },
      "execution_count": null,
      "outputs": []
    },
    {
      "cell_type": "code",
      "source": [
        "google_hoteles = '/content/gdrive/MyDrive/Proyecto Final/google_hotel.csv'"
      ],
      "metadata": {
        "id": "mLZzdJUwKjkF"
      },
      "execution_count": 14,
      "outputs": []
    },
    {
      "cell_type": "code",
      "source": [
        "google_hoteles_df = pd.read_csv(google_hoteles)"
      ],
      "metadata": {
        "id": "zJTwAQHTKq2t"
      },
      "execution_count": 15,
      "outputs": []
    },
    {
      "cell_type": "code",
      "source": [
        "google_hoteles_df.head(1)"
      ],
      "metadata": {
        "colab": {
          "base_uri": "https://localhost:8080/",
          "height": 135
        },
        "id": "mzO5v_fAK8Xd",
        "outputId": "111a8cf2-77b4-43ae-c267-514b2422397d"
      },
      "execution_count": 16,
      "outputs": [
        {
          "output_type": "execute_result",
          "data": {
            "text/plain": [
              "                             business_id    categories  \\\n",
              "0  0x52c82f3ba0b99601:0xe676305bab7e1520  resort hotel   \n",
              "\n",
              "                          name               address post_code    city state  \\\n",
              "0  Little Toad Lake Campground  40335 Little Toad Rd     56544  Frazee    MN   \n",
              "\n",
              "    latitude  longitude                                                url  \\\n",
              "0  46.840222 -95.555123  https://www.google.com/maps/place//data=!4m2!3...   \n",
              "\n",
              "  attributes  avg_rating  num_of_reviews       source  \n",
              "0        NaN         4.8               4  google_maps  "
            ],
            "text/html": [
              "\n",
              "  <div id=\"df-9e15c93a-9821-4001-8422-dee295a63d2d\" class=\"colab-df-container\">\n",
              "    <div>\n",
              "<style scoped>\n",
              "    .dataframe tbody tr th:only-of-type {\n",
              "        vertical-align: middle;\n",
              "    }\n",
              "\n",
              "    .dataframe tbody tr th {\n",
              "        vertical-align: top;\n",
              "    }\n",
              "\n",
              "    .dataframe thead th {\n",
              "        text-align: right;\n",
              "    }\n",
              "</style>\n",
              "<table border=\"1\" class=\"dataframe\">\n",
              "  <thead>\n",
              "    <tr style=\"text-align: right;\">\n",
              "      <th></th>\n",
              "      <th>business_id</th>\n",
              "      <th>categories</th>\n",
              "      <th>name</th>\n",
              "      <th>address</th>\n",
              "      <th>post_code</th>\n",
              "      <th>city</th>\n",
              "      <th>state</th>\n",
              "      <th>latitude</th>\n",
              "      <th>longitude</th>\n",
              "      <th>url</th>\n",
              "      <th>attributes</th>\n",
              "      <th>avg_rating</th>\n",
              "      <th>num_of_reviews</th>\n",
              "      <th>source</th>\n",
              "    </tr>\n",
              "  </thead>\n",
              "  <tbody>\n",
              "    <tr>\n",
              "      <th>0</th>\n",
              "      <td>0x52c82f3ba0b99601:0xe676305bab7e1520</td>\n",
              "      <td>resort hotel</td>\n",
              "      <td>Little Toad Lake Campground</td>\n",
              "      <td>40335 Little Toad Rd</td>\n",
              "      <td>56544</td>\n",
              "      <td>Frazee</td>\n",
              "      <td>MN</td>\n",
              "      <td>46.840222</td>\n",
              "      <td>-95.555123</td>\n",
              "      <td>https://www.google.com/maps/place//data=!4m2!3...</td>\n",
              "      <td>NaN</td>\n",
              "      <td>4.8</td>\n",
              "      <td>4</td>\n",
              "      <td>google_maps</td>\n",
              "    </tr>\n",
              "  </tbody>\n",
              "</table>\n",
              "</div>\n",
              "    <div class=\"colab-df-buttons\">\n",
              "\n",
              "  <div class=\"colab-df-container\">\n",
              "    <button class=\"colab-df-convert\" onclick=\"convertToInteractive('df-9e15c93a-9821-4001-8422-dee295a63d2d')\"\n",
              "            title=\"Convert this dataframe to an interactive table.\"\n",
              "            style=\"display:none;\">\n",
              "\n",
              "  <svg xmlns=\"http://www.w3.org/2000/svg\" height=\"24px\" viewBox=\"0 -960 960 960\">\n",
              "    <path d=\"M120-120v-720h720v720H120Zm60-500h600v-160H180v160Zm220 220h160v-160H400v160Zm0 220h160v-160H400v160ZM180-400h160v-160H180v160Zm440 0h160v-160H620v160ZM180-180h160v-160H180v160Zm440 0h160v-160H620v160Z\"/>\n",
              "  </svg>\n",
              "    </button>\n",
              "\n",
              "  <style>\n",
              "    .colab-df-container {\n",
              "      display:flex;\n",
              "      gap: 12px;\n",
              "    }\n",
              "\n",
              "    .colab-df-convert {\n",
              "      background-color: #E8F0FE;\n",
              "      border: none;\n",
              "      border-radius: 50%;\n",
              "      cursor: pointer;\n",
              "      display: none;\n",
              "      fill: #1967D2;\n",
              "      height: 32px;\n",
              "      padding: 0 0 0 0;\n",
              "      width: 32px;\n",
              "    }\n",
              "\n",
              "    .colab-df-convert:hover {\n",
              "      background-color: #E2EBFA;\n",
              "      box-shadow: 0px 1px 2px rgba(60, 64, 67, 0.3), 0px 1px 3px 1px rgba(60, 64, 67, 0.15);\n",
              "      fill: #174EA6;\n",
              "    }\n",
              "\n",
              "    .colab-df-buttons div {\n",
              "      margin-bottom: 4px;\n",
              "    }\n",
              "\n",
              "    [theme=dark] .colab-df-convert {\n",
              "      background-color: #3B4455;\n",
              "      fill: #D2E3FC;\n",
              "    }\n",
              "\n",
              "    [theme=dark] .colab-df-convert:hover {\n",
              "      background-color: #434B5C;\n",
              "      box-shadow: 0px 1px 3px 1px rgba(0, 0, 0, 0.15);\n",
              "      filter: drop-shadow(0px 1px 2px rgba(0, 0, 0, 0.3));\n",
              "      fill: #FFFFFF;\n",
              "    }\n",
              "  </style>\n",
              "\n",
              "    <script>\n",
              "      const buttonEl =\n",
              "        document.querySelector('#df-9e15c93a-9821-4001-8422-dee295a63d2d button.colab-df-convert');\n",
              "      buttonEl.style.display =\n",
              "        google.colab.kernel.accessAllowed ? 'block' : 'none';\n",
              "\n",
              "      async function convertToInteractive(key) {\n",
              "        const element = document.querySelector('#df-9e15c93a-9821-4001-8422-dee295a63d2d');\n",
              "        const dataTable =\n",
              "          await google.colab.kernel.invokeFunction('convertToInteractive',\n",
              "                                                    [key], {});\n",
              "        if (!dataTable) return;\n",
              "\n",
              "        const docLinkHtml = 'Like what you see? Visit the ' +\n",
              "          '<a target=\"_blank\" href=https://colab.research.google.com/notebooks/data_table.ipynb>data table notebook</a>'\n",
              "          + ' to learn more about interactive tables.';\n",
              "        element.innerHTML = '';\n",
              "        dataTable['output_type'] = 'display_data';\n",
              "        await google.colab.output.renderOutput(dataTable, element);\n",
              "        const docLink = document.createElement('div');\n",
              "        docLink.innerHTML = docLinkHtml;\n",
              "        element.appendChild(docLink);\n",
              "      }\n",
              "    </script>\n",
              "  </div>\n",
              "\n",
              "    </div>\n",
              "  </div>\n"
            ]
          },
          "metadata": {},
          "execution_count": 16
        }
      ]
    },
    {
      "cell_type": "code",
      "source": [
        "google_hoteles_df.size"
      ],
      "metadata": {
        "colab": {
          "base_uri": "https://localhost:8080/"
        },
        "id": "TdALp7T8LGSe",
        "outputId": "aad81902-29c9-4d87-8454-5bf7a2a22b0a"
      },
      "execution_count": 14,
      "outputs": [
        {
          "output_type": "execute_result",
          "data": {
            "text/plain": [
              "24878"
            ]
          },
          "metadata": {},
          "execution_count": 14
        }
      ]
    },
    {
      "cell_type": "markdown",
      "source": [
        "# Merge"
      ],
      "metadata": {
        "id": "GNiT-8K0Lr8w"
      }
    },
    {
      "cell_type": "code",
      "source": [
        "df_hoteles_reviews = pd.merge(google_hoteles_df, df_g_reviews, on='business_id')"
      ],
      "metadata": {
        "id": "Or3R1bE6Lwcf"
      },
      "execution_count": 20,
      "outputs": []
    },
    {
      "cell_type": "code",
      "source": [
        "df_hoteles_reviews.head()"
      ],
      "metadata": {
        "colab": {
          "base_uri": "https://localhost:8080/",
          "height": 660
        },
        "id": "VvC5TNwEO-BW",
        "outputId": "9cb80486-7ce1-472d-bc86-c91784ed4e69"
      },
      "execution_count": 24,
      "outputs": [
        {
          "output_type": "execute_result",
          "data": {
            "text/plain": [
              "                             business_id categories  \\\n",
              "0  0x88578fdeae6bb88d:0x6a331160bd48f15b   boutique   \n",
              "1  0x88578fdeae6bb88d:0x6a331160bd48f15b   boutique   \n",
              "2  0x88578fdeae6bb88d:0x6a331160bd48f15b   boutique   \n",
              "3  0x88578fdeae6bb88d:0x6a331160bd48f15b   boutique   \n",
              "4  0x88578fdeae6bb88d:0x6a331160bd48f15b   boutique   \n",
              "\n",
              "                                         name        address post_code  \\\n",
              "0  Perfect african hair braiding and boutique  823 N Main St     29388   \n",
              "1  Perfect african hair braiding and boutique  823 N Main St     29388   \n",
              "2  Perfect african hair braiding and boutique  823 N Main St     29388   \n",
              "3  Perfect african hair braiding and boutique  823 N Main St     29388   \n",
              "4  Perfect african hair braiding and boutique  823 N Main St     29388   \n",
              "\n",
              "       city state   latitude  longitude  \\\n",
              "0  Woodruff    SC  34.750811 -82.045556   \n",
              "1  Woodruff    SC  34.750811 -82.045556   \n",
              "2  Woodruff    SC  34.750811 -82.045556   \n",
              "3  Woodruff    SC  34.750811 -82.045556   \n",
              "4  Woodruff    SC  34.750811 -82.045556   \n",
              "\n",
              "                                                 url  \\\n",
              "0  https://www.google.com/maps/place//data=!4m2!3...   \n",
              "1  https://www.google.com/maps/place//data=!4m2!3...   \n",
              "2  https://www.google.com/maps/place//data=!4m2!3...   \n",
              "3  https://www.google.com/maps/place//data=!4m2!3...   \n",
              "4  https://www.google.com/maps/place//data=!4m2!3...   \n",
              "\n",
              "                                          attributes  avg_rating  \\\n",
              "0  Wheelchair accessible entrance, Wheelchair acc...         4.0   \n",
              "1  Wheelchair accessible entrance, Wheelchair acc...         4.0   \n",
              "2  Wheelchair accessible entrance, Wheelchair acc...         4.0   \n",
              "3  Wheelchair accessible entrance, Wheelchair acc...         4.0   \n",
              "4  Wheelchair accessible entrance, Wheelchair acc...         4.0   \n",
              "\n",
              "   num_of_reviews       source                user_id           time  \\\n",
              "0              93  google_maps  116106176523771033469  1626960804731   \n",
              "1              93  google_maps  105468342524142047492  1626973437834   \n",
              "2              93  google_maps  103034086968564544628  1622858791855   \n",
              "3              93  google_maps  113706698465359107345  1599687886229   \n",
              "4              93  google_maps  106692684243825309040  1543981260130   \n",
              "\n",
              "                                                text  \\\n",
              "0  Love my hair, made sure I was set with my appo...   \n",
              "1  I love this shop,if anybody looking to get the...   \n",
              "2  Yes, I did wait an hour and a half after my ap...   \n",
              "3  I had an appointment at 530 for just 2 feed in...   \n",
              "4  They are the best!!! I get compliments everywh...   \n",
              "\n",
              "                           resp.text     resp.time    id_fuente  \n",
              "0  Thank you so much for trusting us  1.626997e+12  google_maps  \n",
              "1                     Thank you love  1.626997e+12  google_maps  \n",
              "2                               None           NaN  google_maps  \n",
              "3                               None           NaN  google_maps  \n",
              "4                Thank you beautiful  1.544290e+12  google_maps  "
            ],
            "text/html": [
              "\n",
              "  <div id=\"df-ecdc4b74-c63b-4b1a-ae11-fd5d17fa2287\" class=\"colab-df-container\">\n",
              "    <div>\n",
              "<style scoped>\n",
              "    .dataframe tbody tr th:only-of-type {\n",
              "        vertical-align: middle;\n",
              "    }\n",
              "\n",
              "    .dataframe tbody tr th {\n",
              "        vertical-align: top;\n",
              "    }\n",
              "\n",
              "    .dataframe thead th {\n",
              "        text-align: right;\n",
              "    }\n",
              "</style>\n",
              "<table border=\"1\" class=\"dataframe\">\n",
              "  <thead>\n",
              "    <tr style=\"text-align: right;\">\n",
              "      <th></th>\n",
              "      <th>business_id</th>\n",
              "      <th>categories</th>\n",
              "      <th>name</th>\n",
              "      <th>address</th>\n",
              "      <th>post_code</th>\n",
              "      <th>city</th>\n",
              "      <th>state</th>\n",
              "      <th>latitude</th>\n",
              "      <th>longitude</th>\n",
              "      <th>url</th>\n",
              "      <th>attributes</th>\n",
              "      <th>avg_rating</th>\n",
              "      <th>num_of_reviews</th>\n",
              "      <th>source</th>\n",
              "      <th>user_id</th>\n",
              "      <th>time</th>\n",
              "      <th>text</th>\n",
              "      <th>resp.text</th>\n",
              "      <th>resp.time</th>\n",
              "      <th>id_fuente</th>\n",
              "    </tr>\n",
              "  </thead>\n",
              "  <tbody>\n",
              "    <tr>\n",
              "      <th>0</th>\n",
              "      <td>0x88578fdeae6bb88d:0x6a331160bd48f15b</td>\n",
              "      <td>boutique</td>\n",
              "      <td>Perfect african hair braiding and boutique</td>\n",
              "      <td>823 N Main St</td>\n",
              "      <td>29388</td>\n",
              "      <td>Woodruff</td>\n",
              "      <td>SC</td>\n",
              "      <td>34.750811</td>\n",
              "      <td>-82.045556</td>\n",
              "      <td>https://www.google.com/maps/place//data=!4m2!3...</td>\n",
              "      <td>Wheelchair accessible entrance, Wheelchair acc...</td>\n",
              "      <td>4.0</td>\n",
              "      <td>93</td>\n",
              "      <td>google_maps</td>\n",
              "      <td>116106176523771033469</td>\n",
              "      <td>1626960804731</td>\n",
              "      <td>Love my hair, made sure I was set with my appo...</td>\n",
              "      <td>Thank you so much for trusting us</td>\n",
              "      <td>1.626997e+12</td>\n",
              "      <td>google_maps</td>\n",
              "    </tr>\n",
              "    <tr>\n",
              "      <th>1</th>\n",
              "      <td>0x88578fdeae6bb88d:0x6a331160bd48f15b</td>\n",
              "      <td>boutique</td>\n",
              "      <td>Perfect african hair braiding and boutique</td>\n",
              "      <td>823 N Main St</td>\n",
              "      <td>29388</td>\n",
              "      <td>Woodruff</td>\n",
              "      <td>SC</td>\n",
              "      <td>34.750811</td>\n",
              "      <td>-82.045556</td>\n",
              "      <td>https://www.google.com/maps/place//data=!4m2!3...</td>\n",
              "      <td>Wheelchair accessible entrance, Wheelchair acc...</td>\n",
              "      <td>4.0</td>\n",
              "      <td>93</td>\n",
              "      <td>google_maps</td>\n",
              "      <td>105468342524142047492</td>\n",
              "      <td>1626973437834</td>\n",
              "      <td>I love this shop,if anybody looking to get the...</td>\n",
              "      <td>Thank you love</td>\n",
              "      <td>1.626997e+12</td>\n",
              "      <td>google_maps</td>\n",
              "    </tr>\n",
              "    <tr>\n",
              "      <th>2</th>\n",
              "      <td>0x88578fdeae6bb88d:0x6a331160bd48f15b</td>\n",
              "      <td>boutique</td>\n",
              "      <td>Perfect african hair braiding and boutique</td>\n",
              "      <td>823 N Main St</td>\n",
              "      <td>29388</td>\n",
              "      <td>Woodruff</td>\n",
              "      <td>SC</td>\n",
              "      <td>34.750811</td>\n",
              "      <td>-82.045556</td>\n",
              "      <td>https://www.google.com/maps/place//data=!4m2!3...</td>\n",
              "      <td>Wheelchair accessible entrance, Wheelchair acc...</td>\n",
              "      <td>4.0</td>\n",
              "      <td>93</td>\n",
              "      <td>google_maps</td>\n",
              "      <td>103034086968564544628</td>\n",
              "      <td>1622858791855</td>\n",
              "      <td>Yes, I did wait an hour and a half after my ap...</td>\n",
              "      <td>None</td>\n",
              "      <td>NaN</td>\n",
              "      <td>google_maps</td>\n",
              "    </tr>\n",
              "    <tr>\n",
              "      <th>3</th>\n",
              "      <td>0x88578fdeae6bb88d:0x6a331160bd48f15b</td>\n",
              "      <td>boutique</td>\n",
              "      <td>Perfect african hair braiding and boutique</td>\n",
              "      <td>823 N Main St</td>\n",
              "      <td>29388</td>\n",
              "      <td>Woodruff</td>\n",
              "      <td>SC</td>\n",
              "      <td>34.750811</td>\n",
              "      <td>-82.045556</td>\n",
              "      <td>https://www.google.com/maps/place//data=!4m2!3...</td>\n",
              "      <td>Wheelchair accessible entrance, Wheelchair acc...</td>\n",
              "      <td>4.0</td>\n",
              "      <td>93</td>\n",
              "      <td>google_maps</td>\n",
              "      <td>113706698465359107345</td>\n",
              "      <td>1599687886229</td>\n",
              "      <td>I had an appointment at 530 for just 2 feed in...</td>\n",
              "      <td>None</td>\n",
              "      <td>NaN</td>\n",
              "      <td>google_maps</td>\n",
              "    </tr>\n",
              "    <tr>\n",
              "      <th>4</th>\n",
              "      <td>0x88578fdeae6bb88d:0x6a331160bd48f15b</td>\n",
              "      <td>boutique</td>\n",
              "      <td>Perfect african hair braiding and boutique</td>\n",
              "      <td>823 N Main St</td>\n",
              "      <td>29388</td>\n",
              "      <td>Woodruff</td>\n",
              "      <td>SC</td>\n",
              "      <td>34.750811</td>\n",
              "      <td>-82.045556</td>\n",
              "      <td>https://www.google.com/maps/place//data=!4m2!3...</td>\n",
              "      <td>Wheelchair accessible entrance, Wheelchair acc...</td>\n",
              "      <td>4.0</td>\n",
              "      <td>93</td>\n",
              "      <td>google_maps</td>\n",
              "      <td>106692684243825309040</td>\n",
              "      <td>1543981260130</td>\n",
              "      <td>They are the best!!! I get compliments everywh...</td>\n",
              "      <td>Thank you beautiful</td>\n",
              "      <td>1.544290e+12</td>\n",
              "      <td>google_maps</td>\n",
              "    </tr>\n",
              "  </tbody>\n",
              "</table>\n",
              "</div>\n",
              "    <div class=\"colab-df-buttons\">\n",
              "\n",
              "  <div class=\"colab-df-container\">\n",
              "    <button class=\"colab-df-convert\" onclick=\"convertToInteractive('df-ecdc4b74-c63b-4b1a-ae11-fd5d17fa2287')\"\n",
              "            title=\"Convert this dataframe to an interactive table.\"\n",
              "            style=\"display:none;\">\n",
              "\n",
              "  <svg xmlns=\"http://www.w3.org/2000/svg\" height=\"24px\" viewBox=\"0 -960 960 960\">\n",
              "    <path d=\"M120-120v-720h720v720H120Zm60-500h600v-160H180v160Zm220 220h160v-160H400v160Zm0 220h160v-160H400v160ZM180-400h160v-160H180v160Zm440 0h160v-160H620v160ZM180-180h160v-160H180v160Zm440 0h160v-160H620v160Z\"/>\n",
              "  </svg>\n",
              "    </button>\n",
              "\n",
              "  <style>\n",
              "    .colab-df-container {\n",
              "      display:flex;\n",
              "      gap: 12px;\n",
              "    }\n",
              "\n",
              "    .colab-df-convert {\n",
              "      background-color: #E8F0FE;\n",
              "      border: none;\n",
              "      border-radius: 50%;\n",
              "      cursor: pointer;\n",
              "      display: none;\n",
              "      fill: #1967D2;\n",
              "      height: 32px;\n",
              "      padding: 0 0 0 0;\n",
              "      width: 32px;\n",
              "    }\n",
              "\n",
              "    .colab-df-convert:hover {\n",
              "      background-color: #E2EBFA;\n",
              "      box-shadow: 0px 1px 2px rgba(60, 64, 67, 0.3), 0px 1px 3px 1px rgba(60, 64, 67, 0.15);\n",
              "      fill: #174EA6;\n",
              "    }\n",
              "\n",
              "    .colab-df-buttons div {\n",
              "      margin-bottom: 4px;\n",
              "    }\n",
              "\n",
              "    [theme=dark] .colab-df-convert {\n",
              "      background-color: #3B4455;\n",
              "      fill: #D2E3FC;\n",
              "    }\n",
              "\n",
              "    [theme=dark] .colab-df-convert:hover {\n",
              "      background-color: #434B5C;\n",
              "      box-shadow: 0px 1px 3px 1px rgba(0, 0, 0, 0.15);\n",
              "      filter: drop-shadow(0px 1px 2px rgba(0, 0, 0, 0.3));\n",
              "      fill: #FFFFFF;\n",
              "    }\n",
              "  </style>\n",
              "\n",
              "    <script>\n",
              "      const buttonEl =\n",
              "        document.querySelector('#df-ecdc4b74-c63b-4b1a-ae11-fd5d17fa2287 button.colab-df-convert');\n",
              "      buttonEl.style.display =\n",
              "        google.colab.kernel.accessAllowed ? 'block' : 'none';\n",
              "\n",
              "      async function convertToInteractive(key) {\n",
              "        const element = document.querySelector('#df-ecdc4b74-c63b-4b1a-ae11-fd5d17fa2287');\n",
              "        const dataTable =\n",
              "          await google.colab.kernel.invokeFunction('convertToInteractive',\n",
              "                                                    [key], {});\n",
              "        if (!dataTable) return;\n",
              "\n",
              "        const docLinkHtml = 'Like what you see? Visit the ' +\n",
              "          '<a target=\"_blank\" href=https://colab.research.google.com/notebooks/data_table.ipynb>data table notebook</a>'\n",
              "          + ' to learn more about interactive tables.';\n",
              "        element.innerHTML = '';\n",
              "        dataTable['output_type'] = 'display_data';\n",
              "        await google.colab.output.renderOutput(dataTable, element);\n",
              "        const docLink = document.createElement('div');\n",
              "        docLink.innerHTML = docLinkHtml;\n",
              "        element.appendChild(docLink);\n",
              "      }\n",
              "    </script>\n",
              "  </div>\n",
              "\n",
              "\n",
              "<div id=\"df-9d4258a3-a2fa-400f-920b-bebfbd69c9ba\">\n",
              "  <button class=\"colab-df-quickchart\" onclick=\"quickchart('df-9d4258a3-a2fa-400f-920b-bebfbd69c9ba')\"\n",
              "            title=\"Suggest charts\"\n",
              "            style=\"display:none;\">\n",
              "\n",
              "<svg xmlns=\"http://www.w3.org/2000/svg\" height=\"24px\"viewBox=\"0 0 24 24\"\n",
              "     width=\"24px\">\n",
              "    <g>\n",
              "        <path d=\"M19 3H5c-1.1 0-2 .9-2 2v14c0 1.1.9 2 2 2h14c1.1 0 2-.9 2-2V5c0-1.1-.9-2-2-2zM9 17H7v-7h2v7zm4 0h-2V7h2v10zm4 0h-2v-4h2v4z\"/>\n",
              "    </g>\n",
              "</svg>\n",
              "  </button>\n",
              "\n",
              "<style>\n",
              "  .colab-df-quickchart {\n",
              "      --bg-color: #E8F0FE;\n",
              "      --fill-color: #1967D2;\n",
              "      --hover-bg-color: #E2EBFA;\n",
              "      --hover-fill-color: #174EA6;\n",
              "      --disabled-fill-color: #AAA;\n",
              "      --disabled-bg-color: #DDD;\n",
              "  }\n",
              "\n",
              "  [theme=dark] .colab-df-quickchart {\n",
              "      --bg-color: #3B4455;\n",
              "      --fill-color: #D2E3FC;\n",
              "      --hover-bg-color: #434B5C;\n",
              "      --hover-fill-color: #FFFFFF;\n",
              "      --disabled-bg-color: #3B4455;\n",
              "      --disabled-fill-color: #666;\n",
              "  }\n",
              "\n",
              "  .colab-df-quickchart {\n",
              "    background-color: var(--bg-color);\n",
              "    border: none;\n",
              "    border-radius: 50%;\n",
              "    cursor: pointer;\n",
              "    display: none;\n",
              "    fill: var(--fill-color);\n",
              "    height: 32px;\n",
              "    padding: 0;\n",
              "    width: 32px;\n",
              "  }\n",
              "\n",
              "  .colab-df-quickchart:hover {\n",
              "    background-color: var(--hover-bg-color);\n",
              "    box-shadow: 0 1px 2px rgba(60, 64, 67, 0.3), 0 1px 3px 1px rgba(60, 64, 67, 0.15);\n",
              "    fill: var(--button-hover-fill-color);\n",
              "  }\n",
              "\n",
              "  .colab-df-quickchart-complete:disabled,\n",
              "  .colab-df-quickchart-complete:disabled:hover {\n",
              "    background-color: var(--disabled-bg-color);\n",
              "    fill: var(--disabled-fill-color);\n",
              "    box-shadow: none;\n",
              "  }\n",
              "\n",
              "  .colab-df-spinner {\n",
              "    border: 2px solid var(--fill-color);\n",
              "    border-color: transparent;\n",
              "    border-bottom-color: var(--fill-color);\n",
              "    animation:\n",
              "      spin 1s steps(1) infinite;\n",
              "  }\n",
              "\n",
              "  @keyframes spin {\n",
              "    0% {\n",
              "      border-color: transparent;\n",
              "      border-bottom-color: var(--fill-color);\n",
              "      border-left-color: var(--fill-color);\n",
              "    }\n",
              "    20% {\n",
              "      border-color: transparent;\n",
              "      border-left-color: var(--fill-color);\n",
              "      border-top-color: var(--fill-color);\n",
              "    }\n",
              "    30% {\n",
              "      border-color: transparent;\n",
              "      border-left-color: var(--fill-color);\n",
              "      border-top-color: var(--fill-color);\n",
              "      border-right-color: var(--fill-color);\n",
              "    }\n",
              "    40% {\n",
              "      border-color: transparent;\n",
              "      border-right-color: var(--fill-color);\n",
              "      border-top-color: var(--fill-color);\n",
              "    }\n",
              "    60% {\n",
              "      border-color: transparent;\n",
              "      border-right-color: var(--fill-color);\n",
              "    }\n",
              "    80% {\n",
              "      border-color: transparent;\n",
              "      border-right-color: var(--fill-color);\n",
              "      border-bottom-color: var(--fill-color);\n",
              "    }\n",
              "    90% {\n",
              "      border-color: transparent;\n",
              "      border-bottom-color: var(--fill-color);\n",
              "    }\n",
              "  }\n",
              "</style>\n",
              "\n",
              "  <script>\n",
              "    async function quickchart(key) {\n",
              "      const quickchartButtonEl =\n",
              "        document.querySelector('#' + key + ' button');\n",
              "      quickchartButtonEl.disabled = true;  // To prevent multiple clicks.\n",
              "      quickchartButtonEl.classList.add('colab-df-spinner');\n",
              "      try {\n",
              "        const charts = await google.colab.kernel.invokeFunction(\n",
              "            'suggestCharts', [key], {});\n",
              "      } catch (error) {\n",
              "        console.error('Error during call to suggestCharts:', error);\n",
              "      }\n",
              "      quickchartButtonEl.classList.remove('colab-df-spinner');\n",
              "      quickchartButtonEl.classList.add('colab-df-quickchart-complete');\n",
              "    }\n",
              "    (() => {\n",
              "      let quickchartButtonEl =\n",
              "        document.querySelector('#df-9d4258a3-a2fa-400f-920b-bebfbd69c9ba button');\n",
              "      quickchartButtonEl.style.display =\n",
              "        google.colab.kernel.accessAllowed ? 'block' : 'none';\n",
              "    })();\n",
              "  </script>\n",
              "</div>\n",
              "    </div>\n",
              "  </div>\n"
            ]
          },
          "metadata": {},
          "execution_count": 24
        }
      ]
    },
    {
      "cell_type": "markdown",
      "source": [
        "#Yelp\n"
      ],
      "metadata": {
        "id": "0SP9Fvtg2tC-"
      }
    },
    {
      "cell_type": "code",
      "source": [
        "file_path = '/content/fragmento_yelp_reviews.csv'"
      ],
      "metadata": {
        "id": "Pk--FG7C2sbi"
      },
      "execution_count": null,
      "outputs": []
    },
    {
      "cell_type": "code",
      "source": [
        "df_yelp_reviews_fragmento = pd.read_csv(file_path)"
      ],
      "metadata": {
        "id": "RzTmz_622x2A"
      },
      "execution_count": null,
      "outputs": []
    },
    {
      "cell_type": "code",
      "source": [
        "df_yelp_reviews_fragmento.head(1)"
      ],
      "metadata": {
        "colab": {
          "base_uri": "https://localhost:8080/",
          "height": 185
        },
        "id": "jSVcwGxn2-em",
        "outputId": "2e03b1bc-db8b-4c6c-eaf0-c8cdec657f96"
      },
      "execution_count": null,
      "outputs": [
        {
          "output_type": "execute_result",
          "data": {
            "text/plain": [
              "   Unnamed: 0               review_id                 user_id  \\\n",
              "0           0  KU_O5udG6zpxOg-VcAEodg  mh_-eMZ6K5RLWhZyISBhwA   \n",
              "\n",
              "              business_id  stars  useful  funny  cool  \\\n",
              "0  XQfwVwDr-v0ZS3_CbbE5Xw    3.0       0      0     0   \n",
              "\n",
              "                                                text                 date  \n",
              "0  If you decide to eat here, just be aware it is...  2018-07-07 22:09:11  "
            ],
            "text/html": [
              "\n",
              "  <div id=\"df-85383ddd-d5fe-42f2-a983-3170bb9a6369\" class=\"colab-df-container\">\n",
              "    <div>\n",
              "<style scoped>\n",
              "    .dataframe tbody tr th:only-of-type {\n",
              "        vertical-align: middle;\n",
              "    }\n",
              "\n",
              "    .dataframe tbody tr th {\n",
              "        vertical-align: top;\n",
              "    }\n",
              "\n",
              "    .dataframe thead th {\n",
              "        text-align: right;\n",
              "    }\n",
              "</style>\n",
              "<table border=\"1\" class=\"dataframe\">\n",
              "  <thead>\n",
              "    <tr style=\"text-align: right;\">\n",
              "      <th></th>\n",
              "      <th>Unnamed: 0</th>\n",
              "      <th>review_id</th>\n",
              "      <th>user_id</th>\n",
              "      <th>business_id</th>\n",
              "      <th>stars</th>\n",
              "      <th>useful</th>\n",
              "      <th>funny</th>\n",
              "      <th>cool</th>\n",
              "      <th>text</th>\n",
              "      <th>date</th>\n",
              "    </tr>\n",
              "  </thead>\n",
              "  <tbody>\n",
              "    <tr>\n",
              "      <th>0</th>\n",
              "      <td>0</td>\n",
              "      <td>KU_O5udG6zpxOg-VcAEodg</td>\n",
              "      <td>mh_-eMZ6K5RLWhZyISBhwA</td>\n",
              "      <td>XQfwVwDr-v0ZS3_CbbE5Xw</td>\n",
              "      <td>3.0</td>\n",
              "      <td>0</td>\n",
              "      <td>0</td>\n",
              "      <td>0</td>\n",
              "      <td>If you decide to eat here, just be aware it is...</td>\n",
              "      <td>2018-07-07 22:09:11</td>\n",
              "    </tr>\n",
              "  </tbody>\n",
              "</table>\n",
              "</div>\n",
              "    <div class=\"colab-df-buttons\">\n",
              "\n",
              "  <div class=\"colab-df-container\">\n",
              "    <button class=\"colab-df-convert\" onclick=\"convertToInteractive('df-85383ddd-d5fe-42f2-a983-3170bb9a6369')\"\n",
              "            title=\"Convert this dataframe to an interactive table.\"\n",
              "            style=\"display:none;\">\n",
              "\n",
              "  <svg xmlns=\"http://www.w3.org/2000/svg\" height=\"24px\" viewBox=\"0 -960 960 960\">\n",
              "    <path d=\"M120-120v-720h720v720H120Zm60-500h600v-160H180v160Zm220 220h160v-160H400v160Zm0 220h160v-160H400v160ZM180-400h160v-160H180v160Zm440 0h160v-160H620v160ZM180-180h160v-160H180v160Zm440 0h160v-160H620v160Z\"/>\n",
              "  </svg>\n",
              "    </button>\n",
              "\n",
              "  <style>\n",
              "    .colab-df-container {\n",
              "      display:flex;\n",
              "      gap: 12px;\n",
              "    }\n",
              "\n",
              "    .colab-df-convert {\n",
              "      background-color: #E8F0FE;\n",
              "      border: none;\n",
              "      border-radius: 50%;\n",
              "      cursor: pointer;\n",
              "      display: none;\n",
              "      fill: #1967D2;\n",
              "      height: 32px;\n",
              "      padding: 0 0 0 0;\n",
              "      width: 32px;\n",
              "    }\n",
              "\n",
              "    .colab-df-convert:hover {\n",
              "      background-color: #E2EBFA;\n",
              "      box-shadow: 0px 1px 2px rgba(60, 64, 67, 0.3), 0px 1px 3px 1px rgba(60, 64, 67, 0.15);\n",
              "      fill: #174EA6;\n",
              "    }\n",
              "\n",
              "    .colab-df-buttons div {\n",
              "      margin-bottom: 4px;\n",
              "    }\n",
              "\n",
              "    [theme=dark] .colab-df-convert {\n",
              "      background-color: #3B4455;\n",
              "      fill: #D2E3FC;\n",
              "    }\n",
              "\n",
              "    [theme=dark] .colab-df-convert:hover {\n",
              "      background-color: #434B5C;\n",
              "      box-shadow: 0px 1px 3px 1px rgba(0, 0, 0, 0.15);\n",
              "      filter: drop-shadow(0px 1px 2px rgba(0, 0, 0, 0.3));\n",
              "      fill: #FFFFFF;\n",
              "    }\n",
              "  </style>\n",
              "\n",
              "    <script>\n",
              "      const buttonEl =\n",
              "        document.querySelector('#df-85383ddd-d5fe-42f2-a983-3170bb9a6369 button.colab-df-convert');\n",
              "      buttonEl.style.display =\n",
              "        google.colab.kernel.accessAllowed ? 'block' : 'none';\n",
              "\n",
              "      async function convertToInteractive(key) {\n",
              "        const element = document.querySelector('#df-85383ddd-d5fe-42f2-a983-3170bb9a6369');\n",
              "        const dataTable =\n",
              "          await google.colab.kernel.invokeFunction('convertToInteractive',\n",
              "                                                    [key], {});\n",
              "        if (!dataTable) return;\n",
              "\n",
              "        const docLinkHtml = 'Like what you see? Visit the ' +\n",
              "          '<a target=\"_blank\" href=https://colab.research.google.com/notebooks/data_table.ipynb>data table notebook</a>'\n",
              "          + ' to learn more about interactive tables.';\n",
              "        element.innerHTML = '';\n",
              "        dataTable['output_type'] = 'display_data';\n",
              "        await google.colab.output.renderOutput(dataTable, element);\n",
              "        const docLink = document.createElement('div');\n",
              "        docLink.innerHTML = docLinkHtml;\n",
              "        element.appendChild(docLink);\n",
              "      }\n",
              "    </script>\n",
              "  </div>\n",
              "\n",
              "    </div>\n",
              "  </div>\n"
            ]
          },
          "metadata": {},
          "execution_count": 5
        }
      ]
    },
    {
      "cell_type": "code",
      "source": [
        "columnas_yelp = ['review_id', 'user_id', 'business_id', 'stars', 'useful']"
      ],
      "metadata": {
        "id": "9MArR35u3WWm"
      },
      "execution_count": null,
      "outputs": []
    },
    {
      "cell_type": "code",
      "source": [
        "df_yelp_reviews_fragmento = df_yelp_reviews_fragmento[columnas_yelp]"
      ],
      "metadata": {
        "id": "pVh3ti2-36HG"
      },
      "execution_count": null,
      "outputs": []
    },
    {
      "cell_type": "code",
      "source": [
        "df_yelp_reviews_fragmento['id_fuente'] = 'yelp'"
      ],
      "metadata": {
        "id": "7t27arQD4Xec"
      },
      "execution_count": null,
      "outputs": []
    }
  ]
}