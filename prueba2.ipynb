{
 "cells": [
  {
   "cell_type": "code",
   "execution_count": 21,
   "metadata": {},
   "outputs": [],
   "source": [
    "import pandas as pd\n",
    "import psycopg2\n",
    "import numpy as np\n",
    "import matplotlib\n",
    "from connect import cursor\n",
    "import seaborn as sns\n",
    "import matplotlib.pyplot as plt"
   ]
  },
  {
   "cell_type": "markdown",
   "metadata": {},
   "source": [
    "# *Conectar a la base de datos PostgreSQL*"
   ]
  },
  {
   "cell_type": "code",
   "execution_count": 22,
   "metadata": {},
   "outputs": [],
   "source": [
    "# datos de conexión\n",
    "dbname = 'postgres'\n",
    "user = 'postgres'\n",
    "password = 'ozZpSSXJxNiYbBo6KiLM'\n",
    "host = 'pfyeld.csogvboudl4p.us-east-2.rds.amazonaws.com'  # endpoint de la base de datos en AWS\n",
    "port = '5432'  "
   ]
  },
  {
   "cell_type": "code",
   "execution_count": 23,
   "metadata": {},
   "outputs": [],
   "source": [
    "connection = None\n",
    "cursor = None"
   ]
  },
  {
   "cell_type": "code",
   "execution_count": 24,
   "metadata": {},
   "outputs": [],
   "source": [
    "# Conexión a la base de datos\n",
    "conn = psycopg2.connect(dbname=dbname, user=user, password=password, host=host, port=port)\n",
    "\n",
    "# Crear un cursor\n",
    "cursor = conn.cursor()"
   ]
  },
  {
   "cell_type": "markdown",
   "metadata": {},
   "source": [
    "# *Ejecutar consultas SQL y cargar datos en un DataFrame de pandas:*"
   ]
  },
  {
   "cell_type": "code",
   "execution_count": 27,
   "metadata": {},
   "outputs": [],
   "source": [
    "\n",
    "# Ejecutar una consulta SQL\n",
    "query = \"SELECT * FROM usa_cities;\"\n",
    "cursor.execute(query)\n",
    "\n",
    "# Obtener los resultados y cargarlos en un DataFrame de pandas\n",
    "column_names = [desc[0] for desc in cursor.description]\n",
    "df = pd.DataFrame(cursor.fetchall(), columns=column_names)"
   ]
  },
  {
   "cell_type": "markdown",
   "metadata": {},
   "source": [
    "# *Realizar análisis de datos con pandas y matplotlib:*"
   ]
  },
  {
   "cell_type": "code",
   "execution_count": 28,
   "metadata": {},
   "outputs": [
    {
     "data": {
      "text/html": [
       "<div>\n",
       "<style scoped>\n",
       "    .dataframe tbody tr th:only-of-type {\n",
       "        vertical-align: middle;\n",
       "    }\n",
       "\n",
       "    .dataframe tbody tr th {\n",
       "        vertical-align: top;\n",
       "    }\n",
       "\n",
       "    .dataframe thead th {\n",
       "        text-align: right;\n",
       "    }\n",
       "</style>\n",
       "<table border=\"1\" class=\"dataframe\">\n",
       "  <thead>\n",
       "    <tr style=\"text-align: right;\">\n",
       "      <th></th>\n",
       "      <th>city_id</th>\n",
       "      <th>city</th>\n",
       "      <th>county</th>\n",
       "      <th>state_id</th>\n",
       "      <th>population</th>\n",
       "      <th>density</th>\n",
       "      <th>latitude</th>\n",
       "      <th>longitude</th>\n",
       "      <th>zips</th>\n",
       "      <th>geometry</th>\n",
       "    </tr>\n",
       "  </thead>\n",
       "  <tbody>\n",
       "    <tr>\n",
       "      <th>0</th>\n",
       "      <td>1</td>\n",
       "      <td>New York</td>\n",
       "      <td>Queens</td>\n",
       "      <td>NY</td>\n",
       "      <td>18908608</td>\n",
       "      <td>11226.2</td>\n",
       "      <td>40.6943</td>\n",
       "      <td>-73.9249</td>\n",
       "      <td>[11229 11228 11226 11225 11224 11222 11221 112...</td>\n",
       "      <td>[POINT (-73.94343119226887 40.669903385553056)]</td>\n",
       "    </tr>\n",
       "    <tr>\n",
       "      <th>1</th>\n",
       "      <td>2</td>\n",
       "      <td>Los Angeles</td>\n",
       "      <td>Los Angeles</td>\n",
       "      <td>CA</td>\n",
       "      <td>11922389</td>\n",
       "      <td>3202.3</td>\n",
       "      <td>34.1141</td>\n",
       "      <td>-118.4068</td>\n",
       "      <td>[91367 90291 90293 90292 91316 91311 90035 900...</td>\n",
       "      <td>[POINT (-118.41211392839487 34.11210884430981)]</td>\n",
       "    </tr>\n",
       "    <tr>\n",
       "      <th>2</th>\n",
       "      <td>3</td>\n",
       "      <td>Chicago</td>\n",
       "      <td>Cook</td>\n",
       "      <td>IL</td>\n",
       "      <td>8497759</td>\n",
       "      <td>4648.7</td>\n",
       "      <td>41.8375</td>\n",
       "      <td>-87.6866</td>\n",
       "      <td>[60018 60649 60641 60640 60643 60642 60645 606...</td>\n",
       "      <td>[POINT (-87.68501821557464 41.837082841091316)]</td>\n",
       "    </tr>\n",
       "    <tr>\n",
       "      <th>3</th>\n",
       "      <td>4</td>\n",
       "      <td>Miami</td>\n",
       "      <td>Miami-Dade</td>\n",
       "      <td>FL</td>\n",
       "      <td>6080145</td>\n",
       "      <td>4728.2</td>\n",
       "      <td>25.784</td>\n",
       "      <td>-80.2101</td>\n",
       "      <td>[33128 33129 33125 33126 33127 33149 33144 331...</td>\n",
       "      <td>[POINT (-80.21061554370905 25.776043835020747)]</td>\n",
       "    </tr>\n",
       "    <tr>\n",
       "      <th>4</th>\n",
       "      <td>5</td>\n",
       "      <td>Houston</td>\n",
       "      <td>Harris</td>\n",
       "      <td>TX</td>\n",
       "      <td>5970127</td>\n",
       "      <td>1382.2</td>\n",
       "      <td>29.786</td>\n",
       "      <td>-95.3885</td>\n",
       "      <td>[77069 77068 77061 77060 77063 77062 77065 770...</td>\n",
       "      <td>[POINT (-95.38694447527584 29.768927923193075)]</td>\n",
       "    </tr>\n",
       "  </tbody>\n",
       "</table>\n",
       "</div>"
      ],
      "text/plain": [
       "   city_id         city       county state_id  population  density latitude  \\\n",
       "0        1     New York       Queens       NY    18908608  11226.2  40.6943   \n",
       "1        2  Los Angeles  Los Angeles       CA    11922389   3202.3  34.1141   \n",
       "2        3      Chicago         Cook       IL     8497759   4648.7  41.8375   \n",
       "3        4        Miami   Miami-Dade       FL     6080145   4728.2   25.784   \n",
       "4        5      Houston       Harris       TX     5970127   1382.2   29.786   \n",
       "\n",
       "   longitude                                               zips  \\\n",
       "0   -73.9249  [11229 11228 11226 11225 11224 11222 11221 112...   \n",
       "1  -118.4068  [91367 90291 90293 90292 91316 91311 90035 900...   \n",
       "2   -87.6866  [60018 60649 60641 60640 60643 60642 60645 606...   \n",
       "3   -80.2101  [33128 33129 33125 33126 33127 33149 33144 331...   \n",
       "4   -95.3885  [77069 77068 77061 77060 77063 77062 77065 770...   \n",
       "\n",
       "                                          geometry  \n",
       "0  [POINT (-73.94343119226887 40.669903385553056)]  \n",
       "1  [POINT (-118.41211392839487 34.11210884430981)]  \n",
       "2  [POINT (-87.68501821557464 41.837082841091316)]  \n",
       "3  [POINT (-80.21061554370905 25.776043835020747)]  \n",
       "4  [POINT (-95.38694447527584 29.768927923193075)]  "
      ]
     },
     "execution_count": 28,
     "metadata": {},
     "output_type": "execute_result"
    }
   ],
   "source": [
    "df.head()"
   ]
  },
  {
   "cell_type": "code",
   "execution_count": 29,
   "metadata": {},
   "outputs": [
    {
     "data": {
      "image/png": "[encoded data removed]",
      "text/plain": [
       "<Figure size 1000x600 with 1 Axes>"
      ]
     },
     "metadata": {},
     "output_type": "display_data"
    }
   ],
   "source": [
    "df = df.sort_values(by='state_id')\n",
    "\n",
    "# Crea el gráfico de barras\n",
    "plt.figure(figsize=(10, 6))\n",
    "plt.bar(df['state_id'], df['population'], color='skyblue')\n",
    "plt.title('Población por Estado')\n",
    "plt.xlabel('Estado')\n",
    "plt.ylabel('Población')\n",
    "plt.show()"
   ]
  },
  {
   "cell_type": "markdown",
   "metadata": {},
   "source": [
    "# *Cerrar la conexión cuando hayas terminado:*"
   ]
  },
  {
   "cell_type": "code",
   "execution_count": null,
   "metadata": {},
   "outputs": [],
   "source": [
    "# Cerrar el cursor y la conexión\n",
    "cursor.close()\n",
    "conn.close()"
   ]
  }
 ],
 "metadata": {
  "kernelspec": {
   "display_name": "Python 3",
   "language": "python",
   "name": "python3"
  },
  "language_info": {
   "codemirror_mode": {
    "name": "ipython",
    "version": 3
   },
   "file_extension": ".py",
   "mimetype": "text/x-python",
   "name": "python",
   "nbconvert_exporter": "python",
   "pygments_lexer": "ipython3",
   "version": "3.11.5"
  }
 },
 "nbformat": 4,
 "nbformat_minor": 2
}
