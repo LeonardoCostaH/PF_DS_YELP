{
 "cells": [
  {
   "cell_type": "code",
   "execution_count": 4,
   "metadata": {},
   "outputs": [],
   "source": [
    "import warnings\n",
    "import streamlit as st\n",
    "import pandas as pd\n",
    "import numpy as np\n",
    "from connect import cursor, conn\n",
    "import matplotlib.pyplot as plt\n",
    "import matplotlib\n",
    "import seaborn as sns\n",
    "import geopandas as gpd\n",
    "from shapely.geometry import Point\n",
    "from matplotlib.colors import LinearSegmentedColormap"
   ]
  },
  {
   "cell_type": "code",
   "execution_count": 38,
   "metadata": {},
   "outputs": [],
   "source": [
    "path = '..\\\\files\\\\data\\\\booking\\\\booking_hotels.csv'"
   ]
  },
  {
   "cell_type": "code",
   "execution_count": 39,
   "metadata": {},
   "outputs": [],
   "source": [
    "df = pd.read_csv(path)"
   ]
  },
  {
   "cell_type": "code",
   "execution_count": 30,
   "metadata": {},
   "outputs": [
    {
     "data": {
      "text/html": [
       "<div>\n",
       "<style scoped>\n",
       "    .dataframe tbody tr th:only-of-type {\n",
       "        vertical-align: middle;\n",
       "    }\n",
       "\n",
       "    .dataframe tbody tr th {\n",
       "        vertical-align: top;\n",
       "    }\n",
       "\n",
       "    .dataframe thead th {\n",
       "        text-align: right;\n",
       "    }\n",
       "</style>\n",
       "<table border=\"1\" class=\"dataframe\">\n",
       "  <thead>\n",
       "    <tr style=\"text-align: right;\">\n",
       "      <th></th>\n",
       "      <th>Unnamed: 0</th>\n",
       "      <th>state</th>\n",
       "      <th>city</th>\n",
       "      <th>name</th>\n",
       "      <th>avg_score</th>\n",
       "      <th>price</th>\n",
       "      <th>reviews_url</th>\n",
       "      <th>hotel_id</th>\n",
       "    </tr>\n",
       "  </thead>\n",
       "  <tbody>\n",
       "    <tr>\n",
       "      <th>0</th>\n",
       "      <td>30517</td>\n",
       "      <td>New Mexico</td>\n",
       "      <td>Rio Rancho</td>\n",
       "      <td>The Reynosa Retreat</td>\n",
       "      <td>100.0</td>\n",
       "      <td>317.251</td>\n",
       "      <td>https://www.booking.com/hotel/us/the-reynosa-r...</td>\n",
       "      <td>1</td>\n",
       "    </tr>\n",
       "    <tr>\n",
       "      <th>1</th>\n",
       "      <td>34698</td>\n",
       "      <td>Oklahoma</td>\n",
       "      <td>Edmond</td>\n",
       "      <td>The Arches Walk to Western Ave District</td>\n",
       "      <td>100.0</td>\n",
       "      <td>368.373</td>\n",
       "      <td>https://www.booking.com/hotel/us/the-arches-wa...</td>\n",
       "      <td>2</td>\n",
       "    </tr>\n",
       "    <tr>\n",
       "      <th>2</th>\n",
       "      <td>11506</td>\n",
       "      <td>Georgia</td>\n",
       "      <td>Sandy Springs</td>\n",
       "      <td>Modern Midtown Oasis</td>\n",
       "      <td>100.0</td>\n",
       "      <td>551.041</td>\n",
       "      <td>https://www.booking.com/hotel/us/modern-midtow...</td>\n",
       "      <td>3</td>\n",
       "    </tr>\n",
       "    <tr>\n",
       "      <th>3</th>\n",
       "      <td>23147</td>\n",
       "      <td>Minnesota</td>\n",
       "      <td>Minneapolis</td>\n",
       "      <td>Welcoming apartment near lakes,shops &amp; restaur...</td>\n",
       "      <td>100.0</td>\n",
       "      <td>354.997</td>\n",
       "      <td>https://www.booking.com/hotel/us/welcoming-apa...</td>\n",
       "      <td>4</td>\n",
       "    </tr>\n",
       "    <tr>\n",
       "      <th>4</th>\n",
       "      <td>43074</td>\n",
       "      <td>Virginia</td>\n",
       "      <td>Fredericksburg</td>\n",
       "      <td>Gilded Carriage Haus with Hot Tub</td>\n",
       "      <td>100.0</td>\n",
       "      <td>1013.284</td>\n",
       "      <td>https://www.booking.com/hotel/us/gilded-carria...</td>\n",
       "      <td>5</td>\n",
       "    </tr>\n",
       "  </tbody>\n",
       "</table>\n",
       "</div>"
      ],
      "text/plain": [
       "   Unnamed: 0       state            city  \\\n",
       "0       30517  New Mexico      Rio Rancho   \n",
       "1       34698    Oklahoma          Edmond   \n",
       "2       11506     Georgia   Sandy Springs   \n",
       "3       23147   Minnesota     Minneapolis   \n",
       "4       43074    Virginia  Fredericksburg   \n",
       "\n",
       "                                                name  avg_score     price  \\\n",
       "0                                The Reynosa Retreat      100.0   317.251   \n",
       "1            The Arches Walk to Western Ave District      100.0   368.373   \n",
       "2                               Modern Midtown Oasis      100.0   551.041   \n",
       "3  Welcoming apartment near lakes,shops & restaur...      100.0   354.997   \n",
       "4                  Gilded Carriage Haus with Hot Tub      100.0  1013.284   \n",
       "\n",
       "                                         reviews_url  hotel_id  \n",
       "0  https://www.booking.com/hotel/us/the-reynosa-r...         1  \n",
       "1  https://www.booking.com/hotel/us/the-arches-wa...         2  \n",
       "2  https://www.booking.com/hotel/us/modern-midtow...         3  \n",
       "3  https://www.booking.com/hotel/us/welcoming-apa...         4  \n",
       "4  https://www.booking.com/hotel/us/gilded-carria...         5  "
      ]
     },
     "execution_count": 30,
     "metadata": {},
     "output_type": "execute_result"
    }
   ],
   "source": [
    "df.head()"
   ]
  },
  {
   "cell_type": "code",
   "execution_count": 40,
   "metadata": {},
   "outputs": [
    {
     "name": "stdout",
     "output_type": "stream",
     "text": [
      "                city                 state  Number of Hotels\n",
      "125         Florence               Alabama               559\n",
      "196             Kent            Washington               510\n",
      "375        St. Cloud             Minnesota               480\n",
      "340        San Diego            California               474\n",
      "408         Waterloo                  Iowa               468\n",
      "15            Athens               Georgia               465\n",
      "167          Houston                 Texas               451\n",
      "202        Lafayette               Indiana               450\n",
      "289             Orem                  Utah               433\n",
      "236          Meriden           Connecticut               433\n",
      "185          Kahului                Hawaii               405\n",
      "274          Norfolk              Nebraska               400\n",
      "120         Fairmont         West Virginia               385\n",
      "413        Westbrook                 Maine               384\n",
      "257     Myrtle Beach        South Carolina               371\n",
      "401          Waldorf              Maryland               352\n",
      "290          Orlando               Florida               349\n",
      "385         Syracuse              New York               348\n",
      "30          Belgrade               Montana               341\n",
      "249           Monroe             Louisiana               340\n",
      "373       St. Albans               Vermont               337\n",
      "226       Manchester         New Hampshire               333\n",
      "304          Phoenix               Arizona               328\n",
      "276           Norman              Oklahoma               318\n",
      "126         Florence              Kentucky               315\n",
      "350          Seaford              Delaware               314\n",
      "70           Chicago              Illinois               284\n",
      "297         Paterson            New Jersey               259\n",
      "363     South Valley            New Mexico               258\n",
      "389         Thornton              Colorado               251\n",
      "426             York          Pennsylvania               240\n",
      "228        Manhattan                Kansas               235\n",
      "116         Evanston               Wyoming               234\n",
      "383    Sunrise Manor                Nevada               200\n",
      "317           Racine             Wisconsin               189\n",
      "234     Meadow Lakes                Alaska               186\n",
      "364        Southaven           Mississippi               158\n",
      "4         Alexandria              Virginia               155\n",
      "66         Charlotte        North Carolina               136\n",
      "403           Warren              Michigan               136\n",
      "405       Washington  District of Columbia               135\n",
      "56            Canton                  Ohio               130\n",
      "235          Memphis             Tennessee               126\n",
      "172     Independence              Missouri                91\n",
      "424        Worcester         Massachusetts                89\n",
      "305           Pierre          South Dakota                79\n",
      "311       Post Falls                 Idaho                68\n",
      "370       Springdale              Arkansas                65\n",
      "108  East Providence          Rhode Island                56\n",
      "410       West Fargo          North Dakota                49\n"
     ]
    }
   ],
   "source": [
    "import pandas as pd\n",
    "\n",
    "# Ruta del archivo CSV\n",
    "file_path = '..\\\\files\\\\data\\\\booking\\\\booking_hotels.csv'\n",
    "\n",
    "# Crear DataFrame\n",
    "df = pd.read_csv(file_path)\n",
    "\n",
    "# Contar el número de hoteles (name) por combinación de ciudad y estado\n",
    "cities_hotels_count = df.groupby(['city', 'state'])['name'].nunique().reset_index()\n",
    "cities_hotels_count.columns = ['city', 'state', 'Number of Hotels']\n",
    "\n",
    "# Encontrar la ciudad con más hoteles por estado\n",
    "top_cities_by_state = cities_hotels_count.sort_values(by='Number of Hotels', ascending=False).drop_duplicates('state')\n",
    "\n",
    "# Mostrar las ciudades con más hoteles por estado\n",
    "print(top_cities_by_state[['city', 'state', 'Number of Hotels']])\n"
   ]
  },
  {
   "cell_type": "code",
   "execution_count": 41,
   "metadata": {},
   "outputs": [
    {
     "data": {
      "application/vnd.plotly.v1+json": {
       "config": {
        "plotlyServerURL": "https://plot.ly"
       },
       "data": [
        {
         "alignmentgroup": "True",
         "hovertemplate": "Number of Hotels=%{text}<br>city_state=%{y}<extra></extra>",
         "insidetextanchor": "start",
         "legendgroup": "",
         "marker": {
          "color": "#000001",
          "pattern": {
           "shape": ""
          }
         },
         "name": "",
         "offsetgroup": "",
         "orientation": "h",
         "showlegend": false,
         "text": [
          559,
          511,
          481,
          474,
          468
         ],
         "textposition": "outside",
         "type": "bar",
         "x": [
          559,
          511,
          481,
          474,
          468
         ],
         "xaxis": "x",
         "y": [
          "Florence, Alabama",
          "Kent, Washington",
          "St. Cloud, Minnesota",
          "San Diego, California",
          "Waterloo, Iowa"
         ],
         "yaxis": "y"
        }
       ],
       "layout": {
        "barmode": "relative",
        "height": 400,
        "legend": {
         "tracegroupgap": 0
        },
        "template": {
         "data": {
          "candlestick": [
           {
            "decreasing": {
             "line": {
              "color": "#000033"
             }
            },
            "increasing": {
             "line": {
              "color": "#000032"
             }
            },
            "type": "candlestick"
           }
          ],
          "contour": [
           {
            "colorscale": [
             [
              0,
              "#000011"
             ],
             [
              0.1111111111111111,
              "#000012"
             ],
             [
              0.2222222222222222,
              "#000013"
             ],
             [
              0.3333333333333333,
              "#000014"
             ],
             [
              0.4444444444444444,
              "#000015"
             ],
             [
              0.5555555555555556,
              "#000016"
             ],
             [
              0.6666666666666666,
              "#000017"
             ],
             [
              0.7777777777777778,
              "#000018"
             ],
             [
              0.8888888888888888,
              "#000019"
             ],
             [
              1,
              "#000020"
             ]
            ],
            "type": "contour"
           }
          ],
          "contourcarpet": [
           {
            "colorscale": [
             [
              0,
              "#000011"
             ],
             [
              0.1111111111111111,
              "#000012"
             ],
             [
              0.2222222222222222,
              "#000013"
             ],
             [
              0.3333333333333333,
              "#000014"
             ],
             [
              0.4444444444444444,
              "#000015"
             ],
             [
              0.5555555555555556,
              "#000016"
             ],
             [
              0.6666666666666666,
              "#000017"
             ],
             [
              0.7777777777777778,
              "#000018"
             ],
             [
              0.8888888888888888,
              "#000019"
             ],
             [
              1,
              "#000020"
             ]
            ],
            "type": "contourcarpet"
           }
          ],
          "heatmap": [
           {
            "colorscale": [
             [
              0,
              "#000011"
             ],
             [
              0.1111111111111111,
              "#000012"
             ],
             [
              0.2222222222222222,
              "#000013"
             ],
             [
              0.3333333333333333,
              "#000014"
             ],
             [
              0.4444444444444444,
              "#000015"
             ],
             [
              0.5555555555555556,
              "#000016"
             ],
             [
              0.6666666666666666,
              "#000017"
             ],
             [
              0.7777777777777778,
              "#000018"
             ],
             [
              0.8888888888888888,
              "#000019"
             ],
             [
              1,
              "#000020"
             ]
            ],
            "type": "heatmap"
           }
          ],
          "histogram2d": [
           {
            "colorscale": [
             [
              0,
              "#000011"
             ],
             [
              0.1111111111111111,
              "#000012"
             ],
             [
              0.2222222222222222,
              "#000013"
             ],
             [
              0.3333333333333333,
              "#000014"
             ],
             [
              0.4444444444444444,
              "#000015"
             ],
             [
              0.5555555555555556,
              "#000016"
             ],
             [
              0.6666666666666666,
              "#000017"
             ],
             [
              0.7777777777777778,
              "#000018"
             ],
             [
              0.8888888888888888,
              "#000019"
             ],
             [
              1,
              "#000020"
             ]
            ],
            "type": "histogram2d"
           }
          ],
          "icicle": [
           {
            "textfont": {
             "color": "white"
            },
            "type": "icicle"
           }
          ],
          "sankey": [
           {
            "textfont": {
             "color": "#000036"
            },
            "type": "sankey"
           }
          ],
          "scatter": [
           {
            "marker": {
             "line": {
              "width": 0
             }
            },
            "type": "scatter"
           }
          ],
          "table": [
           {
            "cells": {
             "fill": {
              "color": "#000038"
             },
             "font": {
              "color": "#000037"
             },
             "line": {
              "color": "#000039"
             }
            },
            "header": {
             "fill": {
              "color": "#000040"
             },
             "font": {
              "color": "#000036"
             },
             "line": {
              "color": "#000039"
             }
            },
            "type": "table"
           }
          ],
          "waterfall": [
           {
            "connector": {
             "line": {
              "color": "#000036",
              "width": 2
             }
            },
            "decreasing": {
             "marker": {
              "color": "#000033"
             }
            },
            "increasing": {
             "marker": {
              "color": "#000032"
             }
            },
            "totals": {
             "marker": {
              "color": "#000034"
             }
            },
            "type": "waterfall"
           }
          ]
         },
         "layout": {
          "coloraxis": {
           "colorscale": [
            [
             0,
             "#000011"
            ],
            [
             0.1111111111111111,
             "#000012"
            ],
            [
             0.2222222222222222,
             "#000013"
            ],
            [
             0.3333333333333333,
             "#000014"
            ],
            [
             0.4444444444444444,
             "#000015"
            ],
            [
             0.5555555555555556,
             "#000016"
            ],
            [
             0.6666666666666666,
             "#000017"
            ],
            [
             0.7777777777777778,
             "#000018"
            ],
            [
             0.8888888888888888,
             "#000019"
            ],
            [
             1,
             "#000020"
            ]
           ]
          },
          "colorscale": {
           "diverging": [
            [
             0,
             "#000021"
            ],
            [
             0.1,
             "#000022"
            ],
            [
             0.2,
             "#000023"
            ],
            [
             0.3,
             "#000024"
            ],
            [
             0.4,
             "#000025"
            ],
            [
             0.5,
             "#000026"
            ],
            [
             0.6,
             "#000027"
            ],
            [
             0.7,
             "#000028"
            ],
            [
             0.8,
             "#000029"
            ],
            [
             0.9,
             "#000030"
            ],
            [
             1,
             "#000031"
            ]
           ],
           "sequential": [
            [
             0,
             "#000011"
            ],
            [
             0.1111111111111111,
             "#000012"
            ],
            [
             0.2222222222222222,
             "#000013"
            ],
            [
             0.3333333333333333,
             "#000014"
            ],
            [
             0.4444444444444444,
             "#000015"
            ],
            [
             0.5555555555555556,
             "#000016"
            ],
            [
             0.6666666666666666,
             "#000017"
            ],
            [
             0.7777777777777778,
             "#000018"
            ],
            [
             0.8888888888888888,
             "#000019"
            ],
            [
             1,
             "#000020"
            ]
           ],
           "sequentialminus": [
            [
             0,
             "#000011"
            ],
            [
             0.1111111111111111,
             "#000012"
            ],
            [
             0.2222222222222222,
             "#000013"
            ],
            [
             0.3333333333333333,
             "#000014"
            ],
            [
             0.4444444444444444,
             "#000015"
            ],
            [
             0.5555555555555556,
             "#000016"
            ],
            [
             0.6666666666666666,
             "#000017"
            ],
            [
             0.7777777777777778,
             "#000018"
            ],
            [
             0.8888888888888888,
             "#000019"
            ],
            [
             1,
             "#000020"
            ]
           ]
          },
          "colorway": [
           "#000001",
           "#000002",
           "#000003",
           "#000004",
           "#000005",
           "#000006",
           "#000007",
           "#000008",
           "#000009",
           "#000010"
          ]
         }
        },
        "title": {
         "text": "Top 5 Cities with Most Hotels"
        },
        "width": 1000,
        "xaxis": {
         "anchor": "y",
         "domain": [
          0,
          1
         ],
         "tickangle": -45,
         "title": {
          "text": "Number of Hotels"
         }
        },
        "yaxis": {
         "anchor": "x",
         "domain": [
          0,
          1
         ],
         "title": {
          "text": "city_state"
         }
        }
       }
      }
     },
     "metadata": {},
     "output_type": "display_data"
    }
   ],
   "source": [
    "import pandas as pd\n",
    "import plotly.express as px\n",
    "\n",
    "# Crear una nueva columna combinando ciudad y estado\n",
    "df['city_state'] = df['city'] + ', ' + df['state']\n",
    "\n",
    "# Contar el número único de hoteles (hotel_id) por combinación de ciudad y estado\n",
    "cities_hotels_count = df.groupby('city_state')['hotel_id'].nunique().reset_index()\n",
    "cities_hotels_count.columns = ['city_state', 'Number of Hotels']\n",
    "\n",
    "# Seleccionar las 5 ciudades con más hoteles\n",
    "top_cities = cities_hotels_count.sort_values(by='Number of Hotels', ascending=False).head(5)\n",
    "\n",
    "# Crear el gráfico de barras horizontales con Plotly Express\n",
    "fig = px.bar(top_cities, x='Number of Hotels', y='city_state', orientation='h',\n",
    "             title='Top 5 Cities with Most Hotels', labels={'Number of Hotels': 'Number of Hotels'},\n",
    "             text='Number of Hotels')  # Mostrar solo el texto a la derecha de las barras\n",
    "\n",
    "# Ajustar el tamaño del gráfico para dar más espacio a los nombres de las ciudades\n",
    "fig.update_layout(width=1000, height=400)\n",
    "\n",
    "# Rotar las etiquetas de las barras para dar más espacio\n",
    "fig.update_layout(xaxis=dict(tickangle=-45))\n",
    "\n",
    "# Configurar la posición del texto\n",
    "fig.update_traces(textposition='outside', insidetextanchor='start')\n",
    "\n",
    "# Mostrar el gráfico\n",
    "fig.show()\n"
   ]
  },
  {
   "cell_type": "code",
   "execution_count": 1,
   "metadata": {},
   "outputs": [],
   "source": [
    "from connect import conn, cursor, obtener_datos, guardar_en_postgres"
   ]
  },
  {
   "cell_type": "code",
   "execution_count": 2,
   "metadata": {},
   "outputs": [],
   "source": [
    "usa_cities = obtener_datos(cursor, \"usa_cities\", \"city\", \"density\")\n",
    "# Cerrar el cursor después de usarlo\n",
    "cursor.close()"
   ]
  },
  {
   "cell_type": "code",
   "execution_count": null,
   "metadata": {},
   "outputs": [
    {
     "data": {
      "text/html": [
       "<div>\n",
       "<style scoped>\n",
       "    .dataframe tbody tr th:only-of-type {\n",
       "        vertical-align: middle;\n",
       "    }\n",
       "\n",
       "    .dataframe tbody tr th {\n",
       "        vertical-align: top;\n",
       "    }\n",
       "\n",
       "    .dataframe thead th {\n",
       "        text-align: right;\n",
       "    }\n",
       "</style>\n",
       "<table border=\"1\" class=\"dataframe\">\n",
       "  <thead>\n",
       "    <tr style=\"text-align: right;\">\n",
       "      <th></th>\n",
       "      <th>city</th>\n",
       "      <th>density</th>\n",
       "    </tr>\n",
       "  </thead>\n",
       "  <tbody>\n",
       "    <tr>\n",
       "      <th>0</th>\n",
       "      <td>New York</td>\n",
       "      <td>11226.2</td>\n",
       "    </tr>\n",
       "    <tr>\n",
       "      <th>1</th>\n",
       "      <td>Los Angeles</td>\n",
       "      <td>3202.3</td>\n",
       "    </tr>\n",
       "    <tr>\n",
       "      <th>2</th>\n",
       "      <td>Chicago</td>\n",
       "      <td>4648.7</td>\n",
       "    </tr>\n",
       "    <tr>\n",
       "      <th>3</th>\n",
       "      <td>Miami</td>\n",
       "      <td>4728.2</td>\n",
       "    </tr>\n",
       "    <tr>\n",
       "      <th>4</th>\n",
       "      <td>Houston</td>\n",
       "      <td>1382.2</td>\n",
       "    </tr>\n",
       "    <tr>\n",
       "      <th>...</th>\n",
       "      <td>...</td>\n",
       "      <td>...</td>\n",
       "    </tr>\n",
       "    <tr>\n",
       "      <th>21823</th>\n",
       "      <td>Monowi</td>\n",
       "      <td>1.8</td>\n",
       "    </tr>\n",
       "    <tr>\n",
       "      <th>21824</th>\n",
       "      <td>Centralia</td>\n",
       "      <td>13.1</td>\n",
       "    </tr>\n",
       "    <tr>\n",
       "      <th>21825</th>\n",
       "      <td>McCarthy</td>\n",
       "      <td>0.0</td>\n",
       "    </tr>\n",
       "    <tr>\n",
       "      <th>21826</th>\n",
       "      <td>Supai</td>\n",
       "      <td>24.3</td>\n",
       "    </tr>\n",
       "    <tr>\n",
       "      <th>21827</th>\n",
       "      <td>Tarrants</td>\n",
       "      <td>47.7</td>\n",
       "    </tr>\n",
       "  </tbody>\n",
       "</table>\n",
       "<p>21828 rows × 2 columns</p>\n",
       "</div>"
      ],
      "text/plain": [
       "              city  density\n",
       "0         New York  11226.2\n",
       "1      Los Angeles   3202.3\n",
       "2          Chicago   4648.7\n",
       "3            Miami   4728.2\n",
       "4          Houston   1382.2\n",
       "...            ...      ...\n",
       "21823       Monowi      1.8\n",
       "21824    Centralia     13.1\n",
       "21825     McCarthy      0.0\n",
       "21826        Supai     24.3\n",
       "21827     Tarrants     47.7\n",
       "\n",
       "[21828 rows x 2 columns]"
      ]
     },
     "execution_count": 3,
     "metadata": {},
     "output_type": "execute_result"
    }
   ],
   "source": [
    "usa_cities"
   ]
  },
  {
   "cell_type": "code",
   "execution_count": 3,
   "metadata": {},
   "outputs": [],
   "source": [
    "ruta_yelp = \"../files/data/yelp/yelp_hotel_reviews.csv\""
   ]
  },
  {
   "cell_type": "code",
   "execution_count": 4,
   "metadata": {},
   "outputs": [],
   "source": [
    "import pandas as pd"
   ]
  },
  {
   "cell_type": "code",
   "execution_count": 5,
   "metadata": {},
   "outputs": [],
   "source": [
    "df_yelp = pd.read_csv(ruta_yelp)"
   ]
  },
  {
   "cell_type": "code",
   "execution_count": 6,
   "metadata": {},
   "outputs": [
    {
     "ename": "UnicodeDecodeError",
     "evalue": "'utf-8' codec can't decode byte 0xe3 in position 161: invalid continuation byte",
     "output_type": "error",
     "traceback": [
      "\u001b[1;31m---------------------------------------------------------------------------\u001b[0m",
      "\u001b[1;31mUnicodeDecodeError\u001b[0m                        Traceback (most recent call last)",
      "\u001b[1;32mc:\\Users\\Leonardo\\Documents\\GitHub\\Soy_Henry\\Proyectos\\PF_DS_YELP\\streamlit\\prueba_grafico.ipynb Célula 13\u001b[0m line \u001b[0;36m5\n\u001b[0;32m      <a href='vscode-notebook-cell:/c%3A/Users/Leonardo/Documents/GitHub/Soy_Henry/Proyectos/PF_DS_YELP/streamlit/prueba_grafico.ipynb#X15sZmlsZQ%3D%3D?line=1'>2</a>\u001b[0m nombre_tabla \u001b[39m=\u001b[39m \u001b[39m'\u001b[39m\u001b[39myelp_hotel_reviews\u001b[39m\u001b[39m'\u001b[39m\n\u001b[0;32m      <a href='vscode-notebook-cell:/c%3A/Users/Leonardo/Documents/GitHub/Soy_Henry/Proyectos/PF_DS_YELP/streamlit/prueba_grafico.ipynb#X15sZmlsZQ%3D%3D?line=3'>4</a>\u001b[0m \u001b[39m# Supongamos que tienes un DataFrame llamado 'df' que quieres enviar a la tabla\u001b[39;00m\n\u001b[1;32m----> <a href='vscode-notebook-cell:/c%3A/Users/Leonardo/Documents/GitHub/Soy_Henry/Proyectos/PF_DS_YELP/streamlit/prueba_grafico.ipynb#X15sZmlsZQ%3D%3D?line=4'>5</a>\u001b[0m guardar_en_postgres(df_yelp, nombre_tabla, conn)\n",
      "File \u001b[1;32mc:\\Users\\Leonardo\\Documents\\GitHub\\Soy_Henry\\Proyectos\\PF_DS_YELP\\streamlit\\connect.py:64\u001b[0m, in \u001b[0;36mguardar_en_postgres\u001b[1;34m(dataframe, tabla, conn)\u001b[0m\n\u001b[0;32m     61\u001b[0m engine \u001b[39m=\u001b[39m create_engine(\u001b[39mf\u001b[39m\u001b[39m'\u001b[39m\u001b[39mpostgresql+psycopg2://\u001b[39m\u001b[39m{\u001b[39;00mconn\u001b[39m.\u001b[39mdsn\u001b[39m}\u001b[39;00m\u001b[39m'\u001b[39m)\n\u001b[0;32m     63\u001b[0m \u001b[39m# Enviar el DataFrame a la tabla\u001b[39;00m\n\u001b[1;32m---> 64\u001b[0m dataframe\u001b[39m.\u001b[39;49mto_sql(tabla, engine, if_exists\u001b[39m=\u001b[39;49m\u001b[39m'\u001b[39;49m\u001b[39mappend\u001b[39;49m\u001b[39m'\u001b[39;49m, index\u001b[39m=\u001b[39;49m\u001b[39mFalse\u001b[39;49;00m)\n",
      "File \u001b[1;32mc:\\Program Files\\Python311\\Lib\\site-packages\\pandas\\util\\_decorators.py:333\u001b[0m, in \u001b[0;36mdeprecate_nonkeyword_arguments.<locals>.decorate.<locals>.wrapper\u001b[1;34m(*args, **kwargs)\u001b[0m\n\u001b[0;32m    327\u001b[0m \u001b[39mif\u001b[39;00m \u001b[39mlen\u001b[39m(args) \u001b[39m>\u001b[39m num_allow_args:\n\u001b[0;32m    328\u001b[0m     warnings\u001b[39m.\u001b[39mwarn(\n\u001b[0;32m    329\u001b[0m         msg\u001b[39m.\u001b[39mformat(arguments\u001b[39m=\u001b[39m_format_argument_list(allow_args)),\n\u001b[0;32m    330\u001b[0m         \u001b[39mFutureWarning\u001b[39;00m,\n\u001b[0;32m    331\u001b[0m         stacklevel\u001b[39m=\u001b[39mfind_stack_level(),\n\u001b[0;32m    332\u001b[0m     )\n\u001b[1;32m--> 333\u001b[0m \u001b[39mreturn\u001b[39;00m func(\u001b[39m*\u001b[39;49margs, \u001b[39m*\u001b[39;49m\u001b[39m*\u001b[39;49mkwargs)\n",
      "File \u001b[1;32mc:\\Program Files\\Python311\\Lib\\site-packages\\pandas\\core\\generic.py:3008\u001b[0m, in \u001b[0;36mNDFrame.to_sql\u001b[1;34m(self, name, con, schema, if_exists, index, index_label, chunksize, dtype, method)\u001b[0m\n\u001b[0;32m   2813\u001b[0m \u001b[39m\u001b[39m\u001b[39m\"\"\"\u001b[39;00m\n\u001b[0;32m   2814\u001b[0m \u001b[39mWrite records stored in a DataFrame to a SQL database.\u001b[39;00m\n\u001b[0;32m   2815\u001b[0m \n\u001b[1;32m   (...)\u001b[0m\n\u001b[0;32m   3004\u001b[0m \u001b[39m[(1,), (None,), (2,)]\u001b[39;00m\n\u001b[0;32m   3005\u001b[0m \u001b[39m\"\"\"\u001b[39;00m  \u001b[39m# noqa: E501\u001b[39;00m\n\u001b[0;32m   3006\u001b[0m \u001b[39mfrom\u001b[39;00m \u001b[39mpandas\u001b[39;00m\u001b[39m.\u001b[39;00m\u001b[39mio\u001b[39;00m \u001b[39mimport\u001b[39;00m sql\n\u001b[1;32m-> 3008\u001b[0m \u001b[39mreturn\u001b[39;00m sql\u001b[39m.\u001b[39;49mto_sql(\n\u001b[0;32m   3009\u001b[0m     \u001b[39mself\u001b[39;49m,\n\u001b[0;32m   3010\u001b[0m     name,\n\u001b[0;32m   3011\u001b[0m     con,\n\u001b[0;32m   3012\u001b[0m     schema\u001b[39m=\u001b[39;49mschema,\n\u001b[0;32m   3013\u001b[0m     if_exists\u001b[39m=\u001b[39;49mif_exists,\n\u001b[0;32m   3014\u001b[0m     index\u001b[39m=\u001b[39;49mindex,\n\u001b[0;32m   3015\u001b[0m     index_label\u001b[39m=\u001b[39;49mindex_label,\n\u001b[0;32m   3016\u001b[0m     chunksize\u001b[39m=\u001b[39;49mchunksize,\n\u001b[0;32m   3017\u001b[0m     dtype\u001b[39m=\u001b[39;49mdtype,\n\u001b[0;32m   3018\u001b[0m     method\u001b[39m=\u001b[39;49mmethod,\n\u001b[0;32m   3019\u001b[0m )\n",
      "File \u001b[1;32mc:\\Program Files\\Python311\\Lib\\site-packages\\pandas\\io\\sql.py:787\u001b[0m, in \u001b[0;36mto_sql\u001b[1;34m(frame, name, con, schema, if_exists, index, index_label, chunksize, dtype, method, engine, **engine_kwargs)\u001b[0m\n\u001b[0;32m    782\u001b[0m \u001b[39melif\u001b[39;00m \u001b[39mnot\u001b[39;00m \u001b[39misinstance\u001b[39m(frame, DataFrame):\n\u001b[0;32m    783\u001b[0m     \u001b[39mraise\u001b[39;00m \u001b[39mNotImplementedError\u001b[39;00m(\n\u001b[0;32m    784\u001b[0m         \u001b[39m\"\u001b[39m\u001b[39m'\u001b[39m\u001b[39mframe\u001b[39m\u001b[39m'\u001b[39m\u001b[39m argument should be either a Series or a DataFrame\u001b[39m\u001b[39m\"\u001b[39m\n\u001b[0;32m    785\u001b[0m     )\n\u001b[1;32m--> 787\u001b[0m \u001b[39mwith\u001b[39;00m pandasSQL_builder(con, schema\u001b[39m=\u001b[39;49mschema, need_transaction\u001b[39m=\u001b[39;49m\u001b[39mTrue\u001b[39;49;00m) \u001b[39mas\u001b[39;00m pandas_sql:\n\u001b[0;32m    788\u001b[0m     \u001b[39mreturn\u001b[39;00m pandas_sql\u001b[39m.\u001b[39mto_sql(\n\u001b[0;32m    789\u001b[0m         frame,\n\u001b[0;32m    790\u001b[0m         name,\n\u001b[1;32m   (...)\u001b[0m\n\u001b[0;32m    799\u001b[0m         \u001b[39m*\u001b[39m\u001b[39m*\u001b[39mengine_kwargs,\n\u001b[0;32m    800\u001b[0m     )\n",
      "File \u001b[1;32mc:\\Program Files\\Python311\\Lib\\site-packages\\pandas\\io\\sql.py:851\u001b[0m, in \u001b[0;36mpandasSQL_builder\u001b[1;34m(con, schema, need_transaction)\u001b[0m\n\u001b[0;32m    848\u001b[0m     \u001b[39mraise\u001b[39;00m \u001b[39mImportError\u001b[39;00m(\u001b[39m\"\u001b[39m\u001b[39mUsing URI string without sqlalchemy installed.\u001b[39m\u001b[39m\"\u001b[39m)\n\u001b[0;32m    850\u001b[0m \u001b[39mif\u001b[39;00m sqlalchemy \u001b[39mis\u001b[39;00m \u001b[39mnot\u001b[39;00m \u001b[39mNone\u001b[39;00m \u001b[39mand\u001b[39;00m \u001b[39misinstance\u001b[39m(con, (\u001b[39mstr\u001b[39m, sqlalchemy\u001b[39m.\u001b[39mengine\u001b[39m.\u001b[39mConnectable)):\n\u001b[1;32m--> 851\u001b[0m     \u001b[39mreturn\u001b[39;00m SQLDatabase(con, schema, need_transaction)\n\u001b[0;32m    853\u001b[0m warnings\u001b[39m.\u001b[39mwarn(\n\u001b[0;32m    854\u001b[0m     \u001b[39m\"\u001b[39m\u001b[39mpandas only supports SQLAlchemy connectable (engine/connection) or \u001b[39m\u001b[39m\"\u001b[39m\n\u001b[0;32m    855\u001b[0m     \u001b[39m\"\u001b[39m\u001b[39mdatabase string URI or sqlite3 DBAPI2 connection. Other DBAPI2 \u001b[39m\u001b[39m\"\u001b[39m\n\u001b[1;32m   (...)\u001b[0m\n\u001b[0;32m    858\u001b[0m     stacklevel\u001b[39m=\u001b[39mfind_stack_level(),\n\u001b[0;32m    859\u001b[0m )\n\u001b[0;32m    860\u001b[0m \u001b[39mreturn\u001b[39;00m SQLiteDatabase(con)\n",
      "File \u001b[1;32mc:\\Program Files\\Python311\\Lib\\site-packages\\pandas\\io\\sql.py:1576\u001b[0m, in \u001b[0;36mSQLDatabase.__init__\u001b[1;34m(self, con, schema, need_transaction)\u001b[0m\n\u001b[0;32m   1574\u001b[0m     \u001b[39mself\u001b[39m\u001b[39m.\u001b[39mexit_stack\u001b[39m.\u001b[39mcallback(con\u001b[39m.\u001b[39mdispose)\n\u001b[0;32m   1575\u001b[0m \u001b[39mif\u001b[39;00m \u001b[39misinstance\u001b[39m(con, Engine):\n\u001b[1;32m-> 1576\u001b[0m     con \u001b[39m=\u001b[39m \u001b[39mself\u001b[39m\u001b[39m.\u001b[39mexit_stack\u001b[39m.\u001b[39menter_context(con\u001b[39m.\u001b[39;49mconnect())\n\u001b[0;32m   1577\u001b[0m \u001b[39mif\u001b[39;00m need_transaction \u001b[39mand\u001b[39;00m \u001b[39mnot\u001b[39;00m con\u001b[39m.\u001b[39min_transaction():\n\u001b[0;32m   1578\u001b[0m     \u001b[39mself\u001b[39m\u001b[39m.\u001b[39mexit_stack\u001b[39m.\u001b[39menter_context(con\u001b[39m.\u001b[39mbegin())\n",
      "File \u001b[1;32mc:\\Program Files\\Python311\\Lib\\site-packages\\sqlalchemy\\engine\\base.py:3264\u001b[0m, in \u001b[0;36mEngine.connect\u001b[1;34m(self)\u001b[0m\n\u001b[0;32m   3241\u001b[0m \u001b[39mdef\u001b[39;00m \u001b[39mconnect\u001b[39m(\u001b[39mself\u001b[39m) \u001b[39m-\u001b[39m\u001b[39m>\u001b[39m Connection:\n\u001b[0;32m   3242\u001b[0m \u001b[39m    \u001b[39m\u001b[39m\"\"\"Return a new :class:`_engine.Connection` object.\u001b[39;00m\n\u001b[0;32m   3243\u001b[0m \n\u001b[0;32m   3244\u001b[0m \u001b[39m    The :class:`_engine.Connection` acts as a Python context manager, so\u001b[39;00m\n\u001b[1;32m   (...)\u001b[0m\n\u001b[0;32m   3261\u001b[0m \n\u001b[0;32m   3262\u001b[0m \u001b[39m    \"\"\"\u001b[39;00m\n\u001b[1;32m-> 3264\u001b[0m     \u001b[39mreturn\u001b[39;00m \u001b[39mself\u001b[39;49m\u001b[39m.\u001b[39;49m_connection_cls(\u001b[39mself\u001b[39;49m)\n",
      "File \u001b[1;32mc:\\Program Files\\Python311\\Lib\\site-packages\\sqlalchemy\\engine\\base.py:145\u001b[0m, in \u001b[0;36mConnection.__init__\u001b[1;34m(self, engine, connection, _has_events, _allow_revalidate, _allow_autobegin)\u001b[0m\n\u001b[0;32m    143\u001b[0m \u001b[39mif\u001b[39;00m connection \u001b[39mis\u001b[39;00m \u001b[39mNone\u001b[39;00m:\n\u001b[0;32m    144\u001b[0m     \u001b[39mtry\u001b[39;00m:\n\u001b[1;32m--> 145\u001b[0m         \u001b[39mself\u001b[39m\u001b[39m.\u001b[39m_dbapi_connection \u001b[39m=\u001b[39m engine\u001b[39m.\u001b[39;49mraw_connection()\n\u001b[0;32m    146\u001b[0m     \u001b[39mexcept\u001b[39;00m dialect\u001b[39m.\u001b[39mloaded_dbapi\u001b[39m.\u001b[39mError \u001b[39mas\u001b[39;00m err:\n\u001b[0;32m    147\u001b[0m         Connection\u001b[39m.\u001b[39m_handle_dbapi_exception_noconnection(\n\u001b[0;32m    148\u001b[0m             err, dialect, engine\n\u001b[0;32m    149\u001b[0m         )\n",
      "File \u001b[1;32mc:\\Program Files\\Python311\\Lib\\site-packages\\sqlalchemy\\engine\\base.py:3288\u001b[0m, in \u001b[0;36mEngine.raw_connection\u001b[1;34m(self)\u001b[0m\n\u001b[0;32m   3266\u001b[0m \u001b[39mdef\u001b[39;00m \u001b[39mraw_connection\u001b[39m(\u001b[39mself\u001b[39m) \u001b[39m-\u001b[39m\u001b[39m>\u001b[39m PoolProxiedConnection:\n\u001b[0;32m   3267\u001b[0m \u001b[39m    \u001b[39m\u001b[39m\"\"\"Return a \"raw\" DBAPI connection from the connection pool.\u001b[39;00m\n\u001b[0;32m   3268\u001b[0m \n\u001b[0;32m   3269\u001b[0m \u001b[39m    The returned object is a proxied version of the DBAPI\u001b[39;00m\n\u001b[1;32m   (...)\u001b[0m\n\u001b[0;32m   3286\u001b[0m \n\u001b[0;32m   3287\u001b[0m \u001b[39m    \"\"\"\u001b[39;00m\n\u001b[1;32m-> 3288\u001b[0m     \u001b[39mreturn\u001b[39;00m \u001b[39mself\u001b[39;49m\u001b[39m.\u001b[39;49mpool\u001b[39m.\u001b[39;49mconnect()\n",
      "File \u001b[1;32mc:\\Program Files\\Python311\\Lib\\site-packages\\sqlalchemy\\pool\\base.py:452\u001b[0m, in \u001b[0;36mPool.connect\u001b[1;34m(self)\u001b[0m\n\u001b[0;32m    444\u001b[0m \u001b[39mdef\u001b[39;00m \u001b[39mconnect\u001b[39m(\u001b[39mself\u001b[39m) \u001b[39m-\u001b[39m\u001b[39m>\u001b[39m PoolProxiedConnection:\n\u001b[0;32m    445\u001b[0m \u001b[39m    \u001b[39m\u001b[39m\"\"\"Return a DBAPI connection from the pool.\u001b[39;00m\n\u001b[0;32m    446\u001b[0m \n\u001b[0;32m    447\u001b[0m \u001b[39m    The connection is instrumented such that when its\u001b[39;00m\n\u001b[1;32m   (...)\u001b[0m\n\u001b[0;32m    450\u001b[0m \n\u001b[0;32m    451\u001b[0m \u001b[39m    \"\"\"\u001b[39;00m\n\u001b[1;32m--> 452\u001b[0m     \u001b[39mreturn\u001b[39;00m _ConnectionFairy\u001b[39m.\u001b[39;49m_checkout(\u001b[39mself\u001b[39;49m)\n",
      "File \u001b[1;32mc:\\Program Files\\Python311\\Lib\\site-packages\\sqlalchemy\\pool\\base.py:1267\u001b[0m, in \u001b[0;36m_ConnectionFairy._checkout\u001b[1;34m(cls, pool, threadconns, fairy)\u001b[0m\n\u001b[0;32m   1259\u001b[0m \u001b[39m@classmethod\u001b[39m\n\u001b[0;32m   1260\u001b[0m \u001b[39mdef\u001b[39;00m \u001b[39m_checkout\u001b[39m(\n\u001b[0;32m   1261\u001b[0m     \u001b[39mcls\u001b[39m,\n\u001b[1;32m   (...)\u001b[0m\n\u001b[0;32m   1264\u001b[0m     fairy: Optional[_ConnectionFairy] \u001b[39m=\u001b[39m \u001b[39mNone\u001b[39;00m,\n\u001b[0;32m   1265\u001b[0m ) \u001b[39m-\u001b[39m\u001b[39m>\u001b[39m _ConnectionFairy:\n\u001b[0;32m   1266\u001b[0m     \u001b[39mif\u001b[39;00m \u001b[39mnot\u001b[39;00m fairy:\n\u001b[1;32m-> 1267\u001b[0m         fairy \u001b[39m=\u001b[39m _ConnectionRecord\u001b[39m.\u001b[39;49mcheckout(pool)\n\u001b[0;32m   1269\u001b[0m         \u001b[39mif\u001b[39;00m threadconns \u001b[39mis\u001b[39;00m \u001b[39mnot\u001b[39;00m \u001b[39mNone\u001b[39;00m:\n\u001b[0;32m   1270\u001b[0m             threadconns\u001b[39m.\u001b[39mcurrent \u001b[39m=\u001b[39m weakref\u001b[39m.\u001b[39mref(fairy)\n",
      "File \u001b[1;32mc:\\Program Files\\Python311\\Lib\\site-packages\\sqlalchemy\\pool\\base.py:716\u001b[0m, in \u001b[0;36m_ConnectionRecord.checkout\u001b[1;34m(cls, pool)\u001b[0m\n\u001b[0;32m    714\u001b[0m     rec \u001b[39m=\u001b[39m cast(_ConnectionRecord, pool\u001b[39m.\u001b[39m_do_get())\n\u001b[0;32m    715\u001b[0m \u001b[39melse\u001b[39;00m:\n\u001b[1;32m--> 716\u001b[0m     rec \u001b[39m=\u001b[39m pool\u001b[39m.\u001b[39;49m_do_get()\n\u001b[0;32m    718\u001b[0m \u001b[39mtry\u001b[39;00m:\n\u001b[0;32m    719\u001b[0m     dbapi_connection \u001b[39m=\u001b[39m rec\u001b[39m.\u001b[39mget_connection()\n",
      "File \u001b[1;32mc:\\Program Files\\Python311\\Lib\\site-packages\\sqlalchemy\\pool\\impl.py:169\u001b[0m, in \u001b[0;36mQueuePool._do_get\u001b[1;34m(self)\u001b[0m\n\u001b[0;32m    167\u001b[0m     \u001b[39mreturn\u001b[39;00m \u001b[39mself\u001b[39m\u001b[39m.\u001b[39m_create_connection()\n\u001b[0;32m    168\u001b[0m \u001b[39mexcept\u001b[39;00m:\n\u001b[1;32m--> 169\u001b[0m     \u001b[39mwith\u001b[39;49;00m util\u001b[39m.\u001b[39;49msafe_reraise():\n\u001b[0;32m    170\u001b[0m         \u001b[39mself\u001b[39;49m\u001b[39m.\u001b[39;49m_dec_overflow()\n\u001b[0;32m    171\u001b[0m     \u001b[39mraise\u001b[39;00m\n",
      "File \u001b[1;32mc:\\Program Files\\Python311\\Lib\\site-packages\\sqlalchemy\\util\\langhelpers.py:146\u001b[0m, in \u001b[0;36msafe_reraise.__exit__\u001b[1;34m(self, type_, value, traceback)\u001b[0m\n\u001b[0;32m    144\u001b[0m     \u001b[39massert\u001b[39;00m exc_value \u001b[39mis\u001b[39;00m \u001b[39mnot\u001b[39;00m \u001b[39mNone\u001b[39;00m\n\u001b[0;32m    145\u001b[0m     \u001b[39mself\u001b[39m\u001b[39m.\u001b[39m_exc_info \u001b[39m=\u001b[39m \u001b[39mNone\u001b[39;00m  \u001b[39m# remove potential circular references\u001b[39;00m\n\u001b[1;32m--> 146\u001b[0m     \u001b[39mraise\u001b[39;00m exc_value\u001b[39m.\u001b[39mwith_traceback(exc_tb)\n\u001b[0;32m    147\u001b[0m \u001b[39melse\u001b[39;00m:\n\u001b[0;32m    148\u001b[0m     \u001b[39mself\u001b[39m\u001b[39m.\u001b[39m_exc_info \u001b[39m=\u001b[39m \u001b[39mNone\u001b[39;00m  \u001b[39m# remove potential circular references\u001b[39;00m\n",
      "File \u001b[1;32mc:\\Program Files\\Python311\\Lib\\site-packages\\sqlalchemy\\pool\\impl.py:167\u001b[0m, in \u001b[0;36mQueuePool._do_get\u001b[1;34m(self)\u001b[0m\n\u001b[0;32m    165\u001b[0m \u001b[39mif\u001b[39;00m \u001b[39mself\u001b[39m\u001b[39m.\u001b[39m_inc_overflow():\n\u001b[0;32m    166\u001b[0m     \u001b[39mtry\u001b[39;00m:\n\u001b[1;32m--> 167\u001b[0m         \u001b[39mreturn\u001b[39;00m \u001b[39mself\u001b[39;49m\u001b[39m.\u001b[39;49m_create_connection()\n\u001b[0;32m    168\u001b[0m     \u001b[39mexcept\u001b[39;00m:\n\u001b[0;32m    169\u001b[0m         \u001b[39mwith\u001b[39;00m util\u001b[39m.\u001b[39msafe_reraise():\n",
      "File \u001b[1;32mc:\\Program Files\\Python311\\Lib\\site-packages\\sqlalchemy\\pool\\base.py:393\u001b[0m, in \u001b[0;36mPool._create_connection\u001b[1;34m(self)\u001b[0m\n\u001b[0;32m    390\u001b[0m \u001b[39mdef\u001b[39;00m \u001b[39m_create_connection\u001b[39m(\u001b[39mself\u001b[39m) \u001b[39m-\u001b[39m\u001b[39m>\u001b[39m ConnectionPoolEntry:\n\u001b[0;32m    391\u001b[0m \u001b[39m    \u001b[39m\u001b[39m\"\"\"Called by subclasses to create a new ConnectionRecord.\"\"\"\u001b[39;00m\n\u001b[1;32m--> 393\u001b[0m     \u001b[39mreturn\u001b[39;00m _ConnectionRecord(\u001b[39mself\u001b[39;49m)\n",
      "File \u001b[1;32mc:\\Program Files\\Python311\\Lib\\site-packages\\sqlalchemy\\pool\\base.py:678\u001b[0m, in \u001b[0;36m_ConnectionRecord.__init__\u001b[1;34m(self, pool, connect)\u001b[0m\n\u001b[0;32m    676\u001b[0m \u001b[39mself\u001b[39m\u001b[39m.\u001b[39m__pool \u001b[39m=\u001b[39m pool\n\u001b[0;32m    677\u001b[0m \u001b[39mif\u001b[39;00m connect:\n\u001b[1;32m--> 678\u001b[0m     \u001b[39mself\u001b[39;49m\u001b[39m.\u001b[39;49m__connect()\n\u001b[0;32m    679\u001b[0m \u001b[39mself\u001b[39m\u001b[39m.\u001b[39mfinalize_callback \u001b[39m=\u001b[39m deque()\n",
      "File \u001b[1;32mc:\\Program Files\\Python311\\Lib\\site-packages\\sqlalchemy\\pool\\base.py:902\u001b[0m, in \u001b[0;36m_ConnectionRecord.__connect\u001b[1;34m(self)\u001b[0m\n\u001b[0;32m    900\u001b[0m     \u001b[39mself\u001b[39m\u001b[39m.\u001b[39mfresh \u001b[39m=\u001b[39m \u001b[39mTrue\u001b[39;00m\n\u001b[0;32m    901\u001b[0m \u001b[39mexcept\u001b[39;00m \u001b[39mBaseException\u001b[39;00m \u001b[39mas\u001b[39;00m e:\n\u001b[1;32m--> 902\u001b[0m     \u001b[39mwith\u001b[39;49;00m util\u001b[39m.\u001b[39;49msafe_reraise():\n\u001b[0;32m    903\u001b[0m         pool\u001b[39m.\u001b[39;49mlogger\u001b[39m.\u001b[39;49mdebug(\u001b[39m\"\u001b[39;49m\u001b[39mError on connect(): \u001b[39;49m\u001b[39m%s\u001b[39;49;00m\u001b[39m\"\u001b[39;49m, e)\n\u001b[0;32m    904\u001b[0m \u001b[39melse\u001b[39;00m:\n\u001b[0;32m    905\u001b[0m     \u001b[39m# in SQLAlchemy 1.4 the first_connect event is not used by\u001b[39;00m\n\u001b[0;32m    906\u001b[0m     \u001b[39m# the engine, so this will usually not be set\u001b[39;00m\n",
      "File \u001b[1;32mc:\\Program Files\\Python311\\Lib\\site-packages\\sqlalchemy\\util\\langhelpers.py:146\u001b[0m, in \u001b[0;36msafe_reraise.__exit__\u001b[1;34m(self, type_, value, traceback)\u001b[0m\n\u001b[0;32m    144\u001b[0m     \u001b[39massert\u001b[39;00m exc_value \u001b[39mis\u001b[39;00m \u001b[39mnot\u001b[39;00m \u001b[39mNone\u001b[39;00m\n\u001b[0;32m    145\u001b[0m     \u001b[39mself\u001b[39m\u001b[39m.\u001b[39m_exc_info \u001b[39m=\u001b[39m \u001b[39mNone\u001b[39;00m  \u001b[39m# remove potential circular references\u001b[39;00m\n\u001b[1;32m--> 146\u001b[0m     \u001b[39mraise\u001b[39;00m exc_value\u001b[39m.\u001b[39mwith_traceback(exc_tb)\n\u001b[0;32m    147\u001b[0m \u001b[39melse\u001b[39;00m:\n\u001b[0;32m    148\u001b[0m     \u001b[39mself\u001b[39m\u001b[39m.\u001b[39m_exc_info \u001b[39m=\u001b[39m \u001b[39mNone\u001b[39;00m  \u001b[39m# remove potential circular references\u001b[39;00m\n",
      "File \u001b[1;32mc:\\Program Files\\Python311\\Lib\\site-packages\\sqlalchemy\\pool\\base.py:898\u001b[0m, in \u001b[0;36m_ConnectionRecord.__connect\u001b[1;34m(self)\u001b[0m\n\u001b[0;32m    896\u001b[0m \u001b[39mtry\u001b[39;00m:\n\u001b[0;32m    897\u001b[0m     \u001b[39mself\u001b[39m\u001b[39m.\u001b[39mstarttime \u001b[39m=\u001b[39m time\u001b[39m.\u001b[39mtime()\n\u001b[1;32m--> 898\u001b[0m     \u001b[39mself\u001b[39m\u001b[39m.\u001b[39mdbapi_connection \u001b[39m=\u001b[39m connection \u001b[39m=\u001b[39m pool\u001b[39m.\u001b[39;49m_invoke_creator(\u001b[39mself\u001b[39;49m)\n\u001b[0;32m    899\u001b[0m     pool\u001b[39m.\u001b[39mlogger\u001b[39m.\u001b[39mdebug(\u001b[39m\"\u001b[39m\u001b[39mCreated new connection \u001b[39m\u001b[39m%r\u001b[39;00m\u001b[39m\"\u001b[39m, connection)\n\u001b[0;32m    900\u001b[0m     \u001b[39mself\u001b[39m\u001b[39m.\u001b[39mfresh \u001b[39m=\u001b[39m \u001b[39mTrue\u001b[39;00m\n",
      "File \u001b[1;32mc:\\Program Files\\Python311\\Lib\\site-packages\\sqlalchemy\\engine\\create.py:637\u001b[0m, in \u001b[0;36mcreate_engine.<locals>.connect\u001b[1;34m(connection_record)\u001b[0m\n\u001b[0;32m    634\u001b[0m         \u001b[39mif\u001b[39;00m connection \u001b[39mis\u001b[39;00m \u001b[39mnot\u001b[39;00m \u001b[39mNone\u001b[39;00m:\n\u001b[0;32m    635\u001b[0m             \u001b[39mreturn\u001b[39;00m connection\n\u001b[1;32m--> 637\u001b[0m \u001b[39mreturn\u001b[39;00m dialect\u001b[39m.\u001b[39;49mconnect(\u001b[39m*\u001b[39;49mcargs, \u001b[39m*\u001b[39;49m\u001b[39m*\u001b[39;49mcparams)\n",
      "File \u001b[1;32mc:\\Program Files\\Python311\\Lib\\site-packages\\sqlalchemy\\engine\\default.py:615\u001b[0m, in \u001b[0;36mDefaultDialect.connect\u001b[1;34m(self, *cargs, **cparams)\u001b[0m\n\u001b[0;32m    613\u001b[0m \u001b[39mdef\u001b[39;00m \u001b[39mconnect\u001b[39m(\u001b[39mself\u001b[39m, \u001b[39m*\u001b[39mcargs, \u001b[39m*\u001b[39m\u001b[39m*\u001b[39mcparams):\n\u001b[0;32m    614\u001b[0m     \u001b[39m# inherits the docstring from interfaces.Dialect.connect\u001b[39;00m\n\u001b[1;32m--> 615\u001b[0m     \u001b[39mreturn\u001b[39;00m \u001b[39mself\u001b[39;49m\u001b[39m.\u001b[39;49mloaded_dbapi\u001b[39m.\u001b[39;49mconnect(\u001b[39m*\u001b[39;49mcargs, \u001b[39m*\u001b[39;49m\u001b[39m*\u001b[39;49mcparams)\n",
      "File \u001b[1;32m~\\AppData\\Roaming\\Python\\Python311\\site-packages\\psycopg2\\__init__.py:122\u001b[0m, in \u001b[0;36mconnect\u001b[1;34m(dsn, connection_factory, cursor_factory, **kwargs)\u001b[0m\n\u001b[0;32m    119\u001b[0m     kwasync[\u001b[39m'\u001b[39m\u001b[39masync_\u001b[39m\u001b[39m'\u001b[39m] \u001b[39m=\u001b[39m kwargs\u001b[39m.\u001b[39mpop(\u001b[39m'\u001b[39m\u001b[39masync_\u001b[39m\u001b[39m'\u001b[39m)\n\u001b[0;32m    121\u001b[0m dsn \u001b[39m=\u001b[39m _ext\u001b[39m.\u001b[39mmake_dsn(dsn, \u001b[39m*\u001b[39m\u001b[39m*\u001b[39mkwargs)\n\u001b[1;32m--> 122\u001b[0m conn \u001b[39m=\u001b[39m _connect(dsn, connection_factory\u001b[39m=\u001b[39;49mconnection_factory, \u001b[39m*\u001b[39;49m\u001b[39m*\u001b[39;49mkwasync)\n\u001b[0;32m    123\u001b[0m \u001b[39mif\u001b[39;00m cursor_factory \u001b[39mis\u001b[39;00m \u001b[39mnot\u001b[39;00m \u001b[39mNone\u001b[39;00m:\n\u001b[0;32m    124\u001b[0m     conn\u001b[39m.\u001b[39mcursor_factory \u001b[39m=\u001b[39m cursor_factory\n",
      "\u001b[1;31mUnicodeDecodeError\u001b[0m: 'utf-8' codec can't decode byte 0xe3 in position 161: invalid continuation byte"
     ]
    }
   ],
   "source": [
    "# Uso de la función (sustituye con tus propios datos)\n",
    "nombre_tabla = 'yelp_hotel_reviews'\n",
    "\n",
    "# Supongamos que tienes un DataFrame llamado 'df' que quieres enviar a la tabla\n",
    "guardar_en_postgres(df_yelp, nombre_tabla, conn)"
   ]
  },
  {
   "cell_type": "code",
   "execution_count": 42,
   "metadata": {},
   "outputs": [],
   "source": [
    "ruta_yelp = \"../files/data/booking/california_hotels.csv\""
   ]
  },
  {
   "cell_type": "code",
   "execution_count": 43,
   "metadata": {},
   "outputs": [],
   "source": [
    "import pandas as pd"
   ]
  },
  {
   "cell_type": "code",
   "execution_count": 44,
   "metadata": {},
   "outputs": [],
   "source": [
    "df = pd.read_csv(ruta_yelp)"
   ]
  },
  {
   "cell_type": "code",
   "execution_count": 45,
   "metadata": {},
   "outputs": [
    {
     "data": {
      "text/html": [
       "<div>\n",
       "<style scoped>\n",
       "    .dataframe tbody tr th:only-of-type {\n",
       "        vertical-align: middle;\n",
       "    }\n",
       "\n",
       "    .dataframe tbody tr th {\n",
       "        vertical-align: top;\n",
       "    }\n",
       "\n",
       "    .dataframe thead th {\n",
       "        text-align: right;\n",
       "    }\n",
       "</style>\n",
       "<table border=\"1\" class=\"dataframe\">\n",
       "  <thead>\n",
       "    <tr style=\"text-align: right;\">\n",
       "      <th></th>\n",
       "      <th>Unnamed: 0</th>\n",
       "      <th>state</th>\n",
       "      <th>city</th>\n",
       "      <th>name</th>\n",
       "      <th>avg_score</th>\n",
       "      <th>price</th>\n",
       "      <th>stars</th>\n",
       "      <th>reviews_url</th>\n",
       "      <th>attributes</th>\n",
       "      <th>latitude</th>\n",
       "      <th>longitude</th>\n",
       "      <th>Personal</th>\n",
       "      <th>Instalaciones y servicios</th>\n",
       "      <th>Limpieza</th>\n",
       "      <th>Confort</th>\n",
       "      <th>Relación calidad-precio</th>\n",
       "      <th>Ubicación</th>\n",
       "      <th>WiFi Gratis</th>\n",
       "    </tr>\n",
       "  </thead>\n",
       "  <tbody>\n",
       "    <tr>\n",
       "      <th>0</th>\n",
       "      <td>1</td>\n",
       "      <td>California</td>\n",
       "      <td>Los Angeles</td>\n",
       "      <td>W Hollywood</td>\n",
       "      <td>73.0</td>\n",
       "      <td>849.752</td>\n",
       "      <td>4.0</td>\n",
       "      <td>https://www.booking.com/hotel/us/w-hollywood.e...</td>\n",
       "      <td>['Habitaciones sin humo', '4 restaurantes', 'W...</td>\n",
       "      <td>34.100794</td>\n",
       "      <td>-118.325906</td>\n",
       "      <td>9.4</td>\n",
       "      <td>8.5</td>\n",
       "      <td>9.0</td>\n",
       "      <td>9.0</td>\n",
       "      <td>8.5</td>\n",
       "      <td>9.2</td>\n",
       "      <td>9.1</td>\n",
       "    </tr>\n",
       "    <tr>\n",
       "      <th>1</th>\n",
       "      <td>2</td>\n",
       "      <td>California</td>\n",
       "      <td>Los Angeles</td>\n",
       "      <td>Park Plaza Lodge</td>\n",
       "      <td>86.0</td>\n",
       "      <td>466.927</td>\n",
       "      <td>3.0</td>\n",
       "      <td>https://www.booking.com/hotel/us/park-plaza-lo...</td>\n",
       "      <td>['Restaurante', 'Parking gratis', 'Tetera/cafe...</td>\n",
       "      <td>34.070129</td>\n",
       "      <td>-118.351360</td>\n",
       "      <td>8.7</td>\n",
       "      <td>8.2</td>\n",
       "      <td>8.5</td>\n",
       "      <td>8.6</td>\n",
       "      <td>7.2</td>\n",
       "      <td>8.6</td>\n",
       "      <td>8.5</td>\n",
       "    </tr>\n",
       "    <tr>\n",
       "      <th>2</th>\n",
       "      <td>3</td>\n",
       "      <td>California</td>\n",
       "      <td>Los Angeles</td>\n",
       "      <td>Moxy Downtown Los Angeles</td>\n",
       "      <td>79.0</td>\n",
       "      <td>904.364</td>\n",
       "      <td>4.0</td>\n",
       "      <td>https://www.booking.com/hotel/us/moxy-downtown...</td>\n",
       "      <td>['WiFi gratis', 'Desayuno', 'Terraza', 'Parkin...</td>\n",
       "      <td>34.041151</td>\n",
       "      <td>-118.267341</td>\n",
       "      <td>9.0</td>\n",
       "      <td>9.0</td>\n",
       "      <td>9.1</td>\n",
       "      <td>9.0</td>\n",
       "      <td>8.8</td>\n",
       "      <td>9.0</td>\n",
       "      <td>9.2</td>\n",
       "    </tr>\n",
       "    <tr>\n",
       "      <th>3</th>\n",
       "      <td>4</td>\n",
       "      <td>California</td>\n",
       "      <td>Los Angeles</td>\n",
       "      <td>Hollywood Homes minutes to everything SPACIOUS...</td>\n",
       "      <td>88.0</td>\n",
       "      <td>463.104</td>\n",
       "      <td>4.0</td>\n",
       "      <td>https://www.booking.com/hotel/us/hollywood-cos...</td>\n",
       "      <td>['Habitaciones familiares', 'Aire acondicionad...</td>\n",
       "      <td>34.086662</td>\n",
       "      <td>-118.314868</td>\n",
       "      <td>8.1</td>\n",
       "      <td>7.2</td>\n",
       "      <td>7.7</td>\n",
       "      <td>7.7</td>\n",
       "      <td>7.0</td>\n",
       "      <td>8.4</td>\n",
       "      <td>8.3</td>\n",
       "    </tr>\n",
       "    <tr>\n",
       "      <th>4</th>\n",
       "      <td>5</td>\n",
       "      <td>California</td>\n",
       "      <td>Los Angeles</td>\n",
       "      <td>Best Western Hollywood Plaza Inn Hotel - Holly...</td>\n",
       "      <td>72.0</td>\n",
       "      <td>390.267</td>\n",
       "      <td>3.0</td>\n",
       "      <td>https://www.booking.com/hotel/us/best-western-...</td>\n",
       "      <td>['Habitaciones sin humo', 'Restaurante', 'Adap...</td>\n",
       "      <td>34.107181</td>\n",
       "      <td>-118.337637</td>\n",
       "      <td>8.3</td>\n",
       "      <td>8.4</td>\n",
       "      <td>8.7</td>\n",
       "      <td>8.8</td>\n",
       "      <td>7.6</td>\n",
       "      <td>8.5</td>\n",
       "      <td>8.6</td>\n",
       "    </tr>\n",
       "  </tbody>\n",
       "</table>\n",
       "</div>"
      ],
      "text/plain": [
       "   Unnamed: 0       state         city  \\\n",
       "0           1  California  Los Angeles   \n",
       "1           2  California  Los Angeles   \n",
       "2           3  California  Los Angeles   \n",
       "3           4  California  Los Angeles   \n",
       "4           5  California  Los Angeles   \n",
       "\n",
       "                                                name  avg_score    price  \\\n",
       "0                                        W Hollywood       73.0  849.752   \n",
       "1                                   Park Plaza Lodge       86.0  466.927   \n",
       "2                          Moxy Downtown Los Angeles       79.0  904.364   \n",
       "3  Hollywood Homes minutes to everything SPACIOUS...       88.0  463.104   \n",
       "4  Best Western Hollywood Plaza Inn Hotel - Holly...       72.0  390.267   \n",
       "\n",
       "   stars                                        reviews_url  \\\n",
       "0    4.0  https://www.booking.com/hotel/us/w-hollywood.e...   \n",
       "1    3.0  https://www.booking.com/hotel/us/park-plaza-lo...   \n",
       "2    4.0  https://www.booking.com/hotel/us/moxy-downtown...   \n",
       "3    4.0  https://www.booking.com/hotel/us/hollywood-cos...   \n",
       "4    3.0  https://www.booking.com/hotel/us/best-western-...   \n",
       "\n",
       "                                          attributes   latitude   longitude  \\\n",
       "0  ['Habitaciones sin humo', '4 restaurantes', 'W...  34.100794 -118.325906   \n",
       "1  ['Restaurante', 'Parking gratis', 'Tetera/cafe...  34.070129 -118.351360   \n",
       "2  ['WiFi gratis', 'Desayuno', 'Terraza', 'Parkin...  34.041151 -118.267341   \n",
       "3  ['Habitaciones familiares', 'Aire acondicionad...  34.086662 -118.314868   \n",
       "4  ['Habitaciones sin humo', 'Restaurante', 'Adap...  34.107181 -118.337637   \n",
       "\n",
       "   Personal  Instalaciones y servicios  Limpieza  Confort  \\\n",
       "0       9.4                        8.5       9.0      9.0   \n",
       "1       8.7                        8.2       8.5      8.6   \n",
       "2       9.0                        9.0       9.1      9.0   \n",
       "3       8.1                        7.2       7.7      7.7   \n",
       "4       8.3                        8.4       8.7      8.8   \n",
       "\n",
       "   Relación calidad-precio  Ubicación  WiFi Gratis  \n",
       "0                      8.5        9.2          9.1  \n",
       "1                      7.2        8.6          8.5  \n",
       "2                      8.8        9.0          9.2  \n",
       "3                      7.0        8.4          8.3  \n",
       "4                      7.6        8.5          8.6  "
      ]
     },
     "execution_count": 45,
     "metadata": {},
     "output_type": "execute_result"
    }
   ],
   "source": [
    "df.head()"
   ]
  },
  {
   "cell_type": "code",
   "execution_count": 46,
   "metadata": {},
   "outputs": [
    {
     "name": "stdout",
     "output_type": "stream",
     "text": [
      "Información general del DataFrame:\n",
      "<class 'pandas.core.frame.DataFrame'>\n",
      "RangeIndex: 1170 entries, 0 to 1169\n",
      "Data columns (total 18 columns):\n",
      " #   Column                     Non-Null Count  Dtype  \n",
      "---  ------                     --------------  -----  \n",
      " 0   Unnamed: 0                 1170 non-null   int64  \n",
      " 1   state                      1170 non-null   object \n",
      " 2   city                       1170 non-null   object \n",
      " 3   name                       1170 non-null   object \n",
      " 4   avg_score                  1170 non-null   float64\n",
      " 5   price                      1170 non-null   float64\n",
      " 6   stars                      1170 non-null   float64\n",
      " 7   reviews_url                1170 non-null   object \n",
      " 8   attributes                 1170 non-null   object \n",
      " 9   latitude                   1170 non-null   float64\n",
      " 10  longitude                  1170 non-null   float64\n",
      " 11  Personal                   1022 non-null   float64\n",
      " 12  Instalaciones y servicios  1022 non-null   float64\n",
      " 13  Limpieza                   1022 non-null   float64\n",
      " 14  Confort                    1022 non-null   float64\n",
      " 15  Relación calidad-precio    1022 non-null   float64\n",
      " 16  Ubicación                  1018 non-null   float64\n",
      " 17  WiFi Gratis                667 non-null    float64\n",
      "dtypes: float64(12), int64(1), object(5)\n",
      "memory usage: 164.7+ KB\n"
     ]
    }
   ],
   "source": [
    "# Mostrar información general sobre el DataFrame\n",
    "print(\"Información general del DataFrame:\")\n",
    "df.info()\n"
   ]
  },
  {
   "cell_type": "code",
   "execution_count": 47,
   "metadata": {},
   "outputs": [
    {
     "name": "stdout",
     "output_type": "stream",
     "text": [
      "\n",
      "Tamaño máximo de las columnas:\n",
      "Unnamed: 0                      4\n",
      "state                          10\n",
      "city                           13\n",
      "name                           95\n",
      "avg_score                       5\n",
      "price                           8\n",
      "stars                           3\n",
      "reviews_url                  4696\n",
      "attributes                    346\n",
      "latitude                       12\n",
      "longitude                      13\n",
      "Personal                        4\n",
      "Instalaciones y servicios       4\n",
      "Limpieza                        4\n",
      "Confort                         4\n",
      "Relación calidad-precio         4\n",
      "Ubicación                       4\n",
      "WiFi Gratis                     4\n",
      "dtype: int64\n"
     ]
    }
   ],
   "source": [
    "\n",
    "# Mostrar el tamaño máximo de cada columna\n",
    "print(\"\\nTamaño máximo de las columnas:\")\n",
    "print(df.apply(lambda x: x.astype(str).str.len().max()))"
   ]
  },
  {
   "cell_type": "code",
   "execution_count": 48,
   "metadata": {},
   "outputs": [
    {
     "name": "stdout",
     "output_type": "stream",
     "text": [
      "\n",
      "Tipos de datos de las columnas:\n",
      "Unnamed: 0                     int64\n",
      "state                         object\n",
      "city                          object\n",
      "name                          object\n",
      "avg_score                    float64\n",
      "price                        float64\n",
      "stars                        float64\n",
      "reviews_url                   object\n",
      "attributes                    object\n",
      "latitude                     float64\n",
      "longitude                    float64\n",
      "Personal                     float64\n",
      "Instalaciones y servicios    float64\n",
      "Limpieza                     float64\n",
      "Confort                      float64\n",
      "Relación calidad-precio      float64\n",
      "Ubicación                    float64\n",
      "WiFi Gratis                  float64\n",
      "dtype: object\n"
     ]
    }
   ],
   "source": [
    "# Mostrar los tipos de datos de cada columna\n",
    "print(\"\\nTipos de datos de las columnas:\")\n",
    "print(df.dtypes)"
   ]
  },
  {
   "cell_type": "code",
   "execution_count": 49,
   "metadata": {},
   "outputs": [
    {
     "name": "stderr",
     "output_type": "stream",
     "text": [
      "C:\\Users\\Leonardo\\AppData\\Local\\Temp\\ipykernel_13816\\461741490.py:2: FutureWarning: DataFrame.applymap has been deprecated. Use DataFrame.map instead.\n",
      "  max_lengths = df.applymap(lambda x: len(str(x))).max()\n"
     ]
    },
    {
     "name": "stdout",
     "output_type": "stream",
     "text": [
      "Tamaño máximo de las columnas (en caracteres):\n",
      "Unnamed: 0                      4\n",
      "state                          10\n",
      "city                           13\n",
      "name                           95\n",
      "avg_score                       5\n",
      "price                           8\n",
      "stars                           3\n",
      "reviews_url                  4696\n",
      "attributes                    346\n",
      "latitude                       12\n",
      "longitude                      13\n",
      "Personal                        4\n",
      "Instalaciones y servicios       4\n",
      "Limpieza                        4\n",
      "Confort                         4\n",
      "Relación calidad-precio         4\n",
      "Ubicación                       4\n",
      "WiFi Gratis                     4\n",
      "dtype: int64\n"
     ]
    }
   ],
   "source": [
    "# Mostrar el tamaño máximo de cada columna en términos de cantidad de caracteres\n",
    "max_lengths = df.applymap(lambda x: len(str(x))).max()\n",
    "print(\"Tamaño máximo de las columnas (en caracteres):\")\n",
    "print(max_lengths)"
   ]
  }
 ],
 "metadata": {
  "kernelspec": {
   "display_name": "Python 3",
   "language": "python",
   "name": "python3"
  },
  "language_info": {
   "codemirror_mode": {
    "name": "ipython",
    "version": 3
   },
   "file_extension": ".py",
   "mimetype": "text/x-python",
   "name": "python",
   "nbconvert_exporter": "python",
   "pygments_lexer": "ipython3",
   "version": "3.11.5"
  },
  "orig_nbformat": 4
 },
 "nbformat": 4,
 "nbformat_minor": 2
}
