{
 "cells": [
  {
   "cell_type": "markdown",
   "metadata": {},
   "source": [
    "#### ATTRACTIONS EXTRACTION PROCESS"
   ]
  },
  {
   "cell_type": "markdown",
   "metadata": {},
   "source": [
    "This notebook was used to execute manually the scripts to scrape all of the usa most popular touristic attractions.\n",
    "\n",
    "From the scrapping.py file we import scrape_state_attractions, this function takes a state and the corresponding url and returns a pandas dataframe with each state's touristic attractions:\n",
    "\n",
    "- attributes\n",
    "- scores\n",
    "\n",
    "The data was scrapped from the [Tripadvisor.com](https://www.tripadvisor.com.ar/) web, from a page like this: [tripadvisor/attractions/california/.com](https://www.tripadvisor.com.ar/Attractions-g28926-Activities-oa0-California.html)."
   ]
  },
  {
   "cell_type": "code",
   "execution_count": 1,
   "metadata": {},
   "outputs": [],
   "source": [
    "import scrapping\n",
    "import pandas as pd\n",
    "\n",
    "usa_cities = pd.read_csv(\"../files/data/usa_cities.csv\")\n",
    "usa_states = pd.read_csv(\"../files/data/usa_states.csv\")"
   ]
  },
  {
   "cell_type": "markdown",
   "metadata": {},
   "source": [
    "WEST - Pacific"
   ]
  },
  {
   "cell_type": "code",
   "execution_count": 2,
   "metadata": {},
   "outputs": [
    {
     "data": {
      "text/html": [
       "<div>\n",
       "<style scoped>\n",
       "    .dataframe tbody tr th:only-of-type {\n",
       "        vertical-align: middle;\n",
       "    }\n",
       "\n",
       "    .dataframe tbody tr th {\n",
       "        vertical-align: top;\n",
       "    }\n",
       "\n",
       "    .dataframe thead th {\n",
       "        text-align: right;\n",
       "    }\n",
       "</style>\n",
       "<table border=\"1\" class=\"dataframe\">\n",
       "  <thead>\n",
       "    <tr style=\"text-align: right;\">\n",
       "      <th></th>\n",
       "      <th>state_id</th>\n",
       "      <th>attraction</th>\n",
       "      <th>categories</th>\n",
       "      <th>reviews_url</th>\n",
       "      <th>region</th>\n",
       "    </tr>\n",
       "  </thead>\n",
       "  <tbody>\n",
       "    <tr>\n",
       "      <th>0</th>\n",
       "      <td>AK</td>\n",
       "      <td>Mendenhall Glacier Visitor Center</td>\n",
       "      <td>Centros de información turística, Formaciones ...</td>\n",
       "      <td>https://www.tripadvisor.com.ar/Attraction_Revi...</td>\n",
       "      <td>West Pacific</td>\n",
       "    </tr>\n",
       "    <tr>\n",
       "      <th>1</th>\n",
       "      <td>AK</td>\n",
       "      <td>Fountainhead Antique Auto Museum</td>\n",
       "      <td>Museos especializados</td>\n",
       "      <td>https://www.tripadvisor.com.ar/Attraction_Revi...</td>\n",
       "      <td>West Pacific</td>\n",
       "    </tr>\n",
       "    <tr>\n",
       "      <th>2</th>\n",
       "      <td>AK</td>\n",
       "      <td>Tracy Arm Fjord</td>\n",
       "      <td>Masas de agua</td>\n",
       "      <td>https://www.tripadvisor.com.ar/Attraction_Revi...</td>\n",
       "      <td>West Pacific</td>\n",
       "    </tr>\n",
       "    <tr>\n",
       "      <th>3</th>\n",
       "      <td>AK</td>\n",
       "      <td>Alaska Wildlife Conservation Center</td>\n",
       "      <td>Áreas de naturaleza y vida silvestre</td>\n",
       "      <td>https://www.tripadvisor.com.ar/Attraction_Revi...</td>\n",
       "      <td>West Pacific</td>\n",
       "    </tr>\n",
       "    <tr>\n",
       "      <th>4</th>\n",
       "      <td>AK</td>\n",
       "      <td>Denali</td>\n",
       "      <td>Montañas</td>\n",
       "      <td>https://www.tripadvisor.com.ar/Attraction_Revi...</td>\n",
       "      <td>West Pacific</td>\n",
       "    </tr>\n",
       "    <tr>\n",
       "      <th>...</th>\n",
       "      <td>...</td>\n",
       "      <td>...</td>\n",
       "      <td>...</td>\n",
       "      <td>...</td>\n",
       "      <td>...</td>\n",
       "    </tr>\n",
       "    <tr>\n",
       "      <th>165</th>\n",
       "      <td>WA</td>\n",
       "      <td>Space Needle</td>\n",
       "      <td>Monumentos y lugares de interés, Torres y obse...</td>\n",
       "      <td>https://www.tripadvisor.com.ar/Attraction_Revi...</td>\n",
       "      <td>West Pacific</td>\n",
       "    </tr>\n",
       "    <tr>\n",
       "      <th>166</th>\n",
       "      <td>WA</td>\n",
       "      <td>Marymere Falls</td>\n",
       "      <td>Cascadas</td>\n",
       "      <td>https://www.tripadvisor.com.ar/Attraction_Revi...</td>\n",
       "      <td>West Pacific</td>\n",
       "    </tr>\n",
       "    <tr>\n",
       "      <th>167</th>\n",
       "      <td>WA</td>\n",
       "      <td>Alki Beach</td>\n",
       "      <td>Playas</td>\n",
       "      <td>https://www.tripadvisor.com.ar/Attraction_Revi...</td>\n",
       "      <td>West Pacific</td>\n",
       "    </tr>\n",
       "    <tr>\n",
       "      <th>168</th>\n",
       "      <td>WA</td>\n",
       "      <td>Mount St. Helens</td>\n",
       "      <td>Montañas, Volcanes</td>\n",
       "      <td>https://www.tripadvisor.com.ar/Attraction_Revi...</td>\n",
       "      <td>West Pacific</td>\n",
       "    </tr>\n",
       "    <tr>\n",
       "      <th>169</th>\n",
       "      <td>WA</td>\n",
       "      <td>Bill &amp; Melinda Gates Foundation Discovery Center</td>\n",
       "      <td>Museos especializados</td>\n",
       "      <td>https://www.tripadvisor.com.ar/Attraction_Revi...</td>\n",
       "      <td>West Pacific</td>\n",
       "    </tr>\n",
       "  </tbody>\n",
       "</table>\n",
       "<p>170 rows × 5 columns</p>\n",
       "</div>"
      ],
      "text/plain": [
       "    state_id                                        attraction  \\\n",
       "0         AK                 Mendenhall Glacier Visitor Center   \n",
       "1         AK                  Fountainhead Antique Auto Museum   \n",
       "2         AK                                   Tracy Arm Fjord   \n",
       "3         AK               Alaska Wildlife Conservation Center   \n",
       "4         AK                                            Denali   \n",
       "..       ...                                               ...   \n",
       "165       WA                                      Space Needle   \n",
       "166       WA                                    Marymere Falls   \n",
       "167       WA                                        Alki Beach   \n",
       "168       WA                                  Mount St. Helens   \n",
       "169       WA  Bill & Melinda Gates Foundation Discovery Center   \n",
       "\n",
       "                                            categories  \\\n",
       "0    Centros de información turística, Formaciones ...   \n",
       "1                                Museos especializados   \n",
       "2                                        Masas de agua   \n",
       "3                 Áreas de naturaleza y vida silvestre   \n",
       "4                                             Montañas   \n",
       "..                                                 ...   \n",
       "165  Monumentos y lugares de interés, Torres y obse...   \n",
       "166                                           Cascadas   \n",
       "167                                             Playas   \n",
       "168                                 Montañas, Volcanes   \n",
       "169                              Museos especializados   \n",
       "\n",
       "                                           reviews_url        region  \n",
       "0    https://www.tripadvisor.com.ar/Attraction_Revi...  West Pacific  \n",
       "1    https://www.tripadvisor.com.ar/Attraction_Revi...  West Pacific  \n",
       "2    https://www.tripadvisor.com.ar/Attraction_Revi...  West Pacific  \n",
       "3    https://www.tripadvisor.com.ar/Attraction_Revi...  West Pacific  \n",
       "4    https://www.tripadvisor.com.ar/Attraction_Revi...  West Pacific  \n",
       "..                                                 ...           ...  \n",
       "165  https://www.tripadvisor.com.ar/Attraction_Revi...  West Pacific  \n",
       "166  https://www.tripadvisor.com.ar/Attraction_Revi...  West Pacific  \n",
       "167  https://www.tripadvisor.com.ar/Attraction_Revi...  West Pacific  \n",
       "168  https://www.tripadvisor.com.ar/Attraction_Revi...  West Pacific  \n",
       "169  https://www.tripadvisor.com.ar/Attraction_Revi...  West Pacific  \n",
       "\n",
       "[170 rows x 5 columns]"
      ]
     },
     "execution_count": 2,
     "metadata": {},
     "output_type": "execute_result"
    }
   ],
   "source": [
    "pacific = [[\"Alaska\", \"https://www.tripadvisor.com.ar/Attractions-g28923-Activities-oa0-Alaska.html\"],\n",
    "                [\"Hawaii\", \"https://www.tripadvisor.com.ar/Attractions-g29217-Activities-oa0-Island_of_Hawaii_Hawaii.html\"],\n",
    "                [\"California\", \"https://www.tripadvisor.com.ar/Attractions-g28926-Activities-oa0-California.html\"],\n",
    "                [\"Oregon\", \"https://www.tripadvisor.com.ar/Attractions-g1438848-Activities-oa0-Oregon_Coast_Oregon.html\"],\n",
    "                [\"Washington\", \"https://www.tripadvisor.com.ar/Attractions-g28968-Activities-oa0-Washington.html\"]]\n",
    "\n",
    "pacific_attractions = pd.DataFrame()\n",
    "for state in pacific:\n",
    "    state_attributes = scrapping.scrape_state_attractions(state[0], state[1], report=False)\n",
    "    pacific_attractions = pd.concat([pacific_attractions, state_attributes], ignore_index=True)\n",
    "\n",
    "# Transform\n",
    "pacific_attractions['attraction'] = pacific_attractions['attraction'].str.replace(r'^\\d+\\.\\s*', '', regex=True) # Process attraction\n",
    "pacific_attractions['categories'] = pacific_attractions['categories'].str.replace(' • ', ', ') # Process categories\n",
    "pacific_attractions[\"region\"] = \"West Pacific\"\n",
    "\n",
    "# Explore and export\n",
    "pacific_attractions.to_csv(\"../files/data/tripadvisor/pacific_attractions.csv\")\n",
    "pacific_attractions"
   ]
  },
  {
   "cell_type": "markdown",
   "metadata": {},
   "source": [
    "WEST - Mountain"
   ]
  },
  {
   "cell_type": "code",
   "execution_count": 21,
   "metadata": {},
   "outputs": [
    {
     "data": {
      "image/png": "[encoded data removed]",
      "text/plain": [
       "<Figure size 640x480 with 1 Axes>"
      ]
     },
     "metadata": {},
     "output_type": "display_data"
    }
   ],
   "source": [
    "mountain = [[\"Arizona\", \"https://www.tripadvisor.com.ar/Attractions-g28924-Activities-oa0-Arizona.html\"],\n",
    "                [\"Colorado\", \"https://www.tripadvisor.com.ar/Attractions-g28927-Activities-oa0-Colorado.html\"],\n",
    "                [\"Idaho\", \"https://www.tripadvisor.com.ar/Attractions-g28933-Activities-oa0-Idaho.html\"],\n",
    "                [\"Montana\", \"https://www.tripadvisor.com.ar/Attractions-g28947-Activities-oa0-Montana.html\"],\n",
    "                [\"Nevada\", \"https://www.tripadvisor.com.ar/Attractions-g28949-Activities-oa0-Nevada.html\"],\n",
    "                [\"New Mexico\", \"https://www.tripadvisor.com.ar/Attractions-g28952-Activities-oa0-New_Mexico.html\"],\n",
    "                [\"Utah\", \"https://www.tripadvisor.com.ar/Attractions-g28965-Activities-oa0-Utah.html\"],\n",
    "                [\"Wioming\", \"https://www.tripadvisor.com.ar/Attractions-g28973-Activities-oa0-Wyoming.html\"]]\n",
    "\n",
    "mountain_attractions = pd.DataFrame()\n",
    "for state in mountain:\n",
    "    state_attributes = scrapping.scrap_state_attractions(state[0], state[1], report=False)\n",
    "    mountain_attractions = pd.concat([mountain_attractions, state_attributes], ignore_index=True)\n",
    "\n",
    "# Transform\n",
    "mountain_attractions['attraction'] = mountain_attractions['attraction'].str.replace(r'^\\d+\\.\\s*', '', regex=True) # Process attraction\n",
    "mountain_attractions['categories'] = mountain_attractions['categories'].str.replace(' • ', ', ') # Process categories\n",
    "mountain_attractions[\"region\"] = \"Mountain\"\n",
    "\n",
    "# Explore and export\n",
    "personalised_graphics.missing_values_heatmap(mountain_attractions, \"oregon_attractions\")\n",
    "mountain_attractions.to_csv(\"../files/data/tripadvisor/mountain_attractions.csv\")"
   ]
  },
  {
   "cell_type": "markdown",
   "metadata": {},
   "source": [
    "SOUTH - West South Central"
   ]
  },
  {
   "cell_type": "code",
   "execution_count": 20,
   "metadata": {},
   "outputs": [
    {
     "data": {
      "image/png": "[encoded data removed]",
      "text/plain": [
       "<Figure size 640x480 with 1 Axes>"
      ]
     },
     "metadata": {},
     "output_type": "display_data"
    }
   ],
   "source": [
    "west_south_central = [[\"Akansas\", \"https://www.tripadvisor.com.ar/Attractions-g28925-Activities-oa0-Arkansas.html\"],\n",
    "                [\"Luisiana\", \"https://www.tripadvisor.com.ar/Attractions-g28939-Activities-oa0-Louisiana.html\"],\n",
    "                [\"Oklahoma\", \"https://www.tripadvisor.com.ar/Attractions-g28957-Activities-oa0-Oklahoma.html\"],\n",
    "                [\"Texas\", \"https://www.tripadvisor.com.ar/Attractions-g28964-Activities-oa0-Texas.html\"]]\n",
    "\n",
    "west_south_central_attractions = pd.DataFrame()\n",
    "for state in west_south_central:\n",
    "    state_attributes = scrapping.scrap_state_attractions(state[0], state[1], report=False)\n",
    "    west_south_central_attractions = pd.concat([west_south_central_attractions, state_attributes], ignore_index=True)\n",
    "\n",
    "# Transform\n",
    "west_south_central_attractions['attraction'] = west_south_central_attractions['attraction'].str.replace(r'^\\d+\\.\\s*', '', regex=True) # Process attraction\n",
    "west_south_central_attractions['categories'] = west_south_central_attractions['categories'].str.replace(' • ', ', ') # Process categories\n",
    "west_south_central_attractions[\"region\"] = \"West South Central\"\n",
    "\n",
    "# Explore and export\n",
    "personalised_graphics.missing_values_heatmap(west_south_central_attractions, \"oregon_attractions\")\n",
    "west_south_central_attractions.to_csv(\"../files/data/tripadvisor/west_south_central_attractions.csv\")"
   ]
  },
  {
   "cell_type": "markdown",
   "metadata": {},
   "source": [
    "SOUTH - East South Central"
   ]
  },
  {
   "cell_type": "code",
   "execution_count": 19,
   "metadata": {},
   "outputs": [
    {
     "data": {
      "image/png": "[encoded data removed]",
      "text/plain": [
       "<Figure size 640x480 with 1 Axes>"
      ]
     },
     "metadata": {},
     "output_type": "display_data"
    }
   ],
   "source": [
    "east_south_central = [[\"Alabama\", \"https://www.tripadvisor.com.ar/Attractions-g28922-Activities-oa0-Alabama.html\"],\n",
    "                [\"Kentucky\", \"https://www.tripadvisor.com.ar/Attractions-g28938-Activities-oa0-Kentucky.html\"],\n",
    "                [\"Mississipi\", \"https://www.tripadvisor.com.ar/Attractions-g28945-Activities-oa0-Mississippi.html\"],\n",
    "                [\"Tennessee\", \"https://www.tripadvisor.com.ar/Attractions-g28963-Activities-oa0-Tennessee.html\"]]\n",
    "\n",
    "east_south_central_attractions = pd.DataFrame()\n",
    "for state in east_south_central:\n",
    "    state_attributes = scrapping.scrap_state_attractions(state[0], state[1], report=False)\n",
    "    east_south_central_attractions = pd.concat([east_south_central_attractions, state_attributes], ignore_index=True)\n",
    "\n",
    "# Transform\n",
    "east_south_central_attractions['attraction'] = east_south_central_attractions['attraction'].str.replace(r'^\\d+\\.\\s*', '', regex=True) # Process attraction\n",
    "east_south_central_attractions['categories'] = east_south_central_attractions['categories'].str.replace(' • ', ', ') # Process categories\n",
    "east_south_central_attractions[\"region\"] = \"East South Central\"\n",
    "\n",
    "# Explore and export\n",
    "personalised_graphics.missing_values_heatmap(east_south_central_attractions, \"East South Central attractions\")\n",
    "east_south_central_attractions.to_csv(\"../files/data/tripadvisor/east_south_central_attractions.csv\")"
   ]
  },
  {
   "cell_type": "markdown",
   "metadata": {},
   "source": [
    "SOUTH - South Atlantic"
   ]
  },
  {
   "cell_type": "code",
   "execution_count": 18,
   "metadata": {},
   "outputs": [
    {
     "data": {
      "image/png": "[encoded data removed]",
      "text/plain": [
       "<Figure size 640x480 with 1 Axes>"
      ]
     },
     "metadata": {},
     "output_type": "display_data"
    }
   ],
   "source": [
    "south_atlantic = [[\"Delaware\", \"https://www.tripadvisor.com.ar/Attractions-g28929-Activities-oa0-Delaware.html\"],\n",
    "                [\"Florida\", \"https://www.tripadvisor.com.ar/Attractions-g28930-Activities-oa0-Florida.html\"],\n",
    "                [\"Georgia\", \"https://www.tripadvisor.com.ar/Attractions-g28931-Activities-oa0-Georgia.html\"],\n",
    "                [\"South Carolina\", \"https://www.tripadvisor.com.ar/Attractions-g28961-Activities-oa0-South_Carolina.html\"],\n",
    "                [\"North Carolina\", \"https://www.tripadvisor.com.ar/Attractions-g28954-Activities-oa0-North_Carolina.html\"],\n",
    "                [\"Maryland\", \"https://www.tripadvisor.com.ar/Attractions-g28941-Activities-oa0-Maryland.html\"],\n",
    "                [\"Virginia\", \"https://www.tripadvisor.com.ar/Attractions-g28967-Activities-oa0-Virginia.html\"],\n",
    "                [\"West Virginia\", \"https://www.tripadvisor.com.ar/Attractions-g28971-Activities-oa0-West_Virginia.html\"],\n",
    "                [\"District of Columbia\", \"https://www.tripadvisor.com.ar/Attractions-g28970-Activities-oa0-Washington_DC_District_of_Columbia.html\"]]\n",
    "\n",
    "south_atlantic_attractions = pd.DataFrame()\n",
    "for state in south_atlantic:\n",
    "    state_attributes = scrapping.scrap_state_attractions(state[0], state[1], report=False)\n",
    "    south_atlantic_attractions = pd.concat([south_atlantic_attractions, state_attributes], ignore_index=True)\n",
    "\n",
    "# Transform\n",
    "south_atlantic_attractions['attraction'] = south_atlantic_attractions['attraction'].str.replace(r'^\\d+\\.\\s*', '', regex=True) # Process attraction\n",
    "south_atlantic_attractions['categories'] = south_atlantic_attractions['categories'].str.replace(' • ', ', ') # Process categories\n",
    "south_atlantic_attractions[\"region\"] = \"South Atlantic\"\n",
    "\n",
    "# Explore and export\n",
    "personalised_graphics.missing_values_heatmap(south_atlantic_attractions, \"South Atlantic attractions\")\n",
    "south_atlantic_attractions.to_csv(\"../files/data/tripadvisor/south_atlantic_attractions.csv\")"
   ]
  },
  {
   "cell_type": "markdown",
   "metadata": {},
   "source": [
    "MIDWEST - West North Central"
   ]
  },
  {
   "cell_type": "code",
   "execution_count": 17,
   "metadata": {},
   "outputs": [
    {
     "data": {
      "image/png": "[encoded data removed]",
      "text/plain": [
       "<Figure size 640x480 with 1 Axes>"
      ]
     },
     "metadata": {},
     "output_type": "display_data"
    }
   ],
   "source": [
    "west_north_central = [[\"North Dakota\", \"https://www.tripadvisor.com.ar/Attractions-g28955-Activities-oa0-North_Dakota.html\"],\n",
    "                [\"South Dakota\", \"https://www.tripadvisor.com.ar/Attractions-g28962-Activities-oa0-South_Dakota.html\"],\n",
    "                [\"Iowa\", \"https://www.tripadvisor.com.ar/Attractions-g28936-Activities-oa0-Iowa.html\"],\n",
    "                [\"Kansas\", \"https://www.tripadvisor.com.ar/Attractions-g28937-Activities-oa0-Kansas.html\"],\n",
    "                [\"Minnesota\", \"https://www.tripadvisor.com.ar/Attractions-g28944-Activities-oa0-Minnesota.html\"],\n",
    "                [\"Missouri\", \"https://www.tripadvisor.com.ar/Attractions-g28946-Activities-oa0-Missouri.html\"],\n",
    "                [\"Nebraska\", \"https://www.tripadvisor.com.ar/Attractions-g28948-Activities-oa0-Nebraska.html\"],\n",
    "                [\"Wyoming\", \"https://www.tripadvisor.com.ar/Attractions-g28973-Activities-oa0-Wyoming.html\"]]\n",
    "\n",
    "west_north_central_attractions = pd.DataFrame()\n",
    "for state in west_north_central:\n",
    "    state_attributes = scrapping.scrap_state_attractions(state[0], state[1], report=False)\n",
    "    west_north_central_attractions = pd.concat([west_north_central_attractions, state_attributes], ignore_index=True)\n",
    "\n",
    "# Transform\n",
    "west_north_central_attractions['attraction'] = west_north_central_attractions['attraction'].str.replace(r'^\\d+\\.\\s*', '', regex=True) # Process attraction\n",
    "west_north_central_attractions['categories'] = west_north_central_attractions['categories'].str.replace(' • ', ', ') # Process categories\n",
    "west_north_central_attractions[\"region\"] = \"West North Central\"\n",
    "\n",
    "# Explore and export\n",
    "personalised_graphics.missing_values_heatmap(west_north_central_attractions, \"oregon_attractions\")\n",
    "west_north_central_attractions.to_csv(\"../files/data/tripadvisor/west_north_central_attractions.csv\")"
   ]
  },
  {
   "cell_type": "markdown",
   "metadata": {},
   "source": [
    "MIDWEST - East North Central"
   ]
  },
  {
   "cell_type": "code",
   "execution_count": 16,
   "metadata": {},
   "outputs": [
    {
     "data": {
      "image/png": "[encoded data removed]",
      "text/plain": [
       "<Figure size 640x480 with 1 Axes>"
      ]
     },
     "metadata": {},
     "output_type": "display_data"
    }
   ],
   "source": [
    "east_north_central = [[\"Illinois\", \"https://www.tripadvisor.com.ar/Attractions-g28934-Activities-oa0-Illinois.html\"],\n",
    "                [\"Indiana\", \"https://www.tripadvisor.com.ar/Attractions-g28935-Activities-oa0-Indiana.html\"],\n",
    "                [\"Michigan\", \"https://www.tripadvisor.com.ar/Attractions-g28943-Activities-oa0-Michigan.html\"],\n",
    "                [\"Ohio\", \"https://www.tripadvisor.com.ar/Attractions-g28956-Activities-oa0-Ohio.html\"],\n",
    "                [\"Wisconsin\", \"https://www.tripadvisor.com.ar/Attractions-g28972-Activities-oa0-Wisconsin.html\"]]\n",
    "\n",
    "east_north_central_attractions = pd.DataFrame()\n",
    "for state in east_north_central:\n",
    "    state_attributes = scrapping.scrap_state_attractions(state[0], state[1], report=False)\n",
    "    east_north_central_attractions = pd.concat([east_north_central_attractions, state_attributes], ignore_index=True)\n",
    "\n",
    "# Transform\n",
    "east_north_central_attractions['attraction'] = east_north_central_attractions['attraction'].str.replace(r'^\\d+\\.\\s*', '', regex=True) # Process attraction\n",
    "east_north_central_attractions['categories'] = east_north_central_attractions['categories'].str.replace(' • ', ', ') # Process categories\n",
    "east_north_central_attractions[\"region\"] = \"East North Central\"\n",
    "\n",
    "# Explore and export\n",
    "personalised_graphics.missing_values_heatmap(east_north_central_attractions, \"oregon_attractions\")\n",
    "east_north_central_attractions.to_csv(\"../files/data/tripadvisor/east_north_central_attractions.csv\")"
   ]
  },
  {
   "cell_type": "markdown",
   "metadata": {},
   "source": [
    "NORTHEAST - New England"
   ]
  },
  {
   "cell_type": "code",
   "execution_count": 15,
   "metadata": {},
   "outputs": [
    {
     "data": {
      "image/png": "[encoded data removed]",
      "text/plain": [
       "<Figure size 640x480 with 1 Axes>"
      ]
     },
     "metadata": {},
     "output_type": "display_data"
    }
   ],
   "source": [
    "new_england = [[\"Connecticut\", \"https://www.tripadvisor.com.ar/Attractions-g28928-Activities-oa0-Connecticut.html\"],\n",
    "                [\"Maine\", \"https://www.tripadvisor.com.ar/Attractions-g28940-Activities-oa0-Maine.html\"],\n",
    "                [\"Massachusetts\", \"https://www.tripadvisor.com.ar/Tourism-g28942-Massachusetts-Vacations.html\"],\n",
    "                [\"New Hampshire\", \"https://www.tripadvisor.com.ar/Attractions-g28950-Activities-oa0-New_Hampshire.html\"],\n",
    "                [\"Rhode Island\", \"https://www.tripadvisor.com.ar/Attractions-g28960-Activities-oa0-Rhode_Island.html\"],\n",
    "                [\"Vermont\", \"https://www.tripadvisor.com.ar/Attractions-g28966-Activities-oa0-Vermont.html\"]]\n",
    "\n",
    "new_england_attractions = pd.DataFrame()\n",
    "for state in new_england:\n",
    "    state_attributes = scrapping.scrap_state_attractions(state[0], state[1], report=False)\n",
    "    new_england_attractions = pd.concat([new_england_attractions, state_attributes], ignore_index=True)\n",
    "\n",
    "# Transform\n",
    "new_england_attractions['attraction'] = new_england_attractions['attraction'].str.replace(r'^\\d+\\.\\s*', '', regex=True) # Process attraction\n",
    "new_england_attractions['categories'] = new_england_attractions['categories'].str.replace(' • ', ', ') # Process categories\n",
    "new_england_attractions[\"region\"] = \"New England\"\n",
    "\n",
    "# Explore and export\n",
    "personalised_graphics.missing_values_heatmap(new_england_attractions, \"new_england attractions\")\n",
    "new_england_attractions.to_csv(\"../files/data/tripadvisor/new_england_attractions.csv\")"
   ]
  },
  {
   "cell_type": "markdown",
   "metadata": {},
   "source": [
    "NORTHEAST - Mid Atlantic"
   ]
  },
  {
   "cell_type": "code",
   "execution_count": 14,
   "metadata": {},
   "outputs": [
    {
     "data": {
      "image/png": "[encoded data removed]",
      "text/plain": [
       "<Figure size 640x480 with 1 Axes>"
      ]
     },
     "metadata": {},
     "output_type": "display_data"
    }
   ],
   "source": [
    "mid_atlantic = [[\"New Jersey\", \"https://www.tripadvisor.com.ar/Attractions-g28951-Activities-oa0-New_Jersey.html\"],\n",
    "                [\"New York\", \"https://www.tripadvisor.com.ar/Attractions-g60763-Activities-oa0-New_York_City_New_York.html\"],\n",
    "                [\"Pen\", \"https://www.tripadvisor.com.ar/Attractions-g28959-Activities-oa0-Pennsylvania.html\"]]\n",
    "\n",
    "mid_atlantic_attractions = pd.DataFrame()\n",
    "for state in mid_atlantic:\n",
    "    state_attributes = scrapping.scrap_state_attractions(state[0], state[1], report=False)\n",
    "    mid_atlantic_attractions = pd.concat([mid_atlantic_attractions, state_attributes], ignore_index=True)\n",
    "\n",
    "# Transform\n",
    "mid_atlantic_attractions['attraction'] = mid_atlantic_attractions['attraction'].str.replace(r'^\\d+\\.\\s*', '', regex=True) # Process attraction\n",
    "mid_atlantic_attractions['categories'] = mid_atlantic_attractions['categories'].str.replace(' • ', ', ') # Process categories\n",
    "mid_atlantic_attractions[\"region\"] = \"Mid Atlantic\"\n",
    "\n",
    "# Explore and export\n",
    "personalised_graphics.missing_values_heatmap(new_england_attractions, \"mid_atlantic attractions\")\n",
    "mid_atlantic_attractions.to_csv(\"../files/data/tripadvisor/mid_atlantic_attractions.csv\")"
   ]
  },
  {
   "cell_type": "code",
   "execution_count": 3,
   "metadata": {},
   "outputs": [
    {
     "data": {
      "text/html": [
       "<div>\n",
       "<style scoped>\n",
       "    .dataframe tbody tr th:only-of-type {\n",
       "        vertical-align: middle;\n",
       "    }\n",
       "\n",
       "    .dataframe tbody tr th {\n",
       "        vertical-align: top;\n",
       "    }\n",
       "\n",
       "    .dataframe thead th {\n",
       "        text-align: right;\n",
       "    }\n",
       "</style>\n",
       "<table border=\"1\" class=\"dataframe\">\n",
       "  <thead>\n",
       "    <tr style=\"text-align: right;\">\n",
       "      <th></th>\n",
       "      <th>region</th>\n",
       "      <th>state</th>\n",
       "      <th>attraction</th>\n",
       "      <th>n_reviews</th>\n",
       "      <th>categories</th>\n",
       "    </tr>\n",
       "  </thead>\n",
       "  <tbody>\n",
       "    <tr>\n",
       "      <th>0</th>\n",
       "      <td>East North Central</td>\n",
       "      <td>Illinois</td>\n",
       "      <td>Instituto de Arte de Chicago</td>\n",
       "      <td>24.543</td>\n",
       "      <td>Museos de arte</td>\n",
       "    </tr>\n",
       "    <tr>\n",
       "      <th>1</th>\n",
       "      <td>East North Central</td>\n",
       "      <td>Illinois</td>\n",
       "      <td>Parque Millennium</td>\n",
       "      <td>25.133</td>\n",
       "      <td>Monumentos y lugares de interés, Parques</td>\n",
       "    </tr>\n",
       "    <tr>\n",
       "      <th>2</th>\n",
       "      <td>East North Central</td>\n",
       "      <td>Illinois</td>\n",
       "      <td>Museo de Ciencia e Industria</td>\n",
       "      <td>11.184</td>\n",
       "      <td>Museos de ciencia</td>\n",
       "    </tr>\n",
       "    <tr>\n",
       "      <th>3</th>\n",
       "      <td>East North Central</td>\n",
       "      <td>Illinois</td>\n",
       "      <td>Cloud Gate</td>\n",
       "      <td>18.279</td>\n",
       "      <td>Monumentos y lugares de interés, Monumentos y ...</td>\n",
       "    </tr>\n",
       "    <tr>\n",
       "      <th>4</th>\n",
       "      <td>East North Central</td>\n",
       "      <td>Illinois</td>\n",
       "      <td>The Magnificent Mile</td>\n",
       "      <td>15.799</td>\n",
       "      <td>Barrios, Monumentos y lugares de interés</td>\n",
       "    </tr>\n",
       "    <tr>\n",
       "      <th>...</th>\n",
       "      <td>...</td>\n",
       "      <td>...</td>\n",
       "      <td>...</td>\n",
       "      <td>...</td>\n",
       "      <td>...</td>\n",
       "    </tr>\n",
       "    <tr>\n",
       "      <th>4017</th>\n",
       "      <td>West South Central</td>\n",
       "      <td>Texas</td>\n",
       "      <td>Time Crunch Escapes</td>\n",
       "      <td>211.000</td>\n",
       "      <td>Juegos de escape</td>\n",
       "    </tr>\n",
       "    <tr>\n",
       "      <th>4018</th>\n",
       "      <td>West South Central</td>\n",
       "      <td>Texas</td>\n",
       "      <td>Galveston Shuttle &amp; Limo</td>\n",
       "      <td>441.000</td>\n",
       "      <td>Taxis y otros servicios de traslado</td>\n",
       "    </tr>\n",
       "    <tr>\n",
       "      <th>4019</th>\n",
       "      <td>West South Central</td>\n",
       "      <td>Texas</td>\n",
       "      <td>Waco Escape Rooms</td>\n",
       "      <td>614.000</td>\n",
       "      <td>Juegos de escape</td>\n",
       "    </tr>\n",
       "    <tr>\n",
       "      <th>4020</th>\n",
       "      <td>West South Central</td>\n",
       "      <td>Texas</td>\n",
       "      <td>Escapology Escape Rooms Tyler</td>\n",
       "      <td>310.000</td>\n",
       "      <td>Juegos de escape</td>\n",
       "    </tr>\n",
       "    <tr>\n",
       "      <th>4021</th>\n",
       "      <td>West South Central</td>\n",
       "      <td>Texas</td>\n",
       "      <td>Fun Dallas Tours</td>\n",
       "      <td>2.065</td>\n",
       "      <td>Tours turísticos</td>\n",
       "    </tr>\n",
       "  </tbody>\n",
       "</table>\n",
       "<p>4022 rows × 5 columns</p>\n",
       "</div>"
      ],
      "text/plain": [
       "                  region     state                     attraction  n_reviews  \\\n",
       "0     East North Central  Illinois   Instituto de Arte de Chicago     24.543   \n",
       "1     East North Central  Illinois              Parque Millennium     25.133   \n",
       "2     East North Central  Illinois   Museo de Ciencia e Industria     11.184   \n",
       "3     East North Central  Illinois                     Cloud Gate     18.279   \n",
       "4     East North Central  Illinois           The Magnificent Mile     15.799   \n",
       "...                  ...       ...                            ...        ...   \n",
       "4017  West South Central     Texas            Time Crunch Escapes    211.000   \n",
       "4018  West South Central     Texas       Galveston Shuttle & Limo    441.000   \n",
       "4019  West South Central     Texas              Waco Escape Rooms    614.000   \n",
       "4020  West South Central     Texas  Escapology Escape Rooms Tyler    310.000   \n",
       "4021  West South Central     Texas               Fun Dallas Tours      2.065   \n",
       "\n",
       "                                             categories  \n",
       "0                                        Museos de arte  \n",
       "1              Monumentos y lugares de interés, Parques  \n",
       "2                                     Museos de ciencia  \n",
       "3     Monumentos y lugares de interés, Monumentos y ...  \n",
       "4              Barrios, Monumentos y lugares de interés  \n",
       "...                                                 ...  \n",
       "4017                                   Juegos de escape  \n",
       "4018                Taxis y otros servicios de traslado  \n",
       "4019                                   Juegos de escape  \n",
       "4020                                   Juegos de escape  \n",
       "4021                                   Tours turísticos  \n",
       "\n",
       "[4022 rows x 5 columns]"
      ]
     },
     "execution_count": 3,
     "metadata": {},
     "output_type": "execute_result"
    }
   ],
   "source": [
    "attractions = pd.read_csv('../files/data/usa_attractions.csv', index_col=0)\n",
    "attractions"
   ]
  }
 ],
 "metadata": {
  "kernelspec": {
   "display_name": "test",
   "language": "python",
   "name": "python3"
  },
  "language_info": {
   "codemirror_mode": {
    "name": "ipython",
    "version": 3
   },
   "file_extension": ".py",
   "mimetype": "text/x-python",
   "name": "python",
   "nbconvert_exporter": "python",
   "pygments_lexer": "ipython3",
   "version": "3.11.7"
  }
 },
 "nbformat": 4,
 "nbformat_minor": 2
}
