{
 "cells": [
  {
   "cell_type": "code",
   "execution_count": 1,
   "metadata": {},
   "outputs": [],
   "source": [
    "\n",
    "#\n",
    "import re\n",
    "import time\n",
    "import pandas as pd\n",
    "\n",
    "#\n",
    "import selenium\n",
    "from selenium import webdriver\n",
    "from selenium.webdriver.common.by import By\n",
    "from selenium.webdriver.support.ui import WebDriverWait\n",
    "from selenium.webdriver.support import expected_conditions as EC\n",
    "from selenium.common.exceptions import StaleElementReferenceException\n",
    "\n",
    "#\n",
    "usa_cities = pd.read_csv(\"../data/usa_cities.csv\")\n",
    "usa_states = pd.read_csv(\"../data/usa_states.csv\")"
   ]
  },
  {
   "cell_type": "code",
   "execution_count": 2,
   "metadata": {},
   "outputs": [],
   "source": [
    "# This function takes a state and the corresponding url and returns a list of dicts with each state's touristic attractions\n",
    "def scrap_state_attractions(state: str, url: str, report=True) -> list:\n",
    "    state_attractions = pd.DataFrame()\n",
    "    failed_states = [] # to store errors while scrapping\n",
    "\n",
    "    # Instanciate and configurate driver\n",
    "    chrome_options = selenium.webdriver.chrome.options.Options()\n",
    "    chrome_options.add_argument('--disable-infobars') # unables images loading\n",
    "    driver = webdriver.Chrome(options=chrome_options)\n",
    "\n",
    "    # Connect to url and wait to load\n",
    "    driver.get(url) if report else None\n",
    "    print(state, url)\n",
    "    time.sleep(5)\n",
    "\n",
    "    try:\n",
    "        for page in range(10):\n",
    "            print(f\"{page+1}/10\") if report else None\n",
    "\n",
    "            # Find each attraction box\n",
    "            driver.execute_script(\"window.scrollTo(0, document.body.scrollHeight*0.85);\") # scroll to load page and buttons\n",
    "            wait = WebDriverWait(driver, 10) # \n",
    "            attraction_divs = wait.until(EC.presence_of_all_elements_located((By.CLASS_NAME, \"jemSU\"))) # find each attraction box\n",
    "\n",
    "            for div in attraction_divs:\n",
    "                try:\n",
    "                    url = div.find_element(By.CLASS_NAME ,\"BMQDV\")\n",
    "                    parts = div.text.split(\"\\n\")\n",
    "                    if 15 > len(parts) > 2 and url:\n",
    "                        if parts[0] == '2023':\n",
    "                            del parts[0]\n",
    "                            print(parts[0]) if report else None\n",
    "                            print(parts[1]) if report else None\n",
    "                            print(parts[2]) if report else None\n",
    "                            attractions = pd.DataFrame({\n",
    "                                \"attraction\": [parts[0]],\n",
    "                                \"n_reviews\": [parts[1]],\n",
    "                                \"categories\": [parts[2]]})\n",
    "                            state_attractions = pd.concat([state_attractions, attractions], ignore_index=True)\n",
    "                \n",
    "                except:\n",
    "                    pass\n",
    "            \n",
    "            next_page_button = driver.find_element(By.XPATH, '/html/body/div[1]/main/div[1]/div/div/div[3]/div/div[2]/div[2]/div[2]/div/div/div[2]/div/div[2]/div/div/section[40]/div/div[1]/div/div[1]/div[2]')\n",
    "            next_page_button.click()\n",
    "            time.sleep(2)\n",
    "    \n",
    "    except:\n",
    "        failed_states.append(state)\n",
    "        print(f\"{state} state added to failed states.\") if report else None\n",
    "\n",
    "    # Close browser and return list with hotels data\n",
    "    driver.quit()\n",
    "    return state_attractions"
   ]
  },
  {
   "cell_type": "markdown",
   "metadata": {},
   "source": [
    "Oregon"
   ]
  },
  {
   "cell_type": "code",
   "execution_count": 3,
   "metadata": {},
   "outputs": [
    {
     "name": "stdout",
     "output_type": "stream",
     "text": [
      "Oregon https://www.tripadvisor.com.ar/Attractions-g28958-Activities-oa0-Oregon.html\n"
     ]
    }
   ],
   "source": [
    "# Scrape\n",
    "oregon_attractions = scrap_state_attractions(\"Oregon\", \"https://www.tripadvisor.com.ar/Attractions-g28958-Activities-oa0-Oregon.html\", report=False)"
   ]
  },
  {
   "cell_type": "code",
   "execution_count": 4,
   "metadata": {},
   "outputs": [
    {
     "data": {
      "text/html": [
       "<div>\n",
       "<style scoped>\n",
       "    .dataframe tbody tr th:only-of-type {\n",
       "        vertical-align: middle;\n",
       "    }\n",
       "\n",
       "    .dataframe tbody tr th {\n",
       "        vertical-align: top;\n",
       "    }\n",
       "\n",
       "    .dataframe thead th {\n",
       "        text-align: right;\n",
       "    }\n",
       "</style>\n",
       "<table border=\"1\" class=\"dataframe\">\n",
       "  <thead>\n",
       "    <tr style=\"text-align: right;\">\n",
       "      <th></th>\n",
       "    </tr>\n",
       "  </thead>\n",
       "  <tbody>\n",
       "  </tbody>\n",
       "</table>\n",
       "</div>"
      ],
      "text/plain": [
       "Empty DataFrame\n",
       "Columns: []\n",
       "Index: []"
      ]
     },
     "execution_count": 4,
     "metadata": {},
     "output_type": "execute_result"
    }
   ],
   "source": [
    "oregon_attractions"
   ]
  },
  {
   "cell_type": "code",
   "execution_count": null,
   "metadata": {},
   "outputs": [],
   "source": [
    "# Transform\n",
    "oregon_attractions['attraction'] = oregon_attractions['attraction'].str.replace(r'^\\d+\\.\\s*', '', regex=True) # Process attraction\n",
    "oregon_attractions['categories'] = oregon_attractions['categories'].str.replace(' • ', ', ') # Process categories\n",
    "\n",
    "# Explore and export\n",
    "personalised_graphics.missing_values_heatmap(oregon_attractions, \"oregon_attractions\")\n",
    "oregon_attractions.to_csv(\"data/tripadvisor/oregon_attractions.csv\")"
   ]
  },
  {
   "cell_type": "markdown",
   "metadata": {},
   "source": [
    "Utah"
   ]
  },
  {
   "cell_type": "code",
   "execution_count": 6,
   "metadata": {},
   "outputs": [
    {
     "name": "stdout",
     "output_type": "stream",
     "text": [
      "Utah https://www.tripadvisor.com.ar/Attractions-g28965-Activities-a_allAttractions.true-Utah.html\n"
     ]
    },
    {
     "ename": "KeyError",
     "evalue": "'attraction'",
     "output_type": "error",
     "traceback": [
      "\u001b[1;31m---------------------------------------------------------------------------\u001b[0m",
      "\u001b[1;31mKeyError\u001b[0m                                  Traceback (most recent call last)",
      "\u001b[1;32mc:\\Users\\david\\Desktop\\PF_DS_YELP\\S_01.ipynb Celda 8\u001b[0m line \u001b[0;36m5\n\u001b[0;32m      <a href='vscode-notebook-cell:/c%3A/Users/david/Desktop/PF_DS_YELP/S_01.ipynb#X21sZmlsZQ%3D%3D?line=1'>2</a>\u001b[0m utah_attractions \u001b[39m=\u001b[39m scrapping\u001b[39m.\u001b[39mscrap_state_attractions(\u001b[39m\"\u001b[39m\u001b[39mUtah\u001b[39m\u001b[39m\"\u001b[39m, \u001b[39m\"\u001b[39m\u001b[39mhttps://www.tripadvisor.com.ar/Attractions-g28965-Activities-a_allAttractions.true-Utah.html\u001b[39m\u001b[39m\"\u001b[39m, report\u001b[39m=\u001b[39m\u001b[39mFalse\u001b[39;00m)\n\u001b[0;32m      <a href='vscode-notebook-cell:/c%3A/Users/david/Desktop/PF_DS_YELP/S_01.ipynb#X21sZmlsZQ%3D%3D?line=3'>4</a>\u001b[0m \u001b[39m# Transform\u001b[39;00m\n\u001b[1;32m----> <a href='vscode-notebook-cell:/c%3A/Users/david/Desktop/PF_DS_YELP/S_01.ipynb#X21sZmlsZQ%3D%3D?line=4'>5</a>\u001b[0m utah_attractions[\u001b[39m'\u001b[39m\u001b[39mattraction\u001b[39m\u001b[39m'\u001b[39m] \u001b[39m=\u001b[39m utah_attractions[\u001b[39m'\u001b[39;49m\u001b[39mattraction\u001b[39;49m\u001b[39m'\u001b[39;49m]\u001b[39m.\u001b[39mstr\u001b[39m.\u001b[39mreplace(\u001b[39mr\u001b[39m\u001b[39m'\u001b[39m\u001b[39m^\u001b[39m\u001b[39m\\\u001b[39m\u001b[39md+\u001b[39m\u001b[39m\\\u001b[39m\u001b[39m.\u001b[39m\u001b[39m\\\u001b[39m\u001b[39ms*\u001b[39m\u001b[39m'\u001b[39m, \u001b[39m'\u001b[39m\u001b[39m'\u001b[39m, regex\u001b[39m=\u001b[39m\u001b[39mTrue\u001b[39;00m) \u001b[39m# Process attraction\u001b[39;00m\n\u001b[0;32m      <a href='vscode-notebook-cell:/c%3A/Users/david/Desktop/PF_DS_YELP/S_01.ipynb#X21sZmlsZQ%3D%3D?line=5'>6</a>\u001b[0m utah_attractions[\u001b[39m'\u001b[39m\u001b[39mcategories\u001b[39m\u001b[39m'\u001b[39m] \u001b[39m=\u001b[39m utah_attractions[\u001b[39m'\u001b[39m\u001b[39mcategories\u001b[39m\u001b[39m'\u001b[39m]\u001b[39m.\u001b[39mstr\u001b[39m.\u001b[39mreplace(\u001b[39m'\u001b[39m\u001b[39m • \u001b[39m\u001b[39m'\u001b[39m, \u001b[39m'\u001b[39m\u001b[39m, \u001b[39m\u001b[39m'\u001b[39m) \u001b[39m# Process categories\u001b[39;00m\n\u001b[0;32m      <a href='vscode-notebook-cell:/c%3A/Users/david/Desktop/PF_DS_YELP/S_01.ipynb#X21sZmlsZQ%3D%3D?line=7'>8</a>\u001b[0m \u001b[39m# Explore and export\u001b[39;00m\n",
      "File \u001b[1;32mc:\\anaconda3\\envs\\test\\Lib\\site-packages\\pandas\\core\\frame.py:3893\u001b[0m, in \u001b[0;36mDataFrame.__getitem__\u001b[1;34m(self, key)\u001b[0m\n\u001b[0;32m   3891\u001b[0m \u001b[39mif\u001b[39;00m \u001b[39mself\u001b[39m\u001b[39m.\u001b[39mcolumns\u001b[39m.\u001b[39mnlevels \u001b[39m>\u001b[39m \u001b[39m1\u001b[39m:\n\u001b[0;32m   3892\u001b[0m     \u001b[39mreturn\u001b[39;00m \u001b[39mself\u001b[39m\u001b[39m.\u001b[39m_getitem_multilevel(key)\n\u001b[1;32m-> 3893\u001b[0m indexer \u001b[39m=\u001b[39m \u001b[39mself\u001b[39;49m\u001b[39m.\u001b[39;49mcolumns\u001b[39m.\u001b[39;49mget_loc(key)\n\u001b[0;32m   3894\u001b[0m \u001b[39mif\u001b[39;00m is_integer(indexer):\n\u001b[0;32m   3895\u001b[0m     indexer \u001b[39m=\u001b[39m [indexer]\n",
      "File \u001b[1;32mc:\\anaconda3\\envs\\test\\Lib\\site-packages\\pandas\\core\\indexes\\range.py:418\u001b[0m, in \u001b[0;36mRangeIndex.get_loc\u001b[1;34m(self, key)\u001b[0m\n\u001b[0;32m    416\u001b[0m         \u001b[39mraise\u001b[39;00m \u001b[39mKeyError\u001b[39;00m(key) \u001b[39mfrom\u001b[39;00m \u001b[39merr\u001b[39;00m\n\u001b[0;32m    417\u001b[0m \u001b[39mif\u001b[39;00m \u001b[39misinstance\u001b[39m(key, Hashable):\n\u001b[1;32m--> 418\u001b[0m     \u001b[39mraise\u001b[39;00m \u001b[39mKeyError\u001b[39;00m(key)\n\u001b[0;32m    419\u001b[0m \u001b[39mself\u001b[39m\u001b[39m.\u001b[39m_check_indexing_error(key)\n\u001b[0;32m    420\u001b[0m \u001b[39mraise\u001b[39;00m \u001b[39mKeyError\u001b[39;00m(key)\n",
      "\u001b[1;31mKeyError\u001b[0m: 'attraction'"
     ]
    }
   ],
   "source": [
    "# Scrape\n",
    "utah_attractions = scrapping.scrap_state_attractions(\"Utah\", \"https://www.tripadvisor.com.ar/Attractions-g28965-Activities-a_allAttractions.true-Utah.html\", report=False)\n",
    "\n",
    "# Transform\n",
    "utah_attractions['attraction'] = utah_attractions['attraction'].str.replace(r'^\\d+\\.\\s*', '', regex=True) # Process attraction\n",
    "utah_attractions['categories'] = utah_attractions['categories'].str.replace(' • ', ', ') # Process categories\n",
    "\n",
    "# Explore and export\n",
    "personalised_graphics.missing_values_heatmap(utah_attractions, \"utah_attractions\")\n",
    "utah_attractions.to_csv(\"data/tripadvisor/utah_attractions.csv\")"
   ]
  },
  {
   "cell_type": "markdown",
   "metadata": {},
   "source": [
    "California"
   ]
  },
  {
   "cell_type": "code",
   "execution_count": 7,
   "metadata": {},
   "outputs": [
    {
     "name": "stdout",
     "output_type": "stream",
     "text": [
      "California https://www.tripadvisor.com.ar/Attractions-g28926-Activities-oa0-California.html\n"
     ]
    },
    {
     "ename": "KeyError",
     "evalue": "'attraction'",
     "output_type": "error",
     "traceback": [
      "\u001b[1;31m---------------------------------------------------------------------------\u001b[0m",
      "\u001b[1;31mKeyError\u001b[0m                                  Traceback (most recent call last)",
      "\u001b[1;32mc:\\Users\\david\\Desktop\\PF_DS_YELP\\S_01.ipynb Celda 10\u001b[0m line \u001b[0;36m5\n\u001b[0;32m      <a href='vscode-notebook-cell:/c%3A/Users/david/Desktop/PF_DS_YELP/S_01.ipynb#X23sZmlsZQ%3D%3D?line=1'>2</a>\u001b[0m california_attractions \u001b[39m=\u001b[39m scrapping\u001b[39m.\u001b[39mscrap_state_attractions(\u001b[39m\"\u001b[39m\u001b[39mCalifornia\u001b[39m\u001b[39m\"\u001b[39m, \u001b[39m\"\u001b[39m\u001b[39mhttps://www.tripadvisor.com.ar/Attractions-g28926-Activities-oa0-California.html\u001b[39m\u001b[39m\"\u001b[39m, report\u001b[39m=\u001b[39m\u001b[39mFalse\u001b[39;00m)\n\u001b[0;32m      <a href='vscode-notebook-cell:/c%3A/Users/david/Desktop/PF_DS_YELP/S_01.ipynb#X23sZmlsZQ%3D%3D?line=3'>4</a>\u001b[0m \u001b[39m# Transform\u001b[39;00m\n\u001b[1;32m----> <a href='vscode-notebook-cell:/c%3A/Users/david/Desktop/PF_DS_YELP/S_01.ipynb#X23sZmlsZQ%3D%3D?line=4'>5</a>\u001b[0m california_attractions[\u001b[39m'\u001b[39m\u001b[39mattraction\u001b[39m\u001b[39m'\u001b[39m] \u001b[39m=\u001b[39m california_attractions[\u001b[39m'\u001b[39;49m\u001b[39mattraction\u001b[39;49m\u001b[39m'\u001b[39;49m]\u001b[39m.\u001b[39mstr\u001b[39m.\u001b[39mreplace(\u001b[39mr\u001b[39m\u001b[39m'\u001b[39m\u001b[39m^\u001b[39m\u001b[39m\\\u001b[39m\u001b[39md+\u001b[39m\u001b[39m\\\u001b[39m\u001b[39m.\u001b[39m\u001b[39m\\\u001b[39m\u001b[39ms*\u001b[39m\u001b[39m'\u001b[39m, \u001b[39m'\u001b[39m\u001b[39m'\u001b[39m, regex\u001b[39m=\u001b[39m\u001b[39mTrue\u001b[39;00m) \u001b[39m# Process attraction\u001b[39;00m\n\u001b[0;32m      <a href='vscode-notebook-cell:/c%3A/Users/david/Desktop/PF_DS_YELP/S_01.ipynb#X23sZmlsZQ%3D%3D?line=5'>6</a>\u001b[0m california_attractions[\u001b[39m'\u001b[39m\u001b[39mcategories\u001b[39m\u001b[39m'\u001b[39m] \u001b[39m=\u001b[39m california_attractions[\u001b[39m'\u001b[39m\u001b[39mcategories\u001b[39m\u001b[39m'\u001b[39m]\u001b[39m.\u001b[39mstr\u001b[39m.\u001b[39mreplace(\u001b[39m'\u001b[39m\u001b[39m • \u001b[39m\u001b[39m'\u001b[39m, \u001b[39m'\u001b[39m\u001b[39m, \u001b[39m\u001b[39m'\u001b[39m) \u001b[39m# Process categories\u001b[39;00m\n\u001b[0;32m      <a href='vscode-notebook-cell:/c%3A/Users/david/Desktop/PF_DS_YELP/S_01.ipynb#X23sZmlsZQ%3D%3D?line=7'>8</a>\u001b[0m \u001b[39m# Explore and export\u001b[39;00m\n",
      "File \u001b[1;32mc:\\anaconda3\\envs\\test\\Lib\\site-packages\\pandas\\core\\frame.py:3893\u001b[0m, in \u001b[0;36mDataFrame.__getitem__\u001b[1;34m(self, key)\u001b[0m\n\u001b[0;32m   3891\u001b[0m \u001b[39mif\u001b[39;00m \u001b[39mself\u001b[39m\u001b[39m.\u001b[39mcolumns\u001b[39m.\u001b[39mnlevels \u001b[39m>\u001b[39m \u001b[39m1\u001b[39m:\n\u001b[0;32m   3892\u001b[0m     \u001b[39mreturn\u001b[39;00m \u001b[39mself\u001b[39m\u001b[39m.\u001b[39m_getitem_multilevel(key)\n\u001b[1;32m-> 3893\u001b[0m indexer \u001b[39m=\u001b[39m \u001b[39mself\u001b[39;49m\u001b[39m.\u001b[39;49mcolumns\u001b[39m.\u001b[39;49mget_loc(key)\n\u001b[0;32m   3894\u001b[0m \u001b[39mif\u001b[39;00m is_integer(indexer):\n\u001b[0;32m   3895\u001b[0m     indexer \u001b[39m=\u001b[39m [indexer]\n",
      "File \u001b[1;32mc:\\anaconda3\\envs\\test\\Lib\\site-packages\\pandas\\core\\indexes\\range.py:418\u001b[0m, in \u001b[0;36mRangeIndex.get_loc\u001b[1;34m(self, key)\u001b[0m\n\u001b[0;32m    416\u001b[0m         \u001b[39mraise\u001b[39;00m \u001b[39mKeyError\u001b[39;00m(key) \u001b[39mfrom\u001b[39;00m \u001b[39merr\u001b[39;00m\n\u001b[0;32m    417\u001b[0m \u001b[39mif\u001b[39;00m \u001b[39misinstance\u001b[39m(key, Hashable):\n\u001b[1;32m--> 418\u001b[0m     \u001b[39mraise\u001b[39;00m \u001b[39mKeyError\u001b[39;00m(key)\n\u001b[0;32m    419\u001b[0m \u001b[39mself\u001b[39m\u001b[39m.\u001b[39m_check_indexing_error(key)\n\u001b[0;32m    420\u001b[0m \u001b[39mraise\u001b[39;00m \u001b[39mKeyError\u001b[39;00m(key)\n",
      "\u001b[1;31mKeyError\u001b[0m: 'attraction'"
     ]
    }
   ],
   "source": [
    "# Scrape\n",
    "california_attractions = scrapping.scrap_state_attractions(\"California\", \"https://www.tripadvisor.com.ar/Attractions-g28926-Activities-oa0-California.html\", report=False)\n",
    "\n",
    "# Transform\n",
    "california_attractions['attraction'] = california_attractions['attraction'].str.replace(r'^\\d+\\.\\s*', '', regex=True) # Process attraction\n",
    "california_attractions['categories'] = california_attractions['categories'].str.replace(' • ', ', ') # Process categories\n",
    "\n",
    "# Explore and export\n",
    "personalised_graphics.missing_values_heatmap(utah_attractions, \"california_attractions\")\n",
    "california_attractions.to_csv(\"data/tripadvisor/california_attractions.csv\")"
   ]
  },
  {
   "cell_type": "code",
   "execution_count": null,
   "metadata": {},
   "outputs": [],
   "source": [
    "#\n",
    "west_coast_states = [[],\n",
    "                #[],\n",
    "                #[\"Arizona\", \"https://www.tripadvisor.com.ar/Attractions-g28924-Activities-oa0-Arizona.html\"],\n",
    "                #[\"Nevada\", \"https://www.tripadvisor.com.ar/Attractions-g28949-Activities-oa0-Nevada.html\"],\n",
    "                #[\"Oregon\", \"https://www.tripadvisor.com.ar/Attractions-g1438848-Activities-oa0-Oregon_Coast_Oregon.html\"],\n",
    "                #[\"Washington\", \"https://www.tripadvisor.com.ar/Attractions-g28968-Activities-oa0-Washington.html\"],\n",
    "                [\"Idaho\", \"https://www.tripadvisor.com.ar/Attractions-g28933-Activities-oa0-Idaho.html\"]]\n",
    "\n",
    "#"
   ]
  },
  {
   "cell_type": "markdown",
   "metadata": {},
   "source": [
    "Attractions atributes"
   ]
  },
  {
   "cell_type": "code",
   "execution_count": 23,
   "metadata": {},
   "outputs": [],
   "source": [
    "# This function takes a state and the corresponding url and returns a list of dicts with each state's touristic attractions\n",
    "def scrap_attractions_attribute(urls: str, report=True) -> list:\n",
    "    \n",
    "    attributes = [] # to store data while scrapping\n",
    "    failed_urls = [] # to store errors while scrapping\n",
    "\n",
    "    # Instanciate and configurate driver\n",
    "    chrome_options = Options()\n",
    "    chrome_options.add_argument('--headless') # unables GUI\n",
    "    chrome_options.add_argument('--disable-infobars') # unables images loading\n",
    "    driver = webdriver.Chrome(options=chrome_options)\n",
    "\n",
    "    for i, url in enumerate(urls):\n",
    "        print(f'{i+1}/{len(urls)}')\n",
    "        try:         \n",
    "            # \n",
    "            driver.get(url)\n",
    "            time.sleep(5)\n",
    "            #\n",
    "            driver.execute_script(\"window.scrollTo(0, document.body.scrollHeight*0.85);\") # scroll to load page and buttons\n",
    "            path_element = driver.find_element(By.CLASS_NAME, 'oPZZx')\n",
    "            html = path_element.get_attribute(\"outerHTML\")\n",
    "            matches = re.search(r'center=([\\d.-]+),([\\d.-]+)', html)\n",
    "            #\n",
    "            if matches:\n",
    "                attributes.append({\"url\": url, \"latitud\": matches.group(1), \"longitude\": matches.group(2)})\n",
    "            else:\n",
    "                attributes.append({\"url\": url, \"latitud\": matches.group(1), \"longitude\": matches.group(2)})\n",
    "                \n",
    "        except:\n",
    "            attributes.append({\"url\": url, \"latitud\": None, \"longitude\": None})\n",
    "\n",
    "    return attributes\n",
    "\n",
    "# Example\n",
    "#utah_attractions = pd.read_csv(\"data/etl/raw_Utah_attractions.csv\")\n",
    "#urls = utah_attractions[\"reviews_url\"].tolist()\n",
    "#data = pd.DataFrame(scrap_attractions_attribute(urls))\n",
    "#data.to_csv('hotel_attributes.csv', index=False)\n",
    "\n",
    "#data"
   ]
  },
  {
   "cell_type": "code",
   "execution_count": 9,
   "metadata": {},
   "outputs": [
    {
     "ename": "FileNotFoundError",
     "evalue": "[Errno 2] No such file or directory: 'data/booking/raw_utah_attractions.csv'",
     "output_type": "error",
     "traceback": [
      "\u001b[1;31m---------------------------------------------------------------------------\u001b[0m",
      "\u001b[1;31mFileNotFoundError\u001b[0m                         Traceback (most recent call last)",
      "\u001b[1;32mc:\\Users\\david\\Desktop\\PF_DS_YELP\\S_01.ipynb Celda 9\u001b[0m line \u001b[0;36m2\n\u001b[0;32m      <a href='vscode-notebook-cell:/c%3A/Users/david/Desktop/PF_DS_YELP/S_01.ipynb#X11sZmlsZQ%3D%3D?line=0'>1</a>\u001b[0m \u001b[39m# scrape attractions attributes\u001b[39;00m\n\u001b[1;32m----> <a href='vscode-notebook-cell:/c%3A/Users/david/Desktop/PF_DS_YELP/S_01.ipynb#X11sZmlsZQ%3D%3D?line=1'>2</a>\u001b[0m utah_attractions \u001b[39m=\u001b[39m pd\u001b[39m.\u001b[39;49mread_csv(\u001b[39m\"\u001b[39;49m\u001b[39mdata/booking/raw_utah_attractions.csv\u001b[39;49m\u001b[39m\"\u001b[39;49m)\n\u001b[0;32m      <a href='vscode-notebook-cell:/c%3A/Users/david/Desktop/PF_DS_YELP/S_01.ipynb#X11sZmlsZQ%3D%3D?line=2'>3</a>\u001b[0m urls \u001b[39m=\u001b[39m utah_attractions[\u001b[39m\"\u001b[39m\u001b[39mreviews_url\u001b[39m\u001b[39m\"\u001b[39m]\u001b[39m.\u001b[39mtolist()\n\u001b[0;32m      <a href='vscode-notebook-cell:/c%3A/Users/david/Desktop/PF_DS_YELP/S_01.ipynb#X11sZmlsZQ%3D%3D?line=3'>4</a>\u001b[0m utah_attractions_atributes \u001b[39m=\u001b[39m pd\u001b[39m.\u001b[39mDataFrame(scrap_attractions_attribute(urls))\n",
      "File \u001b[1;32mc:\\anaconda3\\envs\\test\\Lib\\site-packages\\pandas\\io\\parsers\\readers.py:948\u001b[0m, in \u001b[0;36mread_csv\u001b[1;34m(filepath_or_buffer, sep, delimiter, header, names, index_col, usecols, dtype, engine, converters, true_values, false_values, skipinitialspace, skiprows, skipfooter, nrows, na_values, keep_default_na, na_filter, verbose, skip_blank_lines, parse_dates, infer_datetime_format, keep_date_col, date_parser, date_format, dayfirst, cache_dates, iterator, chunksize, compression, thousands, decimal, lineterminator, quotechar, quoting, doublequote, escapechar, comment, encoding, encoding_errors, dialect, on_bad_lines, delim_whitespace, low_memory, memory_map, float_precision, storage_options, dtype_backend)\u001b[0m\n\u001b[0;32m    935\u001b[0m kwds_defaults \u001b[39m=\u001b[39m _refine_defaults_read(\n\u001b[0;32m    936\u001b[0m     dialect,\n\u001b[0;32m    937\u001b[0m     delimiter,\n\u001b[1;32m   (...)\u001b[0m\n\u001b[0;32m    944\u001b[0m     dtype_backend\u001b[39m=\u001b[39mdtype_backend,\n\u001b[0;32m    945\u001b[0m )\n\u001b[0;32m    946\u001b[0m kwds\u001b[39m.\u001b[39mupdate(kwds_defaults)\n\u001b[1;32m--> 948\u001b[0m \u001b[39mreturn\u001b[39;00m _read(filepath_or_buffer, kwds)\n",
      "File \u001b[1;32mc:\\anaconda3\\envs\\test\\Lib\\site-packages\\pandas\\io\\parsers\\readers.py:611\u001b[0m, in \u001b[0;36m_read\u001b[1;34m(filepath_or_buffer, kwds)\u001b[0m\n\u001b[0;32m    608\u001b[0m _validate_names(kwds\u001b[39m.\u001b[39mget(\u001b[39m\"\u001b[39m\u001b[39mnames\u001b[39m\u001b[39m\"\u001b[39m, \u001b[39mNone\u001b[39;00m))\n\u001b[0;32m    610\u001b[0m \u001b[39m# Create the parser.\u001b[39;00m\n\u001b[1;32m--> 611\u001b[0m parser \u001b[39m=\u001b[39m TextFileReader(filepath_or_buffer, \u001b[39m*\u001b[39;49m\u001b[39m*\u001b[39;49mkwds)\n\u001b[0;32m    613\u001b[0m \u001b[39mif\u001b[39;00m chunksize \u001b[39mor\u001b[39;00m iterator:\n\u001b[0;32m    614\u001b[0m     \u001b[39mreturn\u001b[39;00m parser\n",
      "File \u001b[1;32mc:\\anaconda3\\envs\\test\\Lib\\site-packages\\pandas\\io\\parsers\\readers.py:1448\u001b[0m, in \u001b[0;36mTextFileReader.__init__\u001b[1;34m(self, f, engine, **kwds)\u001b[0m\n\u001b[0;32m   1445\u001b[0m     \u001b[39mself\u001b[39m\u001b[39m.\u001b[39moptions[\u001b[39m\"\u001b[39m\u001b[39mhas_index_names\u001b[39m\u001b[39m\"\u001b[39m] \u001b[39m=\u001b[39m kwds[\u001b[39m\"\u001b[39m\u001b[39mhas_index_names\u001b[39m\u001b[39m\"\u001b[39m]\n\u001b[0;32m   1447\u001b[0m \u001b[39mself\u001b[39m\u001b[39m.\u001b[39mhandles: IOHandles \u001b[39m|\u001b[39m \u001b[39mNone\u001b[39;00m \u001b[39m=\u001b[39m \u001b[39mNone\u001b[39;00m\n\u001b[1;32m-> 1448\u001b[0m \u001b[39mself\u001b[39m\u001b[39m.\u001b[39m_engine \u001b[39m=\u001b[39m \u001b[39mself\u001b[39;49m\u001b[39m.\u001b[39;49m_make_engine(f, \u001b[39mself\u001b[39;49m\u001b[39m.\u001b[39;49mengine)\n",
      "File \u001b[1;32mc:\\anaconda3\\envs\\test\\Lib\\site-packages\\pandas\\io\\parsers\\readers.py:1705\u001b[0m, in \u001b[0;36mTextFileReader._make_engine\u001b[1;34m(self, f, engine)\u001b[0m\n\u001b[0;32m   1703\u001b[0m     \u001b[39mif\u001b[39;00m \u001b[39m\"\u001b[39m\u001b[39mb\u001b[39m\u001b[39m\"\u001b[39m \u001b[39mnot\u001b[39;00m \u001b[39min\u001b[39;00m mode:\n\u001b[0;32m   1704\u001b[0m         mode \u001b[39m+\u001b[39m\u001b[39m=\u001b[39m \u001b[39m\"\u001b[39m\u001b[39mb\u001b[39m\u001b[39m\"\u001b[39m\n\u001b[1;32m-> 1705\u001b[0m \u001b[39mself\u001b[39m\u001b[39m.\u001b[39mhandles \u001b[39m=\u001b[39m get_handle(\n\u001b[0;32m   1706\u001b[0m     f,\n\u001b[0;32m   1707\u001b[0m     mode,\n\u001b[0;32m   1708\u001b[0m     encoding\u001b[39m=\u001b[39;49m\u001b[39mself\u001b[39;49m\u001b[39m.\u001b[39;49moptions\u001b[39m.\u001b[39;49mget(\u001b[39m\"\u001b[39;49m\u001b[39mencoding\u001b[39;49m\u001b[39m\"\u001b[39;49m, \u001b[39mNone\u001b[39;49;00m),\n\u001b[0;32m   1709\u001b[0m     compression\u001b[39m=\u001b[39;49m\u001b[39mself\u001b[39;49m\u001b[39m.\u001b[39;49moptions\u001b[39m.\u001b[39;49mget(\u001b[39m\"\u001b[39;49m\u001b[39mcompression\u001b[39;49m\u001b[39m\"\u001b[39;49m, \u001b[39mNone\u001b[39;49;00m),\n\u001b[0;32m   1710\u001b[0m     memory_map\u001b[39m=\u001b[39;49m\u001b[39mself\u001b[39;49m\u001b[39m.\u001b[39;49moptions\u001b[39m.\u001b[39;49mget(\u001b[39m\"\u001b[39;49m\u001b[39mmemory_map\u001b[39;49m\u001b[39m\"\u001b[39;49m, \u001b[39mFalse\u001b[39;49;00m),\n\u001b[0;32m   1711\u001b[0m     is_text\u001b[39m=\u001b[39;49mis_text,\n\u001b[0;32m   1712\u001b[0m     errors\u001b[39m=\u001b[39;49m\u001b[39mself\u001b[39;49m\u001b[39m.\u001b[39;49moptions\u001b[39m.\u001b[39;49mget(\u001b[39m\"\u001b[39;49m\u001b[39mencoding_errors\u001b[39;49m\u001b[39m\"\u001b[39;49m, \u001b[39m\"\u001b[39;49m\u001b[39mstrict\u001b[39;49m\u001b[39m\"\u001b[39;49m),\n\u001b[0;32m   1713\u001b[0m     storage_options\u001b[39m=\u001b[39;49m\u001b[39mself\u001b[39;49m\u001b[39m.\u001b[39;49moptions\u001b[39m.\u001b[39;49mget(\u001b[39m\"\u001b[39;49m\u001b[39mstorage_options\u001b[39;49m\u001b[39m\"\u001b[39;49m, \u001b[39mNone\u001b[39;49;00m),\n\u001b[0;32m   1714\u001b[0m )\n\u001b[0;32m   1715\u001b[0m \u001b[39massert\u001b[39;00m \u001b[39mself\u001b[39m\u001b[39m.\u001b[39mhandles \u001b[39mis\u001b[39;00m \u001b[39mnot\u001b[39;00m \u001b[39mNone\u001b[39;00m\n\u001b[0;32m   1716\u001b[0m f \u001b[39m=\u001b[39m \u001b[39mself\u001b[39m\u001b[39m.\u001b[39mhandles\u001b[39m.\u001b[39mhandle\n",
      "File \u001b[1;32mc:\\anaconda3\\envs\\test\\Lib\\site-packages\\pandas\\io\\common.py:863\u001b[0m, in \u001b[0;36mget_handle\u001b[1;34m(path_or_buf, mode, encoding, compression, memory_map, is_text, errors, storage_options)\u001b[0m\n\u001b[0;32m    858\u001b[0m \u001b[39melif\u001b[39;00m \u001b[39misinstance\u001b[39m(handle, \u001b[39mstr\u001b[39m):\n\u001b[0;32m    859\u001b[0m     \u001b[39m# Check whether the filename is to be opened in binary mode.\u001b[39;00m\n\u001b[0;32m    860\u001b[0m     \u001b[39m# Binary mode does not support 'encoding' and 'newline'.\u001b[39;00m\n\u001b[0;32m    861\u001b[0m     \u001b[39mif\u001b[39;00m ioargs\u001b[39m.\u001b[39mencoding \u001b[39mand\u001b[39;00m \u001b[39m\"\u001b[39m\u001b[39mb\u001b[39m\u001b[39m\"\u001b[39m \u001b[39mnot\u001b[39;00m \u001b[39min\u001b[39;00m ioargs\u001b[39m.\u001b[39mmode:\n\u001b[0;32m    862\u001b[0m         \u001b[39m# Encoding\u001b[39;00m\n\u001b[1;32m--> 863\u001b[0m         handle \u001b[39m=\u001b[39m \u001b[39mopen\u001b[39;49m(\n\u001b[0;32m    864\u001b[0m             handle,\n\u001b[0;32m    865\u001b[0m             ioargs\u001b[39m.\u001b[39;49mmode,\n\u001b[0;32m    866\u001b[0m             encoding\u001b[39m=\u001b[39;49mioargs\u001b[39m.\u001b[39;49mencoding,\n\u001b[0;32m    867\u001b[0m             errors\u001b[39m=\u001b[39;49merrors,\n\u001b[0;32m    868\u001b[0m             newline\u001b[39m=\u001b[39;49m\u001b[39m\"\u001b[39;49m\u001b[39m\"\u001b[39;49m,\n\u001b[0;32m    869\u001b[0m         )\n\u001b[0;32m    870\u001b[0m     \u001b[39melse\u001b[39;00m:\n\u001b[0;32m    871\u001b[0m         \u001b[39m# Binary mode\u001b[39;00m\n\u001b[0;32m    872\u001b[0m         handle \u001b[39m=\u001b[39m \u001b[39mopen\u001b[39m(handle, ioargs\u001b[39m.\u001b[39mmode)\n",
      "\u001b[1;31mFileNotFoundError\u001b[0m: [Errno 2] No such file or directory: 'data/booking/raw_utah_attractions.csv'"
     ]
    }
   ],
   "source": [
    "# scrape attractions attributes\n",
    "utah_attractions = pd.read_csv(\"data/booking/raw_utah_attractions.csv\")\n",
    "urls = utah_attractions[\"reviews_url\"].tolist()\n",
    "utah_attractions_atributes = pd.DataFrame(scrap_attractions_attribute(urls))\n",
    "utah_attractions_atributes"
   ]
  }
 ],
 "metadata": {
  "kernelspec": {
   "display_name": "test",
   "language": "python",
   "name": "python3"
  },
  "language_info": {
   "codemirror_mode": {
    "name": "ipython",
    "version": 3
   },
   "file_extension": ".py",
   "mimetype": "text/x-python",
   "name": "python",
   "nbconvert_exporter": "python",
   "pygments_lexer": "ipython3",
   "version": "3.11.4"
  }
 },
 "nbformat": 4,
 "nbformat_minor": 2
}
