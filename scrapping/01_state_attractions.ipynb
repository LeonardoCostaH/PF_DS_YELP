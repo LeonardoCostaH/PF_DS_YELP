{
 "cells": [
  {
   "cell_type": "markdown",
   "metadata": {},
   "source": [
    "#### ATTRACTIONS EXTRACTION PROCESS"
   ]
  },
  {
   "cell_type": "markdown",
   "metadata": {},
   "source": [
    "This notebook was used to execute manually the scripts to scrape all of the usa most popular touristic attractions.\n",
    "\n",
    "From the scrapping.py file we import scrape_state_attractions, this function takes a state and the corresponding url and returns a pandas dataframe with each state's touristic attractions:\n",
    "\n",
    "- attributes\n",
    "- scores\n",
    "\n",
    "The data was scrapped from the [Tripadvisor.com](https://www.tripadvisor.com.ar/) web, from a page like this: [tripadvisor/attractions/california/.com](https://www.tripadvisor.com.ar/Attractions-g28926-Activities-oa0-California.html)."
   ]
  },
  {
   "cell_type": "code",
   "execution_count": 25,
   "metadata": {},
   "outputs": [
    {
     "name": "stderr",
     "output_type": "stream",
     "text": [
      "Cannot find header.dxf (GDAL_DATA is not defined)\n"
     ]
    },
    {
     "data": {
      "text/plain": [
       "'# This functions takes a state_id and executes the scrapping process\\ndef scrape(state_id: list):\\n    state = state=usa_states[\"state\"][usa_states[\"state_id\"] == state_id].iloc[0]\\n    hotels = pd.read_csv(f\"../data/booking/{state}_hotels.csv\")\\n    hotels_attributes = scrapping.scrap_state_attractions(hotels[\"reviews_url\"].tolist())\\n    personalised_graphics.missing_values_heatmap(hotels_attributes, f\"{state}_hotels_attributes scrape result\") # explore data\\n    return hotels_attributes'"
      ]
     },
     "execution_count": 15,
     "metadata": {},
     "output_type": "execute_result"
    }
   ],
   "source": [
    "import sys\n",
    "import scrapping\n",
    "import pandas as pd\n",
    "\n",
    "sys.path.append('../files/lib')\n",
    "import personalised_graphics\n",
    "\n",
    "usa_cities = pd.read_csv(\"../files/data/usa_cities.csv\")\n",
    "usa_states = pd.read_csv(\"../files/data/usa_states.csv\")\n",
    "\n",
    "\"\"\"# This functions takes a state_id and executes the scrapping process\n",
    "def scrape(state_id: list):\n",
    "    state = state=usa_states[\"state\"][usa_states[\"state_id\"] == state_id].iloc[0]\n",
    "    hotels = pd.read_csv(f\"../data/booking/{state}_hotels.csv\")\n",
    "    hotels_attributes = scrapping.scrap_state_attractions(hotels[\"reviews_url\"].tolist())\n",
    "    personalised_graphics.missing_values_heatmap(hotels_attributes, f\"{state}_hotels_attributes scrape result\") # explore data\n",
    "    return hotels_attributes\"\"\""
   ]
  },
  {
   "cell_type": "markdown",
   "metadata": {},
   "source": [
    "west pacific"
   ]
  },
  {
   "cell_type": "code",
   "execution_count": 24,
   "metadata": {},
   "outputs": [
    {
     "data": {
      "image/png": "[encoded data removed]",
      "text/plain": [
       "<Figure size 1000x600 with 1 Axes>"
      ]
     },
     "metadata": {},
     "output_type": "display_data"
    }
   ],
   "source": [
    "west_pacific = [[\"Alaska\", \"https://www.tripadvisor.com.ar/Attractions-g28923-Activities-oa0-Alaska.html\"],\n",
    "                [\"Hawaii\", \"https://www.tripadvisor.com.ar/Attractions-g29217-Activities-oa0-Island_of_Hawaii_Hawaii.html\"],\n",
    "                [\"California\", \"https://www.tripadvisor.com.ar/Attractions-g28926-Activities-oa0-California.html\"],\n",
    "                [\"Oregon\", \"https://www.tripadvisor.com.ar/Attractions-g1438848-Activities-oa0-Oregon_Coast_Oregon.html\"],\n",
    "                [\"Washington\", \"https://www.tripadvisor.com.ar/Attractions-g28968-Activities-oa0-Washington.html\"]]\n",
    "\n",
    "west_pacific_attractions = pd.DataFrame()\n",
    "for state in west_pacific:\n",
    "    state_attributes = scrapping.scrap_state_attractions(state[0], state[1], report=False)\n",
    "    west_pacific_attractions = pd.concat([west_pacific_attractions, state_attributes], ignore_index=True)\n",
    "\n",
    "# Transform\n",
    "west_pacific_attractions['attraction'] = west_pacific_attractions['attraction'].str.replace(r'^\\d+\\.\\s*', '', regex=True) # Process attraction\n",
    "west_pacific_attractions['categories'] = west_pacific_attractions['categories'].str.replace(' • ', ', ') # Process categories\n",
    "\n",
    "west_pacific_attractions[\"region\"] = \"west pacific\"\n",
    "\n",
    "# Explore and export\n",
    "personalised_graphics.missing_values_heatmap(west_pacific_attractions, \"oregon_attractions\")\n",
    "west_pacific_attractions.to_csv(\"../files/data/tripadvisor/west_pacific_attractions.csv\")"
   ]
  }
 ],
 "metadata": {
  "kernelspec": {
   "display_name": "test",
   "language": "python",
   "name": "python3"
  },
  "language_info": {
   "codemirror_mode": {
    "name": "ipython",
    "version": 3
   },
   "file_extension": ".py",
   "mimetype": "text/x-python",
   "name": "python",
   "nbconvert_exporter": "python",
   "pygments_lexer": "ipython3",
   "version": "3.11.4"
  }
 },
 "nbformat": 4,
 "nbformat_minor": 2
}
