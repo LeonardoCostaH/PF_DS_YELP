{
 "cells": [
  {
   "cell_type": "markdown",
   "metadata": {},
   "source": [
    "#### ATTRACTIONS EXTRACTION PROCESS"
   ]
  },
  {
   "cell_type": "markdown",
   "metadata": {},
   "source": [
    "This notebook was used to execute manually the scripts to scrape all of the usa most popular touristic attractions.\n",
    "\n",
    "From the scrapping.py file we import scrape_state_attractions, this function takes a state and the corresponding url and returns a pandas dataframe with each state's touristic attractions:\n",
    "\n",
    "- attributes\n",
    "- scores\n",
    "\n",
    "The data was scrapped from the [Tripadvisor.com](https://www.tripadvisor.com.ar/) web, from a page like this: [tripadvisor/attractions/california/.com](https://www.tripadvisor.com.ar/Attractions-g28926-Activities-oa0-California.html)."
   ]
  },
  {
   "cell_type": "code",
   "execution_count": 2,
   "metadata": {},
   "outputs": [],
   "source": [
    "import scrapping\n",
    "import pandas as pd\n",
    "\n",
    "usa_cities = pd.read_csv(\"../files/data/usa_cities.csv\")\n",
    "usa_states = pd.read_csv(\"../files/data/usa_states.csv\")"
   ]
  },
  {
   "cell_type": "markdown",
   "metadata": {},
   "source": [
    "WEST - Pacific"
   ]
  },
  {
   "cell_type": "code",
   "execution_count": 6,
   "metadata": {},
   "outputs": [
    {
     "data": {
      "text/html": [
       "<div>\n",
       "<style scoped>\n",
       "    .dataframe tbody tr th:only-of-type {\n",
       "        vertical-align: middle;\n",
       "    }\n",
       "\n",
       "    .dataframe tbody tr th {\n",
       "        vertical-align: top;\n",
       "    }\n",
       "\n",
       "    .dataframe thead th {\n",
       "        text-align: right;\n",
       "    }\n",
       "</style>\n",
       "<table border=\"1\" class=\"dataframe\">\n",
       "  <thead>\n",
       "    <tr style=\"text-align: right;\">\n",
       "      <th></th>\n",
       "      <th>state_id</th>\n",
       "      <th>attraction</th>\n",
       "      <th>categories</th>\n",
       "      <th>reviews_url</th>\n",
       "      <th>region</th>\n",
       "    </tr>\n",
       "  </thead>\n",
       "  <tbody>\n",
       "    <tr>\n",
       "      <th>0</th>\n",
       "      <td>AK</td>\n",
       "      <td>Mendenhall Glacier Visitor Center</td>\n",
       "      <td>Centros de información turística, Formaciones ...</td>\n",
       "      <td>https://www.tripadvisor.com.ar/Attraction_Revi...</td>\n",
       "      <td>West Pacific</td>\n",
       "    </tr>\n",
       "    <tr>\n",
       "      <th>1</th>\n",
       "      <td>AK</td>\n",
       "      <td>Fountainhead Antique Auto Museum</td>\n",
       "      <td>Museos especializados</td>\n",
       "      <td>https://www.tripadvisor.com.ar/Attraction_Revi...</td>\n",
       "      <td>West Pacific</td>\n",
       "    </tr>\n",
       "    <tr>\n",
       "      <th>2</th>\n",
       "      <td>AK</td>\n",
       "      <td>Tracy Arm Fjord</td>\n",
       "      <td>Masas de agua</td>\n",
       "      <td>https://www.tripadvisor.com.ar/Attraction_Revi...</td>\n",
       "      <td>West Pacific</td>\n",
       "    </tr>\n",
       "    <tr>\n",
       "      <th>3</th>\n",
       "      <td>AK</td>\n",
       "      <td>Alaska Wildlife Conservation Center</td>\n",
       "      <td>Áreas de naturaleza y vida silvestre</td>\n",
       "      <td>https://www.tripadvisor.com.ar/Attraction_Revi...</td>\n",
       "      <td>West Pacific</td>\n",
       "    </tr>\n",
       "    <tr>\n",
       "      <th>4</th>\n",
       "      <td>AK</td>\n",
       "      <td>Denali</td>\n",
       "      <td>Montañas</td>\n",
       "      <td>https://www.tripadvisor.com.ar/Attraction_Revi...</td>\n",
       "      <td>West Pacific</td>\n",
       "    </tr>\n",
       "    <tr>\n",
       "      <th>...</th>\n",
       "      <td>...</td>\n",
       "      <td>...</td>\n",
       "      <td>...</td>\n",
       "      <td>...</td>\n",
       "      <td>...</td>\n",
       "    </tr>\n",
       "    <tr>\n",
       "      <th>211</th>\n",
       "      <td>OR</td>\n",
       "      <td>Astoria Column</td>\n",
       "      <td>Áreas de naturaleza y vida silvestre, Monument...</td>\n",
       "      <td>https://www.tripadvisor.com.ar/Attraction_Revi...</td>\n",
       "      <td>West Pacific</td>\n",
       "    </tr>\n",
       "    <tr>\n",
       "      <th>212</th>\n",
       "      <td>OR</td>\n",
       "      <td>Yaquina Head Outstanding Natural Area</td>\n",
       "      <td>Áreas de naturaleza y vida silvestre</td>\n",
       "      <td>https://www.tripadvisor.com.ar/Attraction_Revi...</td>\n",
       "      <td>West Pacific</td>\n",
       "    </tr>\n",
       "    <tr>\n",
       "      <th>213</th>\n",
       "      <td>OR</td>\n",
       "      <td>Columbia River Maritime Museum</td>\n",
       "      <td>Museos especializados, Masas de agua</td>\n",
       "      <td>https://www.tripadvisor.com.ar/Attraction_Revi...</td>\n",
       "      <td>West Pacific</td>\n",
       "    </tr>\n",
       "    <tr>\n",
       "      <th>214</th>\n",
       "      <td>OR</td>\n",
       "      <td>Otter Crest Loop</td>\n",
       "      <td>Rutas turísticas</td>\n",
       "      <td>https://www.tripadvisor.com.ar/Attraction_Revi...</td>\n",
       "      <td>West Pacific</td>\n",
       "    </tr>\n",
       "    <tr>\n",
       "      <th>215</th>\n",
       "      <td>OR</td>\n",
       "      <td>High Life Adventures</td>\n",
       "      <td>Tours turísticos</td>\n",
       "      <td>https://www.tripadvisor.com.ar/Attraction_Revi...</td>\n",
       "      <td>West Pacific</td>\n",
       "    </tr>\n",
       "  </tbody>\n",
       "</table>\n",
       "<p>216 rows × 5 columns</p>\n",
       "</div>"
      ],
      "text/plain": [
       "    state_id                             attraction  \\\n",
       "0         AK      Mendenhall Glacier Visitor Center   \n",
       "1         AK       Fountainhead Antique Auto Museum   \n",
       "2         AK                        Tracy Arm Fjord   \n",
       "3         AK    Alaska Wildlife Conservation Center   \n",
       "4         AK                                 Denali   \n",
       "..       ...                                    ...   \n",
       "211       OR                         Astoria Column   \n",
       "212       OR  Yaquina Head Outstanding Natural Area   \n",
       "213       OR         Columbia River Maritime Museum   \n",
       "214       OR                       Otter Crest Loop   \n",
       "215       OR                   High Life Adventures   \n",
       "\n",
       "                                            categories  \\\n",
       "0    Centros de información turística, Formaciones ...   \n",
       "1                                Museos especializados   \n",
       "2                                        Masas de agua   \n",
       "3                 Áreas de naturaleza y vida silvestre   \n",
       "4                                             Montañas   \n",
       "..                                                 ...   \n",
       "211  Áreas de naturaleza y vida silvestre, Monument...   \n",
       "212               Áreas de naturaleza y vida silvestre   \n",
       "213               Museos especializados, Masas de agua   \n",
       "214                                   Rutas turísticas   \n",
       "215                                   Tours turísticos   \n",
       "\n",
       "                                           reviews_url        region  \n",
       "0    https://www.tripadvisor.com.ar/Attraction_Revi...  West Pacific  \n",
       "1    https://www.tripadvisor.com.ar/Attraction_Revi...  West Pacific  \n",
       "2    https://www.tripadvisor.com.ar/Attraction_Revi...  West Pacific  \n",
       "3    https://www.tripadvisor.com.ar/Attraction_Revi...  West Pacific  \n",
       "4    https://www.tripadvisor.com.ar/Attraction_Revi...  West Pacific  \n",
       "..                                                 ...           ...  \n",
       "211  https://www.tripadvisor.com.ar/Attraction_Revi...  West Pacific  \n",
       "212  https://www.tripadvisor.com.ar/Attraction_Revi...  West Pacific  \n",
       "213  https://www.tripadvisor.com.ar/Attraction_Revi...  West Pacific  \n",
       "214  https://www.tripadvisor.com.ar/Attraction_Revi...  West Pacific  \n",
       "215  https://www.tripadvisor.com.ar/Attraction_Revi...  West Pacific  \n",
       "\n",
       "[216 rows x 5 columns]"
      ]
     },
     "execution_count": 6,
     "metadata": {},
     "output_type": "execute_result"
    }
   ],
   "source": [
    "pacific = [[\"Alaska\", \"https://www.tripadvisor.com.ar/Attractions-g28923-Activities-oa0-Alaska.html\"],\n",
    "                [\"Hawaii\", \"https://www.tripadvisor.com.ar/Attractions-g29217-Activities-oa0-Island_of_Hawaii_Hawaii.html\"],\n",
    "                [\"California\", \"https://www.tripadvisor.com.ar/Attractions-g28926-Activities-oa0-California.html\"],\n",
    "                [\"Oregon\", \"https://www.tripadvisor.com.ar/Attractions-g1438848-Activities-oa0-Oregon_Coast_Oregon.html\"],\n",
    "                [\"Washington\", \"https://www.tripadvisor.com.ar/Attractions-g28968-Activities-oa0-Washington.html\"]]\n",
    "\n",
    "pacific_attractions = pd.DataFrame()\n",
    "for state in pacific:\n",
    "    state_attributes = pd.DataFrame(scrapping.scrape_state_attractions(state[0], state[1], report=False))\n",
    "    pacific_attractions = pd.concat([pacific_attractions, state_attributes], ignore_index=True)\n",
    "\n",
    "# Transform\n",
    "pacific_attractions['attraction'] = pacific_attractions['attraction'].str.replace(r'^\\d+\\.\\s*', '', regex=True) # Process attraction\n",
    "pacific_attractions['categories'] = pacific_attractions['categories'].str.replace(' • ', ', ') # Process categories\n",
    "pacific_attractions[\"region\"] = \"West Pacific\"\n",
    "\n",
    "# Explore and export\n",
    "pacific_attractions.to_csv(\"../files/data/tripadvisor/pacific_attractions.csv\")\n",
    "pacific_attractions"
   ]
  },
  {
   "cell_type": "markdown",
   "metadata": {},
   "source": [
    "WEST - Mountain"
   ]
  },
  {
   "cell_type": "code",
   "execution_count": 3,
   "metadata": {},
   "outputs": [],
   "source": [
    "mountain = [[\"Arizona\", \"https://www.tripadvisor.com.ar/Attractions-g28924-Activities-oa0-Arizona.html\"],\n",
    "                [\"Colorado\", \"https://www.tripadvisor.com.ar/Attractions-g28927-Activities-oa0-Colorado.html\"],\n",
    "                [\"Idaho\", \"https://www.tripadvisor.com.ar/Attractions-g28933-Activities-oa0-Idaho.html\"],\n",
    "                [\"Montana\", \"https://www.tripadvisor.com.ar/Attractions-g28947-Activities-oa0-Montana.html\"],\n",
    "                [\"Nevada\", \"https://www.tripadvisor.com.ar/Attractions-g28949-Activities-oa0-Nevada.html\"],\n",
    "                [\"New Mexico\", \"https://www.tripadvisor.com.ar/Attractions-g28952-Activities-oa0-New_Mexico.html\"],\n",
    "                [\"Utah\", \"https://www.tripadvisor.com.ar/Attractions-g28965-Activities-oa0-Utah.html\"],\n",
    "                [\"Wyoming\", \"https://www.tripadvisor.com.ar/Attractions-g28973-Activities-oa0-Wyoming.html\"]]\n",
    "\n",
    "mountain_attractions = pd.DataFrame()\n",
    "for state in mountain:\n",
    "    state_attributes = pd.DataFrame(scrapping.scrape_state_attractions(state[0], state[1], report=False))\n",
    "    mountain_attractions = pd.concat([mountain_attractions, state_attributes], ignore_index=True)\n",
    "\n",
    "# Transform\n",
    "mountain_attractions['attraction'] = mountain_attractions['attraction'].str.replace(r'^\\d+\\.\\s*', '', regex=True) # Process attraction\n",
    "mountain_attractions['categories'] = mountain_attractions['categories'].str.replace(' • ', ', ') # Process categories\n",
    "mountain_attractions[\"region\"] = \"Mountain\"\n",
    "\n",
    "# Explore and export\n",
    "mountain_attractions.to_csv(\"../files/data/tripadvisor/mountain_attractions.csv\")"
   ]
  },
  {
   "cell_type": "markdown",
   "metadata": {},
   "source": [
    "SOUTH - West South Central"
   ]
  },
  {
   "cell_type": "code",
   "execution_count": 28,
   "metadata": {},
   "outputs": [],
   "source": [
    "west_south_central = [[\"Arkansas\", \"https://www.tripadvisor.com.ar/Attractions-g28925-Activities-oa0-Arkansas.html\"],\n",
    "                [\"Louisiana\", \"https://www.tripadvisor.com.ar/Attractions-g28939-Activities-oa0-Louisiana.html\"],\n",
    "                [\"Oklahoma\", \"https://www.tripadvisor.com.ar/Attractions-g28957-Activities-oa0-Oklahoma.html\"],\n",
    "                [\"Texas\", \"https://www.tripadvisor.com.ar/Attractions-g28964-Activities-oa0-Texas.html\"]]\n",
    "\n",
    "west_south_central_attractions = pd.DataFrame()\n",
    "for state in west_south_central:\n",
    "    state_attributes = pd.DataFrame(scrapping.scrape_state_attractions(state[0], state[1], report=False))\n",
    "    west_south_central_attractions = pd.concat([west_south_central_attractions, state_attributes], ignore_index=True)\n",
    "\n",
    "# Transform\n",
    "west_south_central_attractions['attraction'] = west_south_central_attractions['attraction'].str.replace(r'^\\d+\\.\\s*', '', regex=True) # Process attraction\n",
    "west_south_central_attractions['categories'] = west_south_central_attractions['categories'].str.replace(' • ', ', ') # Process categories\n",
    "west_south_central_attractions[\"region\"] = \"West South Central\"\n",
    "\n",
    "# Explore and export\n",
    "west_south_central_attractions.to_csv(\"../files/data/tripadvisor/west_south_central_attractions.csv\")"
   ]
  },
  {
   "cell_type": "markdown",
   "metadata": {},
   "source": [
    "SOUTH - East South Central"
   ]
  },
  {
   "cell_type": "code",
   "execution_count": 27,
   "metadata": {},
   "outputs": [],
   "source": [
    "east_south_central = [[\"Alabama\", \"https://www.tripadvisor.com.ar/Attractions-g28922-Activities-oa0-Alabama.html\"],\n",
    "                [\"Kentucky\", \"https://www.tripadvisor.com.ar/Attractions-g28938-Activities-oa0-Kentucky.html\"],\n",
    "                [\"Mississippi\", \"https://www.tripadvisor.com.ar/Attractions-g28945-Activities-oa0-Mississippi.html\"],\n",
    "                [\"Tennessee\", \"https://www.tripadvisor.com.ar/Attractions-g28963-Activities-oa0-Tennessee.html\"]]\n",
    "\n",
    "east_south_central_attractions = pd.DataFrame()\n",
    "for state in east_south_central:\n",
    "    state_attributes = pd.DataFrame(scrapping.scrape_state_attractions(state[0], state[1], report=False))\n",
    "    east_south_central_attractions = pd.concat([east_south_central_attractions, state_attributes], ignore_index=True)\n",
    "\n",
    "# Transform\n",
    "east_south_central_attractions['attraction'] = east_south_central_attractions['attraction'].str.replace(r'^\\d+\\.\\s*', '', regex=True) # Process attraction\n",
    "east_south_central_attractions['categories'] = east_south_central_attractions['categories'].str.replace(' • ', ', ') # Process categories\n",
    "east_south_central_attractions[\"region\"] = \"East South Central\"\n",
    "\n",
    "# Explore and export\n",
    "east_south_central_attractions.to_csv(\"../files/data/tripadvisor/east_south_central_attractions.csv\")"
   ]
  },
  {
   "cell_type": "markdown",
   "metadata": {},
   "source": [
    "SOUTH - South Atlantic"
   ]
  },
  {
   "cell_type": "code",
   "execution_count": 26,
   "metadata": {},
   "outputs": [],
   "source": [
    "south_atlantic = [[\"Delaware\", \"https://www.tripadvisor.com.ar/Attractions-g28929-Activities-oa0-Delaware.html\"],\n",
    "                [\"Florida\", \"https://www.tripadvisor.com.ar/Attractions-g28930-Activities-oa0-Florida.html\"],\n",
    "                [\"Georgia\", \"https://www.tripadvisor.com.ar/Attractions-g28931-Activities-oa0-Georgia.html\"],\n",
    "                [\"South Carolina\", \"https://www.tripadvisor.com.ar/Attractions-g28961-Activities-oa0-South_Carolina.html\"],\n",
    "                [\"North Carolina\", \"https://www.tripadvisor.com.ar/Attractions-g28954-Activities-oa0-North_Carolina.html\"],\n",
    "                [\"Maryland\", \"https://www.tripadvisor.com.ar/Attractions-g28941-Activities-oa0-Maryland.html\"],\n",
    "                [\"Virginia\", \"https://www.tripadvisor.com.ar/Attractions-g28967-Activities-oa0-Virginia.html\"],\n",
    "                [\"West Virginia\", \"https://www.tripadvisor.com.ar/Attractions-g28971-Activities-oa0-West_Virginia.html\"],\n",
    "                [\"District of Columbia\", \"https://www.tripadvisor.com.ar/Attractions-g28970-Activities-oa0-Washington_DC_District_of_Columbia.html\"]]\n",
    "\n",
    "south_atlantic_attractions = pd.DataFrame()\n",
    "for state in south_atlantic:\n",
    "    state_attributes = pd.DataFrame(scrapping.scrape_state_attractions(state[0], state[1], report=False))\n",
    "    south_atlantic_attractions = pd.concat([south_atlantic_attractions, state_attributes], ignore_index=True)\n",
    "\n",
    "# Transform\n",
    "south_atlantic_attractions['attraction'] = south_atlantic_attractions['attraction'].str.replace(r'^\\d+\\.\\s*', '', regex=True) # Process attraction\n",
    "south_atlantic_attractions['categories'] = south_atlantic_attractions['categories'].str.replace(' • ', ', ') # Process categories\n",
    "south_atlantic_attractions[\"region\"] = \"South Atlantic\"\n",
    "\n",
    "# Explore and export\n",
    "south_atlantic_attractions.to_csv(\"../files/data/tripadvisor/south_atlantic_attractions.csv\")"
   ]
  },
  {
   "cell_type": "markdown",
   "metadata": {},
   "source": [
    "MIDWEST - West North Central"
   ]
  },
  {
   "cell_type": "code",
   "execution_count": 3,
   "metadata": {},
   "outputs": [],
   "source": [
    "west_north_central = [[\"North Dakota\", \"https://www.tripadvisor.com.ar/Attractions-g28955-Activities-oa0-North_Dakota.html\"],\n",
    "                [\"South Dakota\", \"https://www.tripadvisor.com.ar/Attractions-g28962-Activities-oa0-South_Dakota.html\"],\n",
    "                [\"Iowa\", \"https://www.tripadvisor.com.ar/Attractions-g28936-Activities-oa0-Iowa.html\"],\n",
    "                [\"Kansas\", \"https://www.tripadvisor.com.ar/Attractions-g28937-Activities-oa0-Kansas.html\"],\n",
    "                [\"Minnesota\", \"https://www.tripadvisor.com.ar/Attractions-g28944-Activities-oa0-Minnesota.html\"],\n",
    "                [\"Missouri\", \"https://www.tripadvisor.com.ar/Attractions-g28946-Activities-oa0-Missouri.html\"],\n",
    "                [\"Nebraska\", \"https://www.tripadvisor.com.ar/Attractions-g28948-Activities-oa0-Nebraska.html\"]]\n",
    "\n",
    "west_north_central_attractions = pd.DataFrame()\n",
    "for state in west_north_central:\n",
    "    state_attributes = pd.DataFrame(scrapping.scrape_state_attractions(state[0], state[1], report=False))\n",
    "    west_north_central_attractions = pd.concat([west_north_central_attractions, state_attributes], ignore_index=True)\n",
    "\n",
    "# Transform\n",
    "west_north_central_attractions['attraction'] = west_north_central_attractions['attraction'].str.replace(r'^\\d+\\.\\s*', '', regex=True) # Process attraction\n",
    "west_north_central_attractions['categories'] = west_north_central_attractions['categories'].str.replace(' • ', ', ') # Process categories\n",
    "west_north_central_attractions[\"region\"] = \"West North Central\"\n",
    "\n",
    "# Explore and export\n",
    "west_north_central_attractions.to_csv(\"../files/data/tripadvisor/west_north_central_attractions.csv\")"
   ]
  },
  {
   "cell_type": "markdown",
   "metadata": {},
   "source": [
    "MIDWEST - East North Central"
   ]
  },
  {
   "cell_type": "code",
   "execution_count": 23,
   "metadata": {},
   "outputs": [],
   "source": [
    "east_north_central = [[\"Illinois\", \"https://www.tripadvisor.com.ar/Attractions-g28934-Activities-oa0-Illinois.html\"],\n",
    "                [\"Indiana\", \"https://www.tripadvisor.com.ar/Attractions-g28935-Activities-oa0-Indiana.html\"],\n",
    "                [\"Michigan\", \"https://www.tripadvisor.com.ar/Attractions-g28943-Activities-oa0-Michigan.html\"],\n",
    "                [\"Ohio\", \"https://www.tripadvisor.com.ar/Attractions-g28956-Activities-oa0-Ohio.html\"],\n",
    "                [\"Wisconsin\", \"https://www.tripadvisor.com.ar/Attractions-g28972-Activities-oa0-Wisconsin.html\"]]\n",
    "\n",
    "east_north_central_attractions = pd.DataFrame()\n",
    "for state in east_north_central:\n",
    "    state_attributes = pd.DataFrame(scrapping.scrape_state_attractions(state[0], state[1], report=False))\n",
    "    east_north_central_attractions = pd.concat([east_north_central_attractions, state_attributes], ignore_index=True)\n",
    "\n",
    "# Transform\n",
    "east_north_central_attractions['attraction'] = east_north_central_attractions['attraction'].str.replace(r'^\\d+\\.\\s*', '', regex=True) # Process attraction\n",
    "east_north_central_attractions['categories'] = east_north_central_attractions['categories'].str.replace(' • ', ', ') # Process categories\n",
    "east_north_central_attractions[\"region\"] = \"East North Central\"\n",
    "\n",
    "# Explore and export\n",
    "\n",
    "east_north_central_attractions.to_csv(\"../files/data/tripadvisor/east_north_central_attractions.csv\")"
   ]
  },
  {
   "cell_type": "markdown",
   "metadata": {},
   "source": [
    "NORTHEAST - New England"
   ]
  },
  {
   "cell_type": "code",
   "execution_count": 21,
   "metadata": {},
   "outputs": [],
   "source": [
    "new_england = [[\"Connecticut\", \"https://www.tripadvisor.com.ar/Attractions-g28928-Activities-oa0-Connecticut.html\"],\n",
    "                [\"Maine\", \"https://www.tripadvisor.com.ar/Attractions-g28940-Activities-oa0-Maine.html\"],\n",
    "                [\"Massachusetts\", \"https://www.tripadvisor.com.ar/Attractions-g28942-Activities-oa0-Massachusetts.html\"],\n",
    "                [\"New Hampshire\", \"https://www.tripadvisor.com.ar/Attractions-g28950-Activities-oa0-New_Hampshire.html\"],\n",
    "                [\"Rhode Island\", \"https://www.tripadvisor.com.ar/Attractions-g28960-Activities-oa0-Rhode_Island.html\"],\n",
    "                [\"Vermont\", \"https://www.tripadvisor.com.ar/Attractions-g28966-Activities-oa0-Vermont.html\"]]\n",
    "\n",
    "new_england_attractions = pd.DataFrame()\n",
    "for state in new_england:\n",
    "    state_attributes = pd.DataFrame(scrapping.scrape_state_attractions(state[0], state[1], report=False))\n",
    "    new_england_attractions = pd.concat([new_england_attractions, state_attributes], ignore_index=True)\n",
    "\n",
    "# Transform\n",
    "new_england_attractions['attraction'] = new_england_attractions['attraction'].str.replace(r'^\\d+\\.\\s*', '', regex=True) # Process attraction\n",
    "new_england_attractions['categories'] = new_england_attractions['categories'].str.replace(' • ', ', ') # Process categories\n",
    "new_england_attractions[\"region\"] = \"New England\"\n",
    "\n",
    "# Explore and export\n",
    "new_england_attractions.to_csv(\"../files/data/tripadvisor/new_england_attractions.csv\")"
   ]
  },
  {
   "cell_type": "markdown",
   "metadata": {},
   "source": [
    "NORTHEAST - Mid Atlantic"
   ]
  },
  {
   "cell_type": "code",
   "execution_count": 22,
   "metadata": {},
   "outputs": [],
   "source": [
    "mid_atlantic = [[\"New Jersey\", \"https://www.tripadvisor.com.ar/Attractions-g28951-Activities-oa0-New_Jersey.html\"],\n",
    "                [\"New York\", \"https://www.tripadvisor.com.ar/Attractions-g60763-Activities-oa0-New_York_City_New_York.html\"],\n",
    "                [\"Pennsylvania\", \"https://www.tripadvisor.com.ar/Attractions-g28959-Activities-oa0-Pennsylvania.html\"]]\n",
    "\n",
    "mid_atlantic_attractions = pd.DataFrame()\n",
    "for state in mid_atlantic:\n",
    "    state_attributes = pd.DataFrame(scrapping.scrape_state_attractions(state[0], state[1], report=False))\n",
    "    mid_atlantic_attractions = pd.concat([mid_atlantic_attractions, state_attributes], ignore_index=True)\n",
    "\n",
    "# Transform\n",
    "mid_atlantic_attractions['attraction'] = mid_atlantic_attractions['attraction'].str.replace(r'^\\d+\\.\\s*', '', regex=True) # Process attraction\n",
    "mid_atlantic_attractions['categories'] = mid_atlantic_attractions['categories'].str.replace(' • ', ', ') # Process categories\n",
    "mid_atlantic_attractions[\"region\"] = \"Mid Atlantic\"\n",
    "\n",
    "# Explore and export\n",
    "mid_atlantic_attractions.to_csv(\"../files/data/tripadvisor/mid_atlantic_attractions.csv\")"
   ]
  }
 ],
 "metadata": {
  "kernelspec": {
   "display_name": "test",
   "language": "python",
   "name": "python3"
  },
  "language_info": {
   "codemirror_mode": {
    "name": "ipython",
    "version": 3
   },
   "file_extension": ".py",
   "mimetype": "text/x-python",
   "name": "python",
   "nbconvert_exporter": "python",
   "pygments_lexer": "ipython3",
   "version": "3.11.3"
  }
 },
 "nbformat": 4,
 "nbformat_minor": 2
}
