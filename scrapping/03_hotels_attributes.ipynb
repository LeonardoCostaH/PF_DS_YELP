{
 "cells": [
  {
   "cell_type": "markdown",
   "metadata": {},
   "source": [
    "#### HOTELS ATTRIBUTES EXTRACTION PROCESS"
   ]
  },
  {
   "cell_type": "markdown",
   "metadata": {},
   "source": [
    "This notebook was used to execute manually the scripts to scrape all of the previously scrapped hotels attributes.\n",
    "\n",
    "From the scrapping.py file we import scrape_hotels_attributes, this function takes a list of urls and returns a dataframe with the following hotel data:\n",
    "\n",
    "- attributes\n",
    "- scores\n",
    "\n",
    "The data was scrapped from the [Booking.com](https://www.booking.com/index.es.html?label=gen173nr-1BCAEoggI46AdIM1gEaAyIAQGYAQq4ARfIAQzYAQHoAQGIAgGoAgO4At_puqsGwAIB0gIkOTkxOTFjMmEtNTEzYS00NDQyLTgxNmMtMWJmMzMyYzVjNjJj2AIF4AIB&sid=1a3dea14733e69dc474ff74d1fad21e9&keep_landing=1&sb_price_type=total&) web, from a page like this: [boooking/hotels/newyork/hotel.com](https://www.booking.com/hotel/us/west-side-ymca.es.html?aid=304142&label=gen173nr-1FCAEoggI46AdIM1gEaAyIAQGYAQq4ARfIAQzYAQHoAQH4AQyIAgGoAgO4Arj9uqsGwAIB0gIkMzNmMDQ2ZDMtOTkwYy00ZWVmLTgwZDYtYzhjMWUxZmFjM2Yz2AIG4AIB&sid=75f60e0ba4b489f2fe2baf48281729c2&dest_id=20088325;dest_type=city;dist=0;group_adults=2;group_children=0;hapos=4;hpos=4;no_rooms=1;req_adults=2;req_children=0;room1=A%2CA;sb_price_type=total;sr_order=popularity;srepoch=1701756621;srpvid=525f2b61586300dd;type=total;ucfs=1&#hotelTmpl)."
   ]
  },
  {
   "cell_type": "code",
   "execution_count": 7,
   "metadata": {},
   "outputs": [],
   "source": [
    "import sys\n",
    "import scrapping\n",
    "import pandas as pd\n",
    "\n",
    "usa_cities = pd.read_csv(\"../files/data/usa_cities.csv\")\n",
    "usa_states = pd.read_csv(\"../files/data/usa_states.csv\")\n",
    "\n",
    "# This functions takes a state_id and executes the scrapping process\n",
    "def scrape(state_id: list):\n",
    "    state = state=usa_states[\"state\"][usa_states[\"state_id\"] == state_id].iloc[0]\n",
    "    hotels = pd.read_csv(f\"../files/data/booking/{state}_hotels.csv\")\n",
    "    hotels_attributes = scrapping.scrape_hotels_attributes(hotels[\"reviews_url\"].tolist())\n",
    "    # personalised_graphics.missing_values_heatmap(hotels_attributes, f\"{state}_hotels_attributes scrape result\") # explore data\n",
    "    return hotels_attributes"
   ]
  },
  {
   "cell_type": "markdown",
   "metadata": {},
   "source": [
    "Utah"
   ]
  },
  {
   "cell_type": "code",
   "execution_count": 14,
   "metadata": {},
   "outputs": [
    {
     "name": "stdout",
     "output_type": "stream",
     "text": [
      "1/10\n",
      "Unexpected exception formatting exception. Falling back to standard exception\n"
     ]
    },
    {
     "name": "stderr",
     "output_type": "stream",
     "text": [
      "Traceback (most recent call last):\n",
      "  File \"C:\\Users\\anasi\\AppData\\Local\\Packages\\PythonSoftwareFoundation.Python.3.11_qbz5n2kfra8p0\\LocalCache\\local-packages\\Python311\\site-packages\\IPython\\core\\interactiveshell.py\", line 3508, in run_code\n",
      "    exec(code_obj, self.user_global_ns, self.user_ns)\n",
      "  File \"C:\\Users\\anasi\\AppData\\Local\\Temp\\ipykernel_20808\\957686571.py\", line 2, in <module>\n",
      "    hotels_attributes = scrapping.scrape_hotels_attributes(utah_hotels[\"reviews_url\"].head(10).tolist())\n",
      "                        ^^^^^^^^^^^^^^^^^^^^^^^^^^^^^^^^^^^^^^^^^^^^^^^^^^^^^^^^^^^^^^^^^^^^^^^^^^^^^^^^\n",
      "  File \"c:\\Users\\anasi\\OneDrive\\Documentos\\GitHub\\PF_DS_YELP\\scrapping\\scrapping.py\", line 188, in scrape_hotels_attributes\n",
      "  File \"C:\\Users\\anasi\\AppData\\Local\\Packages\\PythonSoftwareFoundation.Python.3.11_qbz5n2kfra8p0\\LocalCache\\local-packages\\Python311\\site-packages\\selenium\\webdriver\\remote\\webdriver.py\", line 353, in get\n",
      "    self.execute(Command.GET, {\"url\": url})\n",
      "  File \"C:\\Users\\anasi\\AppData\\Local\\Packages\\PythonSoftwareFoundation.Python.3.11_qbz5n2kfra8p0\\LocalCache\\local-packages\\Python311\\site-packages\\selenium\\webdriver\\remote\\webdriver.py\", line 344, in execute\n",
      "    self.error_handler.check_response(response)\n",
      "  File \"C:\\Users\\anasi\\AppData\\Local\\Packages\\PythonSoftwareFoundation.Python.3.11_qbz5n2kfra8p0\\LocalCache\\local-packages\\Python311\\site-packages\\selenium\\webdriver\\remote\\errorhandler.py\", line 229, in check_response\n",
      "    raise exception_class(message, screen, stacktrace)\n",
      "selenium.common.exceptions.NoSuchWindowException: Message: no such window: target window already closed\n",
      "from unknown error: web view not found\n",
      "  (Session info: chrome=119.0.6045.200)\n",
      "Stacktrace:\n",
      "\tGetHandleVerifier [0x00007FF6EC2B82B2+55298]\n",
      "\t(No symbol) [0x00007FF6EC225E02]\n",
      "\t(No symbol) [0x00007FF6EC0E05AB]\n",
      "\t(No symbol) [0x00007FF6EC0C0038]\n",
      "\t(No symbol) [0x00007FF6EC146BC7]\n",
      "\t(No symbol) [0x00007FF6EC15A15F]\n",
      "\t(No symbol) [0x00007FF6EC141E83]\n",
      "\t(No symbol) [0x00007FF6EC11670A]\n",
      "\t(No symbol) [0x00007FF6EC117964]\n",
      "\tGetHandleVerifier [0x00007FF6EC630AAB+3694587]\n",
      "\tGetHandleVerifier [0x00007FF6EC68728E+4048862]\n",
      "\tGetHandleVerifier [0x00007FF6EC67F173+4015811]\n",
      "\tGetHandleVerifier [0x00007FF6EC3547D6+695590]\n",
      "\t(No symbol) [0x00007FF6EC230CE8]\n",
      "\t(No symbol) [0x00007FF6EC22CF34]\n",
      "\t(No symbol) [0x00007FF6EC22D062]\n",
      "\t(No symbol) [0x00007FF6EC21D3A3]\n",
      "\tBaseThreadInitThunk [0x00007FFBA099257D+29]\n",
      "\tRtlUserThreadStart [0x00007FFBA200AA58+40]\n",
      "\n",
      "\n",
      "During handling of the above exception, another exception occurred:\n",
      "\n",
      "Traceback (most recent call last):\n",
      "  File \"C:\\Users\\anasi\\AppData\\Local\\Packages\\PythonSoftwareFoundation.Python.3.11_qbz5n2kfra8p0\\LocalCache\\local-packages\\Python311\\site-packages\\IPython\\core\\interactiveshell.py\", line 2105, in showtraceback\n",
      "    stb = self.InteractiveTB.structured_traceback(\n",
      "          ^^^^^^^^^^^^^^^^^^^^^^^^^^^^^^^^^^^^^^^^\n",
      "  File \"C:\\Users\\anasi\\AppData\\Local\\Packages\\PythonSoftwareFoundation.Python.3.11_qbz5n2kfra8p0\\LocalCache\\local-packages\\Python311\\site-packages\\IPython\\core\\ultratb.py\", line 1428, in structured_traceback\n",
      "    return FormattedTB.structured_traceback(\n",
      "           ^^^^^^^^^^^^^^^^^^^^^^^^^^^^^^^^^\n",
      "  File \"C:\\Users\\anasi\\AppData\\Local\\Packages\\PythonSoftwareFoundation.Python.3.11_qbz5n2kfra8p0\\LocalCache\\local-packages\\Python311\\site-packages\\IPython\\core\\ultratb.py\", line 1319, in structured_traceback\n",
      "    return VerboseTB.structured_traceback(\n",
      "           ^^^^^^^^^^^^^^^^^^^^^^^^^^^^^^^\n",
      "  File \"C:\\Users\\anasi\\AppData\\Local\\Packages\\PythonSoftwareFoundation.Python.3.11_qbz5n2kfra8p0\\LocalCache\\local-packages\\Python311\\site-packages\\IPython\\core\\ultratb.py\", line 1172, in structured_traceback\n",
      "    formatted_exception = self.format_exception_as_a_whole(etype, evalue, etb, number_of_lines_of_context,\n",
      "                          ^^^^^^^^^^^^^^^^^^^^^^^^^^^^^^^^^^^^^^^^^^^^^^^^^^^^^^^^^^^^^^^^^^^^^^^^^^^^^^^^\n",
      "  File \"C:\\Users\\anasi\\AppData\\Local\\Packages\\PythonSoftwareFoundation.Python.3.11_qbz5n2kfra8p0\\LocalCache\\local-packages\\Python311\\site-packages\\IPython\\core\\ultratb.py\", line 1087, in format_exception_as_a_whole\n",
      "    frames.append(self.format_record(record))\n",
      "                  ^^^^^^^^^^^^^^^^^^^^^^^^^^\n",
      "  File \"C:\\Users\\anasi\\AppData\\Local\\Packages\\PythonSoftwareFoundation.Python.3.11_qbz5n2kfra8p0\\LocalCache\\local-packages\\Python311\\site-packages\\IPython\\core\\ultratb.py\", line 969, in format_record\n",
      "    frame_info.lines, Colors, self.has_colors, lvals\n",
      "    ^^^^^^^^^^^^^^^^\n",
      "  File \"C:\\Users\\anasi\\AppData\\Local\\Packages\\PythonSoftwareFoundation.Python.3.11_qbz5n2kfra8p0\\LocalCache\\local-packages\\Python311\\site-packages\\IPython\\core\\ultratb.py\", line 792, in lines\n",
      "    return self._sd.lines\n",
      "           ^^^^^^^^^^^^^^\n",
      "  File \"C:\\Users\\anasi\\AppData\\Local\\Packages\\PythonSoftwareFoundation.Python.3.11_qbz5n2kfra8p0\\LocalCache\\local-packages\\Python311\\site-packages\\stack_data\\utils.py\", line 144, in cached_property_wrapper\n",
      "    value = obj.__dict__[self.func.__name__] = self.func(obj)\n",
      "                                               ^^^^^^^^^^^^^^\n",
      "  File \"C:\\Users\\anasi\\AppData\\Local\\Packages\\PythonSoftwareFoundation.Python.3.11_qbz5n2kfra8p0\\LocalCache\\local-packages\\Python311\\site-packages\\stack_data\\core.py\", line 734, in lines\n",
      "    pieces = self.included_pieces\n",
      "             ^^^^^^^^^^^^^^^^^^^^\n",
      "  File \"C:\\Users\\anasi\\AppData\\Local\\Packages\\PythonSoftwareFoundation.Python.3.11_qbz5n2kfra8p0\\LocalCache\\local-packages\\Python311\\site-packages\\stack_data\\utils.py\", line 144, in cached_property_wrapper\n",
      "    value = obj.__dict__[self.func.__name__] = self.func(obj)\n",
      "                                               ^^^^^^^^^^^^^^\n",
      "  File \"C:\\Users\\anasi\\AppData\\Local\\Packages\\PythonSoftwareFoundation.Python.3.11_qbz5n2kfra8p0\\LocalCache\\local-packages\\Python311\\site-packages\\stack_data\\core.py\", line 681, in included_pieces\n",
      "    pos = scope_pieces.index(self.executing_piece)\n",
      "                             ^^^^^^^^^^^^^^^^^^^^\n",
      "  File \"C:\\Users\\anasi\\AppData\\Local\\Packages\\PythonSoftwareFoundation.Python.3.11_qbz5n2kfra8p0\\LocalCache\\local-packages\\Python311\\site-packages\\stack_data\\utils.py\", line 144, in cached_property_wrapper\n",
      "    value = obj.__dict__[self.func.__name__] = self.func(obj)\n",
      "                                               ^^^^^^^^^^^^^^\n",
      "  File \"C:\\Users\\anasi\\AppData\\Local\\Packages\\PythonSoftwareFoundation.Python.3.11_qbz5n2kfra8p0\\LocalCache\\local-packages\\Python311\\site-packages\\stack_data\\core.py\", line 660, in executing_piece\n",
      "    return only(\n",
      "           ^^^^^\n",
      "  File \"C:\\Users\\anasi\\AppData\\Local\\Packages\\PythonSoftwareFoundation.Python.3.11_qbz5n2kfra8p0\\LocalCache\\local-packages\\Python311\\site-packages\\executing\\executing.py\", line 190, in only\n",
      "    raise NotOneValueFound('Expected one value, found 0')\n",
      "executing.executing.NotOneValueFound: Expected one value, found 0\n"
     ]
    }
   ],
   "source": [
    "utah_hotels = pd.read_csv(\"../files/data/booking/utah_hotels.csv\")\n",
    "hotels_attributes = scrapping.scrape_hotels_attributes(utah_hotels[\"reviews_url\"].head(10).tolist())\n",
    "hotels_attributes.to_csv(\"../files/data/booking/california_hotels_attributes_sample10.csv\")"
   ]
  }
 ],
 "metadata": {
  "kernelspec": {
   "display_name": "test",
   "language": "python",
   "name": "python3"
  },
  "language_info": {
   "codemirror_mode": {
    "name": "ipython",
    "version": 3
   },
   "file_extension": ".py",
   "mimetype": "text/x-python",
   "name": "python",
   "nbconvert_exporter": "python",
   "pygments_lexer": "ipython3",
   "version": "3.11.7"
  }
 },
 "nbformat": 4,
 "nbformat_minor": 2
}
