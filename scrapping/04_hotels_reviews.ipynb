{
 "cells": [
  {
   "cell_type": "code",
   "execution_count": 1,
   "metadata": {},
   "outputs": [],
   "source": [
    "import sys\n",
    "import scrapping\n",
    "import pandas as pd\n",
    "\n",
    "usa_cities = pd.read_csv(\"../files/data/usa_cities.csv\")\n",
    "usa_states = pd.read_csv(\"../files/data/usa_states.csv\")"
   ]
  },
  {
   "cell_type": "markdown",
   "metadata": {},
   "source": [
    "### Hyatt"
   ]
  },
  {
   "cell_type": "markdown",
   "metadata": {},
   "source": [
    "California"
   ]
  },
  {
   "cell_type": "code",
   "execution_count": 2,
   "metadata": {},
   "outputs": [
    {
     "data": {
      "text/plain": [
       "434"
      ]
     },
     "execution_count": 2,
     "metadata": {},
     "output_type": "execute_result"
    }
   ],
   "source": [
    "hotels = pd.read_csv(\"../files/data/usa_hotels.csv\", index_col=0)\n",
    "hotels.dropna(subset=[\"name\"], inplace=True)\n",
    "clients_hotels = hotels[hotels[\"name\"].str.contains(\"Hyatt\")]\n",
    "clients_hotels.shape[0]"
   ]
  },
  {
   "cell_type": "code",
   "execution_count": 3,
   "metadata": {},
   "outputs": [
    {
     "data": {
      "text/html": [
       "<div>\n",
       "<style scoped>\n",
       "    .dataframe tbody tr th:only-of-type {\n",
       "        vertical-align: middle;\n",
       "    }\n",
       "\n",
       "    .dataframe tbody tr th {\n",
       "        vertical-align: top;\n",
       "    }\n",
       "\n",
       "    .dataframe thead th {\n",
       "        text-align: right;\n",
       "    }\n",
       "</style>\n",
       "<table border=\"1\" class=\"dataframe\">\n",
       "  <thead>\n",
       "    <tr style=\"text-align: right;\">\n",
       "      <th></th>\n",
       "      <th>state</th>\n",
       "      <th>city</th>\n",
       "      <th>name</th>\n",
       "      <th>avg_score</th>\n",
       "      <th>price</th>\n",
       "      <th>reviews_url</th>\n",
       "      <th>hotel_id</th>\n",
       "    </tr>\n",
       "  </thead>\n",
       "  <tbody>\n",
       "    <tr>\n",
       "      <th>22624</th>\n",
       "      <td>Michigan</td>\n",
       "      <td>Lansing</td>\n",
       "      <td>Hyatt House Lansing-University Area</td>\n",
       "      <td>96.0</td>\n",
       "      <td>251.099</td>\n",
       "      <td>https://www.booking.com/hotel/us/hyatt-house-l...</td>\n",
       "      <td>2962</td>\n",
       "    </tr>\n",
       "    <tr>\n",
       "      <th>35236</th>\n",
       "      <td>Pennsylvania</td>\n",
       "      <td>Allentown</td>\n",
       "      <td>Hyatt House Allentown-Lehigh Valley</td>\n",
       "      <td>94.0</td>\n",
       "      <td>364.255</td>\n",
       "      <td>https://www.booking.com/hotel/us/hyatt-house-a...</td>\n",
       "      <td>4554</td>\n",
       "    </tr>\n",
       "    <tr>\n",
       "      <th>21354</th>\n",
       "      <td>Maryland</td>\n",
       "      <td>Silver Spring</td>\n",
       "      <td>Vibrant Hyattsville Home 7 Mi to Downtown DC!</td>\n",
       "      <td>93.0</td>\n",
       "      <td>779.047</td>\n",
       "      <td>https://www.booking.com/hotel/us/vibrant-hyatt...</td>\n",
       "      <td>5837</td>\n",
       "    </tr>\n",
       "    <tr>\n",
       "      <th>9232</th>\n",
       "      <td>Florida</td>\n",
       "      <td>Orlando</td>\n",
       "      <td>Hyatt House Orlando Airport</td>\n",
       "      <td>92.0</td>\n",
       "      <td>367.978</td>\n",
       "      <td>https://www.booking.com/hotel/us/hyatt-house-o...</td>\n",
       "      <td>6405</td>\n",
       "    </tr>\n",
       "    <tr>\n",
       "      <th>16582</th>\n",
       "      <td>Kansas</td>\n",
       "      <td>Wichita</td>\n",
       "      <td>Hyatt Place at Wichita State University</td>\n",
       "      <td>92.0</td>\n",
       "      <td>539.089</td>\n",
       "      <td>https://www.booking.com/hotel/us/hyatt-place-w...</td>\n",
       "      <td>6407</td>\n",
       "    </tr>\n",
       "    <tr>\n",
       "      <th>...</th>\n",
       "      <td>...</td>\n",
       "      <td>...</td>\n",
       "      <td>...</td>\n",
       "      <td>...</td>\n",
       "      <td>...</td>\n",
       "      <td>...</td>\n",
       "      <td>...</td>\n",
       "    </tr>\n",
       "    <tr>\n",
       "      <th>8551</th>\n",
       "      <td>District of Columbia</td>\n",
       "      <td>Washington</td>\n",
       "      <td>Hyatt Place Washington DC/US Capitol</td>\n",
       "      <td>69.0</td>\n",
       "      <td>598.193</td>\n",
       "      <td>https://www.booking.com/hotel/us/hyatt-place-w...</td>\n",
       "      <td>31773</td>\n",
       "    </tr>\n",
       "    <tr>\n",
       "      <th>38701</th>\n",
       "      <td>Texas</td>\n",
       "      <td>Houston</td>\n",
       "      <td>Hyatt Place Houston-North</td>\n",
       "      <td>69.0</td>\n",
       "      <td>160.808</td>\n",
       "      <td>https://www.booking.com/hotel/us/hyatt-place-b...</td>\n",
       "      <td>31829</td>\n",
       "    </tr>\n",
       "    <tr>\n",
       "      <th>1805</th>\n",
       "      <td>Arizona</td>\n",
       "      <td>Phoenix</td>\n",
       "      <td>Hyatt Place Phoenix-North</td>\n",
       "      <td>69.0</td>\n",
       "      <td>186.761</td>\n",
       "      <td>https://www.booking.com/hotel/us/hyatt-place-p...</td>\n",
       "      <td>31919</td>\n",
       "    </tr>\n",
       "    <tr>\n",
       "      <th>10267</th>\n",
       "      <td>Georgia</td>\n",
       "      <td>Atlanta</td>\n",
       "      <td>Hyatt Place Atlanta Airport North</td>\n",
       "      <td>69.0</td>\n",
       "      <td>318.226</td>\n",
       "      <td>https://www.booking.com/hotel/us/hyatt-place-a...</td>\n",
       "      <td>31941</td>\n",
       "    </tr>\n",
       "    <tr>\n",
       "      <th>38794</th>\n",
       "      <td>Texas</td>\n",
       "      <td>Houston</td>\n",
       "      <td>Hyatt House Houston/Energy Corridor</td>\n",
       "      <td>68.0</td>\n",
       "      <td>186.000</td>\n",
       "      <td>https://www.booking.com/hotel/us/hyatt-house-h...</td>\n",
       "      <td>32137</td>\n",
       "    </tr>\n",
       "  </tbody>\n",
       "</table>\n",
       "<p>434 rows × 7 columns</p>\n",
       "</div>"
      ],
      "text/plain": [
       "                      state           city  \\\n",
       "22624              Michigan        Lansing   \n",
       "35236          Pennsylvania      Allentown   \n",
       "21354              Maryland  Silver Spring   \n",
       "9232                Florida        Orlando   \n",
       "16582                Kansas        Wichita   \n",
       "...                     ...            ...   \n",
       "8551   District of Columbia     Washington   \n",
       "38701                 Texas        Houston   \n",
       "1805                Arizona        Phoenix   \n",
       "10267               Georgia        Atlanta   \n",
       "38794                 Texas        Houston   \n",
       "\n",
       "                                                name  avg_score    price  \\\n",
       "22624            Hyatt House Lansing-University Area       96.0  251.099   \n",
       "35236            Hyatt House Allentown-Lehigh Valley       94.0  364.255   \n",
       "21354  Vibrant Hyattsville Home 7 Mi to Downtown DC!       93.0  779.047   \n",
       "9232                     Hyatt House Orlando Airport       92.0  367.978   \n",
       "16582        Hyatt Place at Wichita State University       92.0  539.089   \n",
       "...                                              ...        ...      ...   \n",
       "8551            Hyatt Place Washington DC/US Capitol       69.0  598.193   \n",
       "38701                      Hyatt Place Houston-North       69.0  160.808   \n",
       "1805                       Hyatt Place Phoenix-North       69.0  186.761   \n",
       "10267              Hyatt Place Atlanta Airport North       69.0  318.226   \n",
       "38794            Hyatt House Houston/Energy Corridor       68.0  186.000   \n",
       "\n",
       "                                             reviews_url  hotel_id  \n",
       "22624  https://www.booking.com/hotel/us/hyatt-house-l...      2962  \n",
       "35236  https://www.booking.com/hotel/us/hyatt-house-a...      4554  \n",
       "21354  https://www.booking.com/hotel/us/vibrant-hyatt...      5837  \n",
       "9232   https://www.booking.com/hotel/us/hyatt-house-o...      6405  \n",
       "16582  https://www.booking.com/hotel/us/hyatt-place-w...      6407  \n",
       "...                                                  ...       ...  \n",
       "8551   https://www.booking.com/hotel/us/hyatt-place-w...     31773  \n",
       "38701  https://www.booking.com/hotel/us/hyatt-place-b...     31829  \n",
       "1805   https://www.booking.com/hotel/us/hyatt-place-p...     31919  \n",
       "10267  https://www.booking.com/hotel/us/hyatt-place-a...     31941  \n",
       "38794  https://www.booking.com/hotel/us/hyatt-house-h...     32137  \n",
       "\n",
       "[434 rows x 7 columns]"
      ]
     },
     "execution_count": 3,
     "metadata": {},
     "output_type": "execute_result"
    }
   ],
   "source": [
    "clients_hotels"
   ]
  },
  {
   "cell_type": "code",
   "execution_count": 4,
   "metadata": {},
   "outputs": [
    {
     "name": "stdout",
     "output_type": "stream",
     "text": [
      "Error clicking the button to open the reviews section. Retrying...\n",
      "Error finding the number of pages. Retrying...\n",
      "Error finding the number of pages. Retrying...\n",
      "Error finding the number of pages. Retrying...\n",
      "Error finding the number of pages. Retrying...\n",
      "Error finding the number of pages. Retrying...\n",
      "Error finding the number of pages. Retrying...\n"
     ]
    },
    {
     "ename": "UnboundLocalError",
     "evalue": "cannot access local variable 'n_pages' where it is not associated with a value",
     "output_type": "error",
     "traceback": [
      "\u001b[1;31m---------------------------------------------------------------------------\u001b[0m",
      "\u001b[1;31mUnboundLocalError\u001b[0m                         Traceback (most recent call last)",
      "\u001b[1;32mc:\\Users\\david\\Documents\\GitHub\\PF_DS_YELP\\scrapping\\04_hotels_reviews.ipynb Celda 6\u001b[0m line \u001b[0;36m1\n\u001b[1;32m----> <a href='vscode-notebook-cell:/c%3A/Users/david/Documents/GitHub/PF_DS_YELP/scrapping/04_hotels_reviews.ipynb#W5sZmlsZQ%3D%3D?line=0'>1</a>\u001b[0m reviews \u001b[39m=\u001b[39m scrapping\u001b[39m.\u001b[39;49mscrape_hotels_reviews(clients_hotels[\u001b[39m\"\u001b[39;49m\u001b[39mhotel_id\u001b[39;49m\u001b[39m\"\u001b[39;49m]\u001b[39m.\u001b[39;49mtolist(), clients_hotels[\u001b[39m\"\u001b[39;49m\u001b[39mreviews_url\u001b[39;49m\u001b[39m\"\u001b[39;49m]\u001b[39m.\u001b[39;49mtolist(), report\u001b[39m=\u001b[39;49m\u001b[39mFalse\u001b[39;49;00m, interfase\u001b[39m=\u001b[39;49m\u001b[39mTrue\u001b[39;49;00m)\n\u001b[0;32m      <a href='vscode-notebook-cell:/c%3A/Users/david/Documents/GitHub/PF_DS_YELP/scrapping/04_hotels_reviews.ipynb#W5sZmlsZQ%3D%3D?line=1'>2</a>\u001b[0m reviews\n",
      "File \u001b[1;32mc:\\Users\\david\\Documents\\GitHub\\PF_DS_YELP\\scrapping\\scrapping.py:331\u001b[0m, in \u001b[0;36mscrape_hotels_reviews\u001b[1;34m(ids, urls, report, interfase)\u001b[0m\n\u001b[0;32m    328\u001b[0m     \u001b[39mprint\u001b[39m(\u001b[39mf\u001b[39m\u001b[39m\"\u001b[39m\u001b[39mError while opening the reviews section and finding the number of pages: \u001b[39m\u001b[39m{\u001b[39;00me\u001b[39m}\u001b[39;00m\u001b[39m\"\u001b[39m)\n\u001b[0;32m    329\u001b[0m     n_pages \u001b[39m=\u001b[39m \u001b[39m2\u001b[39m  \u001b[39m# Set a default value in case of failure\u001b[39;00m\n\u001b[1;32m--> 331\u001b[0m \u001b[39mfor\u001b[39;00m page \u001b[39min\u001b[39;00m \u001b[39mrange\u001b[39m(n_pages):\n\u001b[0;32m    332\u001b[0m     time\u001b[39m.\u001b[39msleep(\u001b[39m2\u001b[39m)\n\u001b[0;32m    333\u001b[0m     review_list \u001b[39m=\u001b[39m driver\u001b[39m.\u001b[39mfind_element(By\u001b[39m.\u001b[39mCLASS_NAME, \u001b[39m'\u001b[39m\u001b[39mreview_list\u001b[39m\u001b[39m'\u001b[39m)\n",
      "\u001b[1;31mUnboundLocalError\u001b[0m: cannot access local variable 'n_pages' where it is not associated with a value"
     ]
    }
   ],
   "source": [
    "reviews = scrapping.scrape_hotels_reviews(clients_hotels[\"hotel_id\"].tolist(), clients_hotels[\"reviews_url\"].tolist(), report=False, interfase=True)\n",
    "reviews"
   ]
  },
  {
   "cell_type": "code",
   "execution_count": null,
   "metadata": {},
   "outputs": [],
   "source": [
    "client_hotels_reviews.to_csv('../files/data/booking/review.csv')\n",
    "#client_hotel_reviews.to_csv(\"data/utah_hotels_reviews.csv\")"
   ]
  }
 ],
 "metadata": {
  "kernelspec": {
   "display_name": "test",
   "language": "python",
   "name": "python3"
  },
  "language_info": {
   "codemirror_mode": {
    "name": "ipython",
    "version": 3
   },
   "file_extension": ".py",
   "mimetype": "text/x-python",
   "name": "python",
   "nbconvert_exporter": "python",
   "pygments_lexer": "ipython3",
   "version": "3.11.4"
  }
 },
 "nbformat": 4,
 "nbformat_minor": 2
}
