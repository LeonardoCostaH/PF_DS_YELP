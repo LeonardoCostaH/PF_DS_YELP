{
 "cells": [
  {
   "cell_type": "code",
   "execution_count": 36,
   "metadata": {},
   "outputs": [],
   "source": [
    "import pandas as pd\n",
    "import plotly.express as px"
   ]
  },
  {
   "cell_type": "code",
   "execution_count": 37,
   "metadata": {},
   "outputs": [],
   "source": [
    "# Cargar los DataFrames desde los archivos CSV\n",
    "df_cali_hotels = pd.read_csv('california_hotels.csv')\n",
    "df_cali_attributes = pd.read_csv('california_hotels_attributes.csv')\n",
    "\n",
    "# Unificar horizontalmente usando pd.concat\n",
    "df_combined = pd.concat([df_cali_hotels, df_cali_attributes], axis=1)"
   ]
  },
  {
   "cell_type": "code",
   "execution_count": 38,
   "metadata": {},
   "outputs": [],
   "source": [
    "df_combined = df_combined.drop('Unnamed: 0', axis=1)"
   ]
  },
  {
   "cell_type": "code",
   "execution_count": 39,
   "metadata": {},
   "outputs": [],
   "source": [
    "import pandas as pd\n",
    "import json\n",
    "\n",
    "# Reemplazar comillas simples por comillas dobles\n",
    "df_combined['Scores'] = df_combined['Scores'].str.replace(\"'\", \"\\\"\")\n",
    "\n",
    "# Convertir las cadenas JSON a listas de diccionarios\n",
    "df_combined['Scores'] = df_combined['Scores'].apply(lambda x: json.loads(x) if pd.notna(x) else [])\n",
    "\n",
    "# Crear columnas para cada clave del diccionario\n",
    "df_scores_expanded = pd.json_normalize(df_combined['Scores'])\n",
    "\n",
    "# Concatenar las columnas de puntajes expandidas al DataFrame original\n",
    "df_combined = pd.concat([df_combined, df_scores_expanded], axis=1)"
   ]
  },
  {
   "cell_type": "code",
   "execution_count": 40,
   "metadata": {},
   "outputs": [],
   "source": [
    "# Convertir las últimas 8 columnas a cadenas\n",
    "df_combined[df_combined.columns[-8:]] = df_combined[df_combined.columns[-8:]].astype(str)"
   ]
  },
  {
   "cell_type": "code",
   "execution_count": 41,
   "metadata": {},
   "outputs": [],
   "source": [
    "# Eliminar las llaves y comillas simples de las últimas 8 columnas\n",
    "for col in df_combined.columns[-8:]:\n",
    "    df_combined[col] = df_combined[col].apply(lambda x: x.replace(\"{\", \"\").replace(\"}\", \"\").replace(\"'\", \"\") if pd.notna(x) else None)\n"
   ]
  },
  {
   "cell_type": "code",
   "execution_count": 42,
   "metadata": {},
   "outputs": [],
   "source": [
    "import pandas as pd\n",
    "\n",
    "# Definimos una función para obtener el título de una celda\n",
    "def get_title(cell_value):\n",
    "    if pd.notna(cell_value):\n",
    "        return cell_value.split(':')[0]\n",
    "    else:\n",
    "        return None\n",
    "\n",
    "# Iteramos sobre las últimas 8 columnas y asignamos nuevos nombres\n",
    "for col in df_combined.columns[-8:]:\n",
    "    # Usamos apply para obtener el título de cada celda\n",
    "    new_titles = df_combined[col].apply(get_title)\n",
    "    \n",
    "    # Asignamos los nuevos nombres a las columnas\n",
    "    df_combined = df_combined.rename(columns=dict(zip([col]*len(new_titles), new_titles)))\n",
    "\n",
    "# Ahora, df_combined tiene las columnas renombradas según los valores presentes en ellas\n",
    "\n"
   ]
  },
  {
   "cell_type": "code",
   "execution_count": 43,
   "metadata": {},
   "outputs": [],
   "source": [
    "# Obtén el nombre de la anteúltima columna\n",
    "anteultimate_col_index = -2\n",
    "anteultimate_col_name = df_combined.columns[anteultimate_col_index]\n",
    "\n",
    "# Copia el nombre de las columnas\n",
    "new_columns = list(df_combined.columns)\n",
    "\n",
    "# Cambia el nombre de la anteúltima columna a 'WiFi Gratis'\n",
    "new_columns[anteultimate_col_index] = 'WiFi Gratis'\n",
    "\n",
    "# Actualiza los nombres de las columnas en el DataFrame\n",
    "df_combined.columns = new_columns\n"
   ]
  },
  {
   "cell_type": "code",
   "execution_count": 44,
   "metadata": {},
   "outputs": [],
   "source": [
    "import pandas as pd\n",
    "\n",
    "# Selecciona solo las últimas 8 columnas\n",
    "last_8_columns = df_combined.iloc[:, -8:]\n",
    "\n",
    "# Aplica una función para extraer y convertir los valores numéricos después de los dos puntos (:) en cada celda\n",
    "numeric_values_only = last_8_columns.applymap(lambda x: pd.to_numeric(x.split(':')[-1], errors='coerce') if isinstance(x, str) and ':' in x else x)\n",
    "\n",
    "# Actualiza las últimas 8 columnas en el DataFrame original con los valores numéricos\n",
    "df_combined.iloc[:, -8:] = numeric_values_only\n"
   ]
  },
  {
   "cell_type": "markdown",
   "metadata": {},
   "source": [
    "# Nuevo df"
   ]
  },
  {
   "cell_type": "code",
   "execution_count": 76,
   "metadata": {},
   "outputs": [],
   "source": [
    "# Cargar los DataFrames desde los archivos CSV\n",
    "california_hotels = pd.read_csv('..\\\\files\\\\data\\\\booking\\\\california_hotels.csv')\n",
    "usa_clients = pd.read_csv('..\\\\files\\\\data\\\\usa_clients.csv')"
   ]
  },
  {
   "cell_type": "code",
   "execution_count": 77,
   "metadata": {},
   "outputs": [],
   "source": [
    "df_california_hotels = pd.DataFrame(california_hotels)\n",
    "df_usa_clients = pd.DataFrame(usa_clients)"
   ]
  },
  {
   "cell_type": "code",
   "execution_count": 80,
   "metadata": {},
   "outputs": [
    {
     "data": {
      "text/html": [
       "<div>\n",
       "<style scoped>\n",
       "    .dataframe tbody tr th:only-of-type {\n",
       "        vertical-align: middle;\n",
       "    }\n",
       "\n",
       "    .dataframe tbody tr th {\n",
       "        vertical-align: top;\n",
       "    }\n",
       "\n",
       "    .dataframe thead th {\n",
       "        text-align: right;\n",
       "    }\n",
       "</style>\n",
       "<table border=\"1\" class=\"dataframe\">\n",
       "  <thead>\n",
       "    <tr style=\"text-align: right;\">\n",
       "      <th></th>\n",
       "      <th>state</th>\n",
       "      <th>city</th>\n",
       "      <th>name</th>\n",
       "      <th>avg_score</th>\n",
       "      <th>price</th>\n",
       "      <th>stars</th>\n",
       "      <th>reviews_url</th>\n",
       "      <th>attributes</th>\n",
       "      <th>latitude</th>\n",
       "      <th>longitude</th>\n",
       "      <th>Personal</th>\n",
       "      <th>Instalaciones y servicios</th>\n",
       "      <th>Limpieza</th>\n",
       "      <th>Confort</th>\n",
       "      <th>Relación calidad-precio</th>\n",
       "      <th>Ubicación</th>\n",
       "      <th>WiFi Gratis</th>\n",
       "    </tr>\n",
       "  </thead>\n",
       "  <tbody>\n",
       "    <tr>\n",
       "      <th>0</th>\n",
       "      <td>California</td>\n",
       "      <td>Los Angeles</td>\n",
       "      <td>W Hollywood</td>\n",
       "      <td>73.0</td>\n",
       "      <td>849.752</td>\n",
       "      <td>4.0</td>\n",
       "      <td>https://www.booking.com/hotel/us/w-hollywood.e...</td>\n",
       "      <td>['Habitaciones sin humo', '4 restaurantes', 'W...</td>\n",
       "      <td>34.100794</td>\n",
       "      <td>-118.325906</td>\n",
       "      <td>9.4</td>\n",
       "      <td>8.5</td>\n",
       "      <td>9.0</td>\n",
       "      <td>9.0</td>\n",
       "      <td>8.5</td>\n",
       "      <td>9.2</td>\n",
       "      <td>9.1</td>\n",
       "    </tr>\n",
       "    <tr>\n",
       "      <th>1</th>\n",
       "      <td>California</td>\n",
       "      <td>Los Angeles</td>\n",
       "      <td>Park Plaza Lodge</td>\n",
       "      <td>86.0</td>\n",
       "      <td>466.927</td>\n",
       "      <td>3.0</td>\n",
       "      <td>https://www.booking.com/hotel/us/park-plaza-lo...</td>\n",
       "      <td>['Restaurante', 'Parking gratis', 'Tetera/cafe...</td>\n",
       "      <td>34.070129</td>\n",
       "      <td>-118.351360</td>\n",
       "      <td>8.7</td>\n",
       "      <td>8.2</td>\n",
       "      <td>8.5</td>\n",
       "      <td>8.6</td>\n",
       "      <td>7.2</td>\n",
       "      <td>8.6</td>\n",
       "      <td>8.5</td>\n",
       "    </tr>\n",
       "    <tr>\n",
       "      <th>2</th>\n",
       "      <td>California</td>\n",
       "      <td>Los Angeles</td>\n",
       "      <td>Moxy Downtown Los Angeles</td>\n",
       "      <td>79.0</td>\n",
       "      <td>904.364</td>\n",
       "      <td>4.0</td>\n",
       "      <td>https://www.booking.com/hotel/us/moxy-downtown...</td>\n",
       "      <td>['WiFi gratis', 'Desayuno', 'Terraza', 'Parkin...</td>\n",
       "      <td>34.041151</td>\n",
       "      <td>-118.267341</td>\n",
       "      <td>9.0</td>\n",
       "      <td>9.0</td>\n",
       "      <td>9.1</td>\n",
       "      <td>9.0</td>\n",
       "      <td>8.8</td>\n",
       "      <td>9.0</td>\n",
       "      <td>9.2</td>\n",
       "    </tr>\n",
       "    <tr>\n",
       "      <th>3</th>\n",
       "      <td>California</td>\n",
       "      <td>Los Angeles</td>\n",
       "      <td>Hollywood Homes minutes to everything SPACIOUS...</td>\n",
       "      <td>88.0</td>\n",
       "      <td>463.104</td>\n",
       "      <td>4.0</td>\n",
       "      <td>https://www.booking.com/hotel/us/hollywood-cos...</td>\n",
       "      <td>['Habitaciones familiares', 'Aire acondicionad...</td>\n",
       "      <td>34.086662</td>\n",
       "      <td>-118.314868</td>\n",
       "      <td>8.1</td>\n",
       "      <td>7.2</td>\n",
       "      <td>7.7</td>\n",
       "      <td>7.7</td>\n",
       "      <td>7.0</td>\n",
       "      <td>8.4</td>\n",
       "      <td>8.3</td>\n",
       "    </tr>\n",
       "    <tr>\n",
       "      <th>4</th>\n",
       "      <td>California</td>\n",
       "      <td>Los Angeles</td>\n",
       "      <td>Best Western Hollywood Plaza Inn Hotel - Holly...</td>\n",
       "      <td>72.0</td>\n",
       "      <td>390.267</td>\n",
       "      <td>3.0</td>\n",
       "      <td>https://www.booking.com/hotel/us/best-western-...</td>\n",
       "      <td>['Habitaciones sin humo', 'Restaurante', 'Adap...</td>\n",
       "      <td>34.107181</td>\n",
       "      <td>-118.337637</td>\n",
       "      <td>8.3</td>\n",
       "      <td>8.4</td>\n",
       "      <td>8.7</td>\n",
       "      <td>8.8</td>\n",
       "      <td>7.6</td>\n",
       "      <td>8.5</td>\n",
       "      <td>8.6</td>\n",
       "    </tr>\n",
       "  </tbody>\n",
       "</table>\n",
       "</div>"
      ],
      "text/plain": [
       "        state         city                                               name  \\\n",
       "0  California  Los Angeles                                        W Hollywood   \n",
       "1  California  Los Angeles                                   Park Plaza Lodge   \n",
       "2  California  Los Angeles                          Moxy Downtown Los Angeles   \n",
       "3  California  Los Angeles  Hollywood Homes minutes to everything SPACIOUS...   \n",
       "4  California  Los Angeles  Best Western Hollywood Plaza Inn Hotel - Holly...   \n",
       "\n",
       "   avg_score    price  stars  \\\n",
       "0       73.0  849.752    4.0   \n",
       "1       86.0  466.927    3.0   \n",
       "2       79.0  904.364    4.0   \n",
       "3       88.0  463.104    4.0   \n",
       "4       72.0  390.267    3.0   \n",
       "\n",
       "                                         reviews_url  \\\n",
       "0  https://www.booking.com/hotel/us/w-hollywood.e...   \n",
       "1  https://www.booking.com/hotel/us/park-plaza-lo...   \n",
       "2  https://www.booking.com/hotel/us/moxy-downtown...   \n",
       "3  https://www.booking.com/hotel/us/hollywood-cos...   \n",
       "4  https://www.booking.com/hotel/us/best-western-...   \n",
       "\n",
       "                                          attributes   latitude   longitude  \\\n",
       "0  ['Habitaciones sin humo', '4 restaurantes', 'W...  34.100794 -118.325906   \n",
       "1  ['Restaurante', 'Parking gratis', 'Tetera/cafe...  34.070129 -118.351360   \n",
       "2  ['WiFi gratis', 'Desayuno', 'Terraza', 'Parkin...  34.041151 -118.267341   \n",
       "3  ['Habitaciones familiares', 'Aire acondicionad...  34.086662 -118.314868   \n",
       "4  ['Habitaciones sin humo', 'Restaurante', 'Adap...  34.107181 -118.337637   \n",
       "\n",
       "   Personal  Instalaciones y servicios  Limpieza  Confort  \\\n",
       "0       9.4                        8.5       9.0      9.0   \n",
       "1       8.7                        8.2       8.5      8.6   \n",
       "2       9.0                        9.0       9.1      9.0   \n",
       "3       8.1                        7.2       7.7      7.7   \n",
       "4       8.3                        8.4       8.7      8.8   \n",
       "\n",
       "   Relación calidad-precio  Ubicación  WiFi Gratis  \n",
       "0                      8.5        9.2          9.1  \n",
       "1                      7.2        8.6          8.5  \n",
       "2                      8.8        9.0          9.2  \n",
       "3                      7.0        8.4          8.3  \n",
       "4                      7.6        8.5          8.6  "
      ]
     },
     "execution_count": 80,
     "metadata": {},
     "output_type": "execute_result"
    }
   ],
   "source": [
    "df_california_hotels.head()"
   ]
  },
  {
   "cell_type": "code",
   "execution_count": 79,
   "metadata": {},
   "outputs": [],
   "source": [
    "df_california_hotels = df_california_hotels.drop('Unnamed: 0', axis=1)"
   ]
  },
  {
   "cell_type": "code",
   "execution_count": 81,
   "metadata": {},
   "outputs": [
    {
     "data": {
      "text/html": [
       "<div>\n",
       "<style scoped>\n",
       "    .dataframe tbody tr th:only-of-type {\n",
       "        vertical-align: middle;\n",
       "    }\n",
       "\n",
       "    .dataframe tbody tr th {\n",
       "        vertical-align: top;\n",
       "    }\n",
       "\n",
       "    .dataframe thead th {\n",
       "        text-align: right;\n",
       "    }\n",
       "</style>\n",
       "<table border=\"1\" class=\"dataframe\">\n",
       "  <thead>\n",
       "    <tr style=\"text-align: right;\">\n",
       "      <th></th>\n",
       "      <th>Unnamed: 0</th>\n",
       "      <th>state</th>\n",
       "      <th>city</th>\n",
       "      <th>name</th>\n",
       "      <th>avg_score</th>\n",
       "      <th>price</th>\n",
       "      <th>reviews_url</th>\n",
       "      <th>stars</th>\n",
       "      <th>hotel_id</th>\n",
       "    </tr>\n",
       "  </thead>\n",
       "  <tbody>\n",
       "    <tr>\n",
       "      <th>0</th>\n",
       "      <td>4182</td>\n",
       "      <td>California</td>\n",
       "      <td>Mission Viejo</td>\n",
       "      <td>Hyatt House Irvine/John Wayne Airport</td>\n",
       "      <td>88.0</td>\n",
       "      <td>363.318</td>\n",
       "      <td>https://www.booking.com/hotel/us/hyatt-house-i...</td>\n",
       "      <td>3.0</td>\n",
       "      <td>11042</td>\n",
       "    </tr>\n",
       "    <tr>\n",
       "      <th>1</th>\n",
       "      <td>3398</td>\n",
       "      <td>California</td>\n",
       "      <td>San Francisco</td>\n",
       "      <td>Hyatt Regency San Francisco</td>\n",
       "      <td>87.0</td>\n",
       "      <td>806.063</td>\n",
       "      <td>https://www.booking.com/hotel/us/hyatt-regency...</td>\n",
       "      <td>4.0</td>\n",
       "      <td>12695</td>\n",
       "    </tr>\n",
       "    <tr>\n",
       "      <th>2</th>\n",
       "      <td>4006</td>\n",
       "      <td>California</td>\n",
       "      <td>San Jose</td>\n",
       "      <td>Hyatt Place San Jose Pinares</td>\n",
       "      <td>87.0</td>\n",
       "      <td>262.134</td>\n",
       "      <td>https://www.booking.com/hotel/cr/hyatt-place-s...</td>\n",
       "      <td>3.0</td>\n",
       "      <td>13042</td>\n",
       "    </tr>\n",
       "    <tr>\n",
       "      <th>3</th>\n",
       "      <td>3564</td>\n",
       "      <td>California</td>\n",
       "      <td>San Diego</td>\n",
       "      <td>Manchester Grand Hyatt San Diego</td>\n",
       "      <td>86.0</td>\n",
       "      <td>620.385</td>\n",
       "      <td>https://www.booking.com/hotel/us/manchester-gr...</td>\n",
       "      <td>4.0</td>\n",
       "      <td>13769</td>\n",
       "    </tr>\n",
       "    <tr>\n",
       "      <th>4</th>\n",
       "      <td>3500</td>\n",
       "      <td>California</td>\n",
       "      <td>San Francisco</td>\n",
       "      <td>Hyatt Regency San Francisco Downtown SOMA</td>\n",
       "      <td>86.0</td>\n",
       "      <td>1020.140</td>\n",
       "      <td>https://www.booking.com/hotel/us/hyatt-regency...</td>\n",
       "      <td>4.0</td>\n",
       "      <td>13779</td>\n",
       "    </tr>\n",
       "  </tbody>\n",
       "</table>\n",
       "</div>"
      ],
      "text/plain": [
       "   Unnamed: 0       state           city  \\\n",
       "0        4182  California  Mission Viejo   \n",
       "1        3398  California  San Francisco   \n",
       "2        4006  California       San Jose   \n",
       "3        3564  California      San Diego   \n",
       "4        3500  California  San Francisco   \n",
       "\n",
       "                                        name  avg_score     price  \\\n",
       "0      Hyatt House Irvine/John Wayne Airport       88.0   363.318   \n",
       "1                Hyatt Regency San Francisco       87.0   806.063   \n",
       "2               Hyatt Place San Jose Pinares       87.0   262.134   \n",
       "3           Manchester Grand Hyatt San Diego       86.0   620.385   \n",
       "4  Hyatt Regency San Francisco Downtown SOMA       86.0  1020.140   \n",
       "\n",
       "                                         reviews_url  stars  hotel_id  \n",
       "0  https://www.booking.com/hotel/us/hyatt-house-i...    3.0     11042  \n",
       "1  https://www.booking.com/hotel/us/hyatt-regency...    4.0     12695  \n",
       "2  https://www.booking.com/hotel/cr/hyatt-place-s...    3.0     13042  \n",
       "3  https://www.booking.com/hotel/us/manchester-gr...    4.0     13769  \n",
       "4  https://www.booking.com/hotel/us/hyatt-regency...    4.0     13779  "
      ]
     },
     "execution_count": 81,
     "metadata": {},
     "output_type": "execute_result"
    }
   ],
   "source": [
    "df_usa_clients.head()"
   ]
  },
  {
   "cell_type": "code",
   "execution_count": 94,
   "metadata": {},
   "outputs": [
    {
     "data": {
      "application/vnd.plotly.v1+json": {
       "config": {
        "plotlyServerURL": "https://plot.ly"
       },
       "data": [
        {
         "alignmentgroup": "True",
         "hovertemplate": "Categoría=Hotel Score<br>Categoria=%{x}<br>Puntuación=%{y}<extra></extra>",
         "legendgroup": "Hotel Score",
         "marker": {
          "color": "#636efa",
          "pattern": {
           "shape": ""
          }
         },
         "name": "Hotel Score",
         "offsetgroup": "Hotel Score",
         "orientation": "v",
         "showlegend": true,
         "textposition": "auto",
         "type": "bar",
         "x": [
          "Personal",
          "Instalaciones y servicios",
          "Limpieza",
          "Confort",
          "Relación calidad-precio",
          "Ubicación",
          "WiFi Gratis"
         ],
         "xaxis": "x",
         "y": [
          9.3,
          8.8,
          9.4,
          9.4,
          8.6,
          9.4,
          9.4
         ],
         "yaxis": "y"
        },
        {
         "alignmentgroup": "True",
         "hovertemplate": "Categoría=State Average Score<br>Categoria=%{x}<br>Puntuación=%{y}<extra></extra>",
         "legendgroup": "State Average Score",
         "marker": {
          "color": "#EF553B",
          "pattern": {
           "shape": ""
          }
         },
         "name": "State Average Score",
         "offsetgroup": "State Average Score",
         "orientation": "v",
         "showlegend": true,
         "textposition": "auto",
         "type": "bar",
         "x": [
          "Personal",
          "Instalaciones y servicios",
          "Limpieza",
          "Confort",
          "Relación calidad-precio",
          "Ubicación",
          "WiFi Gratis"
         ],
         "xaxis": "x",
         "y": [
          8.63650485436893,
          8.217087378640777,
          8.509514563106796,
          8.474660194174756,
          7.987669902912622,
          8.735477582846004,
          8.17964338781575
         ],
         "yaxis": "y"
        }
       ],
       "layout": {
        "barmode": "group",
        "height": 400,
        "legend": {
         "title": {
          "text": "Categoría"
         },
         "tracegroupgap": 0
        },
        "template": {
         "data": {
          "bar": [
           {
            "error_x": {
             "color": "#2a3f5f"
            },
            "error_y": {
             "color": "#2a3f5f"
            },
            "marker": {
             "line": {
              "color": "white",
              "width": 0.5
             },
             "pattern": {
              "fillmode": "overlay",
              "size": 10,
              "solidity": 0.2
             }
            },
            "type": "bar"
           }
          ],
          "barpolar": [
           {
            "marker": {
             "line": {
              "color": "white",
              "width": 0.5
             },
             "pattern": {
              "fillmode": "overlay",
              "size": 10,
              "solidity": 0.2
             }
            },
            "type": "barpolar"
           }
          ],
          "carpet": [
           {
            "aaxis": {
             "endlinecolor": "#2a3f5f",
             "gridcolor": "#C8D4E3",
             "linecolor": "#C8D4E3",
             "minorgridcolor": "#C8D4E3",
             "startlinecolor": "#2a3f5f"
            },
            "baxis": {
             "endlinecolor": "#2a3f5f",
             "gridcolor": "#C8D4E3",
             "linecolor": "#C8D4E3",
             "minorgridcolor": "#C8D4E3",
             "startlinecolor": "#2a3f5f"
            },
            "type": "carpet"
           }
          ],
          "choropleth": [
           {
            "colorbar": {
             "outlinewidth": 0,
             "ticks": ""
            },
            "type": "choropleth"
           }
          ],
          "contour": [
           {
            "colorbar": {
             "outlinewidth": 0,
             "ticks": ""
            },
            "colorscale": [
             [
              0,
              "#0d0887"
             ],
             [
              0.1111111111111111,
              "#46039f"
             ],
             [
              0.2222222222222222,
              "#7201a8"
             ],
             [
              0.3333333333333333,
              "#9c179e"
             ],
             [
              0.4444444444444444,
              "#bd3786"
             ],
             [
              0.5555555555555556,
              "#d8576b"
             ],
             [
              0.6666666666666666,
              "#ed7953"
             ],
             [
              0.7777777777777778,
              "#fb9f3a"
             ],
             [
              0.8888888888888888,
              "#fdca26"
             ],
             [
              1,
              "#f0f921"
             ]
            ],
            "type": "contour"
           }
          ],
          "contourcarpet": [
           {
            "colorbar": {
             "outlinewidth": 0,
             "ticks": ""
            },
            "type": "contourcarpet"
           }
          ],
          "heatmap": [
           {
            "colorbar": {
             "outlinewidth": 0,
             "ticks": ""
            },
            "colorscale": [
             [
              0,
              "#0d0887"
             ],
             [
              0.1111111111111111,
              "#46039f"
             ],
             [
              0.2222222222222222,
              "#7201a8"
             ],
             [
              0.3333333333333333,
              "#9c179e"
             ],
             [
              0.4444444444444444,
              "#bd3786"
             ],
             [
              0.5555555555555556,
              "#d8576b"
             ],
             [
              0.6666666666666666,
              "#ed7953"
             ],
             [
              0.7777777777777778,
              "#fb9f3a"
             ],
             [
              0.8888888888888888,
              "#fdca26"
             ],
             [
              1,
              "#f0f921"
             ]
            ],
            "type": "heatmap"
           }
          ],
          "heatmapgl": [
           {
            "colorbar": {
             "outlinewidth": 0,
             "ticks": ""
            },
            "colorscale": [
             [
              0,
              "#0d0887"
             ],
             [
              0.1111111111111111,
              "#46039f"
             ],
             [
              0.2222222222222222,
              "#7201a8"
             ],
             [
              0.3333333333333333,
              "#9c179e"
             ],
             [
              0.4444444444444444,
              "#bd3786"
             ],
             [
              0.5555555555555556,
              "#d8576b"
             ],
             [
              0.6666666666666666,
              "#ed7953"
             ],
             [
              0.7777777777777778,
              "#fb9f3a"
             ],
             [
              0.8888888888888888,
              "#fdca26"
             ],
             [
              1,
              "#f0f921"
             ]
            ],
            "type": "heatmapgl"
           }
          ],
          "histogram": [
           {
            "marker": {
             "pattern": {
              "fillmode": "overlay",
              "size": 10,
              "solidity": 0.2
             }
            },
            "type": "histogram"
           }
          ],
          "histogram2d": [
           {
            "colorbar": {
             "outlinewidth": 0,
             "ticks": ""
            },
            "colorscale": [
             [
              0,
              "#0d0887"
             ],
             [
              0.1111111111111111,
              "#46039f"
             ],
             [
              0.2222222222222222,
              "#7201a8"
             ],
             [
              0.3333333333333333,
              "#9c179e"
             ],
             [
              0.4444444444444444,
              "#bd3786"
             ],
             [
              0.5555555555555556,
              "#d8576b"
             ],
             [
              0.6666666666666666,
              "#ed7953"
             ],
             [
              0.7777777777777778,
              "#fb9f3a"
             ],
             [
              0.8888888888888888,
              "#fdca26"
             ],
             [
              1,
              "#f0f921"
             ]
            ],
            "type": "histogram2d"
           }
          ],
          "histogram2dcontour": [
           {
            "colorbar": {
             "outlinewidth": 0,
             "ticks": ""
            },
            "colorscale": [
             [
              0,
              "#0d0887"
             ],
             [
              0.1111111111111111,
              "#46039f"
             ],
             [
              0.2222222222222222,
              "#7201a8"
             ],
             [
              0.3333333333333333,
              "#9c179e"
             ],
             [
              0.4444444444444444,
              "#bd3786"
             ],
             [
              0.5555555555555556,
              "#d8576b"
             ],
             [
              0.6666666666666666,
              "#ed7953"
             ],
             [
              0.7777777777777778,
              "#fb9f3a"
             ],
             [
              0.8888888888888888,
              "#fdca26"
             ],
             [
              1,
              "#f0f921"
             ]
            ],
            "type": "histogram2dcontour"
           }
          ],
          "mesh3d": [
           {
            "colorbar": {
             "outlinewidth": 0,
             "ticks": ""
            },
            "type": "mesh3d"
           }
          ],
          "parcoords": [
           {
            "line": {
             "colorbar": {
              "outlinewidth": 0,
              "ticks": ""
             }
            },
            "type": "parcoords"
           }
          ],
          "pie": [
           {
            "automargin": true,
            "type": "pie"
           }
          ],
          "scatter": [
           {
            "fillpattern": {
             "fillmode": "overlay",
             "size": 10,
             "solidity": 0.2
            },
            "type": "scatter"
           }
          ],
          "scatter3d": [
           {
            "line": {
             "colorbar": {
              "outlinewidth": 0,
              "ticks": ""
             }
            },
            "marker": {
             "colorbar": {
              "outlinewidth": 0,
              "ticks": ""
             }
            },
            "type": "scatter3d"
           }
          ],
          "scattercarpet": [
           {
            "marker": {
             "colorbar": {
              "outlinewidth": 0,
              "ticks": ""
             }
            },
            "type": "scattercarpet"
           }
          ],
          "scattergeo": [
           {
            "marker": {
             "colorbar": {
              "outlinewidth": 0,
              "ticks": ""
             }
            },
            "type": "scattergeo"
           }
          ],
          "scattergl": [
           {
            "marker": {
             "colorbar": {
              "outlinewidth": 0,
              "ticks": ""
             }
            },
            "type": "scattergl"
           }
          ],
          "scattermapbox": [
           {
            "marker": {
             "colorbar": {
              "outlinewidth": 0,
              "ticks": ""
             }
            },
            "type": "scattermapbox"
           }
          ],
          "scatterpolar": [
           {
            "marker": {
             "colorbar": {
              "outlinewidth": 0,
              "ticks": ""
             }
            },
            "type": "scatterpolar"
           }
          ],
          "scatterpolargl": [
           {
            "marker": {
             "colorbar": {
              "outlinewidth": 0,
              "ticks": ""
             }
            },
            "type": "scatterpolargl"
           }
          ],
          "scatterternary": [
           {
            "marker": {
             "colorbar": {
              "outlinewidth": 0,
              "ticks": ""
             }
            },
            "type": "scatterternary"
           }
          ],
          "surface": [
           {
            "colorbar": {
             "outlinewidth": 0,
             "ticks": ""
            },
            "colorscale": [
             [
              0,
              "#0d0887"
             ],
             [
              0.1111111111111111,
              "#46039f"
             ],
             [
              0.2222222222222222,
              "#7201a8"
             ],
             [
              0.3333333333333333,
              "#9c179e"
             ],
             [
              0.4444444444444444,
              "#bd3786"
             ],
             [
              0.5555555555555556,
              "#d8576b"
             ],
             [
              0.6666666666666666,
              "#ed7953"
             ],
             [
              0.7777777777777778,
              "#fb9f3a"
             ],
             [
              0.8888888888888888,
              "#fdca26"
             ],
             [
              1,
              "#f0f921"
             ]
            ],
            "type": "surface"
           }
          ],
          "table": [
           {
            "cells": {
             "fill": {
              "color": "#EBF0F8"
             },
             "line": {
              "color": "white"
             }
            },
            "header": {
             "fill": {
              "color": "#C8D4E3"
             },
             "line": {
              "color": "white"
             }
            },
            "type": "table"
           }
          ]
         },
         "layout": {
          "annotationdefaults": {
           "arrowcolor": "#2a3f5f",
           "arrowhead": 0,
           "arrowwidth": 1
          },
          "autotypenumbers": "strict",
          "coloraxis": {
           "colorbar": {
            "outlinewidth": 0,
            "ticks": ""
           }
          },
          "colorscale": {
           "diverging": [
            [
             0,
             "#8e0152"
            ],
            [
             0.1,
             "#c51b7d"
            ],
            [
             0.2,
             "#de77ae"
            ],
            [
             0.3,
             "#f1b6da"
            ],
            [
             0.4,
             "#fde0ef"
            ],
            [
             0.5,
             "#f7f7f7"
            ],
            [
             0.6,
             "#e6f5d0"
            ],
            [
             0.7,
             "#b8e186"
            ],
            [
             0.8,
             "#7fbc41"
            ],
            [
             0.9,
             "#4d9221"
            ],
            [
             1,
             "#276419"
            ]
           ],
           "sequential": [
            [
             0,
             "#0d0887"
            ],
            [
             0.1111111111111111,
             "#46039f"
            ],
            [
             0.2222222222222222,
             "#7201a8"
            ],
            [
             0.3333333333333333,
             "#9c179e"
            ],
            [
             0.4444444444444444,
             "#bd3786"
            ],
            [
             0.5555555555555556,
             "#d8576b"
            ],
            [
             0.6666666666666666,
             "#ed7953"
            ],
            [
             0.7777777777777778,
             "#fb9f3a"
            ],
            [
             0.8888888888888888,
             "#fdca26"
            ],
            [
             1,
             "#f0f921"
            ]
           ],
           "sequentialminus": [
            [
             0,
             "#0d0887"
            ],
            [
             0.1111111111111111,
             "#46039f"
            ],
            [
             0.2222222222222222,
             "#7201a8"
            ],
            [
             0.3333333333333333,
             "#9c179e"
            ],
            [
             0.4444444444444444,
             "#bd3786"
            ],
            [
             0.5555555555555556,
             "#d8576b"
            ],
            [
             0.6666666666666666,
             "#ed7953"
            ],
            [
             0.7777777777777778,
             "#fb9f3a"
            ],
            [
             0.8888888888888888,
             "#fdca26"
            ],
            [
             1,
             "#f0f921"
            ]
           ]
          },
          "colorway": [
           "#636efa",
           "#EF553B",
           "#00cc96",
           "#ab63fa",
           "#FFA15A",
           "#19d3f3",
           "#FF6692",
           "#B6E880",
           "#FF97FF",
           "#FECB52"
          ],
          "font": {
           "color": "#2a3f5f"
          },
          "geo": {
           "bgcolor": "white",
           "lakecolor": "white",
           "landcolor": "white",
           "showlakes": true,
           "showland": true,
           "subunitcolor": "#C8D4E3"
          },
          "hoverlabel": {
           "align": "left"
          },
          "hovermode": "closest",
          "mapbox": {
           "style": "light"
          },
          "paper_bgcolor": "white",
          "plot_bgcolor": "white",
          "polar": {
           "angularaxis": {
            "gridcolor": "#EBF0F8",
            "linecolor": "#EBF0F8",
            "ticks": ""
           },
           "bgcolor": "white",
           "radialaxis": {
            "gridcolor": "#EBF0F8",
            "linecolor": "#EBF0F8",
            "ticks": ""
           }
          },
          "scene": {
           "xaxis": {
            "backgroundcolor": "white",
            "gridcolor": "#DFE8F3",
            "gridwidth": 2,
            "linecolor": "#EBF0F8",
            "showbackground": true,
            "ticks": "",
            "zerolinecolor": "#EBF0F8"
           },
           "yaxis": {
            "backgroundcolor": "white",
            "gridcolor": "#DFE8F3",
            "gridwidth": 2,
            "linecolor": "#EBF0F8",
            "showbackground": true,
            "ticks": "",
            "zerolinecolor": "#EBF0F8"
           },
           "zaxis": {
            "backgroundcolor": "white",
            "gridcolor": "#DFE8F3",
            "gridwidth": 2,
            "linecolor": "#EBF0F8",
            "showbackground": true,
            "ticks": "",
            "zerolinecolor": "#EBF0F8"
           }
          },
          "shapedefaults": {
           "line": {
            "color": "#2a3f5f"
           }
          },
          "ternary": {
           "aaxis": {
            "gridcolor": "#DFE8F3",
            "linecolor": "#A2B1C6",
            "ticks": ""
           },
           "baxis": {
            "gridcolor": "#DFE8F3",
            "linecolor": "#A2B1C6",
            "ticks": ""
           },
           "bgcolor": "white",
           "caxis": {
            "gridcolor": "#DFE8F3",
            "linecolor": "#A2B1C6",
            "ticks": ""
           }
          },
          "title": {
           "x": 0.05
          },
          "xaxis": {
           "automargin": true,
           "gridcolor": "#EBF0F8",
           "linecolor": "#EBF0F8",
           "ticks": "",
           "title": {
            "standoff": 15
           },
           "zerolinecolor": "#EBF0F8",
           "zerolinewidth": 2
          },
          "yaxis": {
           "automargin": true,
           "gridcolor": "#EBF0F8",
           "linecolor": "#EBF0F8",
           "ticks": "",
           "title": {
            "standoff": 15
           },
           "zerolinecolor": "#EBF0F8",
           "zerolinewidth": 2
          }
         }
        },
        "title": {
         "text": "Comparación de Puntuaciones para el Hotel Hyatt Regency San Francisco y Promedios Estatales"
        },
        "xaxis": {
         "anchor": "y",
         "domain": [
          0,
          1
         ],
         "title": {
          "text": "Categoria"
         }
        },
        "yaxis": {
         "anchor": "x",
         "domain": [
          0,
          1
         ],
         "title": {
          "text": "Puntuación"
         }
        }
       }
      }
     },
     "metadata": {},
     "output_type": "display_data"
    }
   ],
   "source": [
    "import plotly.express as px\n",
    "\n",
    "# Seleccionar las columnas relevantes para el gráfico de barras\n",
    "score_columns = [\n",
    "    'Personal', 'Instalaciones y servicios', 'Limpieza', 'Confort',\n",
    "    'Relación calidad-precio', 'Ubicación', 'WiFi Gratis'\n",
    "]\n",
    "\n",
    "# Filtrar el DataFrame para el hotel específico\n",
    "hotel_name = 'Hyatt Regency San Francisco'\n",
    "hotel_data = df_california_hotels[df_california_hotels['name'] == hotel_name][score_columns].transpose()\n",
    "hotel_data.columns = ['Hotel Score']\n",
    "hotel_data['Categoria'] = hotel_data.index\n",
    "\n",
    "# Calcular el promedio de cada columna de score para todos los hoteles en California\n",
    "state_avg_scores = df_california_hotels[score_columns].mean().reset_index()\n",
    "state_avg_scores.columns = ['Categoria', 'State Average Score']\n",
    "\n",
    "# Combinar los datos del hotel y los promedios estatales en un solo DataFrame\n",
    "combined_data = pd.merge(hotel_data, state_avg_scores, on='Categoria')\n",
    "\n",
    "# Configuración del gráfico con dos barras por categoría\n",
    "fig = px.bar(combined_data, x='Categoria', y=['Hotel Score', 'State Average Score'],\n",
    "             labels={'value': 'Puntuación', 'variable': 'Categoría'},\n",
    "             title=f'Comparación de Puntuaciones para el Hotel {hotel_name} y Promedios Estatales',\n",
    "             height=400,\n",
    "             template='plotly_white',\n",
    "             barmode='group')  # Utilizar 'group' para agrupar las barras\n",
    "\n",
    "# Mostrar el gráfico\n",
    "fig.show()\n"
   ]
  },
  {
   "cell_type": "code",
   "execution_count": 95,
   "metadata": {},
   "outputs": [
    {
     "data": {
      "application/vnd.plotly.v1+json": {
       "config": {
        "plotlyServerURL": "https://plot.ly"
       },
       "data": [
        {
         "alignmentgroup": "True",
         "hovertemplate": "Cantidad de Estrellas=%{x}<br>Cantidad de Hoteles=%{y}<extra></extra>",
         "legendgroup": "",
         "marker": {
          "color": "#636efa",
          "pattern": {
           "shape": ""
          }
         },
         "name": "",
         "offsetgroup": "",
         "orientation": "v",
         "showlegend": false,
         "textposition": "auto",
         "type": "bar",
         "x": [
          1,
          2,
          3,
          4,
          5
         ],
         "xaxis": "x",
         "y": [
          5,
          146,
          519,
          448,
          61
         ],
         "yaxis": "y"
        }
       ],
       "layout": {
        "barmode": "relative",
        "legend": {
         "tracegroupgap": 0
        },
        "template": {
         "data": {
          "bar": [
           {
            "error_x": {
             "color": "#2a3f5f"
            },
            "error_y": {
             "color": "#2a3f5f"
            },
            "marker": {
             "line": {
              "color": "white",
              "width": 0.5
             },
             "pattern": {
              "fillmode": "overlay",
              "size": 10,
              "solidity": 0.2
             }
            },
            "type": "bar"
           }
          ],
          "barpolar": [
           {
            "marker": {
             "line": {
              "color": "white",
              "width": 0.5
             },
             "pattern": {
              "fillmode": "overlay",
              "size": 10,
              "solidity": 0.2
             }
            },
            "type": "barpolar"
           }
          ],
          "carpet": [
           {
            "aaxis": {
             "endlinecolor": "#2a3f5f",
             "gridcolor": "#C8D4E3",
             "linecolor": "#C8D4E3",
             "minorgridcolor": "#C8D4E3",
             "startlinecolor": "#2a3f5f"
            },
            "baxis": {
             "endlinecolor": "#2a3f5f",
             "gridcolor": "#C8D4E3",
             "linecolor": "#C8D4E3",
             "minorgridcolor": "#C8D4E3",
             "startlinecolor": "#2a3f5f"
            },
            "type": "carpet"
           }
          ],
          "choropleth": [
           {
            "colorbar": {
             "outlinewidth": 0,
             "ticks": ""
            },
            "type": "choropleth"
           }
          ],
          "contour": [
           {
            "colorbar": {
             "outlinewidth": 0,
             "ticks": ""
            },
            "colorscale": [
             [
              0,
              "#0d0887"
             ],
             [
              0.1111111111111111,
              "#46039f"
             ],
             [
              0.2222222222222222,
              "#7201a8"
             ],
             [
              0.3333333333333333,
              "#9c179e"
             ],
             [
              0.4444444444444444,
              "#bd3786"
             ],
             [
              0.5555555555555556,
              "#d8576b"
             ],
             [
              0.6666666666666666,
              "#ed7953"
             ],
             [
              0.7777777777777778,
              "#fb9f3a"
             ],
             [
              0.8888888888888888,
              "#fdca26"
             ],
             [
              1,
              "#f0f921"
             ]
            ],
            "type": "contour"
           }
          ],
          "contourcarpet": [
           {
            "colorbar": {
             "outlinewidth": 0,
             "ticks": ""
            },
            "type": "contourcarpet"
           }
          ],
          "heatmap": [
           {
            "colorbar": {
             "outlinewidth": 0,
             "ticks": ""
            },
            "colorscale": [
             [
              0,
              "#0d0887"
             ],
             [
              0.1111111111111111,
              "#46039f"
             ],
             [
              0.2222222222222222,
              "#7201a8"
             ],
             [
              0.3333333333333333,
              "#9c179e"
             ],
             [
              0.4444444444444444,
              "#bd3786"
             ],
             [
              0.5555555555555556,
              "#d8576b"
             ],
             [
              0.6666666666666666,
              "#ed7953"
             ],
             [
              0.7777777777777778,
              "#fb9f3a"
             ],
             [
              0.8888888888888888,
              "#fdca26"
             ],
             [
              1,
              "#f0f921"
             ]
            ],
            "type": "heatmap"
           }
          ],
          "heatmapgl": [
           {
            "colorbar": {
             "outlinewidth": 0,
             "ticks": ""
            },
            "colorscale": [
             [
              0,
              "#0d0887"
             ],
             [
              0.1111111111111111,
              "#46039f"
             ],
             [
              0.2222222222222222,
              "#7201a8"
             ],
             [
              0.3333333333333333,
              "#9c179e"
             ],
             [
              0.4444444444444444,
              "#bd3786"
             ],
             [
              0.5555555555555556,
              "#d8576b"
             ],
             [
              0.6666666666666666,
              "#ed7953"
             ],
             [
              0.7777777777777778,
              "#fb9f3a"
             ],
             [
              0.8888888888888888,
              "#fdca26"
             ],
             [
              1,
              "#f0f921"
             ]
            ],
            "type": "heatmapgl"
           }
          ],
          "histogram": [
           {
            "marker": {
             "pattern": {
              "fillmode": "overlay",
              "size": 10,
              "solidity": 0.2
             }
            },
            "type": "histogram"
           }
          ],
          "histogram2d": [
           {
            "colorbar": {
             "outlinewidth": 0,
             "ticks": ""
            },
            "colorscale": [
             [
              0,
              "#0d0887"
             ],
             [
              0.1111111111111111,
              "#46039f"
             ],
             [
              0.2222222222222222,
              "#7201a8"
             ],
             [
              0.3333333333333333,
              "#9c179e"
             ],
             [
              0.4444444444444444,
              "#bd3786"
             ],
             [
              0.5555555555555556,
              "#d8576b"
             ],
             [
              0.6666666666666666,
              "#ed7953"
             ],
             [
              0.7777777777777778,
              "#fb9f3a"
             ],
             [
              0.8888888888888888,
              "#fdca26"
             ],
             [
              1,
              "#f0f921"
             ]
            ],
            "type": "histogram2d"
           }
          ],
          "histogram2dcontour": [
           {
            "colorbar": {
             "outlinewidth": 0,
             "ticks": ""
            },
            "colorscale": [
             [
              0,
              "#0d0887"
             ],
             [
              0.1111111111111111,
              "#46039f"
             ],
             [
              0.2222222222222222,
              "#7201a8"
             ],
             [
              0.3333333333333333,
              "#9c179e"
             ],
             [
              0.4444444444444444,
              "#bd3786"
             ],
             [
              0.5555555555555556,
              "#d8576b"
             ],
             [
              0.6666666666666666,
              "#ed7953"
             ],
             [
              0.7777777777777778,
              "#fb9f3a"
             ],
             [
              0.8888888888888888,
              "#fdca26"
             ],
             [
              1,
              "#f0f921"
             ]
            ],
            "type": "histogram2dcontour"
           }
          ],
          "mesh3d": [
           {
            "colorbar": {
             "outlinewidth": 0,
             "ticks": ""
            },
            "type": "mesh3d"
           }
          ],
          "parcoords": [
           {
            "line": {
             "colorbar": {
              "outlinewidth": 0,
              "ticks": ""
             }
            },
            "type": "parcoords"
           }
          ],
          "pie": [
           {
            "automargin": true,
            "type": "pie"
           }
          ],
          "scatter": [
           {
            "fillpattern": {
             "fillmode": "overlay",
             "size": 10,
             "solidity": 0.2
            },
            "type": "scatter"
           }
          ],
          "scatter3d": [
           {
            "line": {
             "colorbar": {
              "outlinewidth": 0,
              "ticks": ""
             }
            },
            "marker": {
             "colorbar": {
              "outlinewidth": 0,
              "ticks": ""
             }
            },
            "type": "scatter3d"
           }
          ],
          "scattercarpet": [
           {
            "marker": {
             "colorbar": {
              "outlinewidth": 0,
              "ticks": ""
             }
            },
            "type": "scattercarpet"
           }
          ],
          "scattergeo": [
           {
            "marker": {
             "colorbar": {
              "outlinewidth": 0,
              "ticks": ""
             }
            },
            "type": "scattergeo"
           }
          ],
          "scattergl": [
           {
            "marker": {
             "colorbar": {
              "outlinewidth": 0,
              "ticks": ""
             }
            },
            "type": "scattergl"
           }
          ],
          "scattermapbox": [
           {
            "marker": {
             "colorbar": {
              "outlinewidth": 0,
              "ticks": ""
             }
            },
            "type": "scattermapbox"
           }
          ],
          "scatterpolar": [
           {
            "marker": {
             "colorbar": {
              "outlinewidth": 0,
              "ticks": ""
             }
            },
            "type": "scatterpolar"
           }
          ],
          "scatterpolargl": [
           {
            "marker": {
             "colorbar": {
              "outlinewidth": 0,
              "ticks": ""
             }
            },
            "type": "scatterpolargl"
           }
          ],
          "scatterternary": [
           {
            "marker": {
             "colorbar": {
              "outlinewidth": 0,
              "ticks": ""
             }
            },
            "type": "scatterternary"
           }
          ],
          "surface": [
           {
            "colorbar": {
             "outlinewidth": 0,
             "ticks": ""
            },
            "colorscale": [
             [
              0,
              "#0d0887"
             ],
             [
              0.1111111111111111,
              "#46039f"
             ],
             [
              0.2222222222222222,
              "#7201a8"
             ],
             [
              0.3333333333333333,
              "#9c179e"
             ],
             [
              0.4444444444444444,
              "#bd3786"
             ],
             [
              0.5555555555555556,
              "#d8576b"
             ],
             [
              0.6666666666666666,
              "#ed7953"
             ],
             [
              0.7777777777777778,
              "#fb9f3a"
             ],
             [
              0.8888888888888888,
              "#fdca26"
             ],
             [
              1,
              "#f0f921"
             ]
            ],
            "type": "surface"
           }
          ],
          "table": [
           {
            "cells": {
             "fill": {
              "color": "#EBF0F8"
             },
             "line": {
              "color": "white"
             }
            },
            "header": {
             "fill": {
              "color": "#C8D4E3"
             },
             "line": {
              "color": "white"
             }
            },
            "type": "table"
           }
          ]
         },
         "layout": {
          "annotationdefaults": {
           "arrowcolor": "#2a3f5f",
           "arrowhead": 0,
           "arrowwidth": 1
          },
          "autotypenumbers": "strict",
          "coloraxis": {
           "colorbar": {
            "outlinewidth": 0,
            "ticks": ""
           }
          },
          "colorscale": {
           "diverging": [
            [
             0,
             "#8e0152"
            ],
            [
             0.1,
             "#c51b7d"
            ],
            [
             0.2,
             "#de77ae"
            ],
            [
             0.3,
             "#f1b6da"
            ],
            [
             0.4,
             "#fde0ef"
            ],
            [
             0.5,
             "#f7f7f7"
            ],
            [
             0.6,
             "#e6f5d0"
            ],
            [
             0.7,
             "#b8e186"
            ],
            [
             0.8,
             "#7fbc41"
            ],
            [
             0.9,
             "#4d9221"
            ],
            [
             1,
             "#276419"
            ]
           ],
           "sequential": [
            [
             0,
             "#0d0887"
            ],
            [
             0.1111111111111111,
             "#46039f"
            ],
            [
             0.2222222222222222,
             "#7201a8"
            ],
            [
             0.3333333333333333,
             "#9c179e"
            ],
            [
             0.4444444444444444,
             "#bd3786"
            ],
            [
             0.5555555555555556,
             "#d8576b"
            ],
            [
             0.6666666666666666,
             "#ed7953"
            ],
            [
             0.7777777777777778,
             "#fb9f3a"
            ],
            [
             0.8888888888888888,
             "#fdca26"
            ],
            [
             1,
             "#f0f921"
            ]
           ],
           "sequentialminus": [
            [
             0,
             "#0d0887"
            ],
            [
             0.1111111111111111,
             "#46039f"
            ],
            [
             0.2222222222222222,
             "#7201a8"
            ],
            [
             0.3333333333333333,
             "#9c179e"
            ],
            [
             0.4444444444444444,
             "#bd3786"
            ],
            [
             0.5555555555555556,
             "#d8576b"
            ],
            [
             0.6666666666666666,
             "#ed7953"
            ],
            [
             0.7777777777777778,
             "#fb9f3a"
            ],
            [
             0.8888888888888888,
             "#fdca26"
            ],
            [
             1,
             "#f0f921"
            ]
           ]
          },
          "colorway": [
           "#636efa",
           "#EF553B",
           "#00cc96",
           "#ab63fa",
           "#FFA15A",
           "#19d3f3",
           "#FF6692",
           "#B6E880",
           "#FF97FF",
           "#FECB52"
          ],
          "font": {
           "color": "#2a3f5f"
          },
          "geo": {
           "bgcolor": "white",
           "lakecolor": "white",
           "landcolor": "white",
           "showlakes": true,
           "showland": true,
           "subunitcolor": "#C8D4E3"
          },
          "hoverlabel": {
           "align": "left"
          },
          "hovermode": "closest",
          "mapbox": {
           "style": "light"
          },
          "paper_bgcolor": "white",
          "plot_bgcolor": "white",
          "polar": {
           "angularaxis": {
            "gridcolor": "#EBF0F8",
            "linecolor": "#EBF0F8",
            "ticks": ""
           },
           "bgcolor": "white",
           "radialaxis": {
            "gridcolor": "#EBF0F8",
            "linecolor": "#EBF0F8",
            "ticks": ""
           }
          },
          "scene": {
           "xaxis": {
            "backgroundcolor": "white",
            "gridcolor": "#DFE8F3",
            "gridwidth": 2,
            "linecolor": "#EBF0F8",
            "showbackground": true,
            "ticks": "",
            "zerolinecolor": "#EBF0F8"
           },
           "yaxis": {
            "backgroundcolor": "white",
            "gridcolor": "#DFE8F3",
            "gridwidth": 2,
            "linecolor": "#EBF0F8",
            "showbackground": true,
            "ticks": "",
            "zerolinecolor": "#EBF0F8"
           },
           "zaxis": {
            "backgroundcolor": "white",
            "gridcolor": "#DFE8F3",
            "gridwidth": 2,
            "linecolor": "#EBF0F8",
            "showbackground": true,
            "ticks": "",
            "zerolinecolor": "#EBF0F8"
           }
          },
          "shapedefaults": {
           "line": {
            "color": "#2a3f5f"
           }
          },
          "ternary": {
           "aaxis": {
            "gridcolor": "#DFE8F3",
            "linecolor": "#A2B1C6",
            "ticks": ""
           },
           "baxis": {
            "gridcolor": "#DFE8F3",
            "linecolor": "#A2B1C6",
            "ticks": ""
           },
           "bgcolor": "white",
           "caxis": {
            "gridcolor": "#DFE8F3",
            "linecolor": "#A2B1C6",
            "ticks": ""
           }
          },
          "title": {
           "x": 0.05
          },
          "xaxis": {
           "automargin": true,
           "gridcolor": "#EBF0F8",
           "linecolor": "#EBF0F8",
           "ticks": "",
           "title": {
            "standoff": 15
           },
           "zerolinecolor": "#EBF0F8",
           "zerolinewidth": 2
          },
          "yaxis": {
           "automargin": true,
           "gridcolor": "#EBF0F8",
           "linecolor": "#EBF0F8",
           "ticks": "",
           "title": {
            "standoff": 15
           },
           "zerolinecolor": "#EBF0F8",
           "zerolinewidth": 2
          }
         }
        },
        "title": {
         "text": "Cantidad de Hoteles por Estrellas"
        },
        "xaxis": {
         "anchor": "y",
         "domain": [
          0,
          1
         ],
         "title": {
          "text": "Cantidad de Estrellas"
         }
        },
        "yaxis": {
         "anchor": "x",
         "domain": [
          0,
          1
         ],
         "title": {
          "text": "Cantidad de Hoteles"
         }
        }
       }
      }
     },
     "metadata": {},
     "output_type": "display_data"
    }
   ],
   "source": [
    "import plotly.express as px\n",
    "\n",
    "# Contar la cantidad de hoteles por estrellas\n",
    "stars_count = df_california_hotels['stars'].value_counts().sort_index().reset_index()\n",
    "stars_count.columns = ['Estrellas', 'Cantidad']\n",
    "\n",
    "# Crear el gráfico de barras\n",
    "fig = px.bar(stars_count, x='Estrellas', y='Cantidad',\n",
    "             title='Cantidad de Hoteles por Estrellas',\n",
    "             labels={'Estrellas': 'Cantidad de Estrellas', 'Cantidad': 'Cantidad de Hoteles'},\n",
    "             template='plotly_white')\n",
    "\n",
    "# Mostrar el gráfico\n",
    "fig.show()\n"
   ]
  },
  {
   "cell_type": "code",
   "execution_count": 96,
   "metadata": {},
   "outputs": [
    {
     "data": {
      "application/vnd.plotly.v1+json": {
       "config": {
        "plotlyServerURL": "https://plot.ly"
       },
       "data": [
        {
         "alignmentgroup": "True",
         "bingroup": "x",
         "hovertemplate": "Precio=%{x}<br>count=%{y}<extra></extra>",
         "legendgroup": "",
         "marker": {
          "color": "#636efa",
          "pattern": {
           "shape": ""
          }
         },
         "name": "",
         "offsetgroup": "",
         "orientation": "v",
         "showlegend": false,
         "type": "histogram",
         "x": [
          849.752,
          466.927,
          904.364,
          463.104,
          390.267,
          468.201,
          254.853,
          560.385,
          254.565,
          281.139,
          451.854,
          367.862,
          387.959,
          263.023,
          567.375,
          683.559,
          479.706,
          897.446,
          520.846,
          450.871,
          631.307,
          283.105,
          659.705,
          784.656,
          400.847,
          583.031,
          545.338,
          496.599,
          1583.729,
          637.569,
          485.404,
          4967.811,
          516.012,
          773.296,
          663.266,
          698.781,
          253.615,
          385.993,
          678.273,
          401.743,
          320.849,
          219.538,
          1785.426,
          1039.621,
          784.437,
          469.657,
          221.143,
          466.526,
          425.204,
          655.059,
          340.753,
          717.961,
          260.314,
          573.055,
          799.878,
          363.566,
          488.407,
          382.145,
          1067.688,
          407.597,
          587.836,
          460.191,
          533.007,
          394.658,
          555.19,
          745.117,
          576.696,
          1161.729,
          846.967,
          669.753,
          778.758,
          616.744,
          360.06,
          2719.644,
          312.268,
          669.753,
          931.487,
          564.9,
          617.712,
          438.347,
          712.874,
          671.355,
          556.464,
          529.366,
          995.383,
          2302.851,
          466.599,
          340.214,
          555.179,
          494.779,
          567.958,
          750.141,
          2191.447,
          313.797,
          340.946,
          888.344,
          251.212,
          358.76,
          604.547,
          926.532,
          377.164,
          199.513,
          280.338,
          285.435,
          353.008,
          652.733,
          457.097,
          1286.643,
          2200.618,
          325.702,
          352.709,
          675.87,
          404.277,
          483.973,
          733.976,
          253.597,
          581.283,
          711.768,
          764.559,
          226.073,
          1155.94,
          1318.318,
          705.578,
          396.151,
          602.181,
          846.476,
          821.318,
          1046.266,
          392.473,
          1436.278,
          245.715,
          688.103,
          553.104,
          1155.576,
          742.35,
          456.802,
          2304.598,
          577.387,
          446.175,
          408.93,
          403.971,
          558.273,
          216.261,
          236.121,
          884.846,
          432.886,
          301.455,
          784.583,
          295.32,
          2173.531,
          1122.809,
          467.91,
          1856.785,
          1030.691,
          777.665,
          758.792,
          767.504,
          568.18,
          1090.042,
          502.879,
          712.132,
          433.25,
          391.017,
          1446.836,
          681.812,
          742.714,
          649.893,
          858.162,
          770.384,
          412.625,
          354.974,
          283.979,
          411.376,
          1526.933,
          604.729,
          657.302,
          729.061,
          594.899,
          360.435,
          575.057,
          1551.18,
          482.036,
          611.647,
          478.395,
          817.532,
          831.549,
          578.88,
          592.074,
          691.744,
          2000.231,
          3713.571,
          676.452,
          251.212,
          546.113,
          305.802,
          1118.48,
          490.683,
          420.143,
          452.91,
          660.557,
          401.932,
          2850.711,
          1048.538,
          507.39,
          689.668,
          613.467,
          303.639,
          393.202,
          955.178,
          590.065,
          523.905,
          653.152,
          663.528,
          280.138,
          868.684,
          243.785,
          3495.125,
          475.097,
          1327.055,
          247.571,
          1308.487,
          1894.445,
          286.91,
          617.072,
          427.694,
          171.116,
          335.314,
          2934.085,
          372.813,
          579.972,
          1494.166,
          1325.777,
          251.212,
          722.18,
          757.277,
          388.105,
          377.474,
          520.191,
          469.876,
          391.017,
          658.471,
          372.792,
          1030.778,
          324.391,
          214.349,
          454.148,
          259.95,
          726.404,
          2839.789,
          415.811,
          294.901,
          183.858,
          568.329,
          425.968,
          678.666,
          392.219,
          393.202,
          588.492,
          699.025,
          608.771,
          425.641,
          2839.789,
          884.704,
          638.953,
          565.773,
          363.711,
          1117.712,
          565.773,
          863.296,
          660.797,
          380.095,
          881.973,
          342.085,
          688.103,
          363.22,
          907.568,
          878.878,
          613.394,
          650.093,
          580.336,
          859.218,
          5023.878,
          875.966,
          1090.042,
          487.818,
          569.822,
          599.145,
          875.966,
          1111.286,
          819.17,
          1437.807,
          491.502,
          515.531,
          1221.546,
          3058.235,
          429.919,
          189.319,
          612.331,
          758.005,
          764.923,
          1090.042,
          943.684,
          709.219,
          718.248,
          1346.715,
          399.027,
          1014.679,
          2110.546,
          875.966,
          723.418,
          980.546,
          487.57,
          589.438,
          813.665,
          789.625,
          1526.933,
          471.842,
          3276.68,
          1383.487,
          862.859,
          831.549,
          1513.826,
          235.739,
          1364.606,
          887.98,
          1485.428,
          777.174,
          948.206,
          771.724,
          820.743,
          1009.217,
          1124.557,
          3725.847,
          469.293,
          728.887,
          308.991,
          511.162,
          954.606,
          265.411,
          352.571,
          664.092,
          1073.091,
          340.993,
          395.124,
          372.085,
          270.406,
          342.085,
          322.425,
          351.915,
          416.106,
          451.133,
          544.588,
          429.831,
          403.691,
          403.115,
          437.109,
          587.618,
          409.585,
          500.24,
          806.063,
          448.541,
          563.589,
          351.915,
          329.124,
          209.97,
          458.178,
          224.052,
          704.442,
          466.581,
          946.596,
          493.708,
          262.397,
          598.176,
          521.757,
          430.556,
          281.794,
          521.961,
          271.222,
          541.744,
          234.264,
          578.203,
          522.303,
          539.356,
          644.851,
          358.108,
          274.513,
          631.307,
          1080.03,
          256.892,
          502.643,
          586.886,
          386.794,
          429.609,
          468.099,
          453.492,
          292.932,
          239.525,
          498.783,
          611.647,
          446.935,
          303.989,
          360.875,
          500.24,
          434.488,
          404.047,
          225.727,
          474.503,
          266.776,
          430.556,
          475.512,
          374.998,
          584.887,
          502.424,
          370.068,
          220.848,
          270.144,
          362.91,
          479.833,
          413.386,
          331.072,
          227.911,
          517.169,
          729.607,
          389.299,
          489.536,
          321.479,
          587.647,
          231.203,
          441.988,
          171.578,
          1226.206,
          257.765,
          384.486,
          374.142,
          256.892,
          463.454,
          542.473,
          504.245,
          332.365,
          592.005,
          337.134,
          267.96,
          818.303,
          1020.14,
          558.445,
          187.499,
          259.513,
          587.836,
          478.395,
          307.28,
          188.391,
          371.357,
          436.869,
          216.698,
          347.328,
          347.328,
          613.103,
          249.028,
          491.502,
          168.094,
          241.746,
          163.834,
          239.176,
          309.075,
          786.403,
          233.136,
          309.646,
          394.083,
          427.061,
          538.861,
          551.21,
          134.686,
          166.292,
          658.576,
          453.492,
          691.379,
          319.429,
          484.657,
          710.162,
          578.152,
          495.121,
          756.68,
          607.788,
          579.506,
          511.235,
          463.832,
          474.755,
          648.164,
          476.939,
          615.772,
          482.983,
          333.937,
          565.154,
          322.917,
          570.652,
          604.249,
          338.554,
          379.738,
          542.502,
          382.716,
          270.745,
          867.228,
          349.884,
          584.56,
          533.909,
          620.385,
          807.17,
          425.204,
          422.845,
          522.521,
          514.803,
          481.679,
          527.327,
          427.789,
          710.169,
          443.444,
          711.404,
          358.749,
          436.264,
          571.555,
          547.57,
          586.125,
          530.822,
          571.271,
          589.22,
          455.094,
          402.584,
          262.863,
          358.192,
          594.39,
          570.652,
          550.482,
          501.194,
          697.532,
          284.172,
          466.381,
          296.357,
          649.511,
          339.329,
          646.598,
          290.864,
          252.122,
          693.2,
          620.964,
          554.221,
          518.444,
          501.489,
          449.269,
          431.43,
          453.492,
          529.366,
          314.488,
          520.308,
          451.454,
          585.648,
          988.101,
          549.23,
          598.54,
          322.054,
          1148.294,
          404.124,
          503.145,
          994.654,
          389.863,
          563.025,
          311.63,
          563.997,
          233.955,
          288.457,
          807.265,
          164.944,
          529.366,
          232.579,
          380.75,
          495.696,
          430.337,
          643.868,
          655.045,
          269.416,
          506.917,
          1313.326,
          340.862,
          558.492,
          463.832,
          824.267,
          699.025,
          517.169,
          2255.448,
          412.771,
          258.13,
          418.687,
          502.643,
          607.431,
          912.807,
          372.3,
          283.469,
          427.425,
          342.231,
          1111.887,
          320.751,
          427.789,
          610.882,
          1505.088,
          317.51,
          445.628,
          393.93,
          463.832,
          379.33,
          368.918,
          522.084,
          307.644,
          479.487,
          671.355,
          601.85,
          806.227,
          317.11,
          346.6,
          506.444,
          492.976,
          365.532,
          513.463,
          460.556,
          397.789,
          243.567,
          460.92,
          575.239,
          625.518,
          287.925,
          409.585,
          385.614,
          557.036,
          967.549,
          1055.819,
          1148.294,
          342.231,
          751.452,
          949.363,
          967.931,
          959.299,
          1555.986,
          358.796,
          476.939,
          597.645,
          1937.974,
          711.04,
          334.949,
          1087.494,
          1341.036,
          432.194,
          2187.73,
          2238.7,
          770.748,
          351.915,
          427.334,
          801.33,
          1362.007,
          456.915,
          456.915,
          510.434,
          633.127,
          323.39,
          504.281,
          539.669,
          1237.129,
          316.746,
          1047.063,
          435.798,
          624.025,
          347.328,
          678.273,
          1053.562,
          547.934,
          1169.775,
          944.703,
          678.637,
          423.784,
          795.505,
          664.802,
          427.279,
          688.103,
          456.915,
          183.239,
          834.286,
          262.113,
          404.124,
          314.561,
          345.508,
          456.915,
          471.842,
          428.153,
          595.628,
          316.382,
          840.65,
          539.669,
          959.299,
          433.978,
          1116.638,
          452.819,
          578.698,
          459.259,
          216.967,
          363.198,
          1447.2,
          790.663,
          327.195,
          2424.033,
          748.539,
          982.076,
          482.036,
          624.754,
          808.138,
          843.199,
          463.832,
          824.347,
          711.367,
          942.81,
          1565.525,
          1253.148,
          1075.843,
          622.569,
          391.017,
          455.458,
          381.915,
          455.458,
          518.808,
          621.113,
          1019.776,
          3013.817,
          939.752,
          862.859,
          446.357,
          474.026,
          477.667,
          476.939,
          1091.498,
          637.533,
          433.978,
          451.09,
          1719.11,
          911.645,
          893.587,
          341.867,
          317.11,
          394.257,
          309.857,
          500.24,
          1130.127,
          931.669,
          456.915,
          1112.979,
          2386.151,
          723.054,
          1656.544,
          776.573,
          677.945,
          1157.76,
          1167.954,
          838.102,
          503.942,
          669.717,
          585.798,
          581.611,
          486.405,
          1177.784,
          1318.682,
          459.099,
          1002.664,
          1236.765,
          1041.256,
          2172.439,
          842.238,
          813.891,
          433.978,
          1040.528,
          1017.227,
          842.944,
          491.502,
          1593.777,
          2332.719,
          426.332,
          911.645,
          1192.347,
          813.126,
          1401.691,
          961.888,
          958.611,
          1143.962,
          1349.992,
          1015.407,
          819.17,
          456.915,
          974.521,
          752.908,
          751.452,
          614.56,
          1101.329,
          1319.41,
          360.071,
          1037.979,
          463.468,
          1672.163,
          391.236,
          1117.712,
          1080.576,
          324.027,
          646.234,
          391.745,
          1209.095,
          1181.061,
          1084.581,
          890.893,
          2657.988,
          1454.118,
          979.4,
          491.957,
          316.746,
          568.686,
          981.147,
          487.788,
          434.178,
          1441.739,
          873.781,
          376.09,
          2267.462,
          1115.527,
          911.645,
          718.467,
          1174.362,
          1301.57,
          4259.684,
          2004.891,
          1097.032,
          2475.641,
          1215.648,
          1636.046,
          811.888,
          1843.183,
          2583.116,
          924.024,
          1451.697,
          942.227,
          500.604,
          788.952,
          620.723,
          836.172,
          1686.58,
          459.718,
          2552.439,
          1265.891,
          1103.877,
          871.597,
          2182.269,
          2028.556,
          1085.309,
          681.185,
          748.539,
          2539.099,
          238.976,
          324.872,
          276.333,
          354.107,
          290.558,
          212.329,
          290.146,
          416.502,
          368.659,
          259.95,
          188.569,
          278.427,
          218.445,
          285.435,
          214.055,
          641.501,
          268.087,
          229.368,
          187.499,
          517.715,
          1035.54,
          189.319,
          355.338,
          189.319,
          235.921,
          120.145,
          156.188,
          139.845,
          152.912,
          176.941,
          179.125,
          185.679,
          174.756,
          294.901,
          89.563,
          229.368,
          186.771,
          211.892,
          131.067,
          297.574,
          1854.928,
          223.306,
          192.232,
          655.336,
          134.18,
          178.397,
          87.378,
          104.395,
          131.067,
          173.664,
          124.514,
          166.084,
          176.941,
          139.805,
          176.941,
          152.912,
          109.223,
          320.022,
          299.871,
          244.127,
          216.261,
          211.488,
          242.62,
          127.791,
          455.823,
          206.431,
          370.181,
          330.377,
          421.053,
          196.077,
          308.008,
          190.834,
          184.805,
          262.134,
          170.491,
          207.96,
          187.557,
          228.079,
          157.827,
          115.994,
          351.06,
          152.912,
          361.891,
          308.008,
          692.472,
          266.503,
          190.484,
          353.576,
          279.137,
          163.616,
          148.787,
          233.388,
          141.116,
          390.289,
          43.252,
          284.714,
          100.266,
          102.669,
          97.572,
          163.834,
          185.132,
          163.841,
          352.618,
          109.223,
          182.839,
          109.223,
          268.688,
          233.955,
          131.067,
          69.903,
          163.834,
          180.174,
          58.98,
          131.067,
          251.212,
          283.138,
          131.071,
          149.22,
          131.067,
          180.873,
          135.655,
          141.989,
          303.639,
          106.339,
          127.791,
          412.862,
          131.26,
          150.4,
          69.903,
          104.854,
          138.014,
          100.485,
          167.475,
          167.111,
          110.096,
          141.989,
          153.349,
          54.233,
          1135.916,
          120.145,
          163.834,
          207.523,
          176.941,
          174.756,
          196.601,
          198.785,
          167.111,
          94.368,
          111.407,
          78.64,
          197.839,
          514.81,
          294.901,
          471.114,
          295.607,
          348.42,
          214.164,
          257.547,
          205.036,
          203.992,
          329.721,
          202.717,
          384.682,
          164.184,
          328.32,
          430.33,
          154.732,
          141.989,
          257.911,
          173.755,
          449.997,
          172.55,
          379.731,
          221.045,
          150.727,
          385.556,
          385.556,
          365.364,
          355.192,
          734.34,
          342.839,
          2016.796,
          365.022,
          259.298,
          397.785,
          269.758,
          432.482,
          361.993,
          326.554,
          364.458,
          397.57,
          776.937,
          394.512,
          220.972,
          318.377,
          306.075,
          377.91,
          312.537,
          382.279,
          287.671,
          480.58,
          1167.954,
          264.282,
          1895.29,
          311.962,
          295.797,
          1266.619,
          561.623,
          319.986,
          458.713,
          301.141,
          238.087,
          1100.964,
          468.019,
          484.978,
          1079.12,
          2224.502,
          767.726,
          609.462,
          756.913,
          736.889,
          2236.88,
          912.508,
          2032.481,
          845.711,
          317.729,
          372.027,
          715.044,
          430.264,
          316.127,
          1930.693,
          809.704,
          1299.386,
          1112.214,
          660.098,
          625.3,
          1474.506,
          862.881,
          938.703,
          1199.265,
          741.775,
          1359.458,
          303.981,
          298.178,
          281.303,
          343.494,
          332.758,
          363.318,
          496.595,
          565.773,
          391.891,
          735.123,
          2097.075,
          789.025,
          766.379,
          664.438,
          470.56,
          807.461,
          520.628,
          590.166,
          808.248,
          540.015,
          3798.4,
          285.945,
          598.54,
          412.862,
          391.669,
          269.212,
          267.348,
          261.202,
          291.304,
          310.556,
          250.491,
          350.936,
          329.124,
          269.416,
          527.545,
          405.107,
          609.462,
          512.473,
          222.487,
          605.822,
          492.503,
          498.055,
          226.797,
          629.851,
          478.759,
          350.969,
          269.758,
          611.625,
          894.352,
          441.988,
          372.69,
          546.113,
          440.895,
          694.656,
          539.924,
          456.551,
          1043.819,
          276.665,
          525.842,
          420.726,
          547.752,
          619.657,
          682.278,
          574.511,
          507.157,
          879.607,
          587.705,
          2256.624,
          1604.845,
          858.49,
          525.492,
          697.205,
          741.986,
          1464.312,
          1427.54,
          233.351,
          264.282,
          230.62,
          270.872,
          294.512
         ],
         "xaxis": "x",
         "yaxis": "y"
        }
       ],
       "layout": {
        "barmode": "relative",
        "legend": {
         "tracegroupgap": 0
        },
        "template": {
         "data": {
          "bar": [
           {
            "error_x": {
             "color": "#2a3f5f"
            },
            "error_y": {
             "color": "#2a3f5f"
            },
            "marker": {
             "line": {
              "color": "white",
              "width": 0.5
             },
             "pattern": {
              "fillmode": "overlay",
              "size": 10,
              "solidity": 0.2
             }
            },
            "type": "bar"
           }
          ],
          "barpolar": [
           {
            "marker": {
             "line": {
              "color": "white",
              "width": 0.5
             },
             "pattern": {
              "fillmode": "overlay",
              "size": 10,
              "solidity": 0.2
             }
            },
            "type": "barpolar"
           }
          ],
          "carpet": [
           {
            "aaxis": {
             "endlinecolor": "#2a3f5f",
             "gridcolor": "#C8D4E3",
             "linecolor": "#C8D4E3",
             "minorgridcolor": "#C8D4E3",
             "startlinecolor": "#2a3f5f"
            },
            "baxis": {
             "endlinecolor": "#2a3f5f",
             "gridcolor": "#C8D4E3",
             "linecolor": "#C8D4E3",
             "minorgridcolor": "#C8D4E3",
             "startlinecolor": "#2a3f5f"
            },
            "type": "carpet"
           }
          ],
          "choropleth": [
           {
            "colorbar": {
             "outlinewidth": 0,
             "ticks": ""
            },
            "type": "choropleth"
           }
          ],
          "contour": [
           {
            "colorbar": {
             "outlinewidth": 0,
             "ticks": ""
            },
            "colorscale": [
             [
              0,
              "#0d0887"
             ],
             [
              0.1111111111111111,
              "#46039f"
             ],
             [
              0.2222222222222222,
              "#7201a8"
             ],
             [
              0.3333333333333333,
              "#9c179e"
             ],
             [
              0.4444444444444444,
              "#bd3786"
             ],
             [
              0.5555555555555556,
              "#d8576b"
             ],
             [
              0.6666666666666666,
              "#ed7953"
             ],
             [
              0.7777777777777778,
              "#fb9f3a"
             ],
             [
              0.8888888888888888,
              "#fdca26"
             ],
             [
              1,
              "#f0f921"
             ]
            ],
            "type": "contour"
           }
          ],
          "contourcarpet": [
           {
            "colorbar": {
             "outlinewidth": 0,
             "ticks": ""
            },
            "type": "contourcarpet"
           }
          ],
          "heatmap": [
           {
            "colorbar": {
             "outlinewidth": 0,
             "ticks": ""
            },
            "colorscale": [
             [
              0,
              "#0d0887"
             ],
             [
              0.1111111111111111,
              "#46039f"
             ],
             [
              0.2222222222222222,
              "#7201a8"
             ],
             [
              0.3333333333333333,
              "#9c179e"
             ],
             [
              0.4444444444444444,
              "#bd3786"
             ],
             [
              0.5555555555555556,
              "#d8576b"
             ],
             [
              0.6666666666666666,
              "#ed7953"
             ],
             [
              0.7777777777777778,
              "#fb9f3a"
             ],
             [
              0.8888888888888888,
              "#fdca26"
             ],
             [
              1,
              "#f0f921"
             ]
            ],
            "type": "heatmap"
           }
          ],
          "heatmapgl": [
           {
            "colorbar": {
             "outlinewidth": 0,
             "ticks": ""
            },
            "colorscale": [
             [
              0,
              "#0d0887"
             ],
             [
              0.1111111111111111,
              "#46039f"
             ],
             [
              0.2222222222222222,
              "#7201a8"
             ],
             [
              0.3333333333333333,
              "#9c179e"
             ],
             [
              0.4444444444444444,
              "#bd3786"
             ],
             [
              0.5555555555555556,
              "#d8576b"
             ],
             [
              0.6666666666666666,
              "#ed7953"
             ],
             [
              0.7777777777777778,
              "#fb9f3a"
             ],
             [
              0.8888888888888888,
              "#fdca26"
             ],
             [
              1,
              "#f0f921"
             ]
            ],
            "type": "heatmapgl"
           }
          ],
          "histogram": [
           {
            "marker": {
             "pattern": {
              "fillmode": "overlay",
              "size": 10,
              "solidity": 0.2
             }
            },
            "type": "histogram"
           }
          ],
          "histogram2d": [
           {
            "colorbar": {
             "outlinewidth": 0,
             "ticks": ""
            },
            "colorscale": [
             [
              0,
              "#0d0887"
             ],
             [
              0.1111111111111111,
              "#46039f"
             ],
             [
              0.2222222222222222,
              "#7201a8"
             ],
             [
              0.3333333333333333,
              "#9c179e"
             ],
             [
              0.4444444444444444,
              "#bd3786"
             ],
             [
              0.5555555555555556,
              "#d8576b"
             ],
             [
              0.6666666666666666,
              "#ed7953"
             ],
             [
              0.7777777777777778,
              "#fb9f3a"
             ],
             [
              0.8888888888888888,
              "#fdca26"
             ],
             [
              1,
              "#f0f921"
             ]
            ],
            "type": "histogram2d"
           }
          ],
          "histogram2dcontour": [
           {
            "colorbar": {
             "outlinewidth": 0,
             "ticks": ""
            },
            "colorscale": [
             [
              0,
              "#0d0887"
             ],
             [
              0.1111111111111111,
              "#46039f"
             ],
             [
              0.2222222222222222,
              "#7201a8"
             ],
             [
              0.3333333333333333,
              "#9c179e"
             ],
             [
              0.4444444444444444,
              "#bd3786"
             ],
             [
              0.5555555555555556,
              "#d8576b"
             ],
             [
              0.6666666666666666,
              "#ed7953"
             ],
             [
              0.7777777777777778,
              "#fb9f3a"
             ],
             [
              0.8888888888888888,
              "#fdca26"
             ],
             [
              1,
              "#f0f921"
             ]
            ],
            "type": "histogram2dcontour"
           }
          ],
          "mesh3d": [
           {
            "colorbar": {
             "outlinewidth": 0,
             "ticks": ""
            },
            "type": "mesh3d"
           }
          ],
          "parcoords": [
           {
            "line": {
             "colorbar": {
              "outlinewidth": 0,
              "ticks": ""
             }
            },
            "type": "parcoords"
           }
          ],
          "pie": [
           {
            "automargin": true,
            "type": "pie"
           }
          ],
          "scatter": [
           {
            "fillpattern": {
             "fillmode": "overlay",
             "size": 10,
             "solidity": 0.2
            },
            "type": "scatter"
           }
          ],
          "scatter3d": [
           {
            "line": {
             "colorbar": {
              "outlinewidth": 0,
              "ticks": ""
             }
            },
            "marker": {
             "colorbar": {
              "outlinewidth": 0,
              "ticks": ""
             }
            },
            "type": "scatter3d"
           }
          ],
          "scattercarpet": [
           {
            "marker": {
             "colorbar": {
              "outlinewidth": 0,
              "ticks": ""
             }
            },
            "type": "scattercarpet"
           }
          ],
          "scattergeo": [
           {
            "marker": {
             "colorbar": {
              "outlinewidth": 0,
              "ticks": ""
             }
            },
            "type": "scattergeo"
           }
          ],
          "scattergl": [
           {
            "marker": {
             "colorbar": {
              "outlinewidth": 0,
              "ticks": ""
             }
            },
            "type": "scattergl"
           }
          ],
          "scattermapbox": [
           {
            "marker": {
             "colorbar": {
              "outlinewidth": 0,
              "ticks": ""
             }
            },
            "type": "scattermapbox"
           }
          ],
          "scatterpolar": [
           {
            "marker": {
             "colorbar": {
              "outlinewidth": 0,
              "ticks": ""
             }
            },
            "type": "scatterpolar"
           }
          ],
          "scatterpolargl": [
           {
            "marker": {
             "colorbar": {
              "outlinewidth": 0,
              "ticks": ""
             }
            },
            "type": "scatterpolargl"
           }
          ],
          "scatterternary": [
           {
            "marker": {
             "colorbar": {
              "outlinewidth": 0,
              "ticks": ""
             }
            },
            "type": "scatterternary"
           }
          ],
          "surface": [
           {
            "colorbar": {
             "outlinewidth": 0,
             "ticks": ""
            },
            "colorscale": [
             [
              0,
              "#0d0887"
             ],
             [
              0.1111111111111111,
              "#46039f"
             ],
             [
              0.2222222222222222,
              "#7201a8"
             ],
             [
              0.3333333333333333,
              "#9c179e"
             ],
             [
              0.4444444444444444,
              "#bd3786"
             ],
             [
              0.5555555555555556,
              "#d8576b"
             ],
             [
              0.6666666666666666,
              "#ed7953"
             ],
             [
              0.7777777777777778,
              "#fb9f3a"
             ],
             [
              0.8888888888888888,
              "#fdca26"
             ],
             [
              1,
              "#f0f921"
             ]
            ],
            "type": "surface"
           }
          ],
          "table": [
           {
            "cells": {
             "fill": {
              "color": "#EBF0F8"
             },
             "line": {
              "color": "white"
             }
            },
            "header": {
             "fill": {
              "color": "#C8D4E3"
             },
             "line": {
              "color": "white"
             }
            },
            "type": "table"
           }
          ]
         },
         "layout": {
          "annotationdefaults": {
           "arrowcolor": "#2a3f5f",
           "arrowhead": 0,
           "arrowwidth": 1
          },
          "autotypenumbers": "strict",
          "coloraxis": {
           "colorbar": {
            "outlinewidth": 0,
            "ticks": ""
           }
          },
          "colorscale": {
           "diverging": [
            [
             0,
             "#8e0152"
            ],
            [
             0.1,
             "#c51b7d"
            ],
            [
             0.2,
             "#de77ae"
            ],
            [
             0.3,
             "#f1b6da"
            ],
            [
             0.4,
             "#fde0ef"
            ],
            [
             0.5,
             "#f7f7f7"
            ],
            [
             0.6,
             "#e6f5d0"
            ],
            [
             0.7,
             "#b8e186"
            ],
            [
             0.8,
             "#7fbc41"
            ],
            [
             0.9,
             "#4d9221"
            ],
            [
             1,
             "#276419"
            ]
           ],
           "sequential": [
            [
             0,
             "#0d0887"
            ],
            [
             0.1111111111111111,
             "#46039f"
            ],
            [
             0.2222222222222222,
             "#7201a8"
            ],
            [
             0.3333333333333333,
             "#9c179e"
            ],
            [
             0.4444444444444444,
             "#bd3786"
            ],
            [
             0.5555555555555556,
             "#d8576b"
            ],
            [
             0.6666666666666666,
             "#ed7953"
            ],
            [
             0.7777777777777778,
             "#fb9f3a"
            ],
            [
             0.8888888888888888,
             "#fdca26"
            ],
            [
             1,
             "#f0f921"
            ]
           ],
           "sequentialminus": [
            [
             0,
             "#0d0887"
            ],
            [
             0.1111111111111111,
             "#46039f"
            ],
            [
             0.2222222222222222,
             "#7201a8"
            ],
            [
             0.3333333333333333,
             "#9c179e"
            ],
            [
             0.4444444444444444,
             "#bd3786"
            ],
            [
             0.5555555555555556,
             "#d8576b"
            ],
            [
             0.6666666666666666,
             "#ed7953"
            ],
            [
             0.7777777777777778,
             "#fb9f3a"
            ],
            [
             0.8888888888888888,
             "#fdca26"
            ],
            [
             1,
             "#f0f921"
            ]
           ]
          },
          "colorway": [
           "#636efa",
           "#EF553B",
           "#00cc96",
           "#ab63fa",
           "#FFA15A",
           "#19d3f3",
           "#FF6692",
           "#B6E880",
           "#FF97FF",
           "#FECB52"
          ],
          "font": {
           "color": "#2a3f5f"
          },
          "geo": {
           "bgcolor": "white",
           "lakecolor": "white",
           "landcolor": "white",
           "showlakes": true,
           "showland": true,
           "subunitcolor": "#C8D4E3"
          },
          "hoverlabel": {
           "align": "left"
          },
          "hovermode": "closest",
          "mapbox": {
           "style": "light"
          },
          "paper_bgcolor": "white",
          "plot_bgcolor": "white",
          "polar": {
           "angularaxis": {
            "gridcolor": "#EBF0F8",
            "linecolor": "#EBF0F8",
            "ticks": ""
           },
           "bgcolor": "white",
           "radialaxis": {
            "gridcolor": "#EBF0F8",
            "linecolor": "#EBF0F8",
            "ticks": ""
           }
          },
          "scene": {
           "xaxis": {
            "backgroundcolor": "white",
            "gridcolor": "#DFE8F3",
            "gridwidth": 2,
            "linecolor": "#EBF0F8",
            "showbackground": true,
            "ticks": "",
            "zerolinecolor": "#EBF0F8"
           },
           "yaxis": {
            "backgroundcolor": "white",
            "gridcolor": "#DFE8F3",
            "gridwidth": 2,
            "linecolor": "#EBF0F8",
            "showbackground": true,
            "ticks": "",
            "zerolinecolor": "#EBF0F8"
           },
           "zaxis": {
            "backgroundcolor": "white",
            "gridcolor": "#DFE8F3",
            "gridwidth": 2,
            "linecolor": "#EBF0F8",
            "showbackground": true,
            "ticks": "",
            "zerolinecolor": "#EBF0F8"
           }
          },
          "shapedefaults": {
           "line": {
            "color": "#2a3f5f"
           }
          },
          "ternary": {
           "aaxis": {
            "gridcolor": "#DFE8F3",
            "linecolor": "#A2B1C6",
            "ticks": ""
           },
           "baxis": {
            "gridcolor": "#DFE8F3",
            "linecolor": "#A2B1C6",
            "ticks": ""
           },
           "bgcolor": "white",
           "caxis": {
            "gridcolor": "#DFE8F3",
            "linecolor": "#A2B1C6",
            "ticks": ""
           }
          },
          "title": {
           "x": 0.05
          },
          "xaxis": {
           "automargin": true,
           "gridcolor": "#EBF0F8",
           "linecolor": "#EBF0F8",
           "ticks": "",
           "title": {
            "standoff": 15
           },
           "zerolinecolor": "#EBF0F8",
           "zerolinewidth": 2
          },
          "yaxis": {
           "automargin": true,
           "gridcolor": "#EBF0F8",
           "linecolor": "#EBF0F8",
           "ticks": "",
           "title": {
            "standoff": 15
           },
           "zerolinecolor": "#EBF0F8",
           "zerolinewidth": 2
          }
         }
        },
        "title": {
         "text": "Histograma de Precios de Hoteles en California"
        },
        "xaxis": {
         "anchor": "y",
         "domain": [
          0,
          1
         ],
         "title": {
          "text": "Precio"
         }
        },
        "yaxis": {
         "anchor": "x",
         "domain": [
          0,
          1
         ],
         "title": {
          "text": "count"
         }
        }
       }
      }
     },
     "metadata": {},
     "output_type": "display_data"
    }
   ],
   "source": [
    "import plotly.express as px\n",
    "\n",
    "# Filtrar los valores no nulos de la columna 'price'\n",
    "df_prices = df_california_hotels[df_california_hotels['price'].notnull()]\n",
    "\n",
    "# Crear el histograma\n",
    "fig = px.histogram(df_prices, x='price',\n",
    "                   title='Histograma de Precios de Hoteles en California',\n",
    "                   labels={'price': 'Precio', 'count': 'Cantidad de Hoteles'},\n",
    "                   template='plotly_white')\n",
    "\n",
    "# Mostrar el gráfico\n",
    "fig.show()\n"
   ]
  },
  {
   "cell_type": "code",
   "execution_count": 97,
   "metadata": {},
   "outputs": [
    {
     "data": {
      "application/vnd.plotly.v1+json": {
       "config": {
        "plotlyServerURL": "https://plot.ly"
       },
       "data": [
        {
         "alignmentgroup": "True",
         "bingroup": "x",
         "hovertemplate": "Avg Score=%{x}<br>count=%{y}<extra></extra>",
         "legendgroup": "",
         "marker": {
          "color": "#636efa",
          "pattern": {
           "shape": ""
          }
         },
         "name": "",
         "offsetgroup": "",
         "orientation": "v",
         "showlegend": false,
         "type": "histogram",
         "x": [
          73,
          86,
          79,
          88,
          72,
          80,
          45,
          80,
          75,
          89,
          86,
          81,
          77,
          80,
          81,
          79,
          82,
          83,
          73,
          93,
          89,
          72,
          84,
          77,
          82,
          79,
          83,
          77,
          88,
          81,
          76,
          91,
          84,
          82,
          86,
          85,
          61,
          72,
          80,
          71,
          80,
          68,
          90,
          87,
          76,
          89,
          76,
          74,
          80,
          76,
          84,
          86,
          74,
          73,
          84,
          79,
          82,
          52,
          83,
          77,
          86,
          86,
          82,
          85,
          81,
          78,
          78,
          78,
          88,
          75,
          87,
          80,
          81,
          95,
          76,
          70,
          91,
          85,
          82,
          76,
          86,
          85,
          88,
          87,
          83,
          94,
          78,
          77,
          85,
          88,
          80,
          82,
          92,
          75,
          74,
          84,
          67,
          77,
          82,
          70,
          69,
          55,
          71,
          75,
          76,
          81,
          88,
          89,
          89,
          78,
          67,
          82,
          82,
          85,
          83,
          72,
          78,
          91,
          84,
          48,
          84,
          90,
          81,
          88,
          84,
          94,
          87,
          95,
          91,
          90,
          74,
          93,
          85,
          72,
          86,
          90,
          94,
          88,
          82,
          89,
          69,
          71,
          65,
          55,
          80,
          78,
          80,
          74,
          79,
          92,
          84,
          10,
          90,
          10,
          82,
          88,
          70,
          84,
          83,
          79,
          88,
          86,
          82,
          87,
          70,
          95,
          88,
          10,
          88,
          88,
          70,
          85,
          77,
          86,
          79,
          85,
          74,
          82,
          79,
          79,
          86,
          79,
          81,
          87,
          81,
          83,
          94,
          98,
          96,
          85,
          86,
          75,
          81,
          80,
          58,
          80,
          82,
          77,
          75,
          88,
          70,
          91,
          10,
          77,
          98,
          76,
          70,
          99,
          91,
          95,
          81,
          87,
          77,
          57,
          99,
          68,
          80,
          71,
          95,
          64,
          79,
          97,
          74,
          80,
          90,
          50,
          71,
          99,
          67,
          84,
          92,
          10,
          54,
          10,
          80,
          10,
          60,
          82,
          71,
          78,
          94,
          71,
          78,
          10,
          63,
          68,
          60,
          87,
          10,
          80,
          63,
          58,
          90,
          72,
          90,
          80,
          94,
          88,
          84,
          90,
          77,
          73,
          95,
          10,
          77,
          74,
          87,
          85,
          88,
          96,
          68,
          95,
          73,
          80,
          97,
          96,
          95,
          98,
          85,
          10,
          82,
          10,
          96,
          96,
          80,
          80,
          70,
          80,
          10,
          10,
          80,
          69,
          78,
          92,
          77,
          80,
          46,
          70,
          10,
          92,
          67,
          93,
          90,
          70,
          97,
          91,
          95,
          97,
          88,
          96,
          80,
          67,
          72,
          10,
          95,
          67,
          98,
          10,
          84,
          99,
          76,
          10,
          51,
          89,
          10,
          90,
          50,
          10,
          90,
          10,
          94,
          10,
          90,
          90,
          100,
          55,
          61,
          84,
          80,
          84,
          82,
          90,
          85,
          83,
          81,
          74,
          75,
          80,
          89,
          85,
          84,
          84,
          69,
          81,
          85,
          76,
          86,
          89,
          81,
          87,
          81,
          84,
          89,
          79,
          78,
          78,
          72,
          85,
          83,
          80,
          83,
          84,
          84,
          83,
          79,
          78,
          84,
          78,
          83,
          75,
          90,
          83,
          79,
          87,
          76,
          84,
          85,
          91,
          81,
          80,
          81,
          75,
          77,
          75,
          85,
          75,
          72,
          86,
          84,
          80,
          75,
          87,
          90,
          81,
          83,
          70,
          84,
          68,
          74,
          72,
          72,
          83,
          83,
          77,
          70,
          68,
          82,
          86,
          83,
          79,
          73,
          89,
          83,
          83,
          78,
          69,
          90,
          78,
          79,
          72,
          88,
          66,
          72,
          70,
          64,
          87,
          92,
          82,
          72,
          86,
          78,
          73,
          84,
          86,
          83,
          50,
          69,
          87,
          93,
          79,
          67,
          63,
          65,
          54,
          82,
          73,
          85,
          79,
          88,
          74,
          62,
          69,
          72,
          80,
          97,
          63,
          79,
          72,
          83,
          81,
          89,
          59,
          74,
          83,
          80,
          79,
          71,
          90,
          83,
          81,
          83,
          81,
          83,
          83,
          76,
          76,
          80,
          83,
          79,
          83,
          81,
          86,
          85,
          78,
          81,
          80,
          74,
          74,
          72,
          85,
          90,
          86,
          80,
          83,
          86,
          86,
          89,
          78,
          84,
          80,
          78,
          79,
          79,
          74,
          80,
          84,
          84,
          76,
          78,
          80,
          83,
          73,
          83,
          90,
          77,
          83,
          87,
          80,
          83,
          76,
          74,
          84,
          85,
          83,
          71,
          84,
          69,
          82,
          84,
          76,
          81,
          70,
          89,
          87,
          75,
          74,
          83,
          79,
          81,
          87,
          73,
          75,
          84,
          80,
          75,
          90,
          82,
          82,
          72,
          77,
          85,
          81,
          84,
          79,
          80,
          76,
          75,
          69,
          71,
          86,
          65,
          85,
          75,
          81,
          78,
          83,
          60,
          94,
          79,
          90,
          71,
          67,
          74,
          73,
          84,
          90,
          70,
          78,
          82,
          84,
          90,
          88,
          76,
          87,
          86,
          68,
          10,
          69,
          83,
          90,
          82,
          87,
          96,
          68,
          87,
          80,
          90,
          85,
          77,
          95,
          91,
          77,
          87,
          10,
          10,
          85,
          97,
          85,
          85,
          59,
          81,
          87,
          61,
          10,
          83,
          90,
          10,
          68,
          81,
          85,
          10,
          10,
          86,
          97,
          80,
          79,
          84,
          96,
          66,
          98,
          81,
          85,
          56,
          60,
          94,
          84,
          10,
          10,
          93,
          57,
          99,
          10,
          89,
          75,
          70,
          93,
          83,
          87,
          99,
          85,
          60,
          80,
          90,
          98,
          77,
          97,
          82,
          85,
          73,
          96,
          97,
          93,
          10,
          96,
          90,
          10,
          97,
          85,
          90,
          86,
          88,
          64,
          10,
          68,
          10,
          90,
          90,
          85,
          66,
          83,
          85,
          69,
          99,
          87,
          59,
          93,
          10,
          68,
          91,
          73,
          59,
          10,
          75,
          99,
          90,
          10,
          90,
          10,
          69,
          80,
          88,
          10,
          77,
          10,
          98,
          95,
          10,
          10,
          90,
          83,
          95,
          85,
          60,
          10,
          86,
          89,
          95,
          40,
          10,
          79,
          72,
          83,
          89,
          10,
          68,
          93,
          77,
          98,
          97,
          50,
          90,
          70,
          10,
          94,
          62,
          10,
          85,
          52,
          86,
          90,
          10,
          92,
          60,
          10,
          10,
          10,
          92,
          98,
          10,
          83,
          97,
          10,
          97,
          10,
          89,
          90,
          74,
          10,
          85,
          50,
          10,
          98,
          95,
          10,
          92,
          10,
          89,
          10,
          10,
          10,
          10,
          10,
          80,
          80,
          80,
          93,
          50,
          72,
          10,
          88,
          75,
          92,
          10,
          87,
          98,
          87,
          99,
          88,
          80,
          68,
          92,
          83,
          10,
          98,
          60,
          95,
          70,
          70,
          87,
          73,
          70,
          10,
          10,
          10,
          80,
          80,
          59,
          92,
          95,
          70,
          90,
          10,
          98,
          91,
          82,
          86,
          80,
          99,
          93,
          10,
          10,
          68,
          98,
          90,
          96,
          70,
          70,
          10,
          94,
          96,
          80,
          66,
          96,
          10,
          80,
          10,
          10,
          99,
          94,
          80,
          99,
          76,
          97,
          98,
          90,
          97,
          10,
          72,
          80,
          83,
          86,
          87,
          58,
          82,
          80,
          87,
          82,
          69,
          90,
          61,
          60,
          43,
          94,
          79,
          86,
          64,
          90,
          54,
          39,
          85,
          91,
          93,
          80,
          92,
          85,
          85,
          86,
          86,
          86,
          92,
          88,
          91,
          85,
          83,
          93,
          90,
          89,
          90,
          88,
          93,
          99,
          83,
          86,
          86,
          94,
          88,
          92,
          87,
          99,
          94,
          93,
          95,
          94,
          89,
          88,
          87,
          79,
          87,
          77,
          88,
          96,
          85,
          85,
          88,
          90,
          88,
          80,
          85,
          83,
          10,
          87,
          80,
          90,
          83,
          89,
          79,
          79,
          88,
          86,
          88,
          86,
          82,
          84,
          83,
          89,
          83,
          82,
          89,
          73,
          82,
          84,
          10,
          76,
          87,
          85,
          97,
          83,
          85,
          79,
          90,
          82,
          75,
          93,
          87,
          75,
          10,
          84,
          89,
          86,
          75,
          94,
          90,
          81,
          77,
          71,
          95,
          78,
          93,
          95,
          87,
          79,
          93,
          84,
          77,
          90,
          85,
          79,
          74,
          83,
          85,
          85,
          90,
          93,
          85,
          81,
          10,
          93,
          80,
          89,
          74,
          78,
          93,
          10,
          92,
          96,
          10,
          92,
          69,
          81,
          78,
          84,
          81,
          83,
          73,
          72,
          79,
          75,
          85,
          57,
          85,
          67,
          81,
          90,
          58,
          39,
          75,
          46,
          90,
          65,
          84,
          68,
          56,
          87,
          86,
          84,
          78,
          80,
          75,
          95,
          85,
          77,
          88,
          62,
          83,
          87,
          87,
          86,
          87,
          85,
          81,
          70,
          74,
          62,
          84,
          79,
          88,
          67,
          81,
          95,
          58,
          10,
          81,
          93,
          85,
          85,
          81,
          86,
          70,
          74,
          87,
          84,
          83,
          81,
          92,
          92,
          81,
          10,
          88,
          84,
          87,
          90,
          70,
          82,
          74,
          87,
          80,
          65,
          10,
          83,
          94,
          98,
          10,
          75,
          76,
          97,
          69,
          92,
          50,
          98,
          79,
          84,
          80,
          85,
          82,
          88,
          79,
          80,
          76,
          90,
          90,
          91,
          75,
          10,
          85,
          92,
          10,
          78,
          70,
          80,
          84,
          75,
          89,
          86,
          80,
          80,
          72,
          67,
          81,
          82,
          73,
          87,
          77,
          83,
          86,
          81,
          86,
          87,
          72,
          85,
          84,
          10,
          67,
          10,
          95,
          80,
          60,
          79,
          80,
          95,
          83,
          10,
          81,
          87,
          78,
          81,
          10,
          67,
          97,
          10,
          80,
          63,
          73,
          60,
          75,
          80,
          80,
          10,
          92,
          10,
          95,
          60,
          62,
          85,
          92,
          76,
          79,
          82,
          84,
          82
         ],
         "xaxis": "x",
         "yaxis": "y"
        }
       ],
       "layout": {
        "barmode": "relative",
        "legend": {
         "tracegroupgap": 0
        },
        "template": {
         "data": {
          "bar": [
           {
            "error_x": {
             "color": "#2a3f5f"
            },
            "error_y": {
             "color": "#2a3f5f"
            },
            "marker": {
             "line": {
              "color": "white",
              "width": 0.5
             },
             "pattern": {
              "fillmode": "overlay",
              "size": 10,
              "solidity": 0.2
             }
            },
            "type": "bar"
           }
          ],
          "barpolar": [
           {
            "marker": {
             "line": {
              "color": "white",
              "width": 0.5
             },
             "pattern": {
              "fillmode": "overlay",
              "size": 10,
              "solidity": 0.2
             }
            },
            "type": "barpolar"
           }
          ],
          "carpet": [
           {
            "aaxis": {
             "endlinecolor": "#2a3f5f",
             "gridcolor": "#C8D4E3",
             "linecolor": "#C8D4E3",
             "minorgridcolor": "#C8D4E3",
             "startlinecolor": "#2a3f5f"
            },
            "baxis": {
             "endlinecolor": "#2a3f5f",
             "gridcolor": "#C8D4E3",
             "linecolor": "#C8D4E3",
             "minorgridcolor": "#C8D4E3",
             "startlinecolor": "#2a3f5f"
            },
            "type": "carpet"
           }
          ],
          "choropleth": [
           {
            "colorbar": {
             "outlinewidth": 0,
             "ticks": ""
            },
            "type": "choropleth"
           }
          ],
          "contour": [
           {
            "colorbar": {
             "outlinewidth": 0,
             "ticks": ""
            },
            "colorscale": [
             [
              0,
              "#0d0887"
             ],
             [
              0.1111111111111111,
              "#46039f"
             ],
             [
              0.2222222222222222,
              "#7201a8"
             ],
             [
              0.3333333333333333,
              "#9c179e"
             ],
             [
              0.4444444444444444,
              "#bd3786"
             ],
             [
              0.5555555555555556,
              "#d8576b"
             ],
             [
              0.6666666666666666,
              "#ed7953"
             ],
             [
              0.7777777777777778,
              "#fb9f3a"
             ],
             [
              0.8888888888888888,
              "#fdca26"
             ],
             [
              1,
              "#f0f921"
             ]
            ],
            "type": "contour"
           }
          ],
          "contourcarpet": [
           {
            "colorbar": {
             "outlinewidth": 0,
             "ticks": ""
            },
            "type": "contourcarpet"
           }
          ],
          "heatmap": [
           {
            "colorbar": {
             "outlinewidth": 0,
             "ticks": ""
            },
            "colorscale": [
             [
              0,
              "#0d0887"
             ],
             [
              0.1111111111111111,
              "#46039f"
             ],
             [
              0.2222222222222222,
              "#7201a8"
             ],
             [
              0.3333333333333333,
              "#9c179e"
             ],
             [
              0.4444444444444444,
              "#bd3786"
             ],
             [
              0.5555555555555556,
              "#d8576b"
             ],
             [
              0.6666666666666666,
              "#ed7953"
             ],
             [
              0.7777777777777778,
              "#fb9f3a"
             ],
             [
              0.8888888888888888,
              "#fdca26"
             ],
             [
              1,
              "#f0f921"
             ]
            ],
            "type": "heatmap"
           }
          ],
          "heatmapgl": [
           {
            "colorbar": {
             "outlinewidth": 0,
             "ticks": ""
            },
            "colorscale": [
             [
              0,
              "#0d0887"
             ],
             [
              0.1111111111111111,
              "#46039f"
             ],
             [
              0.2222222222222222,
              "#7201a8"
             ],
             [
              0.3333333333333333,
              "#9c179e"
             ],
             [
              0.4444444444444444,
              "#bd3786"
             ],
             [
              0.5555555555555556,
              "#d8576b"
             ],
             [
              0.6666666666666666,
              "#ed7953"
             ],
             [
              0.7777777777777778,
              "#fb9f3a"
             ],
             [
              0.8888888888888888,
              "#fdca26"
             ],
             [
              1,
              "#f0f921"
             ]
            ],
            "type": "heatmapgl"
           }
          ],
          "histogram": [
           {
            "marker": {
             "pattern": {
              "fillmode": "overlay",
              "size": 10,
              "solidity": 0.2
             }
            },
            "type": "histogram"
           }
          ],
          "histogram2d": [
           {
            "colorbar": {
             "outlinewidth": 0,
             "ticks": ""
            },
            "colorscale": [
             [
              0,
              "#0d0887"
             ],
             [
              0.1111111111111111,
              "#46039f"
             ],
             [
              0.2222222222222222,
              "#7201a8"
             ],
             [
              0.3333333333333333,
              "#9c179e"
             ],
             [
              0.4444444444444444,
              "#bd3786"
             ],
             [
              0.5555555555555556,
              "#d8576b"
             ],
             [
              0.6666666666666666,
              "#ed7953"
             ],
             [
              0.7777777777777778,
              "#fb9f3a"
             ],
             [
              0.8888888888888888,
              "#fdca26"
             ],
             [
              1,
              "#f0f921"
             ]
            ],
            "type": "histogram2d"
           }
          ],
          "histogram2dcontour": [
           {
            "colorbar": {
             "outlinewidth": 0,
             "ticks": ""
            },
            "colorscale": [
             [
              0,
              "#0d0887"
             ],
             [
              0.1111111111111111,
              "#46039f"
             ],
             [
              0.2222222222222222,
              "#7201a8"
             ],
             [
              0.3333333333333333,
              "#9c179e"
             ],
             [
              0.4444444444444444,
              "#bd3786"
             ],
             [
              0.5555555555555556,
              "#d8576b"
             ],
             [
              0.6666666666666666,
              "#ed7953"
             ],
             [
              0.7777777777777778,
              "#fb9f3a"
             ],
             [
              0.8888888888888888,
              "#fdca26"
             ],
             [
              1,
              "#f0f921"
             ]
            ],
            "type": "histogram2dcontour"
           }
          ],
          "mesh3d": [
           {
            "colorbar": {
             "outlinewidth": 0,
             "ticks": ""
            },
            "type": "mesh3d"
           }
          ],
          "parcoords": [
           {
            "line": {
             "colorbar": {
              "outlinewidth": 0,
              "ticks": ""
             }
            },
            "type": "parcoords"
           }
          ],
          "pie": [
           {
            "automargin": true,
            "type": "pie"
           }
          ],
          "scatter": [
           {
            "fillpattern": {
             "fillmode": "overlay",
             "size": 10,
             "solidity": 0.2
            },
            "type": "scatter"
           }
          ],
          "scatter3d": [
           {
            "line": {
             "colorbar": {
              "outlinewidth": 0,
              "ticks": ""
             }
            },
            "marker": {
             "colorbar": {
              "outlinewidth": 0,
              "ticks": ""
             }
            },
            "type": "scatter3d"
           }
          ],
          "scattercarpet": [
           {
            "marker": {
             "colorbar": {
              "outlinewidth": 0,
              "ticks": ""
             }
            },
            "type": "scattercarpet"
           }
          ],
          "scattergeo": [
           {
            "marker": {
             "colorbar": {
              "outlinewidth": 0,
              "ticks": ""
             }
            },
            "type": "scattergeo"
           }
          ],
          "scattergl": [
           {
            "marker": {
             "colorbar": {
              "outlinewidth": 0,
              "ticks": ""
             }
            },
            "type": "scattergl"
           }
          ],
          "scattermapbox": [
           {
            "marker": {
             "colorbar": {
              "outlinewidth": 0,
              "ticks": ""
             }
            },
            "type": "scattermapbox"
           }
          ],
          "scatterpolar": [
           {
            "marker": {
             "colorbar": {
              "outlinewidth": 0,
              "ticks": ""
             }
            },
            "type": "scatterpolar"
           }
          ],
          "scatterpolargl": [
           {
            "marker": {
             "colorbar": {
              "outlinewidth": 0,
              "ticks": ""
             }
            },
            "type": "scatterpolargl"
           }
          ],
          "scatterternary": [
           {
            "marker": {
             "colorbar": {
              "outlinewidth": 0,
              "ticks": ""
             }
            },
            "type": "scatterternary"
           }
          ],
          "surface": [
           {
            "colorbar": {
             "outlinewidth": 0,
             "ticks": ""
            },
            "colorscale": [
             [
              0,
              "#0d0887"
             ],
             [
              0.1111111111111111,
              "#46039f"
             ],
             [
              0.2222222222222222,
              "#7201a8"
             ],
             [
              0.3333333333333333,
              "#9c179e"
             ],
             [
              0.4444444444444444,
              "#bd3786"
             ],
             [
              0.5555555555555556,
              "#d8576b"
             ],
             [
              0.6666666666666666,
              "#ed7953"
             ],
             [
              0.7777777777777778,
              "#fb9f3a"
             ],
             [
              0.8888888888888888,
              "#fdca26"
             ],
             [
              1,
              "#f0f921"
             ]
            ],
            "type": "surface"
           }
          ],
          "table": [
           {
            "cells": {
             "fill": {
              "color": "#EBF0F8"
             },
             "line": {
              "color": "white"
             }
            },
            "header": {
             "fill": {
              "color": "#C8D4E3"
             },
             "line": {
              "color": "white"
             }
            },
            "type": "table"
           }
          ]
         },
         "layout": {
          "annotationdefaults": {
           "arrowcolor": "#2a3f5f",
           "arrowhead": 0,
           "arrowwidth": 1
          },
          "autotypenumbers": "strict",
          "coloraxis": {
           "colorbar": {
            "outlinewidth": 0,
            "ticks": ""
           }
          },
          "colorscale": {
           "diverging": [
            [
             0,
             "#8e0152"
            ],
            [
             0.1,
             "#c51b7d"
            ],
            [
             0.2,
             "#de77ae"
            ],
            [
             0.3,
             "#f1b6da"
            ],
            [
             0.4,
             "#fde0ef"
            ],
            [
             0.5,
             "#f7f7f7"
            ],
            [
             0.6,
             "#e6f5d0"
            ],
            [
             0.7,
             "#b8e186"
            ],
            [
             0.8,
             "#7fbc41"
            ],
            [
             0.9,
             "#4d9221"
            ],
            [
             1,
             "#276419"
            ]
           ],
           "sequential": [
            [
             0,
             "#0d0887"
            ],
            [
             0.1111111111111111,
             "#46039f"
            ],
            [
             0.2222222222222222,
             "#7201a8"
            ],
            [
             0.3333333333333333,
             "#9c179e"
            ],
            [
             0.4444444444444444,
             "#bd3786"
            ],
            [
             0.5555555555555556,
             "#d8576b"
            ],
            [
             0.6666666666666666,
             "#ed7953"
            ],
            [
             0.7777777777777778,
             "#fb9f3a"
            ],
            [
             0.8888888888888888,
             "#fdca26"
            ],
            [
             1,
             "#f0f921"
            ]
           ],
           "sequentialminus": [
            [
             0,
             "#0d0887"
            ],
            [
             0.1111111111111111,
             "#46039f"
            ],
            [
             0.2222222222222222,
             "#7201a8"
            ],
            [
             0.3333333333333333,
             "#9c179e"
            ],
            [
             0.4444444444444444,
             "#bd3786"
            ],
            [
             0.5555555555555556,
             "#d8576b"
            ],
            [
             0.6666666666666666,
             "#ed7953"
            ],
            [
             0.7777777777777778,
             "#fb9f3a"
            ],
            [
             0.8888888888888888,
             "#fdca26"
            ],
            [
             1,
             "#f0f921"
            ]
           ]
          },
          "colorway": [
           "#636efa",
           "#EF553B",
           "#00cc96",
           "#ab63fa",
           "#FFA15A",
           "#19d3f3",
           "#FF6692",
           "#B6E880",
           "#FF97FF",
           "#FECB52"
          ],
          "font": {
           "color": "#2a3f5f"
          },
          "geo": {
           "bgcolor": "white",
           "lakecolor": "white",
           "landcolor": "white",
           "showlakes": true,
           "showland": true,
           "subunitcolor": "#C8D4E3"
          },
          "hoverlabel": {
           "align": "left"
          },
          "hovermode": "closest",
          "mapbox": {
           "style": "light"
          },
          "paper_bgcolor": "white",
          "plot_bgcolor": "white",
          "polar": {
           "angularaxis": {
            "gridcolor": "#EBF0F8",
            "linecolor": "#EBF0F8",
            "ticks": ""
           },
           "bgcolor": "white",
           "radialaxis": {
            "gridcolor": "#EBF0F8",
            "linecolor": "#EBF0F8",
            "ticks": ""
           }
          },
          "scene": {
           "xaxis": {
            "backgroundcolor": "white",
            "gridcolor": "#DFE8F3",
            "gridwidth": 2,
            "linecolor": "#EBF0F8",
            "showbackground": true,
            "ticks": "",
            "zerolinecolor": "#EBF0F8"
           },
           "yaxis": {
            "backgroundcolor": "white",
            "gridcolor": "#DFE8F3",
            "gridwidth": 2,
            "linecolor": "#EBF0F8",
            "showbackground": true,
            "ticks": "",
            "zerolinecolor": "#EBF0F8"
           },
           "zaxis": {
            "backgroundcolor": "white",
            "gridcolor": "#DFE8F3",
            "gridwidth": 2,
            "linecolor": "#EBF0F8",
            "showbackground": true,
            "ticks": "",
            "zerolinecolor": "#EBF0F8"
           }
          },
          "shapedefaults": {
           "line": {
            "color": "#2a3f5f"
           }
          },
          "ternary": {
           "aaxis": {
            "gridcolor": "#DFE8F3",
            "linecolor": "#A2B1C6",
            "ticks": ""
           },
           "baxis": {
            "gridcolor": "#DFE8F3",
            "linecolor": "#A2B1C6",
            "ticks": ""
           },
           "bgcolor": "white",
           "caxis": {
            "gridcolor": "#DFE8F3",
            "linecolor": "#A2B1C6",
            "ticks": ""
           }
          },
          "title": {
           "x": 0.05
          },
          "xaxis": {
           "automargin": true,
           "gridcolor": "#EBF0F8",
           "linecolor": "#EBF0F8",
           "ticks": "",
           "title": {
            "standoff": 15
           },
           "zerolinecolor": "#EBF0F8",
           "zerolinewidth": 2
          },
          "yaxis": {
           "automargin": true,
           "gridcolor": "#EBF0F8",
           "linecolor": "#EBF0F8",
           "ticks": "",
           "title": {
            "standoff": 15
           },
           "zerolinecolor": "#EBF0F8",
           "zerolinewidth": 2
          }
         }
        },
        "title": {
         "text": "Histograma del Avg Score de Hoteles en California"
        },
        "xaxis": {
         "anchor": "y",
         "domain": [
          0,
          1
         ],
         "title": {
          "text": "Avg Score"
         }
        },
        "yaxis": {
         "anchor": "x",
         "domain": [
          0,
          1
         ],
         "title": {
          "text": "count"
         }
        }
       }
      }
     },
     "metadata": {},
     "output_type": "display_data"
    }
   ],
   "source": [
    "import plotly.express as px\n",
    "\n",
    "# Filtrar los valores no nulos de la columna 'avg_score'\n",
    "df_avg_scores = df_california_hotels[df_california_hotels['avg_score'].notnull()]\n",
    "\n",
    "# Crear el histograma\n",
    "fig = px.histogram(df_avg_scores, x='avg_score',\n",
    "                   title='Histograma del Avg Score de Hoteles en California',\n",
    "                   labels={'avg_score': 'Avg Score', 'count': 'Cantidad de Hoteles'},\n",
    "                   template='plotly_white')\n",
    "\n",
    "# Mostrar el gráfico\n",
    "fig.show()\n"
   ]
  },
  {
   "cell_type": "markdown",
   "metadata": {},
   "source": [
    "# Atributos"
   ]
  },
  {
   "cell_type": "code",
   "execution_count": 99,
   "metadata": {},
   "outputs": [
    {
     "data": {
      "text/html": [
       "<div>\n",
       "<style scoped>\n",
       "    .dataframe tbody tr th:only-of-type {\n",
       "        vertical-align: middle;\n",
       "    }\n",
       "\n",
       "    .dataframe tbody tr th {\n",
       "        vertical-align: top;\n",
       "    }\n",
       "\n",
       "    .dataframe thead th {\n",
       "        text-align: right;\n",
       "    }\n",
       "</style>\n",
       "<table border=\"1\" class=\"dataframe\">\n",
       "  <thead>\n",
       "    <tr style=\"text-align: right;\">\n",
       "      <th></th>\n",
       "      <th>state</th>\n",
       "      <th>city</th>\n",
       "      <th>name</th>\n",
       "      <th>avg_score</th>\n",
       "      <th>price</th>\n",
       "      <th>stars</th>\n",
       "      <th>reviews_url</th>\n",
       "      <th>attributes</th>\n",
       "      <th>latitude</th>\n",
       "      <th>longitude</th>\n",
       "      <th>Personal</th>\n",
       "      <th>Instalaciones y servicios</th>\n",
       "      <th>Limpieza</th>\n",
       "      <th>Confort</th>\n",
       "      <th>Relación calidad-precio</th>\n",
       "      <th>Ubicación</th>\n",
       "      <th>WiFi Gratis</th>\n",
       "    </tr>\n",
       "  </thead>\n",
       "  <tbody>\n",
       "    <tr>\n",
       "      <th>0</th>\n",
       "      <td>California</td>\n",
       "      <td>Los Angeles</td>\n",
       "      <td>W Hollywood</td>\n",
       "      <td>73.0</td>\n",
       "      <td>849.752</td>\n",
       "      <td>4.0</td>\n",
       "      <td>https://www.booking.com/hotel/us/w-hollywood.e...</td>\n",
       "      <td>['Habitaciones sin humo', '4 restaurantes', 'W...</td>\n",
       "      <td>34.100794</td>\n",
       "      <td>-118.325906</td>\n",
       "      <td>9.4</td>\n",
       "      <td>8.5</td>\n",
       "      <td>9.0</td>\n",
       "      <td>9.0</td>\n",
       "      <td>8.5</td>\n",
       "      <td>9.2</td>\n",
       "      <td>9.1</td>\n",
       "    </tr>\n",
       "    <tr>\n",
       "      <th>1</th>\n",
       "      <td>California</td>\n",
       "      <td>Los Angeles</td>\n",
       "      <td>Park Plaza Lodge</td>\n",
       "      <td>86.0</td>\n",
       "      <td>466.927</td>\n",
       "      <td>3.0</td>\n",
       "      <td>https://www.booking.com/hotel/us/park-plaza-lo...</td>\n",
       "      <td>['Restaurante', 'Parking gratis', 'Tetera/cafe...</td>\n",
       "      <td>34.070129</td>\n",
       "      <td>-118.351360</td>\n",
       "      <td>8.7</td>\n",
       "      <td>8.2</td>\n",
       "      <td>8.5</td>\n",
       "      <td>8.6</td>\n",
       "      <td>7.2</td>\n",
       "      <td>8.6</td>\n",
       "      <td>8.5</td>\n",
       "    </tr>\n",
       "    <tr>\n",
       "      <th>2</th>\n",
       "      <td>California</td>\n",
       "      <td>Los Angeles</td>\n",
       "      <td>Moxy Downtown Los Angeles</td>\n",
       "      <td>79.0</td>\n",
       "      <td>904.364</td>\n",
       "      <td>4.0</td>\n",
       "      <td>https://www.booking.com/hotel/us/moxy-downtown...</td>\n",
       "      <td>['WiFi gratis', 'Desayuno', 'Terraza', 'Parkin...</td>\n",
       "      <td>34.041151</td>\n",
       "      <td>-118.267341</td>\n",
       "      <td>9.0</td>\n",
       "      <td>9.0</td>\n",
       "      <td>9.1</td>\n",
       "      <td>9.0</td>\n",
       "      <td>8.8</td>\n",
       "      <td>9.0</td>\n",
       "      <td>9.2</td>\n",
       "    </tr>\n",
       "  </tbody>\n",
       "</table>\n",
       "</div>"
      ],
      "text/plain": [
       "        state         city                       name  avg_score    price  \\\n",
       "0  California  Los Angeles                W Hollywood       73.0  849.752   \n",
       "1  California  Los Angeles           Park Plaza Lodge       86.0  466.927   \n",
       "2  California  Los Angeles  Moxy Downtown Los Angeles       79.0  904.364   \n",
       "\n",
       "   stars                                        reviews_url  \\\n",
       "0    4.0  https://www.booking.com/hotel/us/w-hollywood.e...   \n",
       "1    3.0  https://www.booking.com/hotel/us/park-plaza-lo...   \n",
       "2    4.0  https://www.booking.com/hotel/us/moxy-downtown...   \n",
       "\n",
       "                                          attributes   latitude   longitude  \\\n",
       "0  ['Habitaciones sin humo', '4 restaurantes', 'W...  34.100794 -118.325906   \n",
       "1  ['Restaurante', 'Parking gratis', 'Tetera/cafe...  34.070129 -118.351360   \n",
       "2  ['WiFi gratis', 'Desayuno', 'Terraza', 'Parkin...  34.041151 -118.267341   \n",
       "\n",
       "   Personal  Instalaciones y servicios  Limpieza  Confort  \\\n",
       "0       9.4                        8.5       9.0      9.0   \n",
       "1       8.7                        8.2       8.5      8.6   \n",
       "2       9.0                        9.0       9.1      9.0   \n",
       "\n",
       "   Relación calidad-precio  Ubicación  WiFi Gratis  \n",
       "0                      8.5        9.2          9.1  \n",
       "1                      7.2        8.6          8.5  \n",
       "2                      8.8        9.0          9.2  "
      ]
     },
     "execution_count": 99,
     "metadata": {},
     "output_type": "execute_result"
    }
   ],
   "source": [
    "df_california_hotels.head(3)"
   ]
  },
  {
   "cell_type": "code",
   "execution_count": 100,
   "metadata": {},
   "outputs": [
    {
     "data": {
      "text/plain": [
       "0       ['Habitaciones sin humo', '4 restaurantes', 'W...\n",
       "1       ['Restaurante', 'Parking gratis', 'Tetera/cafe...\n",
       "2       ['WiFi gratis', 'Desayuno', 'Terraza', 'Parkin...\n",
       "3       ['Habitaciones familiares', 'Aire acondicionad...\n",
       "4       ['Habitaciones sin humo', 'Restaurante', 'Adap...\n",
       "                              ...                        \n",
       "1174    ['Habitaciones sin humo', 'Adaptado personas d...\n",
       "1175    ['Piscina interior', 'WiFi gratis', '¿Se sirve...\n",
       "1176    ['WiFi gratis', 'Desayuno', '¿Se sirven desayu...\n",
       "1177    ['Piscina interior', 'WiFi gratis', 'Desayuno'...\n",
       "1178    ['WiFi gratis', 'Desayuno', 'Gimnasio', 'Pisci...\n",
       "Name: attributes, Length: 1179, dtype: object"
      ]
     },
     "execution_count": 100,
     "metadata": {},
     "output_type": "execute_result"
    }
   ],
   "source": [
    "df_california_hotels['attributes']"
   ]
  },
  {
   "cell_type": "code",
   "execution_count": 102,
   "metadata": {},
   "outputs": [
    {
     "data": {
      "application/vnd.plotly.v1+json": {
       "config": {
        "plotlyServerURL": "https://plot.ly"
       },
       "data": [
        {
         "alignmentgroup": "True",
         "hovertemplate": "Attribute=%{x}<br>Cantidad de Hoteles=%{y}<extra></extra>",
         "legendgroup": "",
         "marker": {
          "color": "#636efa",
          "pattern": {
           "shape": ""
          }
         },
         "name": "",
         "offsetgroup": "",
         "orientation": "v",
         "showlegend": false,
         "textposition": "auto",
         "type": "bar",
         "x": [
          "WiFi gratis",
          "Habitaciones sin humo",
          "Adaptado personas de movilidad reducida",
          "Parking gratis",
          "Habitaciones familiares",
          "Gimnasio",
          "Recepción 24 horas",
          "Piscina al aire libre",
          "Bar",
          "Tetera/cafetera en todas las habitaciones"
         ],
         "xaxis": "x",
         "y": [
          1052,
          945,
          520,
          518,
          502,
          456,
          392,
          388,
          319,
          266
         ],
         "yaxis": "y"
        }
       ],
       "layout": {
        "barmode": "relative",
        "legend": {
         "tracegroupgap": 0
        },
        "template": {
         "data": {
          "bar": [
           {
            "error_x": {
             "color": "#2a3f5f"
            },
            "error_y": {
             "color": "#2a3f5f"
            },
            "marker": {
             "line": {
              "color": "white",
              "width": 0.5
             },
             "pattern": {
              "fillmode": "overlay",
              "size": 10,
              "solidity": 0.2
             }
            },
            "type": "bar"
           }
          ],
          "barpolar": [
           {
            "marker": {
             "line": {
              "color": "white",
              "width": 0.5
             },
             "pattern": {
              "fillmode": "overlay",
              "size": 10,
              "solidity": 0.2
             }
            },
            "type": "barpolar"
           }
          ],
          "carpet": [
           {
            "aaxis": {
             "endlinecolor": "#2a3f5f",
             "gridcolor": "#C8D4E3",
             "linecolor": "#C8D4E3",
             "minorgridcolor": "#C8D4E3",
             "startlinecolor": "#2a3f5f"
            },
            "baxis": {
             "endlinecolor": "#2a3f5f",
             "gridcolor": "#C8D4E3",
             "linecolor": "#C8D4E3",
             "minorgridcolor": "#C8D4E3",
             "startlinecolor": "#2a3f5f"
            },
            "type": "carpet"
           }
          ],
          "choropleth": [
           {
            "colorbar": {
             "outlinewidth": 0,
             "ticks": ""
            },
            "type": "choropleth"
           }
          ],
          "contour": [
           {
            "colorbar": {
             "outlinewidth": 0,
             "ticks": ""
            },
            "colorscale": [
             [
              0,
              "#0d0887"
             ],
             [
              0.1111111111111111,
              "#46039f"
             ],
             [
              0.2222222222222222,
              "#7201a8"
             ],
             [
              0.3333333333333333,
              "#9c179e"
             ],
             [
              0.4444444444444444,
              "#bd3786"
             ],
             [
              0.5555555555555556,
              "#d8576b"
             ],
             [
              0.6666666666666666,
              "#ed7953"
             ],
             [
              0.7777777777777778,
              "#fb9f3a"
             ],
             [
              0.8888888888888888,
              "#fdca26"
             ],
             [
              1,
              "#f0f921"
             ]
            ],
            "type": "contour"
           }
          ],
          "contourcarpet": [
           {
            "colorbar": {
             "outlinewidth": 0,
             "ticks": ""
            },
            "type": "contourcarpet"
           }
          ],
          "heatmap": [
           {
            "colorbar": {
             "outlinewidth": 0,
             "ticks": ""
            },
            "colorscale": [
             [
              0,
              "#0d0887"
             ],
             [
              0.1111111111111111,
              "#46039f"
             ],
             [
              0.2222222222222222,
              "#7201a8"
             ],
             [
              0.3333333333333333,
              "#9c179e"
             ],
             [
              0.4444444444444444,
              "#bd3786"
             ],
             [
              0.5555555555555556,
              "#d8576b"
             ],
             [
              0.6666666666666666,
              "#ed7953"
             ],
             [
              0.7777777777777778,
              "#fb9f3a"
             ],
             [
              0.8888888888888888,
              "#fdca26"
             ],
             [
              1,
              "#f0f921"
             ]
            ],
            "type": "heatmap"
           }
          ],
          "heatmapgl": [
           {
            "colorbar": {
             "outlinewidth": 0,
             "ticks": ""
            },
            "colorscale": [
             [
              0,
              "#0d0887"
             ],
             [
              0.1111111111111111,
              "#46039f"
             ],
             [
              0.2222222222222222,
              "#7201a8"
             ],
             [
              0.3333333333333333,
              "#9c179e"
             ],
             [
              0.4444444444444444,
              "#bd3786"
             ],
             [
              0.5555555555555556,
              "#d8576b"
             ],
             [
              0.6666666666666666,
              "#ed7953"
             ],
             [
              0.7777777777777778,
              "#fb9f3a"
             ],
             [
              0.8888888888888888,
              "#fdca26"
             ],
             [
              1,
              "#f0f921"
             ]
            ],
            "type": "heatmapgl"
           }
          ],
          "histogram": [
           {
            "marker": {
             "pattern": {
              "fillmode": "overlay",
              "size": 10,
              "solidity": 0.2
             }
            },
            "type": "histogram"
           }
          ],
          "histogram2d": [
           {
            "colorbar": {
             "outlinewidth": 0,
             "ticks": ""
            },
            "colorscale": [
             [
              0,
              "#0d0887"
             ],
             [
              0.1111111111111111,
              "#46039f"
             ],
             [
              0.2222222222222222,
              "#7201a8"
             ],
             [
              0.3333333333333333,
              "#9c179e"
             ],
             [
              0.4444444444444444,
              "#bd3786"
             ],
             [
              0.5555555555555556,
              "#d8576b"
             ],
             [
              0.6666666666666666,
              "#ed7953"
             ],
             [
              0.7777777777777778,
              "#fb9f3a"
             ],
             [
              0.8888888888888888,
              "#fdca26"
             ],
             [
              1,
              "#f0f921"
             ]
            ],
            "type": "histogram2d"
           }
          ],
          "histogram2dcontour": [
           {
            "colorbar": {
             "outlinewidth": 0,
             "ticks": ""
            },
            "colorscale": [
             [
              0,
              "#0d0887"
             ],
             [
              0.1111111111111111,
              "#46039f"
             ],
             [
              0.2222222222222222,
              "#7201a8"
             ],
             [
              0.3333333333333333,
              "#9c179e"
             ],
             [
              0.4444444444444444,
              "#bd3786"
             ],
             [
              0.5555555555555556,
              "#d8576b"
             ],
             [
              0.6666666666666666,
              "#ed7953"
             ],
             [
              0.7777777777777778,
              "#fb9f3a"
             ],
             [
              0.8888888888888888,
              "#fdca26"
             ],
             [
              1,
              "#f0f921"
             ]
            ],
            "type": "histogram2dcontour"
           }
          ],
          "mesh3d": [
           {
            "colorbar": {
             "outlinewidth": 0,
             "ticks": ""
            },
            "type": "mesh3d"
           }
          ],
          "parcoords": [
           {
            "line": {
             "colorbar": {
              "outlinewidth": 0,
              "ticks": ""
             }
            },
            "type": "parcoords"
           }
          ],
          "pie": [
           {
            "automargin": true,
            "type": "pie"
           }
          ],
          "scatter": [
           {
            "fillpattern": {
             "fillmode": "overlay",
             "size": 10,
             "solidity": 0.2
            },
            "type": "scatter"
           }
          ],
          "scatter3d": [
           {
            "line": {
             "colorbar": {
              "outlinewidth": 0,
              "ticks": ""
             }
            },
            "marker": {
             "colorbar": {
              "outlinewidth": 0,
              "ticks": ""
             }
            },
            "type": "scatter3d"
           }
          ],
          "scattercarpet": [
           {
            "marker": {
             "colorbar": {
              "outlinewidth": 0,
              "ticks": ""
             }
            },
            "type": "scattercarpet"
           }
          ],
          "scattergeo": [
           {
            "marker": {
             "colorbar": {
              "outlinewidth": 0,
              "ticks": ""
             }
            },
            "type": "scattergeo"
           }
          ],
          "scattergl": [
           {
            "marker": {
             "colorbar": {
              "outlinewidth": 0,
              "ticks": ""
             }
            },
            "type": "scattergl"
           }
          ],
          "scattermapbox": [
           {
            "marker": {
             "colorbar": {
              "outlinewidth": 0,
              "ticks": ""
             }
            },
            "type": "scattermapbox"
           }
          ],
          "scatterpolar": [
           {
            "marker": {
             "colorbar": {
              "outlinewidth": 0,
              "ticks": ""
             }
            },
            "type": "scatterpolar"
           }
          ],
          "scatterpolargl": [
           {
            "marker": {
             "colorbar": {
              "outlinewidth": 0,
              "ticks": ""
             }
            },
            "type": "scatterpolargl"
           }
          ],
          "scatterternary": [
           {
            "marker": {
             "colorbar": {
              "outlinewidth": 0,
              "ticks": ""
             }
            },
            "type": "scatterternary"
           }
          ],
          "surface": [
           {
            "colorbar": {
             "outlinewidth": 0,
             "ticks": ""
            },
            "colorscale": [
             [
              0,
              "#0d0887"
             ],
             [
              0.1111111111111111,
              "#46039f"
             ],
             [
              0.2222222222222222,
              "#7201a8"
             ],
             [
              0.3333333333333333,
              "#9c179e"
             ],
             [
              0.4444444444444444,
              "#bd3786"
             ],
             [
              0.5555555555555556,
              "#d8576b"
             ],
             [
              0.6666666666666666,
              "#ed7953"
             ],
             [
              0.7777777777777778,
              "#fb9f3a"
             ],
             [
              0.8888888888888888,
              "#fdca26"
             ],
             [
              1,
              "#f0f921"
             ]
            ],
            "type": "surface"
           }
          ],
          "table": [
           {
            "cells": {
             "fill": {
              "color": "#EBF0F8"
             },
             "line": {
              "color": "white"
             }
            },
            "header": {
             "fill": {
              "color": "#C8D4E3"
             },
             "line": {
              "color": "white"
             }
            },
            "type": "table"
           }
          ]
         },
         "layout": {
          "annotationdefaults": {
           "arrowcolor": "#2a3f5f",
           "arrowhead": 0,
           "arrowwidth": 1
          },
          "autotypenumbers": "strict",
          "coloraxis": {
           "colorbar": {
            "outlinewidth": 0,
            "ticks": ""
           }
          },
          "colorscale": {
           "diverging": [
            [
             0,
             "#8e0152"
            ],
            [
             0.1,
             "#c51b7d"
            ],
            [
             0.2,
             "#de77ae"
            ],
            [
             0.3,
             "#f1b6da"
            ],
            [
             0.4,
             "#fde0ef"
            ],
            [
             0.5,
             "#f7f7f7"
            ],
            [
             0.6,
             "#e6f5d0"
            ],
            [
             0.7,
             "#b8e186"
            ],
            [
             0.8,
             "#7fbc41"
            ],
            [
             0.9,
             "#4d9221"
            ],
            [
             1,
             "#276419"
            ]
           ],
           "sequential": [
            [
             0,
             "#0d0887"
            ],
            [
             0.1111111111111111,
             "#46039f"
            ],
            [
             0.2222222222222222,
             "#7201a8"
            ],
            [
             0.3333333333333333,
             "#9c179e"
            ],
            [
             0.4444444444444444,
             "#bd3786"
            ],
            [
             0.5555555555555556,
             "#d8576b"
            ],
            [
             0.6666666666666666,
             "#ed7953"
            ],
            [
             0.7777777777777778,
             "#fb9f3a"
            ],
            [
             0.8888888888888888,
             "#fdca26"
            ],
            [
             1,
             "#f0f921"
            ]
           ],
           "sequentialminus": [
            [
             0,
             "#0d0887"
            ],
            [
             0.1111111111111111,
             "#46039f"
            ],
            [
             0.2222222222222222,
             "#7201a8"
            ],
            [
             0.3333333333333333,
             "#9c179e"
            ],
            [
             0.4444444444444444,
             "#bd3786"
            ],
            [
             0.5555555555555556,
             "#d8576b"
            ],
            [
             0.6666666666666666,
             "#ed7953"
            ],
            [
             0.7777777777777778,
             "#fb9f3a"
            ],
            [
             0.8888888888888888,
             "#fdca26"
            ],
            [
             1,
             "#f0f921"
            ]
           ]
          },
          "colorway": [
           "#636efa",
           "#EF553B",
           "#00cc96",
           "#ab63fa",
           "#FFA15A",
           "#19d3f3",
           "#FF6692",
           "#B6E880",
           "#FF97FF",
           "#FECB52"
          ],
          "font": {
           "color": "#2a3f5f"
          },
          "geo": {
           "bgcolor": "white",
           "lakecolor": "white",
           "landcolor": "white",
           "showlakes": true,
           "showland": true,
           "subunitcolor": "#C8D4E3"
          },
          "hoverlabel": {
           "align": "left"
          },
          "hovermode": "closest",
          "mapbox": {
           "style": "light"
          },
          "paper_bgcolor": "white",
          "plot_bgcolor": "white",
          "polar": {
           "angularaxis": {
            "gridcolor": "#EBF0F8",
            "linecolor": "#EBF0F8",
            "ticks": ""
           },
           "bgcolor": "white",
           "radialaxis": {
            "gridcolor": "#EBF0F8",
            "linecolor": "#EBF0F8",
            "ticks": ""
           }
          },
          "scene": {
           "xaxis": {
            "backgroundcolor": "white",
            "gridcolor": "#DFE8F3",
            "gridwidth": 2,
            "linecolor": "#EBF0F8",
            "showbackground": true,
            "ticks": "",
            "zerolinecolor": "#EBF0F8"
           },
           "yaxis": {
            "backgroundcolor": "white",
            "gridcolor": "#DFE8F3",
            "gridwidth": 2,
            "linecolor": "#EBF0F8",
            "showbackground": true,
            "ticks": "",
            "zerolinecolor": "#EBF0F8"
           },
           "zaxis": {
            "backgroundcolor": "white",
            "gridcolor": "#DFE8F3",
            "gridwidth": 2,
            "linecolor": "#EBF0F8",
            "showbackground": true,
            "ticks": "",
            "zerolinecolor": "#EBF0F8"
           }
          },
          "shapedefaults": {
           "line": {
            "color": "#2a3f5f"
           }
          },
          "ternary": {
           "aaxis": {
            "gridcolor": "#DFE8F3",
            "linecolor": "#A2B1C6",
            "ticks": ""
           },
           "baxis": {
            "gridcolor": "#DFE8F3",
            "linecolor": "#A2B1C6",
            "ticks": ""
           },
           "bgcolor": "white",
           "caxis": {
            "gridcolor": "#DFE8F3",
            "linecolor": "#A2B1C6",
            "ticks": ""
           }
          },
          "title": {
           "x": 0.05
          },
          "xaxis": {
           "automargin": true,
           "gridcolor": "#EBF0F8",
           "linecolor": "#EBF0F8",
           "ticks": "",
           "title": {
            "standoff": 15
           },
           "zerolinecolor": "#EBF0F8",
           "zerolinewidth": 2
          },
          "yaxis": {
           "automargin": true,
           "gridcolor": "#EBF0F8",
           "linecolor": "#EBF0F8",
           "ticks": "",
           "title": {
            "standoff": 15
           },
           "zerolinecolor": "#EBF0F8",
           "zerolinewidth": 2
          }
         }
        },
        "title": {
         "text": "Atributos Más Comunes en Hoteles de California"
        },
        "xaxis": {
         "anchor": "y",
         "domain": [
          0,
          1
         ],
         "title": {
          "text": "Attribute"
         }
        },
        "yaxis": {
         "anchor": "x",
         "domain": [
          0,
          1
         ],
         "title": {
          "text": "Cantidad de Hoteles"
         }
        }
       }
      }
     },
     "metadata": {},
     "output_type": "display_data"
    }
   ],
   "source": [
    "import ast\n",
    "from collections import Counter\n",
    "\n",
    "# Crear una copia del DataFrame para evitar modificar el original\n",
    "df_copy = df_california_hotels.copy()\n",
    "\n",
    "# Convertir las cadenas de lista a listas reales, manejar NaN\n",
    "df_copy['attributes'] = df_copy['attributes'].apply(lambda x: ast.literal_eval(x) if pd.notna(x) else [])\n",
    "\n",
    "# Obtener una lista plana de todos los atributos\n",
    "all_attributes = [attribute for sublist in df_copy['attributes'] for attribute in sublist]\n",
    "\n",
    "# Contar la frecuencia de cada atributo\n",
    "attribute_counts = Counter(all_attributes)\n",
    "\n",
    "# Crear un DataFrame con los resultados\n",
    "df_attribute_counts = pd.DataFrame(list(attribute_counts.items()), columns=['Attribute', 'Count'])\n",
    "\n",
    "# Ordenar por la frecuencia descendente\n",
    "df_attribute_counts = df_attribute_counts.sort_values(by='Count', ascending=False)\n",
    "\n",
    "# Graficar los atributos más comunes\n",
    "import plotly.express as px\n",
    "\n",
    "fig = px.bar(df_attribute_counts.head(10), x='Attribute', y='Count',\n",
    "             title='Atributos Más Comunes en Hoteles de California',\n",
    "             labels={'Count': 'Cantidad de Hoteles'},\n",
    "             template='plotly_white')\n",
    "\n",
    "# Mostrar el gráfico\n",
    "fig.show()\n"
   ]
  },
  {
   "cell_type": "markdown",
   "metadata": {},
   "source": [
    "# Kpis"
   ]
  },
  {
   "cell_type": "code",
   "execution_count": 1,
   "metadata": {},
   "outputs": [],
   "source": [
    "import pandas as pd"
   ]
  },
  {
   "cell_type": "code",
   "execution_count": 8,
   "metadata": {},
   "outputs": [],
   "source": [
    "# Cargar los DataFrames desde los archivos CSV\n",
    "reviews = pd.read_csv('..\\\\files\\\\data\\\\usa_clients_reviews.csv')"
   ]
  },
  {
   "cell_type": "code",
   "execution_count": 9,
   "metadata": {},
   "outputs": [],
   "source": [
    "df_reviews = pd.DataFrame(reviews)"
   ]
  },
  {
   "cell_type": "code",
   "execution_count": 10,
   "metadata": {},
   "outputs": [
    {
     "data": {
      "text/html": [
       "<div>\n",
       "<style scoped>\n",
       "    .dataframe tbody tr th:only-of-type {\n",
       "        vertical-align: middle;\n",
       "    }\n",
       "\n",
       "    .dataframe tbody tr th {\n",
       "        vertical-align: top;\n",
       "    }\n",
       "\n",
       "    .dataframe thead th {\n",
       "        text-align: right;\n",
       "    }\n",
       "</style>\n",
       "<table border=\"1\" class=\"dataframe\">\n",
       "  <thead>\n",
       "    <tr style=\"text-align: right;\">\n",
       "      <th></th>\n",
       "      <th>Unnamed: 0</th>\n",
       "      <th>nationality</th>\n",
       "      <th>acommodation</th>\n",
       "      <th>stay</th>\n",
       "      <th>company</th>\n",
       "      <th>review</th>\n",
       "      <th>hotel_id</th>\n",
       "      <th>is_american</th>\n",
       "      <th>date</th>\n",
       "      <th>sentiment</th>\n",
       "    </tr>\n",
       "  </thead>\n",
       "  <tbody>\n",
       "    <tr>\n",
       "      <th>0</th>\n",
       "      <td>2</td>\n",
       "      <td>Corea del Sur</td>\n",
       "      <td>Suite Estudio con cocina y sofá cama - Cama ex...</td>\n",
       "      <td>27.0</td>\n",
       "      <td>Persona que viaja sola</td>\n",
       "      <td>what a great honor to stay here.\\r\\nThank you ...</td>\n",
       "      <td>11042.0</td>\n",
       "      <td>0</td>\n",
       "      <td>2023-11-20</td>\n",
       "      <td>0.525000</td>\n",
       "    </tr>\n",
       "    <tr>\n",
       "      <th>1</th>\n",
       "      <td>3</td>\n",
       "      <td>Taiwán</td>\n",
       "      <td>Den Room with King Bed</td>\n",
       "      <td>4.0</td>\n",
       "      <td>Persona que viaja sola</td>\n",
       "      <td>Everything works and fairly new, I loved the w...</td>\n",
       "      <td>11042.0</td>\n",
       "      <td>0</td>\n",
       "      <td>2023-11-15</td>\n",
       "      <td>0.134091</td>\n",
       "    </tr>\n",
       "    <tr>\n",
       "      <th>2</th>\n",
       "      <td>4</td>\n",
       "      <td>Estados Unidos</td>\n",
       "      <td>Suite Estudio con cocina y sofá cama - Cama ex...</td>\n",
       "      <td>4.0</td>\n",
       "      <td>En familia</td>\n",
       "      <td>Weather was ideal\\r\\nLoved the swimming pool.</td>\n",
       "      <td>11042.0</td>\n",
       "      <td>1</td>\n",
       "      <td>2023-11-14</td>\n",
       "      <td>0.800000</td>\n",
       "    </tr>\n",
       "    <tr>\n",
       "      <th>3</th>\n",
       "      <td>5</td>\n",
       "      <td>Estados Unidos</td>\n",
       "      <td>Suite con 1 dormitorio, cama extragrande, sofá...</td>\n",
       "      <td>6.0</td>\n",
       "      <td>En pareja</td>\n",
       "      <td>I'm here for a couple weeks....So, a little ti...</td>\n",
       "      <td>11042.0</td>\n",
       "      <td>1</td>\n",
       "      <td>2023-11-08</td>\n",
       "      <td>0.035417</td>\n",
       "    </tr>\n",
       "    <tr>\n",
       "      <th>4</th>\n",
       "      <td>6</td>\n",
       "      <td>Estados Unidos</td>\n",
       "      <td>Suite con 1 dormitorio, cama extragrande, sofá...</td>\n",
       "      <td>1.0</td>\n",
       "      <td>En familia</td>\n",
       "      <td>The property was nice but expensive for one ni...</td>\n",
       "      <td>11042.0</td>\n",
       "      <td>1</td>\n",
       "      <td>2023-10-26</td>\n",
       "      <td>0.060000</td>\n",
       "    </tr>\n",
       "  </tbody>\n",
       "</table>\n",
       "</div>"
      ],
      "text/plain": [
       "   Unnamed: 0     nationality  \\\n",
       "0           2   Corea del Sur   \n",
       "1           3          Taiwán   \n",
       "2           4  Estados Unidos   \n",
       "3           5  Estados Unidos   \n",
       "4           6  Estados Unidos   \n",
       "\n",
       "                                        acommodation  stay  \\\n",
       "0  Suite Estudio con cocina y sofá cama - Cama ex...  27.0   \n",
       "1                             Den Room with King Bed   4.0   \n",
       "2  Suite Estudio con cocina y sofá cama - Cama ex...   4.0   \n",
       "3  Suite con 1 dormitorio, cama extragrande, sofá...   6.0   \n",
       "4  Suite con 1 dormitorio, cama extragrande, sofá...   1.0   \n",
       "\n",
       "                  company                                             review  \\\n",
       "0  Persona que viaja sola  what a great honor to stay here.\\r\\nThank you ...   \n",
       "1  Persona que viaja sola  Everything works and fairly new, I loved the w...   \n",
       "2              En familia      Weather was ideal\\r\\nLoved the swimming pool.   \n",
       "3               En pareja  I'm here for a couple weeks....So, a little ti...   \n",
       "4              En familia  The property was nice but expensive for one ni...   \n",
       "\n",
       "   hotel_id  is_american        date  sentiment  \n",
       "0   11042.0            0  2023-11-20   0.525000  \n",
       "1   11042.0            0  2023-11-15   0.134091  \n",
       "2   11042.0            1  2023-11-14   0.800000  \n",
       "3   11042.0            1  2023-11-08   0.035417  \n",
       "4   11042.0            1  2023-10-26   0.060000  "
      ]
     },
     "execution_count": 10,
     "metadata": {},
     "output_type": "execute_result"
    }
   ],
   "source": [
    "df_reviews.head()"
   ]
  },
  {
   "cell_type": "code",
   "execution_count": 5,
   "metadata": {},
   "outputs": [],
   "source": [
    "df_reviews.drop('Unnamed: 0', axis=1, inplace=True)"
   ]
  },
  {
   "cell_type": "code",
   "execution_count": 6,
   "metadata": {},
   "outputs": [],
   "source": [
    "df_reviews['date'] = pd.to_datetime(df_reviews['date'])"
   ]
  },
  {
   "cell_type": "code",
   "execution_count": 7,
   "metadata": {},
   "outputs": [],
   "source": [
    "df_reviews = df_reviews.dropna(subset=['sentiment'])"
   ]
  },
  {
   "cell_type": "code",
   "execution_count": 169,
   "metadata": {},
   "outputs": [
    {
     "data": {
      "text/plain": [
       "47     2022-03-25\n",
       "94     2021-04-14\n",
       "128    2023-10-04\n",
       "130    2023-10-03\n",
       "237    2022-11-20\n",
       "          ...    \n",
       "1332   2023-10-17\n",
       "1338   2021-12-29\n",
       "1339   2021-11-24\n",
       "1348   2023-02-20\n",
       "1387   2022-06-07\n",
       "Name: date, Length: 198, dtype: datetime64[ns]"
      ]
     },
     "execution_count": 169,
     "metadata": {},
     "output_type": "execute_result"
    }
   ],
   "source": [
    "positive_dates = df_reviews.loc[df_reviews['sentiment'] < 0, 'date']\n",
    "positive_dates"
   ]
  },
  {
   "cell_type": "markdown",
   "metadata": {},
   "source": [
    "### KPI 1"
   ]
  },
  {
   "cell_type": "code",
   "execution_count": 159,
   "metadata": {},
   "outputs": [
    {
     "data": {
      "application/vnd.plotly.v1+json": {
       "config": {
        "plotlyServerURL": "https://plot.ly"
       },
       "data": [
        {
         "hovertemplate": "date=%{x}<br>Porcentaje de Reseñas Positivas (%)=%{y}<extra></extra>",
         "legendgroup": "",
         "line": {
          "color": "#636efa",
          "dash": "solid"
         },
         "marker": {
          "symbol": "circle"
         },
         "mode": "markers+lines",
         "name": "",
         "orientation": "v",
         "showlegend": false,
         "type": "scatter",
         "x": [
          "2020-12-31T00:00:00",
          "2021-03-31T00:00:00",
          "2021-06-30T00:00:00",
          "2021-09-30T00:00:00",
          "2021-12-31T00:00:00",
          "2022-03-31T00:00:00",
          "2022-06-30T00:00:00",
          "2022-09-30T00:00:00",
          "2022-12-31T00:00:00",
          "2023-03-31T00:00:00",
          "2023-06-30T00:00:00",
          "2023-09-30T00:00:00",
          "2023-12-31T00:00:00"
         ],
         "xaxis": "x",
         "y": [
          100,
          75.86206896551724,
          77.46478873239437,
          81.81818181818183,
          75.67567567567568,
          82.1917808219178,
          74.72527472527473,
          80.95238095238095,
          69.35483870967742,
          82.05128205128204,
          78.08219178082192,
          83.21678321678321,
          76.92307692307693
         ],
         "yaxis": "y"
        },
        {
         "line": {
          "dash": "dash"
         },
         "mode": "lines",
         "name": "Proyección (2.0% Crecimiento por Trimestre hasta 90%)",
         "type": "scatter",
         "x": [
          "2023-12-31T00:00:00",
          "2024-01-31T00:00:00",
          "2024-02-29T00:00:00",
          "2024-03-31T00:00:00",
          "2024-04-30T00:00:00",
          "2024-05-31T00:00:00",
          "2024-06-30T00:00:00",
          "2024-07-31T00:00:00",
          "2024-08-31T00:00:00",
          "2024-09-30T00:00:00",
          "2024-10-31T00:00:00",
          "2024-11-30T00:00:00",
          "2024-12-31T00:00:00",
          "2025-01-31T00:00:00",
          "2025-02-28T00:00:00",
          "2025-03-31T00:00:00",
          "2025-04-30T00:00:00",
          "2025-05-31T00:00:00",
          "2025-06-30T00:00:00",
          "2025-07-31T00:00:00",
          "2025-08-31T00:00:00",
          "2025-09-30T00:00:00",
          "2025-10-31T00:00:00",
          "2025-11-30T00:00:00",
          "2025-12-31T00:00:00",
          "2026-01-31T00:00:00",
          "2026-02-28T00:00:00"
         ],
         "y": [
          78.92307692307693,
          80.92307692307693,
          82.92307692307693,
          84.92307692307693,
          86.92307692307693,
          88.92307692307693,
          90,
          90,
          90,
          90,
          90,
          90,
          90,
          90,
          90,
          90,
          90,
          90,
          90,
          90,
          90,
          90,
          90,
          90,
          90,
          90,
          90
         ]
        }
       ],
       "layout": {
        "legend": {
         "tracegroupgap": 0
        },
        "template": {
         "data": {
          "bar": [
           {
            "error_x": {
             "color": "#2a3f5f"
            },
            "error_y": {
             "color": "#2a3f5f"
            },
            "marker": {
             "line": {
              "color": "#E5ECF6",
              "width": 0.5
             },
             "pattern": {
              "fillmode": "overlay",
              "size": 10,
              "solidity": 0.2
             }
            },
            "type": "bar"
           }
          ],
          "barpolar": [
           {
            "marker": {
             "line": {
              "color": "#E5ECF6",
              "width": 0.5
             },
             "pattern": {
              "fillmode": "overlay",
              "size": 10,
              "solidity": 0.2
             }
            },
            "type": "barpolar"
           }
          ],
          "carpet": [
           {
            "aaxis": {
             "endlinecolor": "#2a3f5f",
             "gridcolor": "white",
             "linecolor": "white",
             "minorgridcolor": "white",
             "startlinecolor": "#2a3f5f"
            },
            "baxis": {
             "endlinecolor": "#2a3f5f",
             "gridcolor": "white",
             "linecolor": "white",
             "minorgridcolor": "white",
             "startlinecolor": "#2a3f5f"
            },
            "type": "carpet"
           }
          ],
          "choropleth": [
           {
            "colorbar": {
             "outlinewidth": 0,
             "ticks": ""
            },
            "type": "choropleth"
           }
          ],
          "contour": [
           {
            "colorbar": {
             "outlinewidth": 0,
             "ticks": ""
            },
            "colorscale": [
             [
              0,
              "#0d0887"
             ],
             [
              0.1111111111111111,
              "#46039f"
             ],
             [
              0.2222222222222222,
              "#7201a8"
             ],
             [
              0.3333333333333333,
              "#9c179e"
             ],
             [
              0.4444444444444444,
              "#bd3786"
             ],
             [
              0.5555555555555556,
              "#d8576b"
             ],
             [
              0.6666666666666666,
              "#ed7953"
             ],
             [
              0.7777777777777778,
              "#fb9f3a"
             ],
             [
              0.8888888888888888,
              "#fdca26"
             ],
             [
              1,
              "#f0f921"
             ]
            ],
            "type": "contour"
           }
          ],
          "contourcarpet": [
           {
            "colorbar": {
             "outlinewidth": 0,
             "ticks": ""
            },
            "type": "contourcarpet"
           }
          ],
          "heatmap": [
           {
            "colorbar": {
             "outlinewidth": 0,
             "ticks": ""
            },
            "colorscale": [
             [
              0,
              "#0d0887"
             ],
             [
              0.1111111111111111,
              "#46039f"
             ],
             [
              0.2222222222222222,
              "#7201a8"
             ],
             [
              0.3333333333333333,
              "#9c179e"
             ],
             [
              0.4444444444444444,
              "#bd3786"
             ],
             [
              0.5555555555555556,
              "#d8576b"
             ],
             [
              0.6666666666666666,
              "#ed7953"
             ],
             [
              0.7777777777777778,
              "#fb9f3a"
             ],
             [
              0.8888888888888888,
              "#fdca26"
             ],
             [
              1,
              "#f0f921"
             ]
            ],
            "type": "heatmap"
           }
          ],
          "heatmapgl": [
           {
            "colorbar": {
             "outlinewidth": 0,
             "ticks": ""
            },
            "colorscale": [
             [
              0,
              "#0d0887"
             ],
             [
              0.1111111111111111,
              "#46039f"
             ],
             [
              0.2222222222222222,
              "#7201a8"
             ],
             [
              0.3333333333333333,
              "#9c179e"
             ],
             [
              0.4444444444444444,
              "#bd3786"
             ],
             [
              0.5555555555555556,
              "#d8576b"
             ],
             [
              0.6666666666666666,
              "#ed7953"
             ],
             [
              0.7777777777777778,
              "#fb9f3a"
             ],
             [
              0.8888888888888888,
              "#fdca26"
             ],
             [
              1,
              "#f0f921"
             ]
            ],
            "type": "heatmapgl"
           }
          ],
          "histogram": [
           {
            "marker": {
             "pattern": {
              "fillmode": "overlay",
              "size": 10,
              "solidity": 0.2
             }
            },
            "type": "histogram"
           }
          ],
          "histogram2d": [
           {
            "colorbar": {
             "outlinewidth": 0,
             "ticks": ""
            },
            "colorscale": [
             [
              0,
              "#0d0887"
             ],
             [
              0.1111111111111111,
              "#46039f"
             ],
             [
              0.2222222222222222,
              "#7201a8"
             ],
             [
              0.3333333333333333,
              "#9c179e"
             ],
             [
              0.4444444444444444,
              "#bd3786"
             ],
             [
              0.5555555555555556,
              "#d8576b"
             ],
             [
              0.6666666666666666,
              "#ed7953"
             ],
             [
              0.7777777777777778,
              "#fb9f3a"
             ],
             [
              0.8888888888888888,
              "#fdca26"
             ],
             [
              1,
              "#f0f921"
             ]
            ],
            "type": "histogram2d"
           }
          ],
          "histogram2dcontour": [
           {
            "colorbar": {
             "outlinewidth": 0,
             "ticks": ""
            },
            "colorscale": [
             [
              0,
              "#0d0887"
             ],
             [
              0.1111111111111111,
              "#46039f"
             ],
             [
              0.2222222222222222,
              "#7201a8"
             ],
             [
              0.3333333333333333,
              "#9c179e"
             ],
             [
              0.4444444444444444,
              "#bd3786"
             ],
             [
              0.5555555555555556,
              "#d8576b"
             ],
             [
              0.6666666666666666,
              "#ed7953"
             ],
             [
              0.7777777777777778,
              "#fb9f3a"
             ],
             [
              0.8888888888888888,
              "#fdca26"
             ],
             [
              1,
              "#f0f921"
             ]
            ],
            "type": "histogram2dcontour"
           }
          ],
          "mesh3d": [
           {
            "colorbar": {
             "outlinewidth": 0,
             "ticks": ""
            },
            "type": "mesh3d"
           }
          ],
          "parcoords": [
           {
            "line": {
             "colorbar": {
              "outlinewidth": 0,
              "ticks": ""
             }
            },
            "type": "parcoords"
           }
          ],
          "pie": [
           {
            "automargin": true,
            "type": "pie"
           }
          ],
          "scatter": [
           {
            "fillpattern": {
             "fillmode": "overlay",
             "size": 10,
             "solidity": 0.2
            },
            "type": "scatter"
           }
          ],
          "scatter3d": [
           {
            "line": {
             "colorbar": {
              "outlinewidth": 0,
              "ticks": ""
             }
            },
            "marker": {
             "colorbar": {
              "outlinewidth": 0,
              "ticks": ""
             }
            },
            "type": "scatter3d"
           }
          ],
          "scattercarpet": [
           {
            "marker": {
             "colorbar": {
              "outlinewidth": 0,
              "ticks": ""
             }
            },
            "type": "scattercarpet"
           }
          ],
          "scattergeo": [
           {
            "marker": {
             "colorbar": {
              "outlinewidth": 0,
              "ticks": ""
             }
            },
            "type": "scattergeo"
           }
          ],
          "scattergl": [
           {
            "marker": {
             "colorbar": {
              "outlinewidth": 0,
              "ticks": ""
             }
            },
            "type": "scattergl"
           }
          ],
          "scattermapbox": [
           {
            "marker": {
             "colorbar": {
              "outlinewidth": 0,
              "ticks": ""
             }
            },
            "type": "scattermapbox"
           }
          ],
          "scatterpolar": [
           {
            "marker": {
             "colorbar": {
              "outlinewidth": 0,
              "ticks": ""
             }
            },
            "type": "scatterpolar"
           }
          ],
          "scatterpolargl": [
           {
            "marker": {
             "colorbar": {
              "outlinewidth": 0,
              "ticks": ""
             }
            },
            "type": "scatterpolargl"
           }
          ],
          "scatterternary": [
           {
            "marker": {
             "colorbar": {
              "outlinewidth": 0,
              "ticks": ""
             }
            },
            "type": "scatterternary"
           }
          ],
          "surface": [
           {
            "colorbar": {
             "outlinewidth": 0,
             "ticks": ""
            },
            "colorscale": [
             [
              0,
              "#0d0887"
             ],
             [
              0.1111111111111111,
              "#46039f"
             ],
             [
              0.2222222222222222,
              "#7201a8"
             ],
             [
              0.3333333333333333,
              "#9c179e"
             ],
             [
              0.4444444444444444,
              "#bd3786"
             ],
             [
              0.5555555555555556,
              "#d8576b"
             ],
             [
              0.6666666666666666,
              "#ed7953"
             ],
             [
              0.7777777777777778,
              "#fb9f3a"
             ],
             [
              0.8888888888888888,
              "#fdca26"
             ],
             [
              1,
              "#f0f921"
             ]
            ],
            "type": "surface"
           }
          ],
          "table": [
           {
            "cells": {
             "fill": {
              "color": "#EBF0F8"
             },
             "line": {
              "color": "white"
             }
            },
            "header": {
             "fill": {
              "color": "#C8D4E3"
             },
             "line": {
              "color": "white"
             }
            },
            "type": "table"
           }
          ]
         },
         "layout": {
          "annotationdefaults": {
           "arrowcolor": "#2a3f5f",
           "arrowhead": 0,
           "arrowwidth": 1
          },
          "autotypenumbers": "strict",
          "coloraxis": {
           "colorbar": {
            "outlinewidth": 0,
            "ticks": ""
           }
          },
          "colorscale": {
           "diverging": [
            [
             0,
             "#8e0152"
            ],
            [
             0.1,
             "#c51b7d"
            ],
            [
             0.2,
             "#de77ae"
            ],
            [
             0.3,
             "#f1b6da"
            ],
            [
             0.4,
             "#fde0ef"
            ],
            [
             0.5,
             "#f7f7f7"
            ],
            [
             0.6,
             "#e6f5d0"
            ],
            [
             0.7,
             "#b8e186"
            ],
            [
             0.8,
             "#7fbc41"
            ],
            [
             0.9,
             "#4d9221"
            ],
            [
             1,
             "#276419"
            ]
           ],
           "sequential": [
            [
             0,
             "#0d0887"
            ],
            [
             0.1111111111111111,
             "#46039f"
            ],
            [
             0.2222222222222222,
             "#7201a8"
            ],
            [
             0.3333333333333333,
             "#9c179e"
            ],
            [
             0.4444444444444444,
             "#bd3786"
            ],
            [
             0.5555555555555556,
             "#d8576b"
            ],
            [
             0.6666666666666666,
             "#ed7953"
            ],
            [
             0.7777777777777778,
             "#fb9f3a"
            ],
            [
             0.8888888888888888,
             "#fdca26"
            ],
            [
             1,
             "#f0f921"
            ]
           ],
           "sequentialminus": [
            [
             0,
             "#0d0887"
            ],
            [
             0.1111111111111111,
             "#46039f"
            ],
            [
             0.2222222222222222,
             "#7201a8"
            ],
            [
             0.3333333333333333,
             "#9c179e"
            ],
            [
             0.4444444444444444,
             "#bd3786"
            ],
            [
             0.5555555555555556,
             "#d8576b"
            ],
            [
             0.6666666666666666,
             "#ed7953"
            ],
            [
             0.7777777777777778,
             "#fb9f3a"
            ],
            [
             0.8888888888888888,
             "#fdca26"
            ],
            [
             1,
             "#f0f921"
            ]
           ]
          },
          "colorway": [
           "#636efa",
           "#EF553B",
           "#00cc96",
           "#ab63fa",
           "#FFA15A",
           "#19d3f3",
           "#FF6692",
           "#B6E880",
           "#FF97FF",
           "#FECB52"
          ],
          "font": {
           "color": "#2a3f5f"
          },
          "geo": {
           "bgcolor": "white",
           "lakecolor": "white",
           "landcolor": "#E5ECF6",
           "showlakes": true,
           "showland": true,
           "subunitcolor": "white"
          },
          "hoverlabel": {
           "align": "left"
          },
          "hovermode": "closest",
          "mapbox": {
           "style": "light"
          },
          "paper_bgcolor": "white",
          "plot_bgcolor": "#E5ECF6",
          "polar": {
           "angularaxis": {
            "gridcolor": "white",
            "linecolor": "white",
            "ticks": ""
           },
           "bgcolor": "#E5ECF6",
           "radialaxis": {
            "gridcolor": "white",
            "linecolor": "white",
            "ticks": ""
           }
          },
          "scene": {
           "xaxis": {
            "backgroundcolor": "#E5ECF6",
            "gridcolor": "white",
            "gridwidth": 2,
            "linecolor": "white",
            "showbackground": true,
            "ticks": "",
            "zerolinecolor": "white"
           },
           "yaxis": {
            "backgroundcolor": "#E5ECF6",
            "gridcolor": "white",
            "gridwidth": 2,
            "linecolor": "white",
            "showbackground": true,
            "ticks": "",
            "zerolinecolor": "white"
           },
           "zaxis": {
            "backgroundcolor": "#E5ECF6",
            "gridcolor": "white",
            "gridwidth": 2,
            "linecolor": "white",
            "showbackground": true,
            "ticks": "",
            "zerolinecolor": "white"
           }
          },
          "shapedefaults": {
           "line": {
            "color": "#2a3f5f"
           }
          },
          "ternary": {
           "aaxis": {
            "gridcolor": "white",
            "linecolor": "white",
            "ticks": ""
           },
           "baxis": {
            "gridcolor": "white",
            "linecolor": "white",
            "ticks": ""
           },
           "bgcolor": "#E5ECF6",
           "caxis": {
            "gridcolor": "white",
            "linecolor": "white",
            "ticks": ""
           }
          },
          "title": {
           "x": 0.05
          },
          "xaxis": {
           "automargin": true,
           "gridcolor": "white",
           "linecolor": "white",
           "ticks": "",
           "title": {
            "standoff": 15
           },
           "zerolinecolor": "white",
           "zerolinewidth": 2
          },
          "yaxis": {
           "automargin": true,
           "gridcolor": "white",
           "linecolor": "white",
           "ticks": "",
           "title": {
            "standoff": 15
           },
           "zerolinecolor": "white",
           "zerolinewidth": 2
          }
         }
        },
        "title": {
         "text": "Porcentaje de Reseñas Positivas (PRP) cada 3 meses"
        },
        "xaxis": {
         "anchor": "y",
         "domain": [
          0,
          1
         ],
         "title": {
          "text": "date"
         }
        },
        "yaxis": {
         "anchor": "x",
         "domain": [
          0,
          1
         ],
         "title": {
          "text": "Porcentaje de Reseñas Positivas (%)"
         }
        }
       }
      }
     },
     "metadata": {},
     "output_type": "display_data"
    }
   ],
   "source": [
    "# -\tKpi1: Aumentar el porcentaje de reseñas positivas (PRP) en un 2% cada 3 meses hasta alcanzar 90%.\n",
    "import plotly.express as px\n",
    "import pandas as pd\n",
    "\n",
    "# Filtra solo las reseñas positivas\n",
    "df_positive_reviews = df_reviews[df_reviews['sentiment'] > 0]\n",
    "\n",
    "# Agrupa por trimestre y calcula el total de reseñas y el total de reseñas positivas\n",
    "grouped_data = df_reviews.groupby(pd.Grouper(key='date', freq='3M')).agg(\n",
    "    total_reviews=('sentiment', 'count'),\n",
    "    positive_reviews=('sentiment', lambda x: (x > 0).sum())\n",
    ")\n",
    "\n",
    "# Calcula el porcentaje de reseñas positivas\n",
    "grouped_data['PRP'] = (grouped_data['positive_reviews'] / grouped_data['total_reviews']) * 100\n",
    "\n",
    "# Calcula la proyección del crecimiento del 2% por trimestre hasta alcanzar el 90%\n",
    "growth_rate = 0.02\n",
    "target_percentage = 90\n",
    "quarters_to_target = (target_percentage - grouped_data['PRP'].iloc[-1]) / (growth_rate * 100)\n",
    "date_range = pd.date_range(start=grouped_data.index[-1], periods=int(quarters_to_target * 4) + 1, freq='M')\n",
    "projected_data = pd.DataFrame(index=date_range)\n",
    "projected_data['PRP'] = [min(grouped_data['PRP'].iloc[-1] + (growth_rate * 100 * i), target_percentage) for i in range(1, len(projected_data) + 1)]\n",
    "\n",
    "# Gráfico interactivo con Plotly\n",
    "fig = px.line(grouped_data, x=grouped_data.index, y='PRP',\n",
    "              labels={'PRP': 'Porcentaje de Reseñas Positivas (%)'},\n",
    "              title='Porcentaje de Reseñas Positivas (PRP) cada 3 meses',\n",
    "              markers=True)\n",
    "\n",
    "# Añadir la línea punteada para la proyección\n",
    "fig.add_scatter(x=projected_data.index, y=projected_data['PRP'], mode='lines', line=dict(dash='dash'),\n",
    "                name=f'Proyección ({growth_rate*100}% Crecimiento por Trimestre hasta {target_percentage}%)')\n",
    "\n",
    "# Mostrar el gráfico\n",
    "fig.show()\n"
   ]
  },
  {
   "cell_type": "markdown",
   "metadata": {},
   "source": [
    "### KPI 2"
   ]
  },
  {
   "cell_type": "markdown",
   "metadata": {},
   "source": [
    "el segundo kpi consiste en Aumentar el índice de satisfacción de huéspedes extranjeros en los próximos 6 meses en un X%. Tambien tengo que calcular esto dividiendo el indice de satisfaccion a extranjeros (donde sentiment > 0 y 'is_american' == 0) sobre el total de reviews de extranjeros. Tambien voy a necesitar una linea punteada que muestre cómo debe ser el próximo índice para los siguientes 6 meses."
   ]
  },
  {
   "cell_type": "code",
   "execution_count": 13,
   "metadata": {},
   "outputs": [
    {
     "name": "stderr",
     "output_type": "stream",
     "text": [
      "C:\\Users\\diego\\AppData\\Local\\Temp\\ipykernel_4492\\1031160208.py:14: SettingWithCopyWarning: \n",
      "A value is trying to be set on a copy of a slice from a DataFrame.\n",
      "Try using .loc[row_indexer,col_indexer] = value instead\n",
      "\n",
      "See the caveats in the documentation: https://pandas.pydata.org/pandas-docs/stable/user_guide/indexing.html#returning-a-view-versus-a-copy\n",
      "  positive_usa_reviews['quarter'] = positive_usa_reviews['date'].dt.to_period(\"Q\")\n"
     ]
    },
    {
     "ename": "KeyError",
     "evalue": "'quarter'",
     "output_type": "error",
     "traceback": [
      "\u001b[1;31m---------------------------------------------------------------------------\u001b[0m",
      "\u001b[1;31mKeyError\u001b[0m                                  Traceback (most recent call last)",
      "Cell \u001b[1;32mIn[13], line 18\u001b[0m\n\u001b[0;32m     14\u001b[0m positive_usa_reviews[\u001b[39m'\u001b[39m\u001b[39mquarter\u001b[39m\u001b[39m'\u001b[39m] \u001b[39m=\u001b[39m positive_usa_reviews[\u001b[39m'\u001b[39m\u001b[39mdate\u001b[39m\u001b[39m'\u001b[39m]\u001b[39m.\u001b[39mdt\u001b[39m.\u001b[39mto_period(\u001b[39m\"\u001b[39m\u001b[39mQ\u001b[39m\u001b[39m\"\u001b[39m)\n\u001b[0;32m     16\u001b[0m \u001b[39m# Calcular el porcentaje de reseñas positivas para cada cuatrimestre\u001b[39;00m\n\u001b[0;32m     17\u001b[0m percentage_positive_usa_by_quarter \u001b[39m=\u001b[39m (\n\u001b[1;32m---> 18\u001b[0m     positive_usa_reviews\u001b[39m.\u001b[39mgroupby(\u001b[39m'\u001b[39m\u001b[39mquarter\u001b[39m\u001b[39m'\u001b[39m)\u001b[39m.\u001b[39msize() \u001b[39m/\u001b[39m df_reviews[df_reviews[\u001b[39m'\u001b[39;49m\u001b[39mnationality\u001b[39;49m\u001b[39m'\u001b[39;49m] \u001b[39m==\u001b[39;49m \u001b[39m'\u001b[39;49m\u001b[39mEstados Unidos\u001b[39;49m\u001b[39m'\u001b[39;49m]\u001b[39m.\u001b[39;49mgroupby(\u001b[39m'\u001b[39;49m\u001b[39mquarter\u001b[39;49m\u001b[39m'\u001b[39;49m)\u001b[39m.\u001b[39msize()\n\u001b[0;32m     19\u001b[0m ) \u001b[39m*\u001b[39m \u001b[39m100\u001b[39m\n\u001b[0;32m     21\u001b[0m \u001b[39m# Crear el DataFrame para la proyección de los próximos 6 meses\u001b[39;00m\n\u001b[0;32m     22\u001b[0m projected_data_usa_six_months \u001b[39m=\u001b[39m pd\u001b[39m.\u001b[39mDataFrame(index\u001b[39m=\u001b[39mpd\u001b[39m.\u001b[39mdate_range(start\u001b[39m=\u001b[39mpercentage_positive_usa_by_quarter\u001b[39m.\u001b[39mindex[\u001b[39m-\u001b[39m\u001b[39m1\u001b[39m]\u001b[39m.\u001b[39mto_timestamp(), periods\u001b[39m=\u001b[39m\u001b[39m7\u001b[39m, freq\u001b[39m=\u001b[39m\u001b[39m'\u001b[39m\u001b[39mM\u001b[39m\u001b[39m'\u001b[39m))\n",
      "File \u001b[1;32mc:\\Users\\diego\\AppData\\Local\\Programs\\Python\\Python310\\lib\\site-packages\\pandas\\core\\frame.py:8252\u001b[0m, in \u001b[0;36mDataFrame.groupby\u001b[1;34m(self, by, axis, level, as_index, sort, group_keys, observed, dropna)\u001b[0m\n\u001b[0;32m   8249\u001b[0m     \u001b[39mraise\u001b[39;00m \u001b[39mTypeError\u001b[39;00m(\u001b[39m\"\u001b[39m\u001b[39mYou have to supply one of \u001b[39m\u001b[39m'\u001b[39m\u001b[39mby\u001b[39m\u001b[39m'\u001b[39m\u001b[39m and \u001b[39m\u001b[39m'\u001b[39m\u001b[39mlevel\u001b[39m\u001b[39m'\u001b[39m\u001b[39m\"\u001b[39m)\n\u001b[0;32m   8250\u001b[0m axis \u001b[39m=\u001b[39m \u001b[39mself\u001b[39m\u001b[39m.\u001b[39m_get_axis_number(axis)\n\u001b[1;32m-> 8252\u001b[0m \u001b[39mreturn\u001b[39;00m DataFrameGroupBy(\n\u001b[0;32m   8253\u001b[0m     obj\u001b[39m=\u001b[39;49m\u001b[39mself\u001b[39;49m,\n\u001b[0;32m   8254\u001b[0m     keys\u001b[39m=\u001b[39;49mby,\n\u001b[0;32m   8255\u001b[0m     axis\u001b[39m=\u001b[39;49maxis,\n\u001b[0;32m   8256\u001b[0m     level\u001b[39m=\u001b[39;49mlevel,\n\u001b[0;32m   8257\u001b[0m     as_index\u001b[39m=\u001b[39;49mas_index,\n\u001b[0;32m   8258\u001b[0m     sort\u001b[39m=\u001b[39;49msort,\n\u001b[0;32m   8259\u001b[0m     group_keys\u001b[39m=\u001b[39;49mgroup_keys,\n\u001b[0;32m   8260\u001b[0m     observed\u001b[39m=\u001b[39;49mobserved,\n\u001b[0;32m   8261\u001b[0m     dropna\u001b[39m=\u001b[39;49mdropna,\n\u001b[0;32m   8262\u001b[0m )\n",
      "File \u001b[1;32mc:\\Users\\diego\\AppData\\Local\\Programs\\Python\\Python310\\lib\\site-packages\\pandas\\core\\groupby\\groupby.py:931\u001b[0m, in \u001b[0;36mGroupBy.__init__\u001b[1;34m(self, obj, keys, axis, level, grouper, exclusions, selection, as_index, sort, group_keys, observed, dropna)\u001b[0m\n\u001b[0;32m    928\u001b[0m \u001b[39mself\u001b[39m\u001b[39m.\u001b[39mdropna \u001b[39m=\u001b[39m dropna\n\u001b[0;32m    930\u001b[0m \u001b[39mif\u001b[39;00m grouper \u001b[39mis\u001b[39;00m \u001b[39mNone\u001b[39;00m:\n\u001b[1;32m--> 931\u001b[0m     grouper, exclusions, obj \u001b[39m=\u001b[39m get_grouper(\n\u001b[0;32m    932\u001b[0m         obj,\n\u001b[0;32m    933\u001b[0m         keys,\n\u001b[0;32m    934\u001b[0m         axis\u001b[39m=\u001b[39;49maxis,\n\u001b[0;32m    935\u001b[0m         level\u001b[39m=\u001b[39;49mlevel,\n\u001b[0;32m    936\u001b[0m         sort\u001b[39m=\u001b[39;49msort,\n\u001b[0;32m    937\u001b[0m         observed\u001b[39m=\u001b[39;49mobserved,\n\u001b[0;32m    938\u001b[0m         dropna\u001b[39m=\u001b[39;49m\u001b[39mself\u001b[39;49m\u001b[39m.\u001b[39;49mdropna,\n\u001b[0;32m    939\u001b[0m     )\n\u001b[0;32m    941\u001b[0m \u001b[39mself\u001b[39m\u001b[39m.\u001b[39mobj \u001b[39m=\u001b[39m obj\n\u001b[0;32m    942\u001b[0m \u001b[39mself\u001b[39m\u001b[39m.\u001b[39maxis \u001b[39m=\u001b[39m obj\u001b[39m.\u001b[39m_get_axis_number(axis)\n",
      "File \u001b[1;32mc:\\Users\\diego\\AppData\\Local\\Programs\\Python\\Python310\\lib\\site-packages\\pandas\\core\\groupby\\grouper.py:985\u001b[0m, in \u001b[0;36mget_grouper\u001b[1;34m(obj, key, axis, level, sort, observed, validate, dropna)\u001b[0m\n\u001b[0;32m    983\u001b[0m         in_axis, level, gpr \u001b[39m=\u001b[39m \u001b[39mFalse\u001b[39;00m, gpr, \u001b[39mNone\u001b[39;00m\n\u001b[0;32m    984\u001b[0m     \u001b[39melse\u001b[39;00m:\n\u001b[1;32m--> 985\u001b[0m         \u001b[39mraise\u001b[39;00m \u001b[39mKeyError\u001b[39;00m(gpr)\n\u001b[0;32m    986\u001b[0m \u001b[39melif\u001b[39;00m \u001b[39misinstance\u001b[39m(gpr, Grouper) \u001b[39mand\u001b[39;00m gpr\u001b[39m.\u001b[39mkey \u001b[39mis\u001b[39;00m \u001b[39mnot\u001b[39;00m \u001b[39mNone\u001b[39;00m:\n\u001b[0;32m    987\u001b[0m     \u001b[39m# Add key to exclusions\u001b[39;00m\n\u001b[0;32m    988\u001b[0m     exclusions\u001b[39m.\u001b[39madd(gpr\u001b[39m.\u001b[39mkey)\n",
      "\u001b[1;31mKeyError\u001b[0m: 'quarter'"
     ]
    }
   ],
   "source": [
    "# KPI 2: Aumentar el índice de satisfacción de huéspedes de EEUU en los próximos 6 meses en un 7%.\n",
    "\n",
    "import numpy as np\n",
    "import pandas as pd\n",
    "import plotly.express as px\n",
    "\n",
    "df_reviews['date'] = pd.to_datetime(df_reviews['date'])\n",
    "df_reviews.drop('Unnamed: 0', axis=1, inplace=True)\n",
    "\n",
    "# Filtrar reseñas positivas para huéspedes estadounidenses\n",
    "positive_usa_reviews = df_reviews[(df_reviews['sentiment'] > 0) & (df_reviews['nationality'] == 'Estados Unidos')]\n",
    "\n",
    "# Crear una nueva columna con el cuatrimestre\n",
    "positive_usa_reviews['quarter'] = positive_usa_reviews['date'].dt.to_period(\"Q\")\n",
    "\n",
    "# Calcular el porcentaje de reseñas positivas para cada cuatrimestre\n",
    "percentage_positive_usa_by_quarter = (\n",
    "    positive_usa_reviews.groupby('quarter').size() / df_reviews[df_reviews['nationality'] == 'Estados Unidos'].groupby('quarter').size()\n",
    ") * 100\n",
    "\n",
    "# Crear el DataFrame para la proyección de los próximos 6 meses\n",
    "projected_data_usa_six_months = pd.DataFrame(index=pd.date_range(start=percentage_positive_usa_by_quarter.index[-1].to_timestamp(), periods=7, freq='M'))\n",
    "\n",
    "# Definir el objetivo de crecimiento para los próximos 6 meses\n",
    "growth_rate_usa_six_months = 0.07  # 7% de crecimiento en 6 meses\n",
    "target_percentage_usa_six_months = round(percentage_positive_usa_by_quarter.iloc[-1] + growth_rate_usa_six_months * 100, 2)\n",
    "\n",
    "# Calcular la proyección con crecimiento lineal para los próximos 6 meses\n",
    "projected_data_usa_six_months['Satisfaction Index'] = (\n",
    "    percentage_positive_usa_by_quarter.iloc[-1] +\n",
    "    np.arange(1, len(projected_data_usa_six_months) + 1) * growth_rate_usa_six_months * 100\n",
    ")\n",
    "\n",
    "# Asegurarse de que la proyección alcance el objetivo al final de los próximos 6 meses\n",
    "projected_data_usa_six_months['Satisfaction Index'] = np.minimum(\n",
    "    projected_data_usa_six_months['Satisfaction Index'], target_percentage_usa_six_months\n",
    ")\n",
    "\n",
    "# Crear el gráfico interactivo con Plotly\n",
    "fig_usa_six_months = px.line(\n",
    "    x=percentage_positive_usa_by_quarter.index.to_timestamp(),\n",
    "    y=percentage_positive_usa_by_quarter.values,\n",
    "    labels={'y': 'Porcentaje de Reseñas Positivas', 'x': 'Año'},\n",
    "    title='Porcentaje de Reseñas Positivas para Huéspedes Estadounidenses por Cuatrimestre con Proyección a 6 Meses'\n",
    ")\n",
    "\n",
    "# Añadir la línea punteada roja para el objetivo\n",
    "fig_usa_six_months.add_scatter(\n",
    "    x=[projected_data_usa_six_months.index[0], projected_data_usa_six_months.index[-1]],\n",
    "    y=[percentage_positive_usa_by_quarter.iloc[-1], target_percentage_usa_six_months],\n",
    "    mode='lines',\n",
    "    line=dict(color='red', dash='dash'),\n",
    "    name=f'Proyección (7% Crecimiento por 6 Meses hasta {target_percentage_usa_six_months}%)'\n",
    ")\n",
    "\n",
    "# Mostrar el gráfico\n",
    "fig_usa_six_months.show()\n"
   ]
  },
  {
   "cell_type": "markdown",
   "metadata": {},
   "source": [
    "### Kpi3 "
   ]
  },
  {
   "cell_type": "code",
   "execution_count": 229,
   "metadata": {},
   "outputs": [
    {
     "data": {
      "application/vnd.plotly.v1+json": {
       "config": {
        "plotlyServerURL": "https://plot.ly"
       },
       "data": [
        {
         "alignmentgroup": "True",
         "hovertemplate": "Tipo de Reseña=%{x}<br>Cantidad de Reseñas=%{y}<extra></extra>",
         "legendgroup": "",
         "marker": {
          "color": "#636efa",
          "pattern": {
           "shape": ""
          }
         },
         "name": "",
         "offsetgroup": "",
         "orientation": "v",
         "showlegend": false,
         "textposition": "auto",
         "type": "bar",
         "x": [
          "Total de Reseñas",
          "Reseñas Negativas"
         ],
         "xaxis": "x",
         "y": [
          937,
          198
         ],
         "yaxis": "y"
        }
       ],
       "layout": {
        "barmode": "relative",
        "legend": {
         "tracegroupgap": 0
        },
        "shapes": [
         {
          "line": {
           "color": "red",
           "dash": "dash"
          },
          "name": "Umbral del 95% para Reseñas Negativas",
          "type": "line",
          "x0": -0.5,
          "x1": 1.5,
          "y0": 188.1,
          "y1": 188.1
         }
        ],
        "template": {
         "data": {
          "bar": [
           {
            "error_x": {
             "color": "#2a3f5f"
            },
            "error_y": {
             "color": "#2a3f5f"
            },
            "marker": {
             "line": {
              "color": "#E5ECF6",
              "width": 0.5
             },
             "pattern": {
              "fillmode": "overlay",
              "size": 10,
              "solidity": 0.2
             }
            },
            "type": "bar"
           }
          ],
          "barpolar": [
           {
            "marker": {
             "line": {
              "color": "#E5ECF6",
              "width": 0.5
             },
             "pattern": {
              "fillmode": "overlay",
              "size": 10,
              "solidity": 0.2
             }
            },
            "type": "barpolar"
           }
          ],
          "carpet": [
           {
            "aaxis": {
             "endlinecolor": "#2a3f5f",
             "gridcolor": "white",
             "linecolor": "white",
             "minorgridcolor": "white",
             "startlinecolor": "#2a3f5f"
            },
            "baxis": {
             "endlinecolor": "#2a3f5f",
             "gridcolor": "white",
             "linecolor": "white",
             "minorgridcolor": "white",
             "startlinecolor": "#2a3f5f"
            },
            "type": "carpet"
           }
          ],
          "choropleth": [
           {
            "colorbar": {
             "outlinewidth": 0,
             "ticks": ""
            },
            "type": "choropleth"
           }
          ],
          "contour": [
           {
            "colorbar": {
             "outlinewidth": 0,
             "ticks": ""
            },
            "colorscale": [
             [
              0,
              "#0d0887"
             ],
             [
              0.1111111111111111,
              "#46039f"
             ],
             [
              0.2222222222222222,
              "#7201a8"
             ],
             [
              0.3333333333333333,
              "#9c179e"
             ],
             [
              0.4444444444444444,
              "#bd3786"
             ],
             [
              0.5555555555555556,
              "#d8576b"
             ],
             [
              0.6666666666666666,
              "#ed7953"
             ],
             [
              0.7777777777777778,
              "#fb9f3a"
             ],
             [
              0.8888888888888888,
              "#fdca26"
             ],
             [
              1,
              "#f0f921"
             ]
            ],
            "type": "contour"
           }
          ],
          "contourcarpet": [
           {
            "colorbar": {
             "outlinewidth": 0,
             "ticks": ""
            },
            "type": "contourcarpet"
           }
          ],
          "heatmap": [
           {
            "colorbar": {
             "outlinewidth": 0,
             "ticks": ""
            },
            "colorscale": [
             [
              0,
              "#0d0887"
             ],
             [
              0.1111111111111111,
              "#46039f"
             ],
             [
              0.2222222222222222,
              "#7201a8"
             ],
             [
              0.3333333333333333,
              "#9c179e"
             ],
             [
              0.4444444444444444,
              "#bd3786"
             ],
             [
              0.5555555555555556,
              "#d8576b"
             ],
             [
              0.6666666666666666,
              "#ed7953"
             ],
             [
              0.7777777777777778,
              "#fb9f3a"
             ],
             [
              0.8888888888888888,
              "#fdca26"
             ],
             [
              1,
              "#f0f921"
             ]
            ],
            "type": "heatmap"
           }
          ],
          "heatmapgl": [
           {
            "colorbar": {
             "outlinewidth": 0,
             "ticks": ""
            },
            "colorscale": [
             [
              0,
              "#0d0887"
             ],
             [
              0.1111111111111111,
              "#46039f"
             ],
             [
              0.2222222222222222,
              "#7201a8"
             ],
             [
              0.3333333333333333,
              "#9c179e"
             ],
             [
              0.4444444444444444,
              "#bd3786"
             ],
             [
              0.5555555555555556,
              "#d8576b"
             ],
             [
              0.6666666666666666,
              "#ed7953"
             ],
             [
              0.7777777777777778,
              "#fb9f3a"
             ],
             [
              0.8888888888888888,
              "#fdca26"
             ],
             [
              1,
              "#f0f921"
             ]
            ],
            "type": "heatmapgl"
           }
          ],
          "histogram": [
           {
            "marker": {
             "pattern": {
              "fillmode": "overlay",
              "size": 10,
              "solidity": 0.2
             }
            },
            "type": "histogram"
           }
          ],
          "histogram2d": [
           {
            "colorbar": {
             "outlinewidth": 0,
             "ticks": ""
            },
            "colorscale": [
             [
              0,
              "#0d0887"
             ],
             [
              0.1111111111111111,
              "#46039f"
             ],
             [
              0.2222222222222222,
              "#7201a8"
             ],
             [
              0.3333333333333333,
              "#9c179e"
             ],
             [
              0.4444444444444444,
              "#bd3786"
             ],
             [
              0.5555555555555556,
              "#d8576b"
             ],
             [
              0.6666666666666666,
              "#ed7953"
             ],
             [
              0.7777777777777778,
              "#fb9f3a"
             ],
             [
              0.8888888888888888,
              "#fdca26"
             ],
             [
              1,
              "#f0f921"
             ]
            ],
            "type": "histogram2d"
           }
          ],
          "histogram2dcontour": [
           {
            "colorbar": {
             "outlinewidth": 0,
             "ticks": ""
            },
            "colorscale": [
             [
              0,
              "#0d0887"
             ],
             [
              0.1111111111111111,
              "#46039f"
             ],
             [
              0.2222222222222222,
              "#7201a8"
             ],
             [
              0.3333333333333333,
              "#9c179e"
             ],
             [
              0.4444444444444444,
              "#bd3786"
             ],
             [
              0.5555555555555556,
              "#d8576b"
             ],
             [
              0.6666666666666666,
              "#ed7953"
             ],
             [
              0.7777777777777778,
              "#fb9f3a"
             ],
             [
              0.8888888888888888,
              "#fdca26"
             ],
             [
              1,
              "#f0f921"
             ]
            ],
            "type": "histogram2dcontour"
           }
          ],
          "mesh3d": [
           {
            "colorbar": {
             "outlinewidth": 0,
             "ticks": ""
            },
            "type": "mesh3d"
           }
          ],
          "parcoords": [
           {
            "line": {
             "colorbar": {
              "outlinewidth": 0,
              "ticks": ""
             }
            },
            "type": "parcoords"
           }
          ],
          "pie": [
           {
            "automargin": true,
            "type": "pie"
           }
          ],
          "scatter": [
           {
            "fillpattern": {
             "fillmode": "overlay",
             "size": 10,
             "solidity": 0.2
            },
            "type": "scatter"
           }
          ],
          "scatter3d": [
           {
            "line": {
             "colorbar": {
              "outlinewidth": 0,
              "ticks": ""
             }
            },
            "marker": {
             "colorbar": {
              "outlinewidth": 0,
              "ticks": ""
             }
            },
            "type": "scatter3d"
           }
          ],
          "scattercarpet": [
           {
            "marker": {
             "colorbar": {
              "outlinewidth": 0,
              "ticks": ""
             }
            },
            "type": "scattercarpet"
           }
          ],
          "scattergeo": [
           {
            "marker": {
             "colorbar": {
              "outlinewidth": 0,
              "ticks": ""
             }
            },
            "type": "scattergeo"
           }
          ],
          "scattergl": [
           {
            "marker": {
             "colorbar": {
              "outlinewidth": 0,
              "ticks": ""
             }
            },
            "type": "scattergl"
           }
          ],
          "scattermapbox": [
           {
            "marker": {
             "colorbar": {
              "outlinewidth": 0,
              "ticks": ""
             }
            },
            "type": "scattermapbox"
           }
          ],
          "scatterpolar": [
           {
            "marker": {
             "colorbar": {
              "outlinewidth": 0,
              "ticks": ""
             }
            },
            "type": "scatterpolar"
           }
          ],
          "scatterpolargl": [
           {
            "marker": {
             "colorbar": {
              "outlinewidth": 0,
              "ticks": ""
             }
            },
            "type": "scatterpolargl"
           }
          ],
          "scatterternary": [
           {
            "marker": {
             "colorbar": {
              "outlinewidth": 0,
              "ticks": ""
             }
            },
            "type": "scatterternary"
           }
          ],
          "surface": [
           {
            "colorbar": {
             "outlinewidth": 0,
             "ticks": ""
            },
            "colorscale": [
             [
              0,
              "#0d0887"
             ],
             [
              0.1111111111111111,
              "#46039f"
             ],
             [
              0.2222222222222222,
              "#7201a8"
             ],
             [
              0.3333333333333333,
              "#9c179e"
             ],
             [
              0.4444444444444444,
              "#bd3786"
             ],
             [
              0.5555555555555556,
              "#d8576b"
             ],
             [
              0.6666666666666666,
              "#ed7953"
             ],
             [
              0.7777777777777778,
              "#fb9f3a"
             ],
             [
              0.8888888888888888,
              "#fdca26"
             ],
             [
              1,
              "#f0f921"
             ]
            ],
            "type": "surface"
           }
          ],
          "table": [
           {
            "cells": {
             "fill": {
              "color": "#EBF0F8"
             },
             "line": {
              "color": "white"
             }
            },
            "header": {
             "fill": {
              "color": "#C8D4E3"
             },
             "line": {
              "color": "white"
             }
            },
            "type": "table"
           }
          ]
         },
         "layout": {
          "annotationdefaults": {
           "arrowcolor": "#2a3f5f",
           "arrowhead": 0,
           "arrowwidth": 1
          },
          "autotypenumbers": "strict",
          "coloraxis": {
           "colorbar": {
            "outlinewidth": 0,
            "ticks": ""
           }
          },
          "colorscale": {
           "diverging": [
            [
             0,
             "#8e0152"
            ],
            [
             0.1,
             "#c51b7d"
            ],
            [
             0.2,
             "#de77ae"
            ],
            [
             0.3,
             "#f1b6da"
            ],
            [
             0.4,
             "#fde0ef"
            ],
            [
             0.5,
             "#f7f7f7"
            ],
            [
             0.6,
             "#e6f5d0"
            ],
            [
             0.7,
             "#b8e186"
            ],
            [
             0.8,
             "#7fbc41"
            ],
            [
             0.9,
             "#4d9221"
            ],
            [
             1,
             "#276419"
            ]
           ],
           "sequential": [
            [
             0,
             "#0d0887"
            ],
            [
             0.1111111111111111,
             "#46039f"
            ],
            [
             0.2222222222222222,
             "#7201a8"
            ],
            [
             0.3333333333333333,
             "#9c179e"
            ],
            [
             0.4444444444444444,
             "#bd3786"
            ],
            [
             0.5555555555555556,
             "#d8576b"
            ],
            [
             0.6666666666666666,
             "#ed7953"
            ],
            [
             0.7777777777777778,
             "#fb9f3a"
            ],
            [
             0.8888888888888888,
             "#fdca26"
            ],
            [
             1,
             "#f0f921"
            ]
           ],
           "sequentialminus": [
            [
             0,
             "#0d0887"
            ],
            [
             0.1111111111111111,
             "#46039f"
            ],
            [
             0.2222222222222222,
             "#7201a8"
            ],
            [
             0.3333333333333333,
             "#9c179e"
            ],
            [
             0.4444444444444444,
             "#bd3786"
            ],
            [
             0.5555555555555556,
             "#d8576b"
            ],
            [
             0.6666666666666666,
             "#ed7953"
            ],
            [
             0.7777777777777778,
             "#fb9f3a"
            ],
            [
             0.8888888888888888,
             "#fdca26"
            ],
            [
             1,
             "#f0f921"
            ]
           ]
          },
          "colorway": [
           "#636efa",
           "#EF553B",
           "#00cc96",
           "#ab63fa",
           "#FFA15A",
           "#19d3f3",
           "#FF6692",
           "#B6E880",
           "#FF97FF",
           "#FECB52"
          ],
          "font": {
           "color": "#2a3f5f"
          },
          "geo": {
           "bgcolor": "white",
           "lakecolor": "white",
           "landcolor": "#E5ECF6",
           "showlakes": true,
           "showland": true,
           "subunitcolor": "white"
          },
          "hoverlabel": {
           "align": "left"
          },
          "hovermode": "closest",
          "mapbox": {
           "style": "light"
          },
          "paper_bgcolor": "white",
          "plot_bgcolor": "#E5ECF6",
          "polar": {
           "angularaxis": {
            "gridcolor": "white",
            "linecolor": "white",
            "ticks": ""
           },
           "bgcolor": "#E5ECF6",
           "radialaxis": {
            "gridcolor": "white",
            "linecolor": "white",
            "ticks": ""
           }
          },
          "scene": {
           "xaxis": {
            "backgroundcolor": "#E5ECF6",
            "gridcolor": "white",
            "gridwidth": 2,
            "linecolor": "white",
            "showbackground": true,
            "ticks": "",
            "zerolinecolor": "white"
           },
           "yaxis": {
            "backgroundcolor": "#E5ECF6",
            "gridcolor": "white",
            "gridwidth": 2,
            "linecolor": "white",
            "showbackground": true,
            "ticks": "",
            "zerolinecolor": "white"
           },
           "zaxis": {
            "backgroundcolor": "#E5ECF6",
            "gridcolor": "white",
            "gridwidth": 2,
            "linecolor": "white",
            "showbackground": true,
            "ticks": "",
            "zerolinecolor": "white"
           }
          },
          "shapedefaults": {
           "line": {
            "color": "#2a3f5f"
           }
          },
          "ternary": {
           "aaxis": {
            "gridcolor": "white",
            "linecolor": "white",
            "ticks": ""
           },
           "baxis": {
            "gridcolor": "white",
            "linecolor": "white",
            "ticks": ""
           },
           "bgcolor": "#E5ECF6",
           "caxis": {
            "gridcolor": "white",
            "linecolor": "white",
            "ticks": ""
           }
          },
          "title": {
           "x": 0.05
          },
          "xaxis": {
           "automargin": true,
           "gridcolor": "white",
           "linecolor": "white",
           "ticks": "",
           "title": {
            "standoff": 15
           },
           "zerolinecolor": "white",
           "zerolinewidth": 2
          },
          "yaxis": {
           "automargin": true,
           "gridcolor": "white",
           "linecolor": "white",
           "ticks": "",
           "title": {
            "standoff": 15
           },
           "zerolinecolor": "white",
           "zerolinewidth": 2
          }
         }
        },
        "title": {
         "text": "Total de Reseñas y Reseñas Negativas"
        },
        "xaxis": {
         "anchor": "y",
         "domain": [
          0,
          1
         ],
         "title": {
          "text": "Tipo de Reseña"
         }
        },
        "yaxis": {
         "anchor": "x",
         "domain": [
          0,
          1
         ],
         "title": {
          "text": "Cantidad de Reseñas"
         }
        }
       }
      }
     },
     "metadata": {},
     "output_type": "display_data"
    }
   ],
   "source": [
    "# -\tKpi3: Mantener el índice de Respuestas a Reseñas Negativas (IRRN) por encima del 95%. \n",
    "\n",
    "import plotly.express as px\n",
    "import pandas as pd\n",
    "\n",
    "# Cargar los datos originales (df_reviews)\n",
    "# ... (código para cargar el DataFrame)\n",
    "\n",
    "# Filtrar reseñas negativas\n",
    "negative_reviews = df_reviews[df_reviews['sentiment'] < 0]\n",
    "\n",
    "# Calcular el 95% de las reseñas negativas\n",
    "threshold_95 = negative_reviews.shape[0] * 0.95\n",
    "\n",
    "# Crear el gráfico interactivo con Plotly\n",
    "fig_reviews = px.bar(\n",
    "    x=['Total de Reseñas', 'Reseñas Negativas'],\n",
    "    y=[df_reviews.shape[0], negative_reviews.shape[0]],\n",
    "    labels={'y': 'Cantidad de Reseñas', 'x': 'Tipo de Reseña'},\n",
    "    title='Total de Reseñas y Reseñas Negativas',\n",
    ")\n",
    "\n",
    "# Añadir línea punteada para el 95% de reseñas negativas\n",
    "fig_reviews.add_shape(\n",
    "    type='line',\n",
    "    x0=-0.5,\n",
    "    y0=threshold_95,\n",
    "    x1=1.5,\n",
    "    y1=threshold_95,\n",
    "    line=dict(color='red', dash='dash'),\n",
    "    name='Umbral del 95% para Reseñas Negativas'\n",
    ")\n",
    "\n",
    "# Mostrar el gráfico\n",
    "fig_reviews.show()\n"
   ]
  },
  {
   "cell_type": "markdown",
   "metadata": {},
   "source": [
    "### Kpi 4"
   ]
  },
  {
   "cell_type": "code",
   "execution_count": 290,
   "metadata": {},
   "outputs": [
    {
     "data": {
      "application/vnd.plotly.v1+json": {
       "config": {
        "plotlyServerURL": "https://plot.ly"
       },
       "data": [
        {
         "hovertemplate": "date=%{x}<br>Promedio de Sentimiento=%{y}<extra></extra>",
         "legendgroup": "",
         "line": {
          "color": "#636efa",
          "dash": "solid"
         },
         "marker": {
          "symbol": "circle"
         },
         "mode": "lines",
         "name": "",
         "orientation": "v",
         "showlegend": false,
         "type": "scatter",
         "x": [
          "2021-02-28T00:00:00",
          "2021-03-31T00:00:00",
          "2021-04-30T00:00:00",
          "2021-05-31T00:00:00",
          "2021-06-30T00:00:00",
          "2021-07-31T00:00:00",
          "2021-08-31T00:00:00",
          "2021-09-30T00:00:00",
          "2021-10-31T00:00:00",
          "2021-11-30T00:00:00",
          "2021-12-31T00:00:00",
          "2022-01-31T00:00:00",
          "2022-02-28T00:00:00",
          "2022-03-31T00:00:00",
          "2022-04-30T00:00:00",
          "2022-05-31T00:00:00",
          "2022-06-30T00:00:00",
          "2022-07-31T00:00:00",
          "2022-08-31T00:00:00",
          "2022-09-30T00:00:00",
          "2022-10-31T00:00:00",
          "2022-11-30T00:00:00",
          "2022-12-31T00:00:00",
          "2023-01-31T00:00:00",
          "2023-02-28T00:00:00",
          "2023-03-31T00:00:00",
          "2023-04-30T00:00:00",
          "2023-05-31T00:00:00",
          "2023-06-30T00:00:00",
          "2023-07-31T00:00:00",
          "2023-08-31T00:00:00",
          "2023-09-30T00:00:00",
          "2023-10-31T00:00:00",
          "2023-11-30T00:00:00"
         ],
         "xaxis": "x",
         "y": [
          0.1739253801753802,
          0.15000000000000002,
          0.03242187500000003,
          0.6235449735449735,
          0.27482882968002015,
          0.2408332270408163,
          0.3620153985507246,
          0.9229166666666666,
          -0.2,
          0.2787222222222222,
          0.13163442460317462,
          0.15534920634920635,
          0.32877551020408163,
          0.26804695767195763,
          0.3764484126984127,
          0.4970391414141414,
          0.01992996031746033,
          0.2307169312169312,
          0.33982253086419756,
          0.2839553123644033,
          0.3075555555555556,
          0.40708414318108194,
          0.24629473471487362,
          0.2388888888888889,
          0.00833333333333334,
          0.09027777777777779,
          0.15666666666666668,
          0.4150824214365881,
          0.29510452678634497,
          0.39514779942279943,
          0.3516627349864677,
          0.3673412698412698,
          0.18551785714285712,
          0.5007986111111111
         ],
         "yaxis": "y"
        }
       ],
       "layout": {
        "legend": {
         "tracegroupgap": 0
        },
        "template": {
         "data": {
          "bar": [
           {
            "error_x": {
             "color": "#2a3f5f"
            },
            "error_y": {
             "color": "#2a3f5f"
            },
            "marker": {
             "line": {
              "color": "#E5ECF6",
              "width": 0.5
             },
             "pattern": {
              "fillmode": "overlay",
              "size": 10,
              "solidity": 0.2
             }
            },
            "type": "bar"
           }
          ],
          "barpolar": [
           {
            "marker": {
             "line": {
              "color": "#E5ECF6",
              "width": 0.5
             },
             "pattern": {
              "fillmode": "overlay",
              "size": 10,
              "solidity": 0.2
             }
            },
            "type": "barpolar"
           }
          ],
          "carpet": [
           {
            "aaxis": {
             "endlinecolor": "#2a3f5f",
             "gridcolor": "white",
             "linecolor": "white",
             "minorgridcolor": "white",
             "startlinecolor": "#2a3f5f"
            },
            "baxis": {
             "endlinecolor": "#2a3f5f",
             "gridcolor": "white",
             "linecolor": "white",
             "minorgridcolor": "white",
             "startlinecolor": "#2a3f5f"
            },
            "type": "carpet"
           }
          ],
          "choropleth": [
           {
            "colorbar": {
             "outlinewidth": 0,
             "ticks": ""
            },
            "type": "choropleth"
           }
          ],
          "contour": [
           {
            "colorbar": {
             "outlinewidth": 0,
             "ticks": ""
            },
            "colorscale": [
             [
              0,
              "#0d0887"
             ],
             [
              0.1111111111111111,
              "#46039f"
             ],
             [
              0.2222222222222222,
              "#7201a8"
             ],
             [
              0.3333333333333333,
              "#9c179e"
             ],
             [
              0.4444444444444444,
              "#bd3786"
             ],
             [
              0.5555555555555556,
              "#d8576b"
             ],
             [
              0.6666666666666666,
              "#ed7953"
             ],
             [
              0.7777777777777778,
              "#fb9f3a"
             ],
             [
              0.8888888888888888,
              "#fdca26"
             ],
             [
              1,
              "#f0f921"
             ]
            ],
            "type": "contour"
           }
          ],
          "contourcarpet": [
           {
            "colorbar": {
             "outlinewidth": 0,
             "ticks": ""
            },
            "type": "contourcarpet"
           }
          ],
          "heatmap": [
           {
            "colorbar": {
             "outlinewidth": 0,
             "ticks": ""
            },
            "colorscale": [
             [
              0,
              "#0d0887"
             ],
             [
              0.1111111111111111,
              "#46039f"
             ],
             [
              0.2222222222222222,
              "#7201a8"
             ],
             [
              0.3333333333333333,
              "#9c179e"
             ],
             [
              0.4444444444444444,
              "#bd3786"
             ],
             [
              0.5555555555555556,
              "#d8576b"
             ],
             [
              0.6666666666666666,
              "#ed7953"
             ],
             [
              0.7777777777777778,
              "#fb9f3a"
             ],
             [
              0.8888888888888888,
              "#fdca26"
             ],
             [
              1,
              "#f0f921"
             ]
            ],
            "type": "heatmap"
           }
          ],
          "heatmapgl": [
           {
            "colorbar": {
             "outlinewidth": 0,
             "ticks": ""
            },
            "colorscale": [
             [
              0,
              "#0d0887"
             ],
             [
              0.1111111111111111,
              "#46039f"
             ],
             [
              0.2222222222222222,
              "#7201a8"
             ],
             [
              0.3333333333333333,
              "#9c179e"
             ],
             [
              0.4444444444444444,
              "#bd3786"
             ],
             [
              0.5555555555555556,
              "#d8576b"
             ],
             [
              0.6666666666666666,
              "#ed7953"
             ],
             [
              0.7777777777777778,
              "#fb9f3a"
             ],
             [
              0.8888888888888888,
              "#fdca26"
             ],
             [
              1,
              "#f0f921"
             ]
            ],
            "type": "heatmapgl"
           }
          ],
          "histogram": [
           {
            "marker": {
             "pattern": {
              "fillmode": "overlay",
              "size": 10,
              "solidity": 0.2
             }
            },
            "type": "histogram"
           }
          ],
          "histogram2d": [
           {
            "colorbar": {
             "outlinewidth": 0,
             "ticks": ""
            },
            "colorscale": [
             [
              0,
              "#0d0887"
             ],
             [
              0.1111111111111111,
              "#46039f"
             ],
             [
              0.2222222222222222,
              "#7201a8"
             ],
             [
              0.3333333333333333,
              "#9c179e"
             ],
             [
              0.4444444444444444,
              "#bd3786"
             ],
             [
              0.5555555555555556,
              "#d8576b"
             ],
             [
              0.6666666666666666,
              "#ed7953"
             ],
             [
              0.7777777777777778,
              "#fb9f3a"
             ],
             [
              0.8888888888888888,
              "#fdca26"
             ],
             [
              1,
              "#f0f921"
             ]
            ],
            "type": "histogram2d"
           }
          ],
          "histogram2dcontour": [
           {
            "colorbar": {
             "outlinewidth": 0,
             "ticks": ""
            },
            "colorscale": [
             [
              0,
              "#0d0887"
             ],
             [
              0.1111111111111111,
              "#46039f"
             ],
             [
              0.2222222222222222,
              "#7201a8"
             ],
             [
              0.3333333333333333,
              "#9c179e"
             ],
             [
              0.4444444444444444,
              "#bd3786"
             ],
             [
              0.5555555555555556,
              "#d8576b"
             ],
             [
              0.6666666666666666,
              "#ed7953"
             ],
             [
              0.7777777777777778,
              "#fb9f3a"
             ],
             [
              0.8888888888888888,
              "#fdca26"
             ],
             [
              1,
              "#f0f921"
             ]
            ],
            "type": "histogram2dcontour"
           }
          ],
          "mesh3d": [
           {
            "colorbar": {
             "outlinewidth": 0,
             "ticks": ""
            },
            "type": "mesh3d"
           }
          ],
          "parcoords": [
           {
            "line": {
             "colorbar": {
              "outlinewidth": 0,
              "ticks": ""
             }
            },
            "type": "parcoords"
           }
          ],
          "pie": [
           {
            "automargin": true,
            "type": "pie"
           }
          ],
          "scatter": [
           {
            "fillpattern": {
             "fillmode": "overlay",
             "size": 10,
             "solidity": 0.2
            },
            "type": "scatter"
           }
          ],
          "scatter3d": [
           {
            "line": {
             "colorbar": {
              "outlinewidth": 0,
              "ticks": ""
             }
            },
            "marker": {
             "colorbar": {
              "outlinewidth": 0,
              "ticks": ""
             }
            },
            "type": "scatter3d"
           }
          ],
          "scattercarpet": [
           {
            "marker": {
             "colorbar": {
              "outlinewidth": 0,
              "ticks": ""
             }
            },
            "type": "scattercarpet"
           }
          ],
          "scattergeo": [
           {
            "marker": {
             "colorbar": {
              "outlinewidth": 0,
              "ticks": ""
             }
            },
            "type": "scattergeo"
           }
          ],
          "scattergl": [
           {
            "marker": {
             "colorbar": {
              "outlinewidth": 0,
              "ticks": ""
             }
            },
            "type": "scattergl"
           }
          ],
          "scattermapbox": [
           {
            "marker": {
             "colorbar": {
              "outlinewidth": 0,
              "ticks": ""
             }
            },
            "type": "scattermapbox"
           }
          ],
          "scatterpolar": [
           {
            "marker": {
             "colorbar": {
              "outlinewidth": 0,
              "ticks": ""
             }
            },
            "type": "scatterpolar"
           }
          ],
          "scatterpolargl": [
           {
            "marker": {
             "colorbar": {
              "outlinewidth": 0,
              "ticks": ""
             }
            },
            "type": "scatterpolargl"
           }
          ],
          "scatterternary": [
           {
            "marker": {
             "colorbar": {
              "outlinewidth": 0,
              "ticks": ""
             }
            },
            "type": "scatterternary"
           }
          ],
          "surface": [
           {
            "colorbar": {
             "outlinewidth": 0,
             "ticks": ""
            },
            "colorscale": [
             [
              0,
              "#0d0887"
             ],
             [
              0.1111111111111111,
              "#46039f"
             ],
             [
              0.2222222222222222,
              "#7201a8"
             ],
             [
              0.3333333333333333,
              "#9c179e"
             ],
             [
              0.4444444444444444,
              "#bd3786"
             ],
             [
              0.5555555555555556,
              "#d8576b"
             ],
             [
              0.6666666666666666,
              "#ed7953"
             ],
             [
              0.7777777777777778,
              "#fb9f3a"
             ],
             [
              0.8888888888888888,
              "#fdca26"
             ],
             [
              1,
              "#f0f921"
             ]
            ],
            "type": "surface"
           }
          ],
          "table": [
           {
            "cells": {
             "fill": {
              "color": "#EBF0F8"
             },
             "line": {
              "color": "white"
             }
            },
            "header": {
             "fill": {
              "color": "#C8D4E3"
             },
             "line": {
              "color": "white"
             }
            },
            "type": "table"
           }
          ]
         },
         "layout": {
          "annotationdefaults": {
           "arrowcolor": "#2a3f5f",
           "arrowhead": 0,
           "arrowwidth": 1
          },
          "autotypenumbers": "strict",
          "coloraxis": {
           "colorbar": {
            "outlinewidth": 0,
            "ticks": ""
           }
          },
          "colorscale": {
           "diverging": [
            [
             0,
             "#8e0152"
            ],
            [
             0.1,
             "#c51b7d"
            ],
            [
             0.2,
             "#de77ae"
            ],
            [
             0.3,
             "#f1b6da"
            ],
            [
             0.4,
             "#fde0ef"
            ],
            [
             0.5,
             "#f7f7f7"
            ],
            [
             0.6,
             "#e6f5d0"
            ],
            [
             0.7,
             "#b8e186"
            ],
            [
             0.8,
             "#7fbc41"
            ],
            [
             0.9,
             "#4d9221"
            ],
            [
             1,
             "#276419"
            ]
           ],
           "sequential": [
            [
             0,
             "#0d0887"
            ],
            [
             0.1111111111111111,
             "#46039f"
            ],
            [
             0.2222222222222222,
             "#7201a8"
            ],
            [
             0.3333333333333333,
             "#9c179e"
            ],
            [
             0.4444444444444444,
             "#bd3786"
            ],
            [
             0.5555555555555556,
             "#d8576b"
            ],
            [
             0.6666666666666666,
             "#ed7953"
            ],
            [
             0.7777777777777778,
             "#fb9f3a"
            ],
            [
             0.8888888888888888,
             "#fdca26"
            ],
            [
             1,
             "#f0f921"
            ]
           ],
           "sequentialminus": [
            [
             0,
             "#0d0887"
            ],
            [
             0.1111111111111111,
             "#46039f"
            ],
            [
             0.2222222222222222,
             "#7201a8"
            ],
            [
             0.3333333333333333,
             "#9c179e"
            ],
            [
             0.4444444444444444,
             "#bd3786"
            ],
            [
             0.5555555555555556,
             "#d8576b"
            ],
            [
             0.6666666666666666,
             "#ed7953"
            ],
            [
             0.7777777777777778,
             "#fb9f3a"
            ],
            [
             0.8888888888888888,
             "#fdca26"
            ],
            [
             1,
             "#f0f921"
            ]
           ]
          },
          "colorway": [
           "#636efa",
           "#EF553B",
           "#00cc96",
           "#ab63fa",
           "#FFA15A",
           "#19d3f3",
           "#FF6692",
           "#B6E880",
           "#FF97FF",
           "#FECB52"
          ],
          "font": {
           "color": "#2a3f5f"
          },
          "geo": {
           "bgcolor": "white",
           "lakecolor": "white",
           "landcolor": "#E5ECF6",
           "showlakes": true,
           "showland": true,
           "subunitcolor": "white"
          },
          "hoverlabel": {
           "align": "left"
          },
          "hovermode": "closest",
          "mapbox": {
           "style": "light"
          },
          "paper_bgcolor": "white",
          "plot_bgcolor": "#E5ECF6",
          "polar": {
           "angularaxis": {
            "gridcolor": "white",
            "linecolor": "white",
            "ticks": ""
           },
           "bgcolor": "#E5ECF6",
           "radialaxis": {
            "gridcolor": "white",
            "linecolor": "white",
            "ticks": ""
           }
          },
          "scene": {
           "xaxis": {
            "backgroundcolor": "#E5ECF6",
            "gridcolor": "white",
            "gridwidth": 2,
            "linecolor": "white",
            "showbackground": true,
            "ticks": "",
            "zerolinecolor": "white"
           },
           "yaxis": {
            "backgroundcolor": "#E5ECF6",
            "gridcolor": "white",
            "gridwidth": 2,
            "linecolor": "white",
            "showbackground": true,
            "ticks": "",
            "zerolinecolor": "white"
           },
           "zaxis": {
            "backgroundcolor": "#E5ECF6",
            "gridcolor": "white",
            "gridwidth": 2,
            "linecolor": "white",
            "showbackground": true,
            "ticks": "",
            "zerolinecolor": "white"
           }
          },
          "shapedefaults": {
           "line": {
            "color": "#2a3f5f"
           }
          },
          "ternary": {
           "aaxis": {
            "gridcolor": "white",
            "linecolor": "white",
            "ticks": ""
           },
           "baxis": {
            "gridcolor": "white",
            "linecolor": "white",
            "ticks": ""
           },
           "bgcolor": "#E5ECF6",
           "caxis": {
            "gridcolor": "white",
            "linecolor": "white",
            "ticks": ""
           }
          },
          "title": {
           "x": 0.05
          },
          "xaxis": {
           "automargin": true,
           "gridcolor": "white",
           "linecolor": "white",
           "ticks": "",
           "title": {
            "standoff": 15
           },
           "zerolinecolor": "white",
           "zerolinewidth": 2
          },
          "yaxis": {
           "automargin": true,
           "gridcolor": "white",
           "linecolor": "white",
           "ticks": "",
           "title": {
            "standoff": 15
           },
           "zerolinecolor": "white",
           "zerolinewidth": 2
          }
         }
        },
        "title": {
         "text": "Promedio Mensual de Sentimiento para Reseñas de Familias"
        },
        "xaxis": {
         "anchor": "y",
         "domain": [
          0,
          1
         ],
         "title": {
          "text": "date"
         }
        },
        "yaxis": {
         "anchor": "x",
         "domain": [
          0,
          1
         ],
         "title": {
          "text": "Promedio de Sentimiento"
         }
        }
       }
      }
     },
     "metadata": {},
     "output_type": "display_data"
    }
   ],
   "source": [
    "# -\tKPI4: Mantener el promedio mensual de sentimiento para huéspedes que vienen en familia por encima de 0.25.\n",
    "\n",
    "import pandas as pd\n",
    "import plotly.express as px\n",
    "\n",
    "# Supongamos que df_reviews es tu DataFrame\n",
    "# Puedes cargar los datos así:\n",
    "# df_reviews = pd.read_csv(\"tu_archivo.csv\")\n",
    "\n",
    "# Convertir la columna 'date' a tipo datetime (si aún no lo está)\n",
    "df_reviews['date'] = pd.to_datetime(df_reviews['date'])\n",
    "\n",
    "# Filtrar las reseñas para huéspedes que vienen en familia\n",
    "family_reviews = df_reviews[df_reviews['company'] == 'En familia']\n",
    "\n",
    "# Establecer la columna 'date' como índice\n",
    "family_reviews.set_index('date', inplace=True)\n",
    "\n",
    "# Resample por mes y calcular el promedio de 'sentiment'\n",
    "average_sentiment_by_month = family_reviews['sentiment'].resample('M').mean()\n",
    "\n",
    "# Crear el gráfico interactivo con Plotly (tipo de gráfico de línea)\n",
    "fig = px.line(average_sentiment_by_month, x=average_sentiment_by_month.index, y=average_sentiment_by_month.values,\n",
    "              labels={'y': 'Promedio de Sentimiento'},\n",
    "              title='Promedio Mensual de Sentimiento para Reseñas de Familias')\n",
    "\n",
    "fig.show()\n"
   ]
  },
  {
   "cell_type": "code",
   "execution_count": 14,
   "metadata": {},
   "outputs": [
    {
     "data": {
      "image/png": "[encoded data removed]",
      "text/plain": [
       "<Figure size 1000x600 with 1 Axes>"
      ]
     },
     "metadata": {},
     "output_type": "display_data"
    }
   ],
   "source": [
    "import pandas as pd\n",
    "from wordcloud import WordCloud\n",
    "import matplotlib.pyplot as plt\n",
    "\n",
    "# Crear una copia del DataFrame\n",
    "df_copy = df_reviews.copy()\n",
    "\n",
    "# Combinar todos los resúmenes en un solo texto\n",
    "resumenes_texto = ' '.join(df_copy['review'].dropna())\n",
    "\n",
    "# Crear un objeto WordCloud\n",
    "wordcloud = WordCloud(width=800, height=400, background_color='white').generate(resumenes_texto)\n",
    "\n",
    "# Mostrar la Word Cloud\n",
    "plt.figure(figsize=(10, 6))\n",
    "plt.imshow(wordcloud, interpolation='bilinear')\n",
    "plt.axis('off')\n",
    "plt.title('Word Cloud de Reviews')\n",
    "plt.show()"
   ]
  },
  {
   "cell_type": "code",
   "execution_count": 15,
   "metadata": {},
   "outputs": [
    {
     "data": {
      "image/png": "[encoded data removed]",
      "text/plain": [
       "<Figure size 1000x600 with 1 Axes>"
      ]
     },
     "metadata": {},
     "output_type": "display_data"
    }
   ],
   "source": [
    "import pandas as pd\n",
    "from wordcloud import WordCloud\n",
    "import matplotlib.pyplot as plt\n",
    "\n",
    "# Crear una copia del DataFrame\n",
    "df_copy = df_reviews.copy()\n",
    "\n",
    "# Combinar todos los resúmenes en un solo texto\n",
    "resumenes_texto = ' '.join(df_copy['review'].dropna())\n",
    "\n",
    "# Crear un objeto WordCloud con fondo oscuro\n",
    "wordcloud = WordCloud(width=800, height=400, background_color='black').generate(resumenes_texto)\n",
    "\n",
    "# Mostrar la Word Cloud\n",
    "plt.figure(figsize=(10, 6))\n",
    "plt.imshow(wordcloud, interpolation='bilinear')\n",
    "plt.axis('off')\n",
    "plt.title('Word Cloud de Reviews con Fondo Oscuro')\n",
    "plt.show()\n"
   ]
  }
 ],
 "metadata": {
  "kernelspec": {
   "display_name": "Python 3",
   "language": "python",
   "name": "python3"
  },
  "language_info": {
   "codemirror_mode": {
    "name": "ipython",
    "version": 3
   },
   "file_extension": ".py",
   "mimetype": "text/x-python",
   "name": "python",
   "nbconvert_exporter": "python",
   "pygments_lexer": "ipython3",
   "version": "3.10.6"
  },
  "orig_nbformat": 4
 },
 "nbformat": 4,
 "nbformat_minor": 2
}
