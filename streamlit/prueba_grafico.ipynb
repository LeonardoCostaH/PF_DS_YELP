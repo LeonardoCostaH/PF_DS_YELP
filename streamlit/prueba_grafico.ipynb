{
 "cells": [
  {
   "cell_type": "code",
   "execution_count": 4,
   "metadata": {},
   "outputs": [],
   "source": [
    "import warnings\n",
    "import streamlit as st\n",
    "import pandas as pd\n",
    "import numpy as np\n",
    "from connect import cursor, conn\n",
    "import matplotlib.pyplot as plt\n",
    "import matplotlib\n",
    "import seaborn as sns\n",
    "import geopandas as gpd\n",
    "from shapely.geometry import Point\n",
    "from matplotlib.colors import LinearSegmentedColormap"
   ]
  },
  {
   "cell_type": "code",
   "execution_count": 38,
   "metadata": {},
   "outputs": [],
   "source": [
    "path = '..\\\\files\\\\data\\\\booking\\\\booking_hotels.csv'"
   ]
  },
  {
   "cell_type": "code",
   "execution_count": 39,
   "metadata": {},
   "outputs": [],
   "source": [
    "df = pd.read_csv(path)"
   ]
  },
  {
   "cell_type": "code",
   "execution_count": 30,
   "metadata": {},
   "outputs": [
    {
     "data": {
      "text/html": [
       "<div>\n",
       "<style scoped>\n",
       "    .dataframe tbody tr th:only-of-type {\n",
       "        vertical-align: middle;\n",
       "    }\n",
       "\n",
       "    .dataframe tbody tr th {\n",
       "        vertical-align: top;\n",
       "    }\n",
       "\n",
       "    .dataframe thead th {\n",
       "        text-align: right;\n",
       "    }\n",
       "</style>\n",
       "<table border=\"1\" class=\"dataframe\">\n",
       "  <thead>\n",
       "    <tr style=\"text-align: right;\">\n",
       "      <th></th>\n",
       "      <th>Unnamed: 0</th>\n",
       "      <th>state</th>\n",
       "      <th>city</th>\n",
       "      <th>name</th>\n",
       "      <th>avg_score</th>\n",
       "      <th>price</th>\n",
       "      <th>reviews_url</th>\n",
       "      <th>hotel_id</th>\n",
       "    </tr>\n",
       "  </thead>\n",
       "  <tbody>\n",
       "    <tr>\n",
       "      <th>0</th>\n",
       "      <td>30517</td>\n",
       "      <td>New Mexico</td>\n",
       "      <td>Rio Rancho</td>\n",
       "      <td>The Reynosa Retreat</td>\n",
       "      <td>100.0</td>\n",
       "      <td>317.251</td>\n",
       "      <td>https://www.booking.com/hotel/us/the-reynosa-r...</td>\n",
       "      <td>1</td>\n",
       "    </tr>\n",
       "    <tr>\n",
       "      <th>1</th>\n",
       "      <td>34698</td>\n",
       "      <td>Oklahoma</td>\n",
       "      <td>Edmond</td>\n",
       "      <td>The Arches Walk to Western Ave District</td>\n",
       "      <td>100.0</td>\n",
       "      <td>368.373</td>\n",
       "      <td>https://www.booking.com/hotel/us/the-arches-wa...</td>\n",
       "      <td>2</td>\n",
       "    </tr>\n",
       "    <tr>\n",
       "      <th>2</th>\n",
       "      <td>11506</td>\n",
       "      <td>Georgia</td>\n",
       "      <td>Sandy Springs</td>\n",
       "      <td>Modern Midtown Oasis</td>\n",
       "      <td>100.0</td>\n",
       "      <td>551.041</td>\n",
       "      <td>https://www.booking.com/hotel/us/modern-midtow...</td>\n",
       "      <td>3</td>\n",
       "    </tr>\n",
       "    <tr>\n",
       "      <th>3</th>\n",
       "      <td>23147</td>\n",
       "      <td>Minnesota</td>\n",
       "      <td>Minneapolis</td>\n",
       "      <td>Welcoming apartment near lakes,shops &amp; restaur...</td>\n",
       "      <td>100.0</td>\n",
       "      <td>354.997</td>\n",
       "      <td>https://www.booking.com/hotel/us/welcoming-apa...</td>\n",
       "      <td>4</td>\n",
       "    </tr>\n",
       "    <tr>\n",
       "      <th>4</th>\n",
       "      <td>43074</td>\n",
       "      <td>Virginia</td>\n",
       "      <td>Fredericksburg</td>\n",
       "      <td>Gilded Carriage Haus with Hot Tub</td>\n",
       "      <td>100.0</td>\n",
       "      <td>1013.284</td>\n",
       "      <td>https://www.booking.com/hotel/us/gilded-carria...</td>\n",
       "      <td>5</td>\n",
       "    </tr>\n",
       "  </tbody>\n",
       "</table>\n",
       "</div>"
      ],
      "text/plain": [
       "   Unnamed: 0       state            city  \\\n",
       "0       30517  New Mexico      Rio Rancho   \n",
       "1       34698    Oklahoma          Edmond   \n",
       "2       11506     Georgia   Sandy Springs   \n",
       "3       23147   Minnesota     Minneapolis   \n",
       "4       43074    Virginia  Fredericksburg   \n",
       "\n",
       "                                                name  avg_score     price  \\\n",
       "0                                The Reynosa Retreat      100.0   317.251   \n",
       "1            The Arches Walk to Western Ave District      100.0   368.373   \n",
       "2                               Modern Midtown Oasis      100.0   551.041   \n",
       "3  Welcoming apartment near lakes,shops & restaur...      100.0   354.997   \n",
       "4                  Gilded Carriage Haus with Hot Tub      100.0  1013.284   \n",
       "\n",
       "                                         reviews_url  hotel_id  \n",
       "0  https://www.booking.com/hotel/us/the-reynosa-r...         1  \n",
       "1  https://www.booking.com/hotel/us/the-arches-wa...         2  \n",
       "2  https://www.booking.com/hotel/us/modern-midtow...         3  \n",
       "3  https://www.booking.com/hotel/us/welcoming-apa...         4  \n",
       "4  https://www.booking.com/hotel/us/gilded-carria...         5  "
      ]
     },
     "execution_count": 30,
     "metadata": {},
     "output_type": "execute_result"
    }
   ],
   "source": [
    "df.head()"
   ]
  },
  {
   "cell_type": "code",
   "execution_count": 40,
   "metadata": {},
   "outputs": [
    {
     "name": "stdout",
     "output_type": "stream",
     "text": [
      "                city                 state  Number of Hotels\n",
      "125         Florence               Alabama               559\n",
      "196             Kent            Washington               510\n",
      "375        St. Cloud             Minnesota               480\n",
      "340        San Diego            California               474\n",
      "408         Waterloo                  Iowa               468\n",
      "15            Athens               Georgia               465\n",
      "167          Houston                 Texas               451\n",
      "202        Lafayette               Indiana               450\n",
      "289             Orem                  Utah               433\n",
      "236          Meriden           Connecticut               433\n",
      "185          Kahului                Hawaii               405\n",
      "274          Norfolk              Nebraska               400\n",
      "120         Fairmont         West Virginia               385\n",
      "413        Westbrook                 Maine               384\n",
      "257     Myrtle Beach        South Carolina               371\n",
      "401          Waldorf              Maryland               352\n",
      "290          Orlando               Florida               349\n",
      "385         Syracuse              New York               348\n",
      "30          Belgrade               Montana               341\n",
      "249           Monroe             Louisiana               340\n",
      "373       St. Albans               Vermont               337\n",
      "226       Manchester         New Hampshire               333\n",
      "304          Phoenix               Arizona               328\n",
      "276           Norman              Oklahoma               318\n",
      "126         Florence              Kentucky               315\n",
      "350          Seaford              Delaware               314\n",
      "70           Chicago              Illinois               284\n",
      "297         Paterson            New Jersey               259\n",
      "363     South Valley            New Mexico               258\n",
      "389         Thornton              Colorado               251\n",
      "426             York          Pennsylvania               240\n",
      "228        Manhattan                Kansas               235\n",
      "116         Evanston               Wyoming               234\n",
      "383    Sunrise Manor                Nevada               200\n",
      "317           Racine             Wisconsin               189\n",
      "234     Meadow Lakes                Alaska               186\n",
      "364        Southaven           Mississippi               158\n",
      "4         Alexandria              Virginia               155\n",
      "66         Charlotte        North Carolina               136\n",
      "403           Warren              Michigan               136\n",
      "405       Washington  District of Columbia               135\n",
      "56            Canton                  Ohio               130\n",
      "235          Memphis             Tennessee               126\n",
      "172     Independence              Missouri                91\n",
      "424        Worcester         Massachusetts                89\n",
      "305           Pierre          South Dakota                79\n",
      "311       Post Falls                 Idaho                68\n",
      "370       Springdale              Arkansas                65\n",
      "108  East Providence          Rhode Island                56\n",
      "410       West Fargo          North Dakota                49\n"
     ]
    }
   ],
   "source": [
    "import pandas as pd\n",
    "\n",
    "# Ruta del archivo CSV\n",
    "file_path = '..\\\\files\\\\data\\\\booking\\\\booking_hotels.csv'\n",
    "\n",
    "# Crear DataFrame\n",
    "df = pd.read_csv(file_path)\n",
    "\n",
    "# Contar el número de hoteles (name) por combinación de ciudad y estado\n",
    "cities_hotels_count = df.groupby(['city', 'state'])['name'].nunique().reset_index()\n",
    "cities_hotels_count.columns = ['city', 'state', 'Number of Hotels']\n",
    "\n",
    "# Encontrar la ciudad con más hoteles por estado\n",
    "top_cities_by_state = cities_hotels_count.sort_values(by='Number of Hotels', ascending=False).drop_duplicates('state')\n",
    "\n",
    "# Mostrar las ciudades con más hoteles por estado\n",
    "print(top_cities_by_state[['city', 'state', 'Number of Hotels']])\n"
   ]
  },
  {
   "cell_type": "code",
   "execution_count": 41,
   "metadata": {},
   "outputs": [
    {
     "data": {
      "application/vnd.plotly.v1+json": {
       "config": {
        "plotlyServerURL": "https://plot.ly"
       },
       "data": [
        {
         "alignmentgroup": "True",
         "hovertemplate": "Number of Hotels=%{text}<br>city_state=%{y}<extra></extra>",
         "insidetextanchor": "start",
         "legendgroup": "",
         "marker": {
          "color": "#000001",
          "pattern": {
           "shape": ""
          }
         },
         "name": "",
         "offsetgroup": "",
         "orientation": "h",
         "showlegend": false,
         "text": [
          559,
          511,
          481,
          474,
          468
         ],
         "textposition": "outside",
         "type": "bar",
         "x": [
          559,
          511,
          481,
          474,
          468
         ],
         "xaxis": "x",
         "y": [
          "Florence, Alabama",
          "Kent, Washington",
          "St. Cloud, Minnesota",
          "San Diego, California",
          "Waterloo, Iowa"
         ],
         "yaxis": "y"
        }
       ],
       "layout": {
        "barmode": "relative",
        "height": 400,
        "legend": {
         "tracegroupgap": 0
        },
        "template": {
         "data": {
          "candlestick": [
           {
            "decreasing": {
             "line": {
              "color": "#000033"
             }
            },
            "increasing": {
             "line": {
              "color": "#000032"
             }
            },
            "type": "candlestick"
           }
          ],
          "contour": [
           {
            "colorscale": [
             [
              0,
              "#000011"
             ],
             [
              0.1111111111111111,
              "#000012"
             ],
             [
              0.2222222222222222,
              "#000013"
             ],
             [
              0.3333333333333333,
              "#000014"
             ],
             [
              0.4444444444444444,
              "#000015"
             ],
             [
              0.5555555555555556,
              "#000016"
             ],
             [
              0.6666666666666666,
              "#000017"
             ],
             [
              0.7777777777777778,
              "#000018"
             ],
             [
              0.8888888888888888,
              "#000019"
             ],
             [
              1,
              "#000020"
             ]
            ],
            "type": "contour"
           }
          ],
          "contourcarpet": [
           {
            "colorscale": [
             [
              0,
              "#000011"
             ],
             [
              0.1111111111111111,
              "#000012"
             ],
             [
              0.2222222222222222,
              "#000013"
             ],
             [
              0.3333333333333333,
              "#000014"
             ],
             [
              0.4444444444444444,
              "#000015"
             ],
             [
              0.5555555555555556,
              "#000016"
             ],
             [
              0.6666666666666666,
              "#000017"
             ],
             [
              0.7777777777777778,
              "#000018"
             ],
             [
              0.8888888888888888,
              "#000019"
             ],
             [
              1,
              "#000020"
             ]
            ],
            "type": "contourcarpet"
           }
          ],
          "heatmap": [
           {
            "colorscale": [
             [
              0,
              "#000011"
             ],
             [
              0.1111111111111111,
              "#000012"
             ],
             [
              0.2222222222222222,
              "#000013"
             ],
             [
              0.3333333333333333,
              "#000014"
             ],
             [
              0.4444444444444444,
              "#000015"
             ],
             [
              0.5555555555555556,
              "#000016"
             ],
             [
              0.6666666666666666,
              "#000017"
             ],
             [
              0.7777777777777778,
              "#000018"
             ],
             [
              0.8888888888888888,
              "#000019"
             ],
             [
              1,
              "#000020"
             ]
            ],
            "type": "heatmap"
           }
          ],
          "histogram2d": [
           {
            "colorscale": [
             [
              0,
              "#000011"
             ],
             [
              0.1111111111111111,
              "#000012"
             ],
             [
              0.2222222222222222,
              "#000013"
             ],
             [
              0.3333333333333333,
              "#000014"
             ],
             [
              0.4444444444444444,
              "#000015"
             ],
             [
              0.5555555555555556,
              "#000016"
             ],
             [
              0.6666666666666666,
              "#000017"
             ],
             [
              0.7777777777777778,
              "#000018"
             ],
             [
              0.8888888888888888,
              "#000019"
             ],
             [
              1,
              "#000020"
             ]
            ],
            "type": "histogram2d"
           }
          ],
          "icicle": [
           {
            "textfont": {
             "color": "white"
            },
            "type": "icicle"
           }
          ],
          "sankey": [
           {
            "textfont": {
             "color": "#000036"
            },
            "type": "sankey"
           }
          ],
          "scatter": [
           {
            "marker": {
             "line": {
              "width": 0
             }
            },
            "type": "scatter"
           }
          ],
          "table": [
           {
            "cells": {
             "fill": {
              "color": "#000038"
             },
             "font": {
              "color": "#000037"
             },
             "line": {
              "color": "#000039"
             }
            },
            "header": {
             "fill": {
              "color": "#000040"
             },
             "font": {
              "color": "#000036"
             },
             "line": {
              "color": "#000039"
             }
            },
            "type": "table"
           }
          ],
          "waterfall": [
           {
            "connector": {
             "line": {
              "color": "#000036",
              "width": 2
             }
            },
            "decreasing": {
             "marker": {
              "color": "#000033"
             }
            },
            "increasing": {
             "marker": {
              "color": "#000032"
             }
            },
            "totals": {
             "marker": {
              "color": "#000034"
             }
            },
            "type": "waterfall"
           }
          ]
         },
         "layout": {
          "coloraxis": {
           "colorscale": [
            [
             0,
             "#000011"
            ],
            [
             0.1111111111111111,
             "#000012"
            ],
            [
             0.2222222222222222,
             "#000013"
            ],
            [
             0.3333333333333333,
             "#000014"
            ],
            [
             0.4444444444444444,
             "#000015"
            ],
            [
             0.5555555555555556,
             "#000016"
            ],
            [
             0.6666666666666666,
             "#000017"
            ],
            [
             0.7777777777777778,
             "#000018"
            ],
            [
             0.8888888888888888,
             "#000019"
            ],
            [
             1,
             "#000020"
            ]
           ]
          },
          "colorscale": {
           "diverging": [
            [
             0,
             "#000021"
            ],
            [
             0.1,
             "#000022"
            ],
            [
             0.2,
             "#000023"
            ],
            [
             0.3,
             "#000024"
            ],
            [
             0.4,
             "#000025"
            ],
            [
             0.5,
             "#000026"
            ],
            [
             0.6,
             "#000027"
            ],
            [
             0.7,
             "#000028"
            ],
            [
             0.8,
             "#000029"
            ],
            [
             0.9,
             "#000030"
            ],
            [
             1,
             "#000031"
            ]
           ],
           "sequential": [
            [
             0,
             "#000011"
            ],
            [
             0.1111111111111111,
             "#000012"
            ],
            [
             0.2222222222222222,
             "#000013"
            ],
            [
             0.3333333333333333,
             "#000014"
            ],
            [
             0.4444444444444444,
             "#000015"
            ],
            [
             0.5555555555555556,
             "#000016"
            ],
            [
             0.6666666666666666,
             "#000017"
            ],
            [
             0.7777777777777778,
             "#000018"
            ],
            [
             0.8888888888888888,
             "#000019"
            ],
            [
             1,
             "#000020"
            ]
           ],
           "sequentialminus": [
            [
             0,
             "#000011"
            ],
            [
             0.1111111111111111,
             "#000012"
            ],
            [
             0.2222222222222222,
             "#000013"
            ],
            [
             0.3333333333333333,
             "#000014"
            ],
            [
             0.4444444444444444,
             "#000015"
            ],
            [
             0.5555555555555556,
             "#000016"
            ],
            [
             0.6666666666666666,
             "#000017"
            ],
            [
             0.7777777777777778,
             "#000018"
            ],
            [
             0.8888888888888888,
             "#000019"
            ],
            [
             1,
             "#000020"
            ]
           ]
          },
          "colorway": [
           "#000001",
           "#000002",
           "#000003",
           "#000004",
           "#000005",
           "#000006",
           "#000007",
           "#000008",
           "#000009",
           "#000010"
          ]
         }
        },
        "title": {
         "text": "Top 5 Cities with Most Hotels"
        },
        "width": 1000,
        "xaxis": {
         "anchor": "y",
         "domain": [
          0,
          1
         ],
         "tickangle": -45,
         "title": {
          "text": "Number of Hotels"
         }
        },
        "yaxis": {
         "anchor": "x",
         "domain": [
          0,
          1
         ],
         "title": {
          "text": "city_state"
         }
        }
       }
      }
     },
     "metadata": {},
     "output_type": "display_data"
    }
   ],
   "source": [
    "import pandas as pd\n",
    "import plotly.express as px\n",
    "\n",
    "# Crear una nueva columna combinando ciudad y estado\n",
    "df['city_state'] = df['city'] + ', ' + df['state']\n",
    "\n",
    "# Contar el número único de hoteles (hotel_id) por combinación de ciudad y estado\n",
    "cities_hotels_count = df.groupby('city_state')['hotel_id'].nunique().reset_index()\n",
    "cities_hotels_count.columns = ['city_state', 'Number of Hotels']\n",
    "\n",
    "# Seleccionar las 5 ciudades con más hoteles\n",
    "top_cities = cities_hotels_count.sort_values(by='Number of Hotels', ascending=False).head(5)\n",
    "\n",
    "# Crear el gráfico de barras horizontales con Plotly Express\n",
    "fig = px.bar(top_cities, x='Number of Hotels', y='city_state', orientation='h',\n",
    "             title='Top 5 Cities with Most Hotels', labels={'Number of Hotels': 'Number of Hotels'},\n",
    "             text='Number of Hotels')  # Mostrar solo el texto a la derecha de las barras\n",
    "\n",
    "# Ajustar el tamaño del gráfico para dar más espacio a los nombres de las ciudades\n",
    "fig.update_layout(width=1000, height=400)\n",
    "\n",
    "# Rotar las etiquetas de las barras para dar más espacio\n",
    "fig.update_layout(xaxis=dict(tickangle=-45))\n",
    "\n",
    "# Configurar la posición del texto\n",
    "fig.update_traces(textposition='outside', insidetextanchor='start')\n",
    "\n",
    "# Mostrar el gráfico\n",
    "fig.show()\n"
   ]
  }
 ],
 "metadata": {
  "kernelspec": {
   "display_name": "Python 3",
   "language": "python",
   "name": "python3"
  },
  "language_info": {
   "codemirror_mode": {
    "name": "ipython",
    "version": 3
   },
   "file_extension": ".py",
   "mimetype": "text/x-python",
   "name": "python",
   "nbconvert_exporter": "python",
   "pygments_lexer": "ipython3",
   "version": "3.10.6"
  },
  "orig_nbformat": 4
 },
 "nbformat": 4,
 "nbformat_minor": 2
}
