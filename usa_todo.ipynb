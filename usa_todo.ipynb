{
 "cells": [
  {
   "cell_type": "code",
   "execution_count": 1,
   "metadata": {},
   "outputs": [],
   "source": [
    "import pandas as pd"
   ]
  },
  {
   "cell_type": "code",
   "execution_count": 2,
   "metadata": {},
   "outputs": [],
   "source": [
    "# Rutas de los archivos CSV\n",
    "attractions_file_path = 'files\\\\data\\\\usa_attractions.csv'\n",
    "cities_file_path = 'files\\\\data\\\\usa_cities.csv'\n",
    "clients_reviews_file_path = 'files\\\\data\\\\usa_clients_reviews.csv'\n",
    "clients_file_path = 'files\\\\data\\\\usa_clients.csv'\n",
    "states_file_path = 'files\\\\data\\\\usa_states.csv'"
   ]
  },
  {
   "cell_type": "code",
   "execution_count": 3,
   "metadata": {},
   "outputs": [],
   "source": [
    "# Crear DataFrames\n",
    "attractions_df = pd.read_csv(attractions_file_path)\n",
    "cities_df = pd.read_csv(cities_file_path)\n",
    "clients_reviews_df = pd.read_csv(clients_reviews_file_path)\n",
    "clients_df = pd.read_csv(clients_file_path)\n",
    "states_df = pd.read_csv(states_file_path)"
   ]
  },
  {
   "cell_type": "markdown",
   "metadata": {},
   "source": [
    "### Attractions"
   ]
  },
  {
   "cell_type": "code",
   "execution_count": 27,
   "metadata": {},
   "outputs": [
    {
     "data": {
      "text/html": [
       "<div>\n",
       "<style scoped>\n",
       "    .dataframe tbody tr th:only-of-type {\n",
       "        vertical-align: middle;\n",
       "    }\n",
       "\n",
       "    .dataframe tbody tr th {\n",
       "        vertical-align: top;\n",
       "    }\n",
       "\n",
       "    .dataframe thead th {\n",
       "        text-align: right;\n",
       "    }\n",
       "</style>\n",
       "<table border=\"1\" class=\"dataframe\">\n",
       "  <thead>\n",
       "    <tr style=\"text-align: right;\">\n",
       "      <th></th>\n",
       "      <th>region</th>\n",
       "      <th>state</th>\n",
       "      <th>attraction</th>\n",
       "      <th>n_reviews</th>\n",
       "      <th>categories</th>\n",
       "      <th>state_id</th>\n",
       "    </tr>\n",
       "  </thead>\n",
       "  <tbody>\n",
       "    <tr>\n",
       "      <th>0</th>\n",
       "      <td>East North Central</td>\n",
       "      <td>Illinois</td>\n",
       "      <td>Instituto de Arte de Chicago</td>\n",
       "      <td>24.543</td>\n",
       "      <td>Museos de arte</td>\n",
       "      <td>IL</td>\n",
       "    </tr>\n",
       "    <tr>\n",
       "      <th>1</th>\n",
       "      <td>East North Central</td>\n",
       "      <td>Illinois</td>\n",
       "      <td>Parque Millennium</td>\n",
       "      <td>25.133</td>\n",
       "      <td>Monumentos y lugares de interés, Parques</td>\n",
       "      <td>IL</td>\n",
       "    </tr>\n",
       "    <tr>\n",
       "      <th>2</th>\n",
       "      <td>East North Central</td>\n",
       "      <td>Illinois</td>\n",
       "      <td>Museo de Ciencia e Industria</td>\n",
       "      <td>11.184</td>\n",
       "      <td>Museos de ciencia</td>\n",
       "      <td>IL</td>\n",
       "    </tr>\n",
       "    <tr>\n",
       "      <th>3</th>\n",
       "      <td>East North Central</td>\n",
       "      <td>Illinois</td>\n",
       "      <td>Cloud Gate</td>\n",
       "      <td>18.279</td>\n",
       "      <td>Monumentos y lugares de interés, Monumentos y ...</td>\n",
       "      <td>IL</td>\n",
       "    </tr>\n",
       "    <tr>\n",
       "      <th>4</th>\n",
       "      <td>East North Central</td>\n",
       "      <td>Illinois</td>\n",
       "      <td>The Magnificent Mile</td>\n",
       "      <td>15.799</td>\n",
       "      <td>Barrios, Monumentos y lugares de interés</td>\n",
       "      <td>IL</td>\n",
       "    </tr>\n",
       "  </tbody>\n",
       "</table>\n",
       "</div>"
      ],
      "text/plain": [
       "               region     state                    attraction  n_reviews  \\\n",
       "0  East North Central  Illinois  Instituto de Arte de Chicago     24.543   \n",
       "1  East North Central  Illinois             Parque Millennium     25.133   \n",
       "2  East North Central  Illinois  Museo de Ciencia e Industria     11.184   \n",
       "3  East North Central  Illinois                    Cloud Gate     18.279   \n",
       "4  East North Central  Illinois          The Magnificent Mile     15.799   \n",
       "\n",
       "                                          categories state_id  \n",
       "0                                     Museos de arte       IL  \n",
       "1           Monumentos y lugares de interés, Parques       IL  \n",
       "2                                  Museos de ciencia       IL  \n",
       "3  Monumentos y lugares de interés, Monumentos y ...       IL  \n",
       "4           Barrios, Monumentos y lugares de interés       IL  "
      ]
     },
     "execution_count": 27,
     "metadata": {},
     "output_type": "execute_result"
    }
   ],
   "source": [
    "attractions_df.head()"
   ]
  },
  {
   "cell_type": "code",
   "execution_count": 4,
   "metadata": {},
   "outputs": [],
   "source": [
    "# Suponiendo que 'Unnamed: 0' es el nombre completo de la columna a eliminar\n",
    "attractions_df = attractions_df.drop('Unnamed: 0', axis=1)"
   ]
  },
  {
   "cell_type": "code",
   "execution_count": 5,
   "metadata": {},
   "outputs": [],
   "source": [
    "# Corregir nombres de estados en la columna 'state' de attractions_df\n",
    "attractions_df['state'] = attractions_df['state'].replace('Mississipi', 'Mississippi')\n",
    "attractions_df['state'] = attractions_df['state'].replace('Luisiana', 'Louisiana')\n",
    "attractions_df['state'] = attractions_df['state'].replace('Akansas', 'Arkansas')\n",
    "attractions_df['state'] = attractions_df['state'].replace('Pen', 'Pennsylvania')\n",
    "attractions_df['state'] = attractions_df['state'].replace('Wioming', 'Wyoming')"
   ]
  },
  {
   "cell_type": "code",
   "execution_count": 6,
   "metadata": {},
   "outputs": [],
   "source": [
    "# Diccionario de mapeo entre nombres de estados y state_id\n",
    "state_mapping = dict(zip(states_df['state'], states_df['state_id']))\n",
    "\n",
    "# Crear la nueva columna 'state_id' en attractions_df basada en el mapeo\n",
    "attractions_df['state_id'] = attractions_df['state'].map(state_mapping)"
   ]
  },
  {
   "cell_type": "markdown",
   "metadata": {},
   "source": [
    "### Cities"
   ]
  },
  {
   "cell_type": "code",
   "execution_count": 5,
   "metadata": {},
   "outputs": [
    {
     "data": {
      "text/html": [
       "<div>\n",
       "<style scoped>\n",
       "    .dataframe tbody tr th:only-of-type {\n",
       "        vertical-align: middle;\n",
       "    }\n",
       "\n",
       "    .dataframe tbody tr th {\n",
       "        vertical-align: top;\n",
       "    }\n",
       "\n",
       "    .dataframe thead th {\n",
       "        text-align: right;\n",
       "    }\n",
       "</style>\n",
       "<table border=\"1\" class=\"dataframe\">\n",
       "  <thead>\n",
       "    <tr style=\"text-align: right;\">\n",
       "      <th></th>\n",
       "      <th>city_id</th>\n",
       "      <th>city</th>\n",
       "      <th>county</th>\n",
       "      <th>state_id</th>\n",
       "      <th>population</th>\n",
       "      <th>density</th>\n",
       "      <th>latitude</th>\n",
       "      <th>longitude</th>\n",
       "      <th>zips</th>\n",
       "      <th>geometry</th>\n",
       "    </tr>\n",
       "  </thead>\n",
       "  <tbody>\n",
       "    <tr>\n",
       "      <th>0</th>\n",
       "      <td>1.0</td>\n",
       "      <td>New York</td>\n",
       "      <td>Queens</td>\n",
       "      <td>NY</td>\n",
       "      <td>18908608</td>\n",
       "      <td>11226.2</td>\n",
       "      <td>40.6943</td>\n",
       "      <td>-73.9249</td>\n",
       "      <td>11229 11228 11226 11225 11224 11222 11221 1122...</td>\n",
       "      <td>POINT (-73.94343119226887 40.669903385553056)</td>\n",
       "    </tr>\n",
       "    <tr>\n",
       "      <th>1</th>\n",
       "      <td>2.0</td>\n",
       "      <td>Los Angeles</td>\n",
       "      <td>Los Angeles</td>\n",
       "      <td>CA</td>\n",
       "      <td>11922389</td>\n",
       "      <td>3202.3</td>\n",
       "      <td>34.1141</td>\n",
       "      <td>-118.4068</td>\n",
       "      <td>91367 90291 90293 90292 91316 91311 90035 9003...</td>\n",
       "      <td>POINT (-118.41211392839487 34.11210884430981)</td>\n",
       "    </tr>\n",
       "    <tr>\n",
       "      <th>2</th>\n",
       "      <td>3.0</td>\n",
       "      <td>Chicago</td>\n",
       "      <td>Cook</td>\n",
       "      <td>IL</td>\n",
       "      <td>8497759</td>\n",
       "      <td>4648.7</td>\n",
       "      <td>41.8375</td>\n",
       "      <td>-87.6866</td>\n",
       "      <td>60018 60649 60641 60640 60643 60642 60645 6064...</td>\n",
       "      <td>POINT (-87.68501821557464 41.837082841091316)</td>\n",
       "    </tr>\n",
       "    <tr>\n",
       "      <th>3</th>\n",
       "      <td>4.0</td>\n",
       "      <td>Miami</td>\n",
       "      <td>Miami-Dade</td>\n",
       "      <td>FL</td>\n",
       "      <td>6080145</td>\n",
       "      <td>4728.2</td>\n",
       "      <td>25.7840</td>\n",
       "      <td>-80.2101</td>\n",
       "      <td>33128 33129 33125 33126 33127 33149 33144 3314...</td>\n",
       "      <td>POINT (-80.21061554370905 25.776043835020747)</td>\n",
       "    </tr>\n",
       "    <tr>\n",
       "      <th>4</th>\n",
       "      <td>5.0</td>\n",
       "      <td>Houston</td>\n",
       "      <td>Harris</td>\n",
       "      <td>TX</td>\n",
       "      <td>5970127</td>\n",
       "      <td>1382.2</td>\n",
       "      <td>29.7860</td>\n",
       "      <td>-95.3885</td>\n",
       "      <td>77069 77068 77061 77060 77063 77062 77065 7706...</td>\n",
       "      <td>POINT (-95.38694447527584 29.768927923193075)</td>\n",
       "    </tr>\n",
       "  </tbody>\n",
       "</table>\n",
       "</div>"
      ],
      "text/plain": [
       "   city_id         city       county state_id  population  density  latitude  \\\n",
       "0      1.0     New York       Queens       NY    18908608  11226.2   40.6943   \n",
       "1      2.0  Los Angeles  Los Angeles       CA    11922389   3202.3   34.1141   \n",
       "2      3.0      Chicago         Cook       IL     8497759   4648.7   41.8375   \n",
       "3      4.0        Miami   Miami-Dade       FL     6080145   4728.2   25.7840   \n",
       "4      5.0      Houston       Harris       TX     5970127   1382.2   29.7860   \n",
       "\n",
       "   longitude                                               zips  \\\n",
       "0   -73.9249  11229 11228 11226 11225 11224 11222 11221 1122...   \n",
       "1  -118.4068  91367 90291 90293 90292 91316 91311 90035 9003...   \n",
       "2   -87.6866  60018 60649 60641 60640 60643 60642 60645 6064...   \n",
       "3   -80.2101  33128 33129 33125 33126 33127 33149 33144 3314...   \n",
       "4   -95.3885  77069 77068 77061 77060 77063 77062 77065 7706...   \n",
       "\n",
       "                                        geometry  \n",
       "0  POINT (-73.94343119226887 40.669903385553056)  \n",
       "1  POINT (-118.41211392839487 34.11210884430981)  \n",
       "2  POINT (-87.68501821557464 41.837082841091316)  \n",
       "3  POINT (-80.21061554370905 25.776043835020747)  \n",
       "4  POINT (-95.38694447527584 29.768927923193075)  "
      ]
     },
     "execution_count": 5,
     "metadata": {},
     "output_type": "execute_result"
    }
   ],
   "source": [
    "cities_df.head()"
   ]
  },
  {
   "cell_type": "markdown",
   "metadata": {},
   "source": [
    "### Clients reviews"
   ]
  },
  {
   "cell_type": "code",
   "execution_count": 13,
   "metadata": {},
   "outputs": [
    {
     "data": {
      "text/html": [
       "<div>\n",
       "<style scoped>\n",
       "    .dataframe tbody tr th:only-of-type {\n",
       "        vertical-align: middle;\n",
       "    }\n",
       "\n",
       "    .dataframe tbody tr th {\n",
       "        vertical-align: top;\n",
       "    }\n",
       "\n",
       "    .dataframe thead th {\n",
       "        text-align: right;\n",
       "    }\n",
       "</style>\n",
       "<table border=\"1\" class=\"dataframe\">\n",
       "  <thead>\n",
       "    <tr style=\"text-align: right;\">\n",
       "      <th></th>\n",
       "      <th>nationality</th>\n",
       "      <th>acommodation</th>\n",
       "      <th>stay</th>\n",
       "      <th>company</th>\n",
       "      <th>review</th>\n",
       "      <th>hotel_id</th>\n",
       "      <th>is_american</th>\n",
       "      <th>date</th>\n",
       "      <th>sentiment</th>\n",
       "    </tr>\n",
       "  </thead>\n",
       "  <tbody>\n",
       "    <tr>\n",
       "      <th>0</th>\n",
       "      <td>Corea del Sur</td>\n",
       "      <td>Suite Estudio con cocina y sofá cama - Cama ex...</td>\n",
       "      <td>27.0</td>\n",
       "      <td>Persona que viaja sola</td>\n",
       "      <td>what a great honor to stay here.\\r\\nThank you ...</td>\n",
       "      <td>11042</td>\n",
       "      <td>0</td>\n",
       "      <td>2023-11-20</td>\n",
       "      <td>0.525000</td>\n",
       "    </tr>\n",
       "    <tr>\n",
       "      <th>1</th>\n",
       "      <td>Taiwán</td>\n",
       "      <td>Den Room with King Bed</td>\n",
       "      <td>4.0</td>\n",
       "      <td>Persona que viaja sola</td>\n",
       "      <td>Everything works and fairly new, I loved the w...</td>\n",
       "      <td>11042</td>\n",
       "      <td>0</td>\n",
       "      <td>2023-11-15</td>\n",
       "      <td>0.134091</td>\n",
       "    </tr>\n",
       "    <tr>\n",
       "      <th>2</th>\n",
       "      <td>Estados Unidos</td>\n",
       "      <td>Suite Estudio con cocina y sofá cama - Cama ex...</td>\n",
       "      <td>4.0</td>\n",
       "      <td>En familia</td>\n",
       "      <td>Weather was ideal\\r\\nLoved the swimming pool.</td>\n",
       "      <td>11042</td>\n",
       "      <td>1</td>\n",
       "      <td>2023-11-14</td>\n",
       "      <td>0.800000</td>\n",
       "    </tr>\n",
       "    <tr>\n",
       "      <th>3</th>\n",
       "      <td>Estados Unidos</td>\n",
       "      <td>Suite con 1 dormitorio, cama extragrande, sofá...</td>\n",
       "      <td>6.0</td>\n",
       "      <td>En pareja</td>\n",
       "      <td>I'm here for a couple weeks....So, a little ti...</td>\n",
       "      <td>11042</td>\n",
       "      <td>1</td>\n",
       "      <td>2023-11-08</td>\n",
       "      <td>0.035417</td>\n",
       "    </tr>\n",
       "    <tr>\n",
       "      <th>4</th>\n",
       "      <td>Estados Unidos</td>\n",
       "      <td>Suite con 1 dormitorio, cama extragrande, sofá...</td>\n",
       "      <td>1.0</td>\n",
       "      <td>En familia</td>\n",
       "      <td>The property was nice but expensive for one ni...</td>\n",
       "      <td>11042</td>\n",
       "      <td>1</td>\n",
       "      <td>2023-10-26</td>\n",
       "      <td>0.060000</td>\n",
       "    </tr>\n",
       "  </tbody>\n",
       "</table>\n",
       "</div>"
      ],
      "text/plain": [
       "      nationality                                       acommodation  stay  \\\n",
       "0   Corea del Sur  Suite Estudio con cocina y sofá cama - Cama ex...  27.0   \n",
       "1          Taiwán                             Den Room with King Bed   4.0   \n",
       "2  Estados Unidos  Suite Estudio con cocina y sofá cama - Cama ex...   4.0   \n",
       "3  Estados Unidos  Suite con 1 dormitorio, cama extragrande, sofá...   6.0   \n",
       "4  Estados Unidos  Suite con 1 dormitorio, cama extragrande, sofá...   1.0   \n",
       "\n",
       "                  company                                             review  \\\n",
       "0  Persona que viaja sola  what a great honor to stay here.\\r\\nThank you ...   \n",
       "1  Persona que viaja sola  Everything works and fairly new, I loved the w...   \n",
       "2              En familia      Weather was ideal\\r\\nLoved the swimming pool.   \n",
       "3               En pareja  I'm here for a couple weeks....So, a little ti...   \n",
       "4              En familia  The property was nice but expensive for one ni...   \n",
       "\n",
       "   hotel_id  is_american        date  sentiment  \n",
       "0     11042            0  2023-11-20   0.525000  \n",
       "1     11042            0  2023-11-15   0.134091  \n",
       "2     11042            1  2023-11-14   0.800000  \n",
       "3     11042            1  2023-11-08   0.035417  \n",
       "4     11042            1  2023-10-26   0.060000  "
      ]
     },
     "execution_count": 13,
     "metadata": {},
     "output_type": "execute_result"
    }
   ],
   "source": [
    "clients_reviews_df.head()"
   ]
  },
  {
   "cell_type": "code",
   "execution_count": 7,
   "metadata": {},
   "outputs": [],
   "source": [
    "clients_reviews_df['hotel_id'] = clients_reviews_df['hotel_id'].astype(int)"
   ]
  },
  {
   "cell_type": "code",
   "execution_count": 8,
   "metadata": {},
   "outputs": [],
   "source": [
    "# Suponiendo que 'Unnamed: 0' es el nombre completo de la columna a eliminar\n",
    "clients_reviews_df = clients_reviews_df.drop('Unnamed: 0', axis=1)"
   ]
  },
  {
   "cell_type": "markdown",
   "metadata": {},
   "source": [
    "### Clients"
   ]
  },
  {
   "cell_type": "code",
   "execution_count": 7,
   "metadata": {},
   "outputs": [
    {
     "data": {
      "text/html": [
       "<div>\n",
       "<style scoped>\n",
       "    .dataframe tbody tr th:only-of-type {\n",
       "        vertical-align: middle;\n",
       "    }\n",
       "\n",
       "    .dataframe tbody tr th {\n",
       "        vertical-align: top;\n",
       "    }\n",
       "\n",
       "    .dataframe thead th {\n",
       "        text-align: right;\n",
       "    }\n",
       "</style>\n",
       "<table border=\"1\" class=\"dataframe\">\n",
       "  <thead>\n",
       "    <tr style=\"text-align: right;\">\n",
       "      <th></th>\n",
       "      <th>Unnamed: 0</th>\n",
       "      <th>state</th>\n",
       "      <th>city</th>\n",
       "      <th>name</th>\n",
       "      <th>avg_score</th>\n",
       "      <th>price</th>\n",
       "      <th>reviews_url</th>\n",
       "      <th>stars</th>\n",
       "      <th>hotel_id</th>\n",
       "    </tr>\n",
       "  </thead>\n",
       "  <tbody>\n",
       "    <tr>\n",
       "      <th>0</th>\n",
       "      <td>4182</td>\n",
       "      <td>California</td>\n",
       "      <td>Mission Viejo</td>\n",
       "      <td>Hyatt House Irvine/John Wayne Airport</td>\n",
       "      <td>88.0</td>\n",
       "      <td>363.318</td>\n",
       "      <td>https://www.booking.com/hotel/us/hyatt-house-i...</td>\n",
       "      <td>3.0</td>\n",
       "      <td>11042</td>\n",
       "    </tr>\n",
       "    <tr>\n",
       "      <th>1</th>\n",
       "      <td>3398</td>\n",
       "      <td>California</td>\n",
       "      <td>San Francisco</td>\n",
       "      <td>Hyatt Regency San Francisco</td>\n",
       "      <td>87.0</td>\n",
       "      <td>806.063</td>\n",
       "      <td>https://www.booking.com/hotel/us/hyatt-regency...</td>\n",
       "      <td>4.0</td>\n",
       "      <td>12695</td>\n",
       "    </tr>\n",
       "    <tr>\n",
       "      <th>2</th>\n",
       "      <td>4006</td>\n",
       "      <td>California</td>\n",
       "      <td>San Jose</td>\n",
       "      <td>Hyatt Place San Jose Pinares</td>\n",
       "      <td>87.0</td>\n",
       "      <td>262.134</td>\n",
       "      <td>https://www.booking.com/hotel/cr/hyatt-place-s...</td>\n",
       "      <td>3.0</td>\n",
       "      <td>13042</td>\n",
       "    </tr>\n",
       "    <tr>\n",
       "      <th>3</th>\n",
       "      <td>3564</td>\n",
       "      <td>California</td>\n",
       "      <td>San Diego</td>\n",
       "      <td>Manchester Grand Hyatt San Diego</td>\n",
       "      <td>86.0</td>\n",
       "      <td>620.385</td>\n",
       "      <td>https://www.booking.com/hotel/us/manchester-gr...</td>\n",
       "      <td>4.0</td>\n",
       "      <td>13769</td>\n",
       "    </tr>\n",
       "    <tr>\n",
       "      <th>4</th>\n",
       "      <td>3500</td>\n",
       "      <td>California</td>\n",
       "      <td>San Francisco</td>\n",
       "      <td>Hyatt Regency San Francisco Downtown SOMA</td>\n",
       "      <td>86.0</td>\n",
       "      <td>1020.140</td>\n",
       "      <td>https://www.booking.com/hotel/us/hyatt-regency...</td>\n",
       "      <td>4.0</td>\n",
       "      <td>13779</td>\n",
       "    </tr>\n",
       "  </tbody>\n",
       "</table>\n",
       "</div>"
      ],
      "text/plain": [
       "   Unnamed: 0       state           city  \\\n",
       "0        4182  California  Mission Viejo   \n",
       "1        3398  California  San Francisco   \n",
       "2        4006  California       San Jose   \n",
       "3        3564  California      San Diego   \n",
       "4        3500  California  San Francisco   \n",
       "\n",
       "                                        name  avg_score     price  \\\n",
       "0      Hyatt House Irvine/John Wayne Airport       88.0   363.318   \n",
       "1                Hyatt Regency San Francisco       87.0   806.063   \n",
       "2               Hyatt Place San Jose Pinares       87.0   262.134   \n",
       "3           Manchester Grand Hyatt San Diego       86.0   620.385   \n",
       "4  Hyatt Regency San Francisco Downtown SOMA       86.0  1020.140   \n",
       "\n",
       "                                         reviews_url  stars  hotel_id  \n",
       "0  https://www.booking.com/hotel/us/hyatt-house-i...    3.0     11042  \n",
       "1  https://www.booking.com/hotel/us/hyatt-regency...    4.0     12695  \n",
       "2  https://www.booking.com/hotel/cr/hyatt-place-s...    3.0     13042  \n",
       "3  https://www.booking.com/hotel/us/manchester-gr...    4.0     13769  \n",
       "4  https://www.booking.com/hotel/us/hyatt-regency...    4.0     13779  "
      ]
     },
     "execution_count": 7,
     "metadata": {},
     "output_type": "execute_result"
    }
   ],
   "source": [
    "clients_df.head()"
   ]
  },
  {
   "cell_type": "markdown",
   "metadata": {},
   "source": [
    "### States"
   ]
  },
  {
   "cell_type": "code",
   "execution_count": null,
   "metadata": {},
   "outputs": [],
   "source": [
    "states_df"
   ]
  },
  {
   "cell_type": "markdown",
   "metadata": {},
   "source": [
    "## Merge por state_id. attractions_df, cities_df, states_df"
   ]
  },
  {
   "cell_type": "code",
   "execution_count": 9,
   "metadata": {},
   "outputs": [],
   "source": [
    "# Merge de attractions_df, cities_df y states_df por la columna 'state_id'\n",
    "merged_df_state_id = attractions_df.merge(cities_df, how='left', on='state_id').merge(states_df, how='left', on='state_id')"
   ]
  },
  {
   "cell_type": "code",
   "execution_count": 10,
   "metadata": {},
   "outputs": [],
   "source": [
    "merged_df_state_id = merged_df_state_id.drop('state_y', axis=1)"
   ]
  },
  {
   "cell_type": "code",
   "execution_count": 11,
   "metadata": {},
   "outputs": [],
   "source": [
    "# Cambiar el nombre de la columna 'state_x' a 'state'\n",
    "merged_df_state_id = merged_df_state_id.rename(columns={'state_x': 'state'})"
   ]
  },
  {
   "cell_type": "markdown",
   "metadata": {},
   "source": [
    "## merge de clients_df y clients_reviews_df por la columna 'hotel_id'"
   ]
  },
  {
   "cell_type": "code",
   "execution_count": 12,
   "metadata": {},
   "outputs": [],
   "source": [
    "# Merge de clients_df y clients_reviews_df por la columna 'hotel_id'\n",
    "merged_clients_df = clients_df.merge(clients_reviews_df, how='inner', on='hotel_id')"
   ]
  },
  {
   "cell_type": "code",
   "execution_count": 13,
   "metadata": {},
   "outputs": [],
   "source": [
    "# Diccionario de mapeo entre nombres de estados y state_id\n",
    "state_mapping = dict(zip(merged_df_state_id['state'], merged_df_state_id['state_id']))\n",
    "\n",
    "# Crear la nueva columna 'state_id' en attractions_df basada en el mapeo\n",
    "merged_clients_df['state_id'] = merged_clients_df['state'].map(state_mapping)"
   ]
  },
  {
   "cell_type": "code",
   "execution_count": 15,
   "metadata": {},
   "outputs": [],
   "source": [
    "merged_clients_df = merged_clients_df.drop('Unnamed: 0', axis=1)"
   ]
  },
  {
   "cell_type": "markdown",
   "metadata": {},
   "source": [
    "## Merge de merged_clients_df y merged_df_state_id"
   ]
  },
  {
   "cell_type": "code",
   "execution_count": null,
   "metadata": {},
   "outputs": [],
   "source": [
    "# Merge de merged_clients_df y merged_df_state_id por la columna 'state_id'\n",
    "final_merged_df = merged_clients_df.merge(merged_df_state_id, how='left', on='state_id')"
   ]
  },
  {
   "cell_type": "code",
   "execution_count": 2,
   "metadata": {},
   "outputs": [],
   "source": [
    "hotels_file_path = 'files\\\\data\\\\usa_hotels.csv'"
   ]
  },
  {
   "cell_type": "code",
   "execution_count": 3,
   "metadata": {},
   "outputs": [],
   "source": [
    "hotels_df = pd.read_csv(hotels_file_path)"
   ]
  },
  {
   "cell_type": "code",
   "execution_count": 7,
   "metadata": {},
   "outputs": [
    {
     "data": {
      "text/html": [
       "<div>\n",
       "<style scoped>\n",
       "    .dataframe tbody tr th:only-of-type {\n",
       "        vertical-align: middle;\n",
       "    }\n",
       "\n",
       "    .dataframe tbody tr th {\n",
       "        vertical-align: top;\n",
       "    }\n",
       "\n",
       "    .dataframe thead th {\n",
       "        text-align: right;\n",
       "    }\n",
       "</style>\n",
       "<table border=\"1\" class=\"dataframe\">\n",
       "  <thead>\n",
       "    <tr style=\"text-align: right;\">\n",
       "      <th></th>\n",
       "      <th>Unnamed: 0</th>\n",
       "      <th>state</th>\n",
       "      <th>city</th>\n",
       "      <th>name</th>\n",
       "      <th>avg_score</th>\n",
       "      <th>price</th>\n",
       "      <th>reviews_url</th>\n",
       "      <th>stars</th>\n",
       "      <th>hotel_id</th>\n",
       "      <th>direction</th>\n",
       "      <th>description</th>\n",
       "      <th>attributes</th>\n",
       "      <th>latitude</th>\n",
       "      <th>longitude</th>\n",
       "      <th>scores</th>\n",
       "    </tr>\n",
       "  </thead>\n",
       "  <tbody>\n",
       "    <tr>\n",
       "      <th>0</th>\n",
       "      <td>0</td>\n",
       "      <td>Massachusetts</td>\n",
       "      <td>New Bedford</td>\n",
       "      <td>DOMIR Yorktown</td>\n",
       "      <td>100.0</td>\n",
       "      <td>780.980</td>\n",
       "      <td>https://www.booking.com/hotel/us/domir-yorktow...</td>\n",
       "      <td>NaN</td>\n",
       "      <td>1</td>\n",
       "      <td>NaN</td>\n",
       "      <td>NaN</td>\n",
       "      <td>NaN</td>\n",
       "      <td>NaN</td>\n",
       "      <td>NaN</td>\n",
       "      <td>NaN</td>\n",
       "    </tr>\n",
       "    <tr>\n",
       "      <th>1</th>\n",
       "      <td>1</td>\n",
       "      <td>Arkansas</td>\n",
       "      <td>Fayetteville</td>\n",
       "      <td>Luxury Cozy House - 20 min to FT Liberty!</td>\n",
       "      <td>100.0</td>\n",
       "      <td>402.455</td>\n",
       "      <td>https://www.booking.com/hotel/us/luxury-house-...</td>\n",
       "      <td>NaN</td>\n",
       "      <td>2</td>\n",
       "      <td>NaN</td>\n",
       "      <td>NaN</td>\n",
       "      <td>NaN</td>\n",
       "      <td>NaN</td>\n",
       "      <td>NaN</td>\n",
       "      <td>NaN</td>\n",
       "    </tr>\n",
       "    <tr>\n",
       "      <th>2</th>\n",
       "      <td>2</td>\n",
       "      <td>Connecticut</td>\n",
       "      <td>New Haven</td>\n",
       "      <td>Queen Beds, Fast WiFi, Free Parking, Central A...</td>\n",
       "      <td>100.0</td>\n",
       "      <td>659.250</td>\n",
       "      <td>https://www.booking.com/hotel/us/queen-beds-fa...</td>\n",
       "      <td>NaN</td>\n",
       "      <td>3</td>\n",
       "      <td>NaN</td>\n",
       "      <td>NaN</td>\n",
       "      <td>NaN</td>\n",
       "      <td>NaN</td>\n",
       "      <td>NaN</td>\n",
       "      <td>NaN</td>\n",
       "    </tr>\n",
       "    <tr>\n",
       "      <th>3</th>\n",
       "      <td>3</td>\n",
       "      <td>Oklahoma</td>\n",
       "      <td>Midwest City</td>\n",
       "      <td>Walnut, 3BR Townhom Near Downtown, Beach and W...</td>\n",
       "      <td>100.0</td>\n",
       "      <td>1149.716</td>\n",
       "      <td>https://www.booking.com/hotel/us/walnut-3br-to...</td>\n",
       "      <td>NaN</td>\n",
       "      <td>4</td>\n",
       "      <td>NaN</td>\n",
       "      <td>NaN</td>\n",
       "      <td>NaN</td>\n",
       "      <td>NaN</td>\n",
       "      <td>NaN</td>\n",
       "      <td>NaN</td>\n",
       "    </tr>\n",
       "    <tr>\n",
       "      <th>4</th>\n",
       "      <td>4</td>\n",
       "      <td>New Mexico</td>\n",
       "      <td>Rio Rancho</td>\n",
       "      <td>The Reynosa Retreat</td>\n",
       "      <td>100.0</td>\n",
       "      <td>289.895</td>\n",
       "      <td>https://www.booking.com/hotel/us/the-reynosa-r...</td>\n",
       "      <td>3.0</td>\n",
       "      <td>5</td>\n",
       "      <td>NaN</td>\n",
       "      <td>NaN</td>\n",
       "      <td>NaN</td>\n",
       "      <td>NaN</td>\n",
       "      <td>NaN</td>\n",
       "      <td>NaN</td>\n",
       "    </tr>\n",
       "  </tbody>\n",
       "</table>\n",
       "</div>"
      ],
      "text/plain": [
       "   Unnamed: 0          state          city  \\\n",
       "0           0  Massachusetts   New Bedford   \n",
       "1           1       Arkansas  Fayetteville   \n",
       "2           2    Connecticut     New Haven   \n",
       "3           3       Oklahoma  Midwest City   \n",
       "4           4     New Mexico    Rio Rancho   \n",
       "\n",
       "                                                name  avg_score     price  \\\n",
       "0                                     DOMIR Yorktown      100.0   780.980   \n",
       "1          Luxury Cozy House - 20 min to FT Liberty!      100.0   402.455   \n",
       "2  Queen Beds, Fast WiFi, Free Parking, Central A...      100.0   659.250   \n",
       "3  Walnut, 3BR Townhom Near Downtown, Beach and W...      100.0  1149.716   \n",
       "4                                The Reynosa Retreat      100.0   289.895   \n",
       "\n",
       "                                         reviews_url  stars  hotel_id  \\\n",
       "0  https://www.booking.com/hotel/us/domir-yorktow...    NaN         1   \n",
       "1  https://www.booking.com/hotel/us/luxury-house-...    NaN         2   \n",
       "2  https://www.booking.com/hotel/us/queen-beds-fa...    NaN         3   \n",
       "3  https://www.booking.com/hotel/us/walnut-3br-to...    NaN         4   \n",
       "4  https://www.booking.com/hotel/us/the-reynosa-r...    3.0         5   \n",
       "\n",
       "  direction description attributes  latitude  longitude scores  \n",
       "0       NaN         NaN        NaN       NaN        NaN    NaN  \n",
       "1       NaN         NaN        NaN       NaN        NaN    NaN  \n",
       "2       NaN         NaN        NaN       NaN        NaN    NaN  \n",
       "3       NaN         NaN        NaN       NaN        NaN    NaN  \n",
       "4       NaN         NaN        NaN       NaN        NaN    NaN  "
      ]
     },
     "execution_count": 7,
     "metadata": {},
     "output_type": "execute_result"
    }
   ],
   "source": [
    "hotels_df.head()"
   ]
  },
  {
   "cell_type": "code",
   "execution_count": 29,
   "metadata": {},
   "outputs": [],
   "source": [
    "# Definir una longitud mínima deseada\n",
    "longitud_minima = 5000\n",
    "\n",
    "# Filtrar los valores de 'reviews_url' con longitud mayor a longitud_minima\n",
    "reviews_url_largos = hotels_df['reviews_url'][hotels_df['reviews_url'].str.len() > longitud_minima]"
   ]
  },
  {
   "cell_type": "code",
   "execution_count": 30,
   "metadata": {},
   "outputs": [
    {
     "data": {
      "text/plain": [
       "Series([], Name: reviews_url, dtype: object)"
      ]
     },
     "execution_count": 30,
     "metadata": {},
     "output_type": "execute_result"
    }
   ],
   "source": [
    "reviews_url_largos"
   ]
  }
 ],
 "metadata": {
  "kernelspec": {
   "display_name": "Python 3",
   "language": "python",
   "name": "python3"
  },
  "language_info": {
   "codemirror_mode": {
    "name": "ipython",
    "version": 3
   },
   "file_extension": ".py",
   "mimetype": "text/x-python",
   "name": "python",
   "nbconvert_exporter": "python",
   "pygments_lexer": "ipython3",
   "version": "3.10.6"
  },
  "orig_nbformat": 4
 },
 "nbformat": 4,
 "nbformat_minor": 2
}
